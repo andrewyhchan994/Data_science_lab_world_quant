{
 "cells": [
  {
   "cell_type": "code",
   "execution_count": 1,
   "id": "30226984-f502-4b51-b19a-fd0052eabb36",
   "metadata": {
    "deletable": false,
    "editable": false,
    "init_cell": true
   },
   "outputs": [
    {
     "data": {
      "text/html": [
       "\n",
       "        <iframe\n",
       "            width=\"600\"\n",
       "            height=\"300\"\n",
       "            src=\"https://player.vimeo.com/video/656189257?h=3298dbabb7\"\n",
       "            frameborder=\"0\"\n",
       "            allowfullscreen\n",
       "        ></iframe>\n",
       "        "
      ],
      "text/plain": [
       "<IPython.lib.display.VimeoVideo at 0x7fa3d02e27f0>"
      ]
     },
     "execution_count": 1,
     "metadata": {},
     "output_type": "execute_result"
    }
   ],
   "source": [
    "# WELCOME THE FIRST LESSON OF PROJECT 1!\n",
    "#\n",
    "# If you haven't watched the virtual machine orientation video yet,\n",
    "# 👆 Click the ▶️ button above to get started.\n",
    "\n",
    "from IPython.display import VimeoVideo\n",
    "\n",
    "VimeoVideo(\"656189257\", h=\"3298dbabb7\", width=600)"
   ]
  },
  {
   "cell_type": "markdown",
   "id": "bd8b767b-80a6-4385-82de-8ec06547f172",
   "metadata": {
    "deletable": false,
    "editable": false
   },
   "source": [
    "<font size=\"+3\"><strong>1.1 Organizing Tabular Data in Python</strong></font>"
   ]
  },
  {
   "cell_type": "code",
   "execution_count": 2,
   "id": "cd91120d-ef40-481f-98a5-25399fb9eea3",
   "metadata": {
    "deletable": false,
    "editable": false,
    "init_cell": true
   },
   "outputs": [],
   "source": [
    "from IPython.display import VimeoVideo"
   ]
  },
  {
   "cell_type": "markdown",
   "id": "bb7ce435-e76e-4b02-a2fb-accf5c1d52eb",
   "metadata": {
    "deletable": false,
    "editable": false
   },
   "source": [
    "# What's Tabular Data?"
   ]
  },
  {
   "cell_type": "code",
   "execution_count": 3,
   "id": "67966b29-7e2f-4107-86de-063326908c87",
   "metadata": {
    "deletable": false,
    "editable": false,
    "init_cell": true
   },
   "outputs": [
    {
     "data": {
      "text/html": [
       "\n",
       "        <iframe\n",
       "            width=\"600\"\n",
       "            height=\"300\"\n",
       "            src=\"https://player.vimeo.com/video/645390762?h=578b5a9e19\"\n",
       "            frameborder=\"0\"\n",
       "            allowfullscreen\n",
       "        ></iframe>\n",
       "        "
      ],
      "text/plain": [
       "<IPython.lib.display.VimeoVideo at 0x7fa3d0291af0>"
      ]
     },
     "execution_count": 3,
     "metadata": {},
     "output_type": "execute_result"
    }
   ],
   "source": [
    "VimeoVideo(\"645390762\", h=\"578b5a9e19\", width=600)"
   ]
  },
  {
   "cell_type": "markdown",
   "id": "953b7dd8-9820-48a7-ae5a-70675637fddf",
   "metadata": {
    "deletable": false,
    "editable": false
   },
   "source": [
    "Information can come in many forms, and part of a data scientist's job is making sure that information is organized in a way that's conducive to analysis. Take for example these five houses from the Mexico real estate dataset we'll use in this project:\n",
    "\n",
    "![Five houses showing price, number of rooms, and area in square meters for each](../images/proj-1.001.png)\n",
    "\n",
    "One common way to organize this information is in a **table**, which is a group of **cells** organized into **rows** and **columns**:\n",
    "\n",
    "![Table, organized into rows and columns, with housing information from previous image](../images/proj-1.002.png)\n",
    "\n",
    "When working with this sort of **tabular data**, it's important to organize row and columns following the principles of \"**[tidy data](https://en.wikipedia.org/wiki/Tidy_data)**.\" What does that mean in the case of our dataset?\n",
    "\n",
    "1. Each row corresponds to a single house in our dataset. We'll call each of these houses an **observation**.\n",
    "2. Each column corresponds to a characteristic of each house. We'll call these **features**.\n",
    "3. Each cell contains only one **value**. \n",
    "\n",
    "![Three copies of table from previous image, emphasizing observations as rows and features as columns](../images/proj-1.003.png)\n",
    "\n",
    "So whenever you encounter a new dataset, make sure your data is \"tidy.\" `NOTE: need to add activity here`"
   ]
  },
  {
   "cell_type": "markdown",
   "id": "996b3270-90e2-4aa1-9c2a-3bb9743fed11",
   "metadata": {
    "deletable": false,
    "editable": false
   },
   "source": [
    "# Tabular Data and Python Data Structures"
   ]
  },
  {
   "cell_type": "markdown",
   "id": "a7f87047-55dc-4a85-a70d-fd23e0e0a01a",
   "metadata": {
    "deletable": false,
    "editable": false
   },
   "source": [
    "## Working with Lists\n",
    "\n",
    "Python comes with several data structures that we can use to organize tabular data. Let's start by putting a single observation in a **list**."
   ]
  },
  {
   "cell_type": "code",
   "execution_count": 4,
   "id": "e3f39d56-8294-4dfa-893a-e3db51a055b5",
   "metadata": {
    "deletable": false
   },
   "outputs": [
    {
     "data": {
      "text/plain": [
       "[115910.26, 128, 4]"
      ]
     },
     "execution_count": 4,
     "metadata": {},
     "output_type": "execute_result"
    }
   ],
   "source": [
    "house_0_list = [115910.26, 128, 4]\n",
    "house_0_list"
   ]
  },
  {
   "cell_type": "code",
   "execution_count": 5,
   "id": "cfbfa8c9-de2d-4f75-9541-aec382c10cd1",
   "metadata": {
    "deletable": false,
    "editable": false,
    "init_cell": true
   },
   "outputs": [
    {
     "data": {
      "text/html": [
       "\n",
       "        <iframe\n",
       "            width=\"600\"\n",
       "            height=\"300\"\n",
       "            src=\"https://player.vimeo.com/video/645390786?h=da0bb831d1\"\n",
       "            frameborder=\"0\"\n",
       "            allowfullscreen\n",
       "        ></iframe>\n",
       "        "
      ],
      "text/plain": [
       "<IPython.lib.display.VimeoVideo at 0x7fa3d0291d60>"
      ]
     },
     "execution_count": 5,
     "metadata": {},
     "output_type": "execute_result"
    }
   ],
   "source": [
    "VimeoVideo(\"645390786\", h=\"da0bb831d1\", width=600)"
   ]
  },
  {
   "cell_type": "markdown",
   "id": "cb9903eb-77e7-4315-94f8-412349893266",
   "metadata": {
    "deletable": false,
    "editable": false
   },
   "source": [
    "**Task 1.1.1:** One metric that people in the real estate industry look at is price per square meter because it allows them to compare houses of different sizes. Can you use the information in this list to calculate the price per square meter for `house_0`?\n",
    "\n",
    "- [What's a list?](../%40textbook/01-python-getting-started.ipynb#Lists)\n",
    "- [Access an item in a list using Python.](../%40textbook/01-python-getting-started.ipynb#Working-with-Lists)\n",
    "- [Perform basic mathematical operations in Python.](../%40textbook/01-python-getting-started.ipynb#Simple-Calculations)"
   ]
  },
  {
   "cell_type": "code",
   "execution_count": 6,
   "id": "896b53bf",
   "metadata": {
    "deletable": false
   },
   "outputs": [
    {
     "data": {
      "text/plain": [
       "905.54890625"
      ]
     },
     "execution_count": 6,
     "metadata": {},
     "output_type": "execute_result"
    }
   ],
   "source": [
    "house_0_price_m2 = house_0_list[0]/house_0_list[1]\n",
    "house_0_price_m2"
   ]
  },
  {
   "cell_type": "code",
   "execution_count": 7,
   "id": "2f3f9cdd-da1f-4932-9ddb-36609bcc8666",
   "metadata": {
    "deletable": false,
    "editable": false,
    "init_cell": true
   },
   "outputs": [
    {
     "data": {
      "text/html": [
       "\n",
       "        <iframe\n",
       "            width=\"600\"\n",
       "            height=\"300\"\n",
       "            src=\"https://player.vimeo.com/video/645390797?h=86c579a9cb\"\n",
       "            frameborder=\"0\"\n",
       "            allowfullscreen\n",
       "        ></iframe>\n",
       "        "
      ],
      "text/plain": [
       "<IPython.lib.display.VimeoVideo at 0x7fa3d0291a30>"
      ]
     },
     "execution_count": 7,
     "metadata": {},
     "output_type": "execute_result"
    }
   ],
   "source": [
    "VimeoVideo(\"645390797\", h=\"86c579a9cb\", width=600)"
   ]
  },
  {
   "cell_type": "markdown",
   "id": "5318771b-c060-49ac-a091-1be776060957",
   "metadata": {
    "deletable": false,
    "editable": false
   },
   "source": [
    "**Task 1.1.2:** Next, use the [`append`](https://docs.python.org/3/tutorial/datastructures.html#more-on-lists) method to add the price per square meter to the end of the end of `house_0`.\n",
    "\n",
    "- [Append an item to a list in Python.](../%40textbook/01-python-getting-started.ipynb#Appending-Items)"
   ]
  },
  {
   "cell_type": "code",
   "execution_count": 8,
   "id": "c7e59e08-fb0d-46ec-b612-aa52359c307e",
   "metadata": {
    "deletable": false
   },
   "outputs": [
    {
     "data": {
      "text/plain": [
       "[115910.26, 128, 4, 905.54890625]"
      ]
     },
     "execution_count": 8,
     "metadata": {},
     "output_type": "execute_result"
    }
   ],
   "source": [
    "house_0_list.append(house_0_price_m2)\n",
    "house_0_list"
   ]
  },
  {
   "cell_type": "markdown",
   "id": "6228383b",
   "metadata": {
    "deletable": false,
    "editable": false
   },
   "source": [
    "Now that you can work with data for a single house, let's think about how to organize the whole dataset. One option would be to create a list for each observation and then put those together in another list. This is called a [**nested list**](http://127.0.0.1:8888/lab/tree/work/ds_curriculum/%40textbook/Python.ipynb#creating-lists)."
   ]
  },
  {
   "cell_type": "code",
   "execution_count": 9,
   "id": "9ddca9b9",
   "metadata": {
    "deletable": false
   },
   "outputs": [
    {
     "data": {
      "text/plain": [
       "[[115910.26, 128.0, 4.0],\n",
       " [48718.17, 210.0, 3.0],\n",
       " [28977.56, 58.0, 2.0],\n",
       " [36932.27, 79.0, 3.0],\n",
       " [83903.51, 111.0, 3.0]]"
      ]
     },
     "execution_count": 9,
     "metadata": {},
     "output_type": "execute_result"
    }
   ],
   "source": [
    "houses_nested_list = [\n",
    "    [115910.26, 128.0, 4.0],\n",
    "    [48718.17, 210.0, 3.0],\n",
    "    [28977.56, 58.0, 2.0],\n",
    "    [36932.27, 79.0, 3.0],\n",
    "    [83903.51, 111.0, 3.0],\n",
    "]\n",
    "\n",
    "houses_nested_list"
   ]
  },
  {
   "cell_type": "markdown",
   "id": "8a3ebd10-5622-4b16-8571-6458f76cc546",
   "metadata": {
    "deletable": false,
    "editable": false
   },
   "source": [
    "Now that we have more observations, it doesn't make sense to calculate the price per square meter for each house one-by-one. Instead, we can automate this repetitive task using a `for` loop."
   ]
  },
  {
   "cell_type": "code",
   "execution_count": 10,
   "id": "6e044065-e4ed-4374-ae13-9ce9430855d8",
   "metadata": {
    "deletable": false,
    "editable": false,
    "init_cell": true
   },
   "outputs": [
    {
     "data": {
      "text/html": [
       "\n",
       "        <iframe\n",
       "            width=\"600\"\n",
       "            height=\"300\"\n",
       "            src=\"https://player.vimeo.com/video/645390807?h=4536120cf5\"\n",
       "            frameborder=\"0\"\n",
       "            allowfullscreen\n",
       "        ></iframe>\n",
       "        "
      ],
      "text/plain": [
       "<IPython.lib.display.VimeoVideo at 0x7fa3d02e2280>"
      ]
     },
     "execution_count": 10,
     "metadata": {},
     "output_type": "execute_result"
    }
   ],
   "source": [
    "VimeoVideo(\"645390807\", h=\"4536120cf5\", width=600)"
   ]
  },
  {
   "cell_type": "markdown",
   "id": "fc282abf-8dee-4f04-bf67-3a4b4d987058",
   "metadata": {
    "deletable": false,
    "editable": false
   },
   "source": [
    "**Task 1.1.3:** Append the price per square meter to each observation in `houses_nested_list` using a `for` loop.\n",
    "\n",
    "- [What's a for loop?](../%40textbook/01-python-getting-started.ipynb#Python-for-Loops)\n",
    "- [Write a for loop in Python.](../%40textbook/01-python-getting-started.ipynb#Working-with-for-Loops)"
   ]
  },
  {
   "cell_type": "code",
   "execution_count": 11,
   "id": "d598743f-79ec-45d5-a2c1-0f0cf03f4f31",
   "metadata": {
    "deletable": false
   },
   "outputs": [
    {
     "data": {
      "text/plain": [
       "[[115910.26, 128.0, 4.0, 905.54890625],\n",
       " [48718.17, 210.0, 3.0, 231.9912857142857],\n",
       " [28977.56, 58.0, 2.0, 499.61310344827587],\n",
       " [36932.27, 79.0, 3.0, 467.4970886075949],\n",
       " [83903.51, 111.0, 3.0, 755.8874774774774]]"
      ]
     },
     "execution_count": 11,
     "metadata": {},
     "output_type": "execute_result"
    }
   ],
   "source": [
    "for house in houses_nested_list:\n",
    "    house.append(house[0]/house[1])\n",
    "houses_nested_list"
   ]
  },
  {
   "cell_type": "markdown",
   "id": "8ff1387b-0479-424c-86dc-a5d253d41c8b",
   "metadata": {
    "deletable": false,
    "editable": false
   },
   "source": [
    "## Working with Dictionaries"
   ]
  },
  {
   "cell_type": "markdown",
   "id": "17105056-6976-4f70-b9c9-3e8239f4981c",
   "metadata": {
    "deletable": false,
    "editable": false
   },
   "source": [
    "Lists are a good way to organize data, but one drawback is that we can only represent values. Why is that a problem? For example, someone looking at `[115910.26, 128.0, 4]` wouldn't know which values corresponded to price, area, etc. A better option might be a [**dictionary**](http://127.0.0.1:8888/lab/tree/work/ds_curriculum/%40textbook/Python.ipynb#whats-a-dictionary), where each value is associated with a key. Here's what `house_0` looks like as a dictionary instead of a list."
   ]
  },
  {
   "cell_type": "code",
   "execution_count": 12,
   "id": "71be0027-0ccf-4d85-9bd4-61f122da32e3",
   "metadata": {
    "deletable": false
   },
   "outputs": [
    {
     "data": {
      "text/plain": [
       "{'price_aprox_usd': 115910.26, 'surface_covered_in_m2': 128, 'rooms': 4}"
      ]
     },
     "execution_count": 12,
     "metadata": {},
     "output_type": "execute_result"
    }
   ],
   "source": [
    "house_0_dict = {\n",
    "    \"price_aprox_usd\": 115910.26,\n",
    "    \"surface_covered_in_m2\": 128,\n",
    "    \"rooms\": 4,\n",
    "}\n",
    "\n",
    "house_0_dict"
   ]
  },
  {
   "cell_type": "code",
   "execution_count": 13,
   "id": "2a3ab5ac-5088-4cf5-a164-8faf1c429d83",
   "metadata": {
    "deletable": false,
    "editable": false,
    "init_cell": true
   },
   "outputs": [
    {
     "data": {
      "text/html": [
       "\n",
       "        <iframe\n",
       "            width=\"600\"\n",
       "            height=\"300\"\n",
       "            src=\"https://player.vimeo.com/video/645390821?h=884613d46b\"\n",
       "            frameborder=\"0\"\n",
       "            allowfullscreen\n",
       "        ></iframe>\n",
       "        "
      ],
      "text/plain": [
       "<IPython.lib.display.VimeoVideo at 0x7fa3d0291b20>"
      ]
     },
     "execution_count": 13,
     "metadata": {},
     "output_type": "execute_result"
    }
   ],
   "source": [
    "VimeoVideo(\"645390821\", h=\"884613d46b\", width=600)"
   ]
  },
  {
   "cell_type": "markdown",
   "id": "fc424e84-2616-4cf4-a49b-bffab0da95ce",
   "metadata": {
    "deletable": false,
    "editable": false
   },
   "source": [
    "**Task 1.1.4:** Calculate the price per square meter for `house_0` and add it to the dictionary under the key `\"price_per_m2\"`.\n",
    "\n",
    "- [What's a dictionary?](../%40textbook/01-python-getting-started.ipynb#Python-Dictionaries)\n",
    "- [Access an item in a dictionary in Python.](../%40textbook/01-python-getting-started.ipynb#Working-with-Dictionaries)"
   ]
  },
  {
   "cell_type": "code",
   "execution_count": 15,
   "id": "8b528276-7f53-4ab3-8125-88e58083de08",
   "metadata": {
    "deletable": false
   },
   "outputs": [
    {
     "data": {
      "text/plain": [
       "{'price_aprox_usd': 115910.26,\n",
       " 'surface_covered_in_m2': 128,\n",
       " 'rooms': 4,\n",
       " 'price_per_m2': 905.54890625}"
      ]
     },
     "execution_count": 15,
     "metadata": {},
     "output_type": "execute_result"
    }
   ],
   "source": [
    "house_0_dict[\"price_per_m2\"] = house_0_dict['price_aprox_usd']/ house_0_dict['surface_covered_in_m2']\n",
    "house_0_dict"
   ]
  },
  {
   "cell_type": "markdown",
   "id": "4bc40e24-796d-400d-8146-b841ffca3700",
   "metadata": {
    "deletable": false,
    "editable": false
   },
   "source": [
    "If we wanted to combine all our observations together, the best way would be to create a list of dictionaries."
   ]
  },
  {
   "cell_type": "code",
   "execution_count": 16,
   "id": "6f9f17f7-65e9-412a-88a1-c03a1ec8eeca",
   "metadata": {
    "deletable": false
   },
   "outputs": [
    {
     "data": {
      "text/plain": [
       "[{'price_aprox_usd': 115910.26, 'surface_covered_in_m2': 128, 'rooms': 4},\n",
       " {'price_aprox_usd': 48718.17, 'surface_covered_in_m2': 210, 'rooms': 3},\n",
       " {'price_aprox_usd': 28977.56, 'surface_covered_in_m2': 58, 'rooms': 2},\n",
       " {'price_aprox_usd': 36932.27, 'surface_covered_in_m2': 79, 'rooms': 3},\n",
       " {'price_aprox_usd': 83903.51, 'surface_covered_in_m2': 111, 'rooms': 3}]"
      ]
     },
     "execution_count": 16,
     "metadata": {},
     "output_type": "execute_result"
    }
   ],
   "source": [
    "houses_rowwise = [\n",
    "    {\n",
    "        \"price_aprox_usd\": 115910.26,\n",
    "        \"surface_covered_in_m2\": 128,\n",
    "        \"rooms\": 4,\n",
    "    },\n",
    "    {\n",
    "        \"price_aprox_usd\": 48718.17,\n",
    "        \"surface_covered_in_m2\": 210,\n",
    "        \"rooms\": 3,\n",
    "    },\n",
    "    {\n",
    "        \"price_aprox_usd\": 28977.56,\n",
    "        \"surface_covered_in_m2\": 58,\n",
    "        \"rooms\": 2,\n",
    "    },\n",
    "    {\n",
    "        \"price_aprox_usd\": 36932.27,\n",
    "        \"surface_covered_in_m2\": 79,\n",
    "        \"rooms\": 3,\n",
    "    },\n",
    "    {\n",
    "        \"price_aprox_usd\": 83903.51,\n",
    "        \"surface_covered_in_m2\": 111,\n",
    "        \"rooms\": 3,\n",
    "    },\n",
    "]\n",
    "\n",
    "houses_rowwise"
   ]
  },
  {
   "cell_type": "markdown",
   "id": "353af4b2-b2a0-4470-be0b-486b872cea79",
   "metadata": {
    "deletable": false,
    "editable": false
   },
   "source": [
    "This way of storing data is so popular, it has its own name: [**JSON**](http://127.0.0.1:8888/lab/tree/work/ds_curriculum/%40textbook/Python.ipynb#JSON). We'll learn more about it later in the course. For now, let's build another for loop, but this time, we'll add a add the price per square meter to each dictionary."
   ]
  },
  {
   "cell_type": "code",
   "execution_count": 17,
   "id": "7d2d84c9-2d92-4dc9-bca8-1138d7147705",
   "metadata": {
    "deletable": false,
    "editable": false,
    "init_cell": true
   },
   "outputs": [
    {
     "data": {
      "text/html": [
       "\n",
       "        <iframe\n",
       "            width=\"600\"\n",
       "            height=\"300\"\n",
       "            src=\"https://player.vimeo.com/video/645390833?h=0d3963c0d0\"\n",
       "            frameborder=\"0\"\n",
       "            allowfullscreen\n",
       "        ></iframe>\n",
       "        "
      ],
      "text/plain": [
       "<IPython.lib.display.VimeoVideo at 0x7fa3d0291c10>"
      ]
     },
     "execution_count": 17,
     "metadata": {},
     "output_type": "execute_result"
    }
   ],
   "source": [
    "VimeoVideo(\"645390833\", h=\"0d3963c0d0\", width=600)"
   ]
  },
  {
   "cell_type": "markdown",
   "id": "e897dc64-cf89-4379-aa35-ef1c766a4af5",
   "metadata": {
    "deletable": false,
    "editable": false
   },
   "source": [
    "**Task 1.1.5:** Using a `for` loop, calculate the price per square meter and store the result under a `\"price_per_m2\"` key for each observation in `houses_rowwise`.\n",
    "\n",
    "- [What's JSON?](../%40textbook/01-python-getting-started.ipynb#JSON)\n",
    "- [Write a for loop in Python.](../%40textbook/01-python-getting-started.ipynb#Working-with-for-Loops)"
   ]
  },
  {
   "cell_type": "code",
   "execution_count": 18,
   "id": "9c9bbbd5-c965-4f65-b154-851357715f80",
   "metadata": {
    "deletable": false
   },
   "outputs": [
    {
     "data": {
      "text/plain": [
       "[{'price_aprox_usd': 115910.26,\n",
       "  'surface_covered_in_m2': 128,\n",
       "  'rooms': 4,\n",
       "  'price_per_m2': 905.54890625},\n",
       " {'price_aprox_usd': 48718.17,\n",
       "  'surface_covered_in_m2': 210,\n",
       "  'rooms': 3,\n",
       "  'price_per_m2': 231.9912857142857},\n",
       " {'price_aprox_usd': 28977.56,\n",
       "  'surface_covered_in_m2': 58,\n",
       "  'rooms': 2,\n",
       "  'price_per_m2': 499.61310344827587},\n",
       " {'price_aprox_usd': 36932.27,\n",
       "  'surface_covered_in_m2': 79,\n",
       "  'rooms': 3,\n",
       "  'price_per_m2': 467.4970886075949},\n",
       " {'price_aprox_usd': 83903.51,\n",
       "  'surface_covered_in_m2': 111,\n",
       "  'rooms': 3,\n",
       "  'price_per_m2': 755.8874774774774}]"
      ]
     },
     "execution_count": 18,
     "metadata": {},
     "output_type": "execute_result"
    }
   ],
   "source": [
    "for house_dict in houses_rowwise:\n",
    "    house_dict['price_per_m2'] = house_dict['price_aprox_usd'] / house_dict['surface_covered_in_m2']\n",
    "houses_rowwise"
   ]
  },
  {
   "cell_type": "markdown",
   "id": "1ebd7856-7775-43ad-83dd-4dd860a246c6",
   "metadata": {
    "deletable": false,
    "editable": false
   },
   "source": [
    "JSON is a great way to organize data, but it does have some downsides. Note that each dictionary represents a single house or, if we think about it as tabular data, a row in our dataset. This means that it's pretty easy to do row-wise calculations (like we did with price per square meter), but column-wise calculations are more complicated. For instance, what if we wanted to know the mean house price for our dataset? First we'd need to collect the price for each house in a list and then calculate mean. "
   ]
  },
  {
   "cell_type": "code",
   "execution_count": 19,
   "id": "8403048d-92e0-4710-99b2-71617d73e6e5",
   "metadata": {
    "deletable": false,
    "editable": false,
    "init_cell": true
   },
   "outputs": [
    {
     "data": {
      "text/html": [
       "\n",
       "        <iframe\n",
       "            width=\"600\"\n",
       "            height=\"300\"\n",
       "            src=\"https://player.vimeo.com/video/645390848?h=889a3cfb33\"\n",
       "            frameborder=\"0\"\n",
       "            allowfullscreen\n",
       "        ></iframe>\n",
       "        "
      ],
      "text/plain": [
       "<IPython.lib.display.VimeoVideo at 0x7fa3d0291df0>"
      ]
     },
     "execution_count": 19,
     "metadata": {},
     "output_type": "execute_result"
    }
   ],
   "source": [
    "VimeoVideo(\"645390848\", h=\"889a3cfb33\", width=600)"
   ]
  },
  {
   "cell_type": "markdown",
   "id": "d237bcfb-4534-4160-99bb-b63d2c87362a",
   "metadata": {
    "deletable": false,
    "editable": false
   },
   "source": [
    "**Task 1.1.6:** To calculate the mean price for `houses_rowwise` by completing the code below.\n",
    "\n",
    "- [Write a for loop in Python.](../%40textbook/01-python-getting-started.ipynb#Working-with-for-Loops)\n",
    "- [Append an item to a list in Python.](../%40textbook/01-python-getting-started.ipynb#Appending-Items)"
   ]
  },
  {
   "cell_type": "code",
   "execution_count": 20,
   "id": "2311d319-183d-4cef-8ae1-6320d6861880",
   "metadata": {
    "deletable": false
   },
   "outputs": [
    {
     "data": {
      "text/plain": [
       "62888.35399999999"
      ]
     },
     "execution_count": 20,
     "metadata": {},
     "output_type": "execute_result"
    }
   ],
   "source": [
    "house_prices = []\n",
    "for house in houses_rowwise:\n",
    "    \n",
    "    house_prices.append(house['price_aprox_usd'])\n",
    "mean_house_price = sum(house_prices) / len(house_prices)\n",
    "\n",
    "mean_house_price"
   ]
  },
  {
   "cell_type": "markdown",
   "id": "c6dc9d61-2737-45f9-bc4a-821dc2ff14e1",
   "metadata": {
    "deletable": false,
    "editable": false
   },
   "source": [
    "One way to make this sort of calculation easier is to organize our data by features instead of observations. We'll still use dictionaries and lists, but we'll implement them a slightly differently."
   ]
  },
  {
   "cell_type": "code",
   "execution_count": 21,
   "id": "9a8fae73-ec36-4a9f-9197-3c7bd1747e06",
   "metadata": {
    "deletable": false
   },
   "outputs": [
    {
     "data": {
      "text/plain": [
       "{'price_aprox_usd': [115910.26, 48718.17, 28977.56, 36932.27, 83903.51],\n",
       " 'surface_covered_in_m2': [128.0, 210.0, 58.0, 79.0, 111.0],\n",
       " 'rooms': [4.0, 3.0, 2.0, 3.0, 3.0]}"
      ]
     },
     "execution_count": 21,
     "metadata": {},
     "output_type": "execute_result"
    }
   ],
   "source": [
    "houses_columnwise = {\n",
    "    \"price_aprox_usd\": [115910.26, 48718.17, 28977.56, 36932.27, 83903.51],\n",
    "    \"surface_covered_in_m2\": [128.0, 210.0, 58.0, 79.0, 111.0],\n",
    "    \"rooms\": [4.0, 3.0, 2.0, 3.0, 3.0],\n",
    "}\n",
    "\n",
    "houses_columnwise"
   ]
  },
  {
   "cell_type": "code",
   "execution_count": 22,
   "id": "4f763cc0-1db4-4992-ba55-f4039b3c25ea",
   "metadata": {
    "deletable": false,
    "editable": false,
    "init_cell": true
   },
   "outputs": [
    {
     "data": {
      "text/html": [
       "\n",
       "        <iframe\n",
       "            width=\"600\"\n",
       "            height=\"300\"\n",
       "            src=\"https://player.vimeo.com/video/645390869?h=ef4d49bf66\"\n",
       "            frameborder=\"0\"\n",
       "            allowfullscreen\n",
       "        ></iframe>\n",
       "        "
      ],
      "text/plain": [
       "<IPython.lib.display.VimeoVideo at 0x7fa3d02e88e0>"
      ]
     },
     "execution_count": 22,
     "metadata": {},
     "output_type": "execute_result"
    }
   ],
   "source": [
    "VimeoVideo(\"645390869\", h=\"ef4d49bf66\", width=600)"
   ]
  },
  {
   "cell_type": "markdown",
   "id": "81d75c80-9b51-4927-ab0e-ba84eaf6a2aa",
   "metadata": {
    "deletable": false,
    "editable": false
   },
   "source": [
    "**Task 1.1.7:** Calculate the mean house price in `houses_columnwise`\n",
    "\n",
    "- [Perform common aggregation tasks on a list in Python.](../%40textbook/01-python-getting-started.ipynb#Aggregating-Items)"
   ]
  },
  {
   "cell_type": "code",
   "execution_count": 23,
   "id": "2d135830-1296-466d-8109-e1079fe4f89f",
   "metadata": {
    "deletable": false
   },
   "outputs": [
    {
     "data": {
      "text/plain": [
       "62888.35399999999"
      ]
     },
     "execution_count": 23,
     "metadata": {},
     "output_type": "execute_result"
    }
   ],
   "source": [
    "mean_house_price = sum(houses_columnwise['price_aprox_usd'])/len(houses_columnwise['price_aprox_usd'])\n",
    "\n",
    "mean_house_price"
   ]
  },
  {
   "cell_type": "markdown",
   "id": "4cb935e5-68fa-49b9-9537-2d830c5d4d40",
   "metadata": {
    "deletable": false,
    "editable": false
   },
   "source": [
    "Of course, when we organize our data according to columns / features, row-wise operations become more difficult. "
   ]
  },
  {
   "cell_type": "code",
   "execution_count": 24,
   "id": "8770f43b-b668-4481-b8eb-3e598a93b1bb",
   "metadata": {
    "deletable": false,
    "editable": false,
    "init_cell": true
   },
   "outputs": [
    {
     "data": {
      "text/html": [
       "\n",
       "        <iframe\n",
       "            width=\"600\"\n",
       "            height=\"300\"\n",
       "            src=\"https://player.vimeo.com/video/645396267?h=66eda35f00\"\n",
       "            frameborder=\"0\"\n",
       "            allowfullscreen\n",
       "        ></iframe>\n",
       "        "
      ],
      "text/plain": [
       "<IPython.lib.display.VimeoVideo at 0x7fa3d02e8460>"
      ]
     },
     "execution_count": 24,
     "metadata": {},
     "output_type": "execute_result"
    }
   ],
   "source": [
    "VimeoVideo(\"645396267\", h=\"66eda35f00\", width=600)"
   ]
  },
  {
   "cell_type": "markdown",
   "id": "b552d5ed-7896-483b-8590-21165bec835c",
   "metadata": {
    "deletable": false,
    "editable": false
   },
   "source": [
    "**Task 1.1.8:** Create a `\"price_per_m2\"` column in `houses_columnwise`?\n",
    "\n",
    "- [Add a a key-value pair to a dictionary in Python.](../%40textbook/01-python-getting-started.ipynb#Creating-Dictionaries) \n",
    "- [Zip two lists together in Python.](../%40textbook/01-python-getting-started.ipynb#Zipping-Items)\n",
    "- [Write a for loop in Python.](../%40textbook/01-python-getting-started.ipynb#Working-with-for-Loops)"
   ]
  },
  {
   "cell_type": "code",
   "execution_count": 25,
   "id": "7c10f3aa-106d-4a3d-9f70-4d33b0ff1062",
   "metadata": {
    "deletable": false
   },
   "outputs": [
    {
     "data": {
      "text/plain": [
       "{'price_aprox_usd': [115910.26, 48718.17, 28977.56, 36932.27, 83903.51],\n",
       " 'surface_covered_in_m2': [128.0, 210.0, 58.0, 79.0, 111.0],\n",
       " 'rooms': [4.0, 3.0, 2.0, 3.0, 3.0],\n",
       " 'price_per': [905.54890625,\n",
       "  231.9912857142857,\n",
       "  499.61310344827587,\n",
       "  467.4970886075949,\n",
       "  755.8874774774774]}"
      ]
     },
     "execution_count": 25,
     "metadata": {},
     "output_type": "execute_result"
    }
   ],
   "source": [
    "price = houses_columnwise['price_aprox_usd']\n",
    "area = houses_columnwise['surface_covered_in_m2']\n",
    "houses_columnwise['price_per'] = []\n",
    "for pr, ar in zip(price, area):\n",
    "    houses_columnwise['price_per'].append(pr/ar)\n",
    "\n",
    "houses_columnwise"
   ]
  },
  {
   "cell_type": "markdown",
   "id": "3a2ee224-624e-4385-a868-02644cd2f3da",
   "metadata": {
    "deletable": false,
    "editable": false
   },
   "source": [
    "# Tabular Data and pandas DataFrames"
   ]
  },
  {
   "cell_type": "markdown",
   "id": "259689fc-07de-48af-92a1-7a44c0643089",
   "metadata": {
    "deletable": false,
    "editable": false
   },
   "source": [
    "<iframe src=\"https://player.vimeo.com/video/645396345?h=ba25c25741&amp;title=0&amp;byline=0&amp;portrait=0&amp;speed=0&amp;badge=0&amp;autopause=0&amp;player_id=0&amp;app_id=58479\" width=\"1920\" height=\"1080\" frameborder=\"0\" allow=\"autoplay; fullscreen; picture-in-picture\" allowfullscreen title=\"011-9\"></iframe>"
   ]
  },
  {
   "cell_type": "code",
   "execution_count": 26,
   "id": "8d468166-1360-4fcc-b6c4-7f65355e5b3e",
   "metadata": {
    "deletable": false,
    "editable": false,
    "init_cell": true
   },
   "outputs": [
    {
     "data": {
      "text/html": [
       "\n",
       "        <iframe\n",
       "            width=\"600\"\n",
       "            height=\"300\"\n",
       "            src=\"https://player.vimeo.com/video/645396345?h=ba25c25741\"\n",
       "            frameborder=\"0\"\n",
       "            allowfullscreen\n",
       "        ></iframe>\n",
       "        "
      ],
      "text/plain": [
       "<IPython.lib.display.VimeoVideo at 0x7fa3d0291ca0>"
      ]
     },
     "execution_count": 26,
     "metadata": {},
     "output_type": "execute_result"
    }
   ],
   "source": [
    "VimeoVideo(\"645396345\", h=\"ba25c25741\", width=600)"
   ]
  },
  {
   "cell_type": "markdown",
   "id": "4b35e446-bb0c-4156-b8bf-93973fa136a6",
   "metadata": {
    "deletable": false,
    "editable": false
   },
   "source": [
    "While you've shown that you can wrangle data using lists and dictionaries, it's not as intuitive as working with, say, a spreadsheet. Fortunately, there are lots of libraries for Python that make it an even better tool for tabular data — way better than spreadsheet applications like Microsoft Excel or Google Sheets! One of the best known data science libraries is **pandas**, which allows you to organize data into **DataFrames**.\n",
    "\n",
    "Let's import pandas and then create a DataFrame from `houses_columnwise`. "
   ]
  },
  {
   "cell_type": "code",
   "execution_count": 28,
   "id": "008d8526-5b8d-4791-b500-5fc032aeb636",
   "metadata": {
    "deletable": false
   },
   "outputs": [
    {
     "data": {
      "text/html": [
       "<div>\n",
       "<style scoped>\n",
       "    .dataframe tbody tr th:only-of-type {\n",
       "        vertical-align: middle;\n",
       "    }\n",
       "\n",
       "    .dataframe tbody tr th {\n",
       "        vertical-align: top;\n",
       "    }\n",
       "\n",
       "    .dataframe thead th {\n",
       "        text-align: right;\n",
       "    }\n",
       "</style>\n",
       "<table border=\"1\" class=\"dataframe\">\n",
       "  <thead>\n",
       "    <tr style=\"text-align: right;\">\n",
       "      <th></th>\n",
       "      <th>price_aprox_usd</th>\n",
       "      <th>surface_covered_in_m2</th>\n",
       "      <th>rooms</th>\n",
       "      <th>price_per</th>\n",
       "    </tr>\n",
       "  </thead>\n",
       "  <tbody>\n",
       "    <tr>\n",
       "      <th>0</th>\n",
       "      <td>115910.26</td>\n",
       "      <td>128.0</td>\n",
       "      <td>4.0</td>\n",
       "      <td>905.548906</td>\n",
       "    </tr>\n",
       "    <tr>\n",
       "      <th>1</th>\n",
       "      <td>48718.17</td>\n",
       "      <td>210.0</td>\n",
       "      <td>3.0</td>\n",
       "      <td>231.991286</td>\n",
       "    </tr>\n",
       "    <tr>\n",
       "      <th>2</th>\n",
       "      <td>28977.56</td>\n",
       "      <td>58.0</td>\n",
       "      <td>2.0</td>\n",
       "      <td>499.613103</td>\n",
       "    </tr>\n",
       "    <tr>\n",
       "      <th>3</th>\n",
       "      <td>36932.27</td>\n",
       "      <td>79.0</td>\n",
       "      <td>3.0</td>\n",
       "      <td>467.497089</td>\n",
       "    </tr>\n",
       "    <tr>\n",
       "      <th>4</th>\n",
       "      <td>83903.51</td>\n",
       "      <td>111.0</td>\n",
       "      <td>3.0</td>\n",
       "      <td>755.887477</td>\n",
       "    </tr>\n",
       "  </tbody>\n",
       "</table>\n",
       "</div>"
      ],
      "text/plain": [
       "   price_aprox_usd  surface_covered_in_m2  rooms   price_per\n",
       "0        115910.26                  128.0    4.0  905.548906\n",
       "1         48718.17                  210.0    3.0  231.991286\n",
       "2         28977.56                   58.0    2.0  499.613103\n",
       "3         36932.27                   79.0    3.0  467.497089\n",
       "4         83903.51                  111.0    3.0  755.887477"
      ]
     },
     "execution_count": 28,
     "metadata": {},
     "output_type": "execute_result"
    }
   ],
   "source": [
    "import pandas as pd\n",
    "\n",
    "data = {\n",
    "    \"price_aprox_usd\": [115910.26, 48718.17, 28977.56, 36932.27, 83903.51],\n",
    "    \"surface_covered_in_m2\": [128.0, 210.0, 58.0, 79.0, 111.0],\n",
    "    \"rooms\": [4.0, 3.0, 2.0, 3.0, 3.0],\n",
    "}\n",
    "\n",
    "df_houses = pd.DataFrame(houses_columnwise)\n",
    "\n",
    "df_houses"
   ]
  },
  {
   "cell_type": "markdown",
   "id": "b44fa889-0e5e-4cca-8da0-676670c812c0",
   "metadata": {
    "deletable": false,
    "editable": false
   },
   "source": [
    "Excellent work! You've mastered the concept of **tabular data**, understand the principles behind **tidy data**, and used **lists** and **dictionaries** to organize and augment our Mexico housing dataset. Next, we'll use these skills on the entire dataset — with over 150,000 observations — to better understand the real estate market in the country."
   ]
  },
  {
   "cell_type": "markdown",
   "id": "f8dbefb8",
   "metadata": {
    "deletable": false,
    "editable": false
   },
   "source": [
    "---\n",
    "Copyright © 2022 WorldQuant University. This\n",
    "content is licensed solely for personal use. Redistribution or\n",
    "publication of this material is strictly prohibited.\n"
   ]
  }
 ],
 "metadata": {
  "kernelspec": {
   "display_name": "Python 3 (ipykernel)",
   "language": "python",
   "name": "python3"
  },
  "language_info": {
   "codemirror_mode": {
    "name": "ipython",
    "version": 3
   },
   "file_extension": ".py",
   "mimetype": "text/x-python",
   "name": "python",
   "nbconvert_exporter": "python",
   "pygments_lexer": "ipython3",
   "version": "3.9.6"
  }
 },
 "nbformat": 4,
 "nbformat_minor": 5
}
