{
 "cells": [
  {
   "cell_type": "markdown",
   "id": "909f708f-adbe-46cc-a255-eaf916750756",
   "metadata": {
    "deletable": false,
    "editable": false
   },
   "source": [
    "<font size=\"+3\"><strong>Preparing Mexico Data</strong></font>"
   ]
  },
  {
   "cell_type": "code",
   "execution_count": 33,
   "id": "f9ead14a-66b5-4157-b2b3-785e29370f80",
   "metadata": {
    "deletable": false,
    "editable": false,
    "init_cell": true
   },
   "outputs": [],
   "source": [
    "import pandas as pd\n",
    "from IPython.display import VimeoVideo"
   ]
  },
  {
   "cell_type": "markdown",
   "id": "144c5a4a-f25b-4293-8f79-16f4bb3af177",
   "metadata": {
    "deletable": false,
    "editable": false
   },
   "source": [
    "# Import"
   ]
  },
  {
   "cell_type": "markdown",
   "id": "2093dabe-90ec-43f6-b237-882dc0abb1b2",
   "metadata": {
    "deletable": false,
    "editable": false,
    "tags": []
   },
   "source": [
    "The first part of any data science project is preparing your data, which means making sure its in the right place and format for you to conduct your analysis. The first step of any data preparation is importing your raw data and cleaning it. \n",
    "\n",
    "If you look in the `small-data` directory on your machine, you'll see that the data for this project comes in three CSV files: `mexico-real-estate-1.csv`, `mexico-real-estate-2.csv`, and `mexico-real-estate-3.csv`."
   ]
  },
  {
   "cell_type": "code",
   "execution_count": 34,
   "id": "aaa145a8-1071-4658-8783-07ffe6e0d502",
   "metadata": {
    "deletable": false,
    "editable": false,
    "init_cell": true
   },
   "outputs": [
    {
     "data": {
      "text/html": [
       "\n",
       "        <iframe\n",
       "            width=\"600\"\n",
       "            height=\"300\"\n",
       "            src=\"https://player.vimeo.com/video/656321516?h=e85e3bf248\"\n",
       "            frameborder=\"0\"\n",
       "            allowfullscreen\n",
       "        ></iframe>\n",
       "        "
      ],
      "text/plain": [
       "<IPython.lib.display.VimeoVideo at 0x7f0573128460>"
      ]
     },
     "execution_count": 34,
     "metadata": {},
     "output_type": "execute_result"
    }
   ],
   "source": [
    "VimeoVideo(\"656321516\", h=\"e85e3bf248\", width=600)"
   ]
  },
  {
   "cell_type": "markdown",
   "id": "8df7281e-918b-48f7-9827-1e321b6827c0",
   "metadata": {
    "deletable": false,
    "editable": false
   },
   "source": [
    "**Task 1.2.1:** Read these three files into three separate DataFrames named `df1`, `df2`, and `df3`, respectively.\n",
    "\n",
    "- [What's a DataFrame?](../%40textbook/03-pandas-getting-started.ipynb#Pandas)\n",
    "- [What's a CSV file?](../%40textbook/03-pandas-getting-started.ipynb#CSV-Files)\n",
    "- [Read a CSV file into a DataFrame using pandas.](../%40textbook/03-pandas-getting-started.ipynb#Working-with-DataFrames)"
   ]
  },
  {
   "cell_type": "code",
   "execution_count": 35,
   "id": "e7c17dfa-206f-454f-944a-6002a252b787",
   "metadata": {
    "deletable": false
   },
   "outputs": [],
   "source": [
    "df1 = pd.read_csv('data/mexico-real-estate-1.csv')\n",
    "df2 = pd.read_csv('data/mexico-real-estate-2.csv')\n",
    "df3 = pd.read_csv('data/mexico-real-estate-3.csv')"
   ]
  },
  {
   "cell_type": "code",
   "execution_count": 36,
   "id": "9b54b1ff-ac54-4dd3-a67f-2beb6652a8ee",
   "metadata": {},
   "outputs": [],
   "source": [
    "import gc"
   ]
  },
  {
   "cell_type": "code",
   "execution_count": 37,
   "id": "56c0cf9c-f417-4928-aa58-9efb45253db7",
   "metadata": {},
   "outputs": [
    {
     "data": {
      "text/plain": [
       "19"
      ]
     },
     "execution_count": 37,
     "metadata": {},
     "output_type": "execute_result"
    }
   ],
   "source": [
    "gc.collect()"
   ]
  },
  {
   "cell_type": "markdown",
   "id": "b2a5efd3-357b-4896-a238-710198bf6ff5",
   "metadata": {
    "deletable": false,
    "editable": false
   },
   "source": [
    "## Clean `df1`"
   ]
  },
  {
   "cell_type": "markdown",
   "id": "a80b56f7-6692-4896-8e69-02b977a0936a",
   "metadata": {
    "deletable": false,
    "editable": false
   },
   "source": [
    "Now that you have your three DataFrames, it's time to inspect them to see if they need any cleaning. Let's look at them one-by-one."
   ]
  },
  {
   "cell_type": "code",
   "execution_count": 38,
   "id": "a64338ab-f015-479d-92ba-534d7132599f",
   "metadata": {
    "deletable": false,
    "editable": false,
    "init_cell": true
   },
   "outputs": [
    {
     "data": {
      "text/html": [
       "\n",
       "        <iframe\n",
       "            width=\"600\"\n",
       "            height=\"300\"\n",
       "            src=\"https://player.vimeo.com/video/656320563?h=a6841fed28\"\n",
       "            frameborder=\"0\"\n",
       "            allowfullscreen\n",
       "        ></iframe>\n",
       "        "
      ],
      "text/plain": [
       "<IPython.lib.display.VimeoVideo at 0x7f0573070160>"
      ]
     },
     "execution_count": 38,
     "metadata": {},
     "output_type": "execute_result"
    }
   ],
   "source": [
    "VimeoVideo(\"656320563\", h=\"a6841fed28\", width=600)"
   ]
  },
  {
   "cell_type": "markdown",
   "id": "fbcad10a-93c1-4a30-a59a-d25e5cab4d5e",
   "metadata": {
    "deletable": false,
    "editable": false
   },
   "source": [
    "**Task 1.2.2:** Inspect `df1` by looking at its [`shape`](https://pandas.pydata.org/docs/reference/api/pandas.DataFrame.shape.html) attribute. Then use the [`info`](https://pandas.pydata.org/docs/reference/api/pandas.DataFrame.info.htm) method to see the data types and number of missing values for each column. Finally, use the [`head`](https://pandas.pydata.org/docs/reference/api/pandas.DataFrame.head.html) method to determine to look at the first five rows of your dataset.\n",
    "\n",
    "- [Inspect a DataFrame using the `shape`, `info`, and `head` in pandas.](../%40textbook/03-pandas-getting-started.ipynb#Inspecting-DataFrames)"
   ]
  },
  {
   "cell_type": "code",
   "execution_count": 39,
   "id": "d340ce96-8ca7-4d71-afe5-f21b7d544083",
   "metadata": {
    "deletable": false
   },
   "outputs": [
    {
     "name": "stdout",
     "output_type": "stream",
     "text": [
      "(700, 6)\n",
      "<class 'pandas.core.frame.DataFrame'>\n",
      "RangeIndex: 700 entries, 0 to 699\n",
      "Data columns (total 6 columns):\n",
      " #   Column         Non-Null Count  Dtype  \n",
      "---  ------         --------------  -----  \n",
      " 0   property_type  700 non-null    object \n",
      " 1   state          700 non-null    object \n",
      " 2   lat            583 non-null    float64\n",
      " 3   lon            583 non-null    float64\n",
      " 4   area_m2        700 non-null    float64\n",
      " 5   price_usd      700 non-null    object \n",
      "dtypes: float64(3), object(3)\n",
      "memory usage: 32.9+ KB\n",
      "None\n",
      "  property_type                            state        lat         lon  \\\n",
      "0         house                 Estado de México  19.560181  -99.233528   \n",
      "1         house                       Nuevo León  25.688436 -100.198807   \n",
      "2     apartment                         Guerrero  16.767704  -99.764383   \n",
      "3     apartment                         Guerrero  16.829782  -99.911012   \n",
      "4         house  Veracruz de Ignacio de la Llave        NaN         NaN   \n",
      "\n",
      "   area_m2   price_usd  \n",
      "0    150.0  $67,965.56  \n",
      "1    186.0  $63,223.78  \n",
      "2     82.0  $84,298.37  \n",
      "3    150.0  $94,308.80  \n",
      "4    175.0  $94,835.67  \n"
     ]
    }
   ],
   "source": [
    "print(df1.shape)\n",
    "print(df1.info())\n",
    "print(df1.head())"
   ]
  },
  {
   "cell_type": "markdown",
   "id": "4b10f484-9767-4b06-9131-5ed13f7fde8a",
   "metadata": {
    "deletable": false,
    "editable": false
   },
   "source": [
    "It looks like there are a couple of problems in this DataFrame that you need to solve. First, there are many rows with `NaN` values in the `\"lat\"` and `\"lon\"` columns. Second, the data type for the `\"price_usd\"` column is `object` when it should be `float`. "
   ]
  },
  {
   "cell_type": "code",
   "execution_count": 40,
   "id": "24be0210-ddf7-45e5-a902-8820d5f8cdf2",
   "metadata": {
    "deletable": false,
    "editable": false,
    "init_cell": true
   },
   "outputs": [
    {
     "data": {
      "text/html": [
       "\n",
       "        <iframe\n",
       "            width=\"600\"\n",
       "            height=\"300\"\n",
       "            src=\"https://player.vimeo.com/video/656316512?h=33eb5cb26e\"\n",
       "            frameborder=\"0\"\n",
       "            allowfullscreen\n",
       "        ></iframe>\n",
       "        "
      ],
      "text/plain": [
       "<IPython.lib.display.VimeoVideo at 0x7f0573070130>"
      ]
     },
     "execution_count": 40,
     "metadata": {},
     "output_type": "execute_result"
    }
   ],
   "source": [
    "VimeoVideo(\"656316512\", h=\"33eb5cb26e\", width=600)"
   ]
  },
  {
   "cell_type": "markdown",
   "id": "eb150275-3078-4022-9ab9-97cdc768ff61",
   "metadata": {
    "deletable": false,
    "editable": false
   },
   "source": [
    "**Task 1.2.3:** Clean `df1` by dropping rows with `NaN` values. Then remove the `\"$\"` and `\",\"` characters from `\"price_usd\"` and recast the values in the column as floats.\n",
    "\n",
    "- [What's a data type?](../%40textbook/01-python-getting-started.ipynb#Data-Types)\n",
    "- [Drop rows with missing values from a DataFrame using pandas.](../%40textbook/03-pandas-getting-started.ipynb#Dropping-Rows)\n",
    "- [Replace string characters in a column using pandas.](../%40textbook/03-pandas-getting-started.ipynb#Replacing-String-Characters) \n",
    "- [Recast a column as a different data type in pandas.](../%40textbook/03-pandas-getting-started.ipynb#Recasting-Data) "
   ]
  },
  {
   "cell_type": "code",
   "execution_count": 41,
   "id": "39760229-1f67-4701-b128-8feb9e1de198",
   "metadata": {
    "deletable": false
   },
   "outputs": [],
   "source": [
    "df1 = df1.dropna().reset_index(drop=True) #don't need to get slice, eg df1[['lat', 'lon']]"
   ]
  },
  {
   "cell_type": "code",
   "execution_count": 42,
   "id": "971e53dc-0816-4754-89c2-b3f5862304af",
   "metadata": {},
   "outputs": [],
   "source": [
    "# import re\n",
    "\n",
    "# string2 = '$105,191.37'\n",
    "# string2 = re.sub(r'[$$,]', '', string2)\n",
    "# string2"
   ]
  },
  {
   "cell_type": "code",
   "execution_count": 43,
   "id": "f13386f9-2953-4d13-835c-61da77669f5d",
   "metadata": {},
   "outputs": [],
   "source": [
    "# string1 = pd.Series(['$94,308.80'])\n",
    "# string1 = string1.str.replace(r'\\$', \"\", regex=True)\n",
    "\n",
    "# string1"
   ]
  },
  {
   "cell_type": "code",
   "execution_count": 44,
   "id": "31d556c2-fff3-4c5f-950d-f723e895c5a8",
   "metadata": {},
   "outputs": [],
   "source": [
    "import re\n",
    "# regex = r'[$],'\n",
    "df1['price_usd'] = df1['price_usd'].str.replace(r'[$$,]', \"\", regex=True)\n",
    "# df1['price_usd'] = df1['price_usd'].str.replace('$', '')\n",
    "df1['price_usd'] = df1['price_usd'].astype('float')"
   ]
  },
  {
   "cell_type": "code",
   "execution_count": 45,
   "id": "ac0a7ead-38cd-4b22-8545-8d5bd2514b70",
   "metadata": {},
   "outputs": [
    {
     "name": "stdout",
     "output_type": "stream",
     "text": [
      "<class 'pandas.core.frame.DataFrame'>\n",
      "RangeIndex: 583 entries, 0 to 582\n",
      "Data columns (total 6 columns):\n",
      " #   Column         Non-Null Count  Dtype  \n",
      "---  ------         --------------  -----  \n",
      " 0   property_type  583 non-null    object \n",
      " 1   state          583 non-null    object \n",
      " 2   lat            583 non-null    float64\n",
      " 3   lon            583 non-null    float64\n",
      " 4   area_m2        583 non-null    float64\n",
      " 5   price_usd      583 non-null    float64\n",
      "dtypes: float64(4), object(2)\n",
      "memory usage: 27.5+ KB\n",
      "None\n",
      "0     67965.56\n",
      "1     63223.78\n",
      "2     84298.37\n",
      "3     94308.80\n",
      "4    105191.37\n",
      "Name: price_usd, dtype: float64\n"
     ]
    }
   ],
   "source": [
    "print(df1.info())\n",
    "print(df1['price_usd'].head())"
   ]
  },
  {
   "cell_type": "markdown",
   "id": "525b86bc-24d1-46db-86d1-3a3267bcdf6d",
   "metadata": {
    "deletable": false,
    "editable": false
   },
   "source": [
    "## Clean `df2`"
   ]
  },
  {
   "cell_type": "markdown",
   "id": "aee52258-7585-4f03-9629-fb874bff7dd4",
   "metadata": {
    "deletable": false,
    "editable": false
   },
   "source": [
    "Now it's time to tackle `df2`. Take a moment to inspect it using the same commands you used before. You'll notice that it has the same issue of `NaN` values, but there's a new problem, too: The home prices are in Mexican pesos (`\"price_mxn\"`), not US dollars (`\"price_usd\"`). If we want to compare all the home prices in this dataset, they all need to be in the same currency."
   ]
  },
  {
   "cell_type": "code",
   "execution_count": 46,
   "id": "39b3577a-3c87-4c4b-8c57-ed71b53c0758",
   "metadata": {
    "deletable": false,
    "editable": false,
    "init_cell": true
   },
   "outputs": [
    {
     "data": {
      "text/html": [
       "\n",
       "        <iframe\n",
       "            width=\"600\"\n",
       "            height=\"300\"\n",
       "            src=\"https://player.vimeo.com/video/656315668?h=c9bd116aca\"\n",
       "            frameborder=\"0\"\n",
       "            allowfullscreen\n",
       "        ></iframe>\n",
       "        "
      ],
      "text/plain": [
       "<IPython.lib.display.VimeoVideo at 0x7f0573128310>"
      ]
     },
     "execution_count": 46,
     "metadata": {},
     "output_type": "execute_result"
    }
   ],
   "source": [
    "VimeoVideo(\"656315668\", h=\"c9bd116aca\", width=600)"
   ]
  },
  {
   "cell_type": "markdown",
   "id": "b0938e20-2845-483e-808b-10671d19ae37",
   "metadata": {
    "deletable": false,
    "editable": false
   },
   "source": [
    "**Task 1.2.4:** First, drop rows with `NaN` values in `df2`. Next, use the `\"price_mxn\"` column to create a new column named `\"price_usd\"`. (Keep in mind that, when this data was collected in 2014, a dollar cost 19 pesos.) Finally, drop the `\"price_mxn\"` from the DataFrame.\n",
    "\n",
    "- [Drop rows with missing values from a DataFrame using pandas.](../%40textbook/03-pandas-getting-started.ipynb#Dropping-Rows)\n",
    "- [Create new columns derived from existing columns in a DataFrame using pandas.](../%40textbook/03-pandas-getting-started.ipynb#Adding-Columns)\n",
    "- [Drop a column from a DataFrame using pandas.](../%40textbook/03-pandas-getting-started.ipynb#Dropping-Columns)"
   ]
  },
  {
   "cell_type": "code",
   "execution_count": 47,
   "id": "b56c46ac-40e9-45d0-aaf0-3f5e4fe1489f",
   "metadata": {
    "deletable": false
   },
   "outputs": [
    {
     "name": "stdout",
     "output_type": "stream",
     "text": [
      "(700, 6)\n",
      "<class 'pandas.core.frame.DataFrame'>\n",
      "RangeIndex: 700 entries, 0 to 699\n",
      "Data columns (total 6 columns):\n",
      " #   Column         Non-Null Count  Dtype  \n",
      "---  ------         --------------  -----  \n",
      " 0   property_type  700 non-null    object \n",
      " 1   state          700 non-null    object \n",
      " 2   lat            571 non-null    float64\n",
      " 3   lon            571 non-null    float64\n",
      " 4   area_m2        700 non-null    float64\n",
      " 5   price_mxn      700 non-null    float64\n",
      "dtypes: float64(4), object(2)\n",
      "memory usage: 32.9+ KB\n",
      "None\n",
      "  property_type       state        lat         lon  area_m2  price_mxn\n",
      "0     apartment  Nuevo León  25.721081 -100.345581     72.0  1300000.0\n",
      "1     apartment      Puebla        NaN         NaN    190.0  2500000.0\n",
      "2         house     Morelos  23.634501 -102.552788    360.0  5300000.0\n",
      "3         house     Morelos        NaN         NaN     76.0   820000.0\n",
      "4         house      Puebla        NaN         NaN    200.0  1100000.0\n"
     ]
    }
   ],
   "source": [
    "print(df2.shape)\n",
    "print(df2.info())\n",
    "print(df2.head())"
   ]
  },
  {
   "cell_type": "code",
   "execution_count": 48,
   "id": "6a42cf7e-19a9-4e85-9fae-83b0fa3e371b",
   "metadata": {},
   "outputs": [
    {
     "name": "stdout",
     "output_type": "stream",
     "text": [
      "<class 'pandas.core.frame.DataFrame'>\n",
      "RangeIndex: 571 entries, 0 to 570\n",
      "Data columns (total 6 columns):\n",
      " #   Column         Non-Null Count  Dtype  \n",
      "---  ------         --------------  -----  \n",
      " 0   property_type  571 non-null    object \n",
      " 1   state          571 non-null    object \n",
      " 2   lat            571 non-null    float64\n",
      " 3   lon            571 non-null    float64\n",
      " 4   area_m2        571 non-null    float64\n",
      " 5   price_usd      571 non-null    float64\n",
      "dtypes: float64(4), object(2)\n",
      "memory usage: 26.9+ KB\n",
      "None\n",
      "  property_type             state        lat         lon  area_m2  price_usd\n",
      "0     apartment        Nuevo León  25.721081 -100.345581     72.0   68421.05\n",
      "1         house           Morelos  23.634501 -102.552788    360.0  278947.37\n",
      "2     apartment  Estado de México  19.272040  -99.572013     85.0   65789.47\n",
      "3         house   San Luis Potosí  22.138882 -100.996510    158.0  111578.95\n",
      "4     apartment  Distrito Federal  19.394558  -99.129707     65.0   39904.74\n"
     ]
    }
   ],
   "source": [
    "df2 = df2.dropna().reset_index(drop=True)\n",
    "df2['price_usd'] = (df2['price_mxn'].astype('float') / 19).round(2)\n",
    "df2 = df2.drop('price_mxn', axis='columns')\n",
    "print(df2.info())\n",
    "print(df2.head())"
   ]
  },
  {
   "cell_type": "markdown",
   "id": "f42a4a55-b5e2-44b3-a22f-5fa9a7e24e3f",
   "metadata": {
    "deletable": false,
    "editable": false
   },
   "source": [
    "## Clean `df3`"
   ]
  },
  {
   "cell_type": "markdown",
   "id": "bf07c051-988f-4865-bcf7-5345131336a2",
   "metadata": {
    "deletable": false,
    "editable": false
   },
   "source": [
    "Great work! We're now on the final DataFrame. Use the same `shape`, `info` and `head` commands to inspect the `df3`. Do you see any familiar issues? \n",
    "\n",
    "You'll notice that we still have `NaN` values, but there are two new problems:\n",
    "\n",
    "1. Instead of separate `\"lat\"` and `\"lon\"` columns, there's a single `\"lat-lon\"` column. \n",
    "2. Instead of a `\"state\"` column, there's a `\"place_with_parent_names\"` column.\n",
    "\n",
    "We need the resolve these problems so that `df3` has the same columns in the same format as `df1` and `df2`."
   ]
  },
  {
   "cell_type": "code",
   "execution_count": 49,
   "id": "54599cb5-e37d-44aa-a45f-1f4630cdd1d9",
   "metadata": {
    "deletable": false,
    "editable": false,
    "init_cell": true
   },
   "outputs": [
    {
     "data": {
      "text/html": [
       "\n",
       "        <iframe\n",
       "            width=\"600\"\n",
       "            height=\"300\"\n",
       "            src=\"https://player.vimeo.com/video/656314718?h=8d1127a93f\"\n",
       "            frameborder=\"0\"\n",
       "            allowfullscreen\n",
       "        ></iframe>\n",
       "        "
      ],
      "text/plain": [
       "<IPython.lib.display.VimeoVideo at 0x7f05730e65e0>"
      ]
     },
     "execution_count": 49,
     "metadata": {},
     "output_type": "execute_result"
    }
   ],
   "source": [
    "VimeoVideo(\"656314718\", h=\"8d1127a93f\", width=600)"
   ]
  },
  {
   "cell_type": "markdown",
   "id": "1648218b-f51f-4315-b7e7-a736267182b6",
   "metadata": {
    "deletable": false,
    "editable": false
   },
   "source": [
    "**Task 1.2.5:** Drop rows with `NaN` values in `df3`. Then use the [`split`](https://pandas.pydata.org/docs/reference/api/pandas.Series.str.split.html) method to create two new columns from `\"lat-lon\"` named `\"lat\"` and `\"lon\"`, respectively.\n",
    "\n",
    "- [Drop rows with missing values from a DataFrame using pandas.](../%40textbook/03-pandas-getting-started.ipynb#Dropping-Rows)\n",
    "- [Split the strings in one column to create another using pandas.](../%40textbook/03-pandas-getting-started.ipynb#Splitting-Strings) "
   ]
  },
  {
   "cell_type": "code",
   "execution_count": 50,
   "id": "934f4f0d-197f-4741-8b1d-f14a9b3ff1fe",
   "metadata": {
    "deletable": false
   },
   "outputs": [
    {
     "name": "stdout",
     "output_type": "stream",
     "text": [
      "(700, 5)\n",
      "<class 'pandas.core.frame.DataFrame'>\n",
      "RangeIndex: 700 entries, 0 to 699\n",
      "Data columns (total 5 columns):\n",
      " #   Column                   Non-Null Count  Dtype  \n",
      "---  ------                   --------------  -----  \n",
      " 0   property_type            700 non-null    object \n",
      " 1   place_with_parent_names  700 non-null    object \n",
      " 2   lat-lon                  582 non-null    object \n",
      " 3   area_m2                  700 non-null    float64\n",
      " 4   price_usd                700 non-null    float64\n",
      "dtypes: float64(2), object(3)\n",
      "memory usage: 27.5+ KB\n",
      "None\n",
      "  property_type                            place_with_parent_names  \\\n",
      "0     apartment  |México|Distrito Federal|Gustavo A. Madero|Acu...   \n",
      "1         house           |México|Estado de México|Toluca|Metepec|   \n",
      "2         house  |México|Estado de México|Toluca|Toluca de Lerd...   \n",
      "3         house        |México|Morelos|Temixco|Burgos Bugambilias|   \n",
      "4     apartment  |México|Veracruz de Ignacio de la Llave|Veracruz|   \n",
      "\n",
      "                  lat-lon  area_m2  price_usd  \n",
      "0     19.52589,-99.151703     71.0   48550.59  \n",
      "1  19.2640539,-99.5727534    233.0  168636.73  \n",
      "2    19.268629,-99.671722    300.0   86932.69  \n",
      "3                     NaN    275.0  263432.41  \n",
      "4    19.511938,-96.871956     84.0   68508.67  \n"
     ]
    }
   ],
   "source": [
    "print(df3.shape)\n",
    "print(df3.info())\n",
    "print(df3.head())"
   ]
  },
  {
   "cell_type": "code",
   "execution_count": 51,
   "id": "0e94e657-83c9-470c-9244-8a2633739bf9",
   "metadata": {},
   "outputs": [
    {
     "name": "stdout",
     "output_type": "stream",
     "text": [
      "<class 'pandas.core.frame.DataFrame'>\n",
      "RangeIndex: 582 entries, 0 to 581\n",
      "Data columns (total 7 columns):\n",
      " #   Column                   Non-Null Count  Dtype  \n",
      "---  ------                   --------------  -----  \n",
      " 0   property_type            582 non-null    object \n",
      " 1   place_with_parent_names  582 non-null    object \n",
      " 2   lat-lon                  582 non-null    object \n",
      " 3   area_m2                  582 non-null    float64\n",
      " 4   price_usd                582 non-null    float64\n",
      " 5   lat                      582 non-null    float64\n",
      " 6   lon                      582 non-null    float64\n",
      "dtypes: float64(4), object(3)\n",
      "memory usage: 32.0+ KB\n",
      "None\n",
      "  property_type                            place_with_parent_names  \\\n",
      "0     apartment  |México|Distrito Federal|Gustavo A. Madero|Acu...   \n",
      "1         house           |México|Estado de México|Toluca|Metepec|   \n",
      "2         house  |México|Estado de México|Toluca|Toluca de Lerd...   \n",
      "3     apartment  |México|Veracruz de Ignacio de la Llave|Veracruz|   \n",
      "4         house                       |México|Jalisco|Guadalajara|   \n",
      "\n",
      "                  lat-lon  area_m2  price_usd        lat         lon  \n",
      "0     19.52589,-99.151703     71.0   48550.59  19.525890  -99.151703  \n",
      "1  19.2640539,-99.5727534    233.0  168636.73  19.264054  -99.572753  \n",
      "2    19.268629,-99.671722    300.0   86932.69  19.268629  -99.671722  \n",
      "3    19.511938,-96.871956     84.0   68508.67  19.511938  -96.871956  \n",
      "4   20.689157,-103.366728    175.0  102763.00  20.689157 -103.366728  \n"
     ]
    }
   ],
   "source": [
    "df3 = df3.dropna().reset_index(drop=True)\n",
    "df3[['lat', 'lon']] = df3['lat-lon'].str.split(',', expand = True).astype('float')\n",
    "print(df3.info())\n",
    "print(df3.head())"
   ]
  },
  {
   "cell_type": "code",
   "execution_count": 52,
   "id": "fe1a5d6b-c8b4-4ce2-8c8a-95cbd867b3a3",
   "metadata": {
    "deletable": false,
    "editable": false,
    "init_cell": true
   },
   "outputs": [
    {
     "data": {
      "text/html": [
       "\n",
       "        <iframe\n",
       "            width=\"600\"\n",
       "            height=\"300\"\n",
       "            src=\"https://player.vimeo.com/video/656314050?h=13f6a677fd\"\n",
       "            frameborder=\"0\"\n",
       "            allowfullscreen\n",
       "        ></iframe>\n",
       "        "
      ],
      "text/plain": [
       "<IPython.lib.display.VimeoVideo at 0x7f05730e6130>"
      ]
     },
     "execution_count": 52,
     "metadata": {},
     "output_type": "execute_result"
    }
   ],
   "source": [
    "VimeoVideo(\"656314050\", h=\"13f6a677fd\", width=600)"
   ]
  },
  {
   "cell_type": "markdown",
   "id": "8467296c-bc67-4467-8f9f-cc3728d2d7db",
   "metadata": {
    "deletable": false,
    "editable": false
   },
   "source": [
    "**Task 1.2.6:** Use the [`split`](https://pandas.pydata.org/docs/reference/api/pandas.Series.str.split.html) method again, this time to extract the state for every house. (Note that the state name always appears after `\"México|\"` in each string.) Use this information to create a `\"state\"` column. Finally, drop the `\"place_with_parent_names\"` and `\"lat-lon\"` columns from the DataFrame. \n",
    "\n",
    "- [Split the strings in one column to create another using pandas.](../%40textbook/03-pandas-getting-started.ipynb#Splitting-Strings)\n",
    "- [Drop a column from a DataFrame using pandas.](../%40textbook/03-pandas-getting-started.ipynb#Dropping-Columns)"
   ]
  },
  {
   "cell_type": "code",
   "execution_count": 53,
   "id": "fc395d19-d7d9-49fa-8dd5-cc1c1d66cdd3",
   "metadata": {
    "deletable": false
   },
   "outputs": [
    {
     "name": "stdout",
     "output_type": "stream",
     "text": [
      "<class 'pandas.core.frame.DataFrame'>\n",
      "RangeIndex: 582 entries, 0 to 581\n",
      "Data columns (total 8 columns):\n",
      " #   Column                   Non-Null Count  Dtype  \n",
      "---  ------                   --------------  -----  \n",
      " 0   property_type            582 non-null    object \n",
      " 1   place_with_parent_names  582 non-null    object \n",
      " 2   lat-lon                  582 non-null    object \n",
      " 3   area_m2                  582 non-null    float64\n",
      " 4   price_usd                582 non-null    float64\n",
      " 5   lat                      582 non-null    float64\n",
      " 6   lon                      582 non-null    float64\n",
      " 7   state                    582 non-null    object \n",
      "dtypes: float64(4), object(4)\n",
      "memory usage: 36.5+ KB\n",
      "None\n",
      "  property_type                            place_with_parent_names  \\\n",
      "0     apartment  |México|Distrito Federal|Gustavo A. Madero|Acu...   \n",
      "1         house           |México|Estado de México|Toluca|Metepec|   \n",
      "2         house  |México|Estado de México|Toluca|Toluca de Lerd...   \n",
      "3     apartment  |México|Veracruz de Ignacio de la Llave|Veracruz|   \n",
      "4         house                       |México|Jalisco|Guadalajara|   \n",
      "\n",
      "                  lat-lon  area_m2  price_usd        lat         lon  \\\n",
      "0     19.52589,-99.151703     71.0   48550.59  19.525890  -99.151703   \n",
      "1  19.2640539,-99.5727534    233.0  168636.73  19.264054  -99.572753   \n",
      "2    19.268629,-99.671722    300.0   86932.69  19.268629  -99.671722   \n",
      "3    19.511938,-96.871956     84.0   68508.67  19.511938  -96.871956   \n",
      "4   20.689157,-103.366728    175.0  102763.00  20.689157 -103.366728   \n",
      "\n",
      "                             state  \n",
      "0                 Distrito Federal  \n",
      "1                 Estado de México  \n",
      "2                 Estado de México  \n",
      "3  Veracruz de Ignacio de la Llave  \n",
      "4                          Jalisco  \n"
     ]
    }
   ],
   "source": [
    "df3['state'] = df3['place_with_parent_names'].str.split(\"|\", expand=True)[2]\n",
    "print(df3.info())\n",
    "print(df3.head())"
   ]
  },
  {
   "cell_type": "code",
   "execution_count": 54,
   "id": "951ba02b-cd8c-4ea1-8af3-5ec8a73265b5",
   "metadata": {},
   "outputs": [],
   "source": [
    "df3 = df3.drop(['place_with_parent_names', 'lat-lon'], axis='columns')"
   ]
  },
  {
   "cell_type": "code",
   "execution_count": 55,
   "id": "33a9ad6d-c318-4b14-88cf-878f94ac1715",
   "metadata": {},
   "outputs": [
    {
     "data": {
      "text/html": [
       "<div>\n",
       "<style scoped>\n",
       "    .dataframe tbody tr th:only-of-type {\n",
       "        vertical-align: middle;\n",
       "    }\n",
       "\n",
       "    .dataframe tbody tr th {\n",
       "        vertical-align: top;\n",
       "    }\n",
       "\n",
       "    .dataframe thead th {\n",
       "        text-align: right;\n",
       "    }\n",
       "</style>\n",
       "<table border=\"1\" class=\"dataframe\">\n",
       "  <thead>\n",
       "    <tr style=\"text-align: right;\">\n",
       "      <th></th>\n",
       "      <th>property_type</th>\n",
       "      <th>area_m2</th>\n",
       "      <th>price_usd</th>\n",
       "      <th>lat</th>\n",
       "      <th>lon</th>\n",
       "      <th>state</th>\n",
       "    </tr>\n",
       "  </thead>\n",
       "  <tbody>\n",
       "    <tr>\n",
       "      <th>0</th>\n",
       "      <td>apartment</td>\n",
       "      <td>71.0</td>\n",
       "      <td>48550.59</td>\n",
       "      <td>19.525890</td>\n",
       "      <td>-99.151703</td>\n",
       "      <td>Distrito Federal</td>\n",
       "    </tr>\n",
       "    <tr>\n",
       "      <th>1</th>\n",
       "      <td>house</td>\n",
       "      <td>233.0</td>\n",
       "      <td>168636.73</td>\n",
       "      <td>19.264054</td>\n",
       "      <td>-99.572753</td>\n",
       "      <td>Estado de México</td>\n",
       "    </tr>\n",
       "    <tr>\n",
       "      <th>2</th>\n",
       "      <td>house</td>\n",
       "      <td>300.0</td>\n",
       "      <td>86932.69</td>\n",
       "      <td>19.268629</td>\n",
       "      <td>-99.671722</td>\n",
       "      <td>Estado de México</td>\n",
       "    </tr>\n",
       "    <tr>\n",
       "      <th>3</th>\n",
       "      <td>apartment</td>\n",
       "      <td>84.0</td>\n",
       "      <td>68508.67</td>\n",
       "      <td>19.511938</td>\n",
       "      <td>-96.871956</td>\n",
       "      <td>Veracruz de Ignacio de la Llave</td>\n",
       "    </tr>\n",
       "    <tr>\n",
       "      <th>4</th>\n",
       "      <td>house</td>\n",
       "      <td>175.0</td>\n",
       "      <td>102763.00</td>\n",
       "      <td>20.689157</td>\n",
       "      <td>-103.366728</td>\n",
       "      <td>Jalisco</td>\n",
       "    </tr>\n",
       "  </tbody>\n",
       "</table>\n",
       "</div>"
      ],
      "text/plain": [
       "  property_type  area_m2  price_usd        lat         lon  \\\n",
       "0     apartment     71.0   48550.59  19.525890  -99.151703   \n",
       "1         house    233.0  168636.73  19.264054  -99.572753   \n",
       "2         house    300.0   86932.69  19.268629  -99.671722   \n",
       "3     apartment     84.0   68508.67  19.511938  -96.871956   \n",
       "4         house    175.0  102763.00  20.689157 -103.366728   \n",
       "\n",
       "                             state  \n",
       "0                 Distrito Federal  \n",
       "1                 Estado de México  \n",
       "2                 Estado de México  \n",
       "3  Veracruz de Ignacio de la Llave  \n",
       "4                          Jalisco  "
      ]
     },
     "execution_count": 55,
     "metadata": {},
     "output_type": "execute_result"
    }
   ],
   "source": [
    "df3.head()"
   ]
  },
  {
   "cell_type": "code",
   "execution_count": 56,
   "id": "2fe4a78f-bb33-4ea2-9415-797ef07f5862",
   "metadata": {},
   "outputs": [
    {
     "name": "stdout",
     "output_type": "stream",
     "text": [
      "(582, 6)\n",
      "<class 'pandas.core.frame.DataFrame'>\n",
      "RangeIndex: 582 entries, 0 to 581\n",
      "Data columns (total 6 columns):\n",
      " #   Column         Non-Null Count  Dtype  \n",
      "---  ------         --------------  -----  \n",
      " 0   property_type  582 non-null    object \n",
      " 1   area_m2        582 non-null    float64\n",
      " 2   price_usd      582 non-null    float64\n",
      " 3   lat            582 non-null    float64\n",
      " 4   lon            582 non-null    float64\n",
      " 5   state          582 non-null    object \n",
      "dtypes: float64(4), object(2)\n",
      "memory usage: 27.4+ KB\n",
      "None\n",
      "  property_type  area_m2  price_usd        lat         lon  \\\n",
      "0     apartment     71.0   48550.59  19.525890  -99.151703   \n",
      "1         house    233.0  168636.73  19.264054  -99.572753   \n",
      "2         house    300.0   86932.69  19.268629  -99.671722   \n",
      "3     apartment     84.0   68508.67  19.511938  -96.871956   \n",
      "4         house    175.0  102763.00  20.689157 -103.366728   \n",
      "\n",
      "                             state  \n",
      "0                 Distrito Federal  \n",
      "1                 Estado de México  \n",
      "2                 Estado de México  \n",
      "3  Veracruz de Ignacio de la Llave  \n",
      "4                          Jalisco  \n"
     ]
    }
   ],
   "source": [
    "print(df3.shape)\n",
    "print(df3.info())\n",
    "print(df3.head())"
   ]
  },
  {
   "cell_type": "markdown",
   "id": "b3616fc4-66a0-484b-a844-a666cab5bb7a",
   "metadata": {
    "deletable": false,
    "editable": false
   },
   "source": [
    "## Concatenate DataFrames"
   ]
  },
  {
   "cell_type": "markdown",
   "id": "396a641f-d5f6-41b2-8b53-957068be2d32",
   "metadata": {
    "deletable": false,
    "editable": false
   },
   "source": [
    "Great work! You have three clean DataFrames, and now it's time to combine them into a single DataFrame so that you can conduct your analysis. "
   ]
  },
  {
   "cell_type": "code",
   "execution_count": 57,
   "id": "a349dd5d-01fc-4baa-a572-87394dccbbdd",
   "metadata": {
    "deletable": false,
    "editable": false,
    "init_cell": true
   },
   "outputs": [
    {
     "data": {
      "text/html": [
       "\n",
       "        <iframe\n",
       "            width=\"600\"\n",
       "            height=\"300\"\n",
       "            src=\"https://player.vimeo.com/video/656313395?h=ccadbc2689\"\n",
       "            frameborder=\"0\"\n",
       "            allowfullscreen\n",
       "        ></iframe>\n",
       "        "
      ],
      "text/plain": [
       "<IPython.lib.display.VimeoVideo at 0x7f05730e6250>"
      ]
     },
     "execution_count": 57,
     "metadata": {},
     "output_type": "execute_result"
    }
   ],
   "source": [
    "VimeoVideo(\"656313395\", h=\"ccadbc2689\", width=600)"
   ]
  },
  {
   "cell_type": "markdown",
   "id": "e631437c-20ef-4b44-996f-e9bbc56ea389",
   "metadata": {
    "deletable": false,
    "editable": false
   },
   "source": [
    "**Task 1.2.7:** Use [`pd.concat`](https://pandas.pydata.org/pandas-docs/stable/reference/api/pandas.concat.html) to concatenate `df1`, `df2`, `df3` as new DataFrame named `df`. Your new DataFrame should have 1,736 rows and 6 columns:`\"property_type\"`, `\"state\"`, `\"lat\"`, `\"lon\"`, `\"area_m2\"`, `\"price_usd\"`, and `\"price_per_m2\"`. \n",
    "\n",
    "- [Concatenate two or more DataFrames using pandas.](../%40textbook/03-pandas-getting-started.ipynb#Concatenating-DataFrames)"
   ]
  },
  {
   "cell_type": "code",
   "execution_count": 58,
   "id": "80aa20e1-521a-4eb1-aefe-4aef099f2aad",
   "metadata": {
    "deletable": false
   },
   "outputs": [
    {
     "name": "stdout",
     "output_type": "stream",
     "text": [
      "(1736, 6)\n"
     ]
    },
    {
     "data": {
      "text/html": [
       "<div>\n",
       "<style scoped>\n",
       "    .dataframe tbody tr th:only-of-type {\n",
       "        vertical-align: middle;\n",
       "    }\n",
       "\n",
       "    .dataframe tbody tr th {\n",
       "        vertical-align: top;\n",
       "    }\n",
       "\n",
       "    .dataframe thead th {\n",
       "        text-align: right;\n",
       "    }\n",
       "</style>\n",
       "<table border=\"1\" class=\"dataframe\">\n",
       "  <thead>\n",
       "    <tr style=\"text-align: right;\">\n",
       "      <th></th>\n",
       "      <th>property_type</th>\n",
       "      <th>state</th>\n",
       "      <th>lat</th>\n",
       "      <th>lon</th>\n",
       "      <th>area_m2</th>\n",
       "      <th>price_usd</th>\n",
       "    </tr>\n",
       "  </thead>\n",
       "  <tbody>\n",
       "    <tr>\n",
       "      <th>0</th>\n",
       "      <td>house</td>\n",
       "      <td>Estado de México</td>\n",
       "      <td>19.560181</td>\n",
       "      <td>-99.233528</td>\n",
       "      <td>150.0</td>\n",
       "      <td>67965.56</td>\n",
       "    </tr>\n",
       "    <tr>\n",
       "      <th>1</th>\n",
       "      <td>house</td>\n",
       "      <td>Nuevo León</td>\n",
       "      <td>25.688436</td>\n",
       "      <td>-100.198807</td>\n",
       "      <td>186.0</td>\n",
       "      <td>63223.78</td>\n",
       "    </tr>\n",
       "    <tr>\n",
       "      <th>2</th>\n",
       "      <td>apartment</td>\n",
       "      <td>Guerrero</td>\n",
       "      <td>16.767704</td>\n",
       "      <td>-99.764383</td>\n",
       "      <td>82.0</td>\n",
       "      <td>84298.37</td>\n",
       "    </tr>\n",
       "    <tr>\n",
       "      <th>3</th>\n",
       "      <td>apartment</td>\n",
       "      <td>Guerrero</td>\n",
       "      <td>16.829782</td>\n",
       "      <td>-99.911012</td>\n",
       "      <td>150.0</td>\n",
       "      <td>94308.80</td>\n",
       "    </tr>\n",
       "    <tr>\n",
       "      <th>4</th>\n",
       "      <td>house</td>\n",
       "      <td>Yucatán</td>\n",
       "      <td>21.052583</td>\n",
       "      <td>-89.538639</td>\n",
       "      <td>205.0</td>\n",
       "      <td>105191.37</td>\n",
       "    </tr>\n",
       "  </tbody>\n",
       "</table>\n",
       "</div>"
      ],
      "text/plain": [
       "  property_type             state        lat         lon  area_m2  price_usd\n",
       "0         house  Estado de México  19.560181  -99.233528    150.0   67965.56\n",
       "1         house        Nuevo León  25.688436 -100.198807    186.0   63223.78\n",
       "2     apartment          Guerrero  16.767704  -99.764383     82.0   84298.37\n",
       "3     apartment          Guerrero  16.829782  -99.911012    150.0   94308.80\n",
       "4         house           Yucatán  21.052583  -89.538639    205.0  105191.37"
      ]
     },
     "execution_count": 58,
     "metadata": {},
     "output_type": "execute_result"
    }
   ],
   "source": [
    "df = pd.concat([df1, df2, df3])\n",
    "print(df.shape)\n",
    "df.head()"
   ]
  },
  {
   "cell_type": "code",
   "execution_count": 59,
   "id": "d6339247-030d-4e6c-ab1f-d6c570249624",
   "metadata": {},
   "outputs": [],
   "source": [
    "df['price_per_m2'] = df['price_usd'] / df['area_m2']"
   ]
  },
  {
   "cell_type": "code",
   "execution_count": 60,
   "id": "8541c942-437c-414b-ba67-8192e7a8106c",
   "metadata": {},
   "outputs": [
    {
     "name": "stdout",
     "output_type": "stream",
     "text": [
      "<class 'pandas.core.frame.DataFrame'>\n",
      "Int64Index: 1736 entries, 0 to 581\n",
      "Data columns (total 7 columns):\n",
      " #   Column         Non-Null Count  Dtype  \n",
      "---  ------         --------------  -----  \n",
      " 0   property_type  1736 non-null   object \n",
      " 1   state          1736 non-null   object \n",
      " 2   lat            1736 non-null   float64\n",
      " 3   lon            1736 non-null   float64\n",
      " 4   area_m2        1736 non-null   float64\n",
      " 5   price_usd      1736 non-null   float64\n",
      " 6   price_per_m2   1736 non-null   float64\n",
      "dtypes: float64(5), object(2)\n",
      "memory usage: 108.5+ KB\n",
      "None\n",
      "  property_type             state        lat         lon  area_m2  price_usd  \\\n",
      "0         house  Estado de México  19.560181  -99.233528    150.0   67965.56   \n",
      "1         house        Nuevo León  25.688436 -100.198807    186.0   63223.78   \n",
      "2     apartment          Guerrero  16.767704  -99.764383     82.0   84298.37   \n",
      "3     apartment          Guerrero  16.829782  -99.911012    150.0   94308.80   \n",
      "4         house           Yucatán  21.052583  -89.538639    205.0  105191.37   \n",
      "\n",
      "   price_per_m2  \n",
      "0    453.103733  \n",
      "1    339.912796  \n",
      "2   1028.028902  \n",
      "3    628.725333  \n",
      "4    513.128634  \n"
     ]
    }
   ],
   "source": [
    "print(df.info())\n",
    "print(df.head())"
   ]
  },
  {
   "cell_type": "code",
   "execution_count": 61,
   "id": "dce0014c-faa6-4025-8a92-a55f13540ab7",
   "metadata": {},
   "outputs": [
    {
     "data": {
      "text/plain": [
       "state\n",
       "Oaxaca                              59681.585000\n",
       "Baja California                     63152.431724\n",
       "Colima                              65786.646000\n",
       "Tlaxcala                            72921.818333\n",
       "Zacatecas                           76395.400000\n",
       "Durango                             78034.511429\n",
       "Tabasco                             82763.587000\n",
       "Nayarit                             87378.605556\n",
       "San Luis Potosí                     92435.540364\n",
       "Tamaulipas                          93713.385833\n",
       "Sinaloa                             93922.152308\n",
       "Hidalgo                             94012.326471\n",
       "Veracruz de Ignacio de la Llave     96928.125128\n",
       "Chiapas                            104342.313273\n",
       "Yucatán                            108580.388596\n",
       "Baja California Sur                109069.339333\n",
       "Aguascalientes                     110543.888000\n",
       "Morelos                            112697.295625\n",
       "Sonora                             114547.883333\n",
       "Guerrero                           119854.276122\n",
       "Puebla                             121732.974000\n",
       "Campeche                           121734.633333\n",
       "Estado de México                   122723.490503\n",
       "Jalisco                            123386.472167\n",
       "Chihuahua                          127073.852000\n",
       "Quintana Roo                       128065.416053\n",
       "Distrito Federal                   128347.267426\n",
       "Nuevo León                         129221.985663\n",
       "Guanajuato                         133277.965833\n",
       "Querétaro                          133955.913281\n",
       "Name: price_usd, dtype: float64"
      ]
     },
     "execution_count": 61,
     "metadata": {},
     "output_type": "execute_result"
    }
   ],
   "source": [
    "mean_price_by_state = df.groupby('state')['price_usd'].mean().sort_values()\n",
    "mean_price_by_state"
   ]
  },
  {
   "cell_type": "markdown",
   "id": "7458a11b-7bfa-4165-8956-d24d744723d6",
   "metadata": {
    "deletable": false,
    "editable": false
   },
   "source": [
    "## Save `df`"
   ]
  },
  {
   "cell_type": "markdown",
   "id": "3a42f68a-9754-43bb-8458-a91a6917ecc7",
   "metadata": {
    "deletable": false,
    "editable": false
   },
   "source": [
    "The data is clean and in a single DataFrame, and now you need to save it as a CSV file so that you can examine it in your exploratory data analysis. "
   ]
  },
  {
   "cell_type": "code",
   "execution_count": 62,
   "id": "fc1a359c-b1ec-4ff3-8d42-2c9cdf0476cb",
   "metadata": {
    "deletable": false,
    "editable": false,
    "init_cell": true
   },
   "outputs": [
    {
     "data": {
      "text/html": [
       "\n",
       "        <iframe\n",
       "            width=\"600\"\n",
       "            height=\"300\"\n",
       "            src=\"https://player.vimeo.com/video/656312464?h=81ee04de15\"\n",
       "            frameborder=\"0\"\n",
       "            allowfullscreen\n",
       "        ></iframe>\n",
       "        "
      ],
      "text/plain": [
       "<IPython.lib.display.VimeoVideo at 0x7f0573128100>"
      ]
     },
     "execution_count": 62,
     "metadata": {},
     "output_type": "execute_result"
    }
   ],
   "source": [
    "VimeoVideo(\"656312464\", h=\"81ee04de15\", width=600)"
   ]
  },
  {
   "cell_type": "markdown",
   "id": "a79a7abb-f8cc-4f68-8ba3-1da69e7a2c74",
   "metadata": {
    "deletable": false,
    "editable": false
   },
   "source": [
    "**Task 1.2.8:** Save `df` as a CSV file using the [`to_csv`](https://pandas.pydata.org/docs/reference/api/pandas.DataFrame.to_csv.html) method. The file path should be `\"./data/mexico-real-estate-clean.csv\"`. Be sure to set the `index` argument to `False`.\n",
    "\n",
    "- [What's a CSV file?](../%40textbook/03-pandas-getting-started.ipynb#CSV-Files)\n",
    "- [Save a DataFrame as a CSV file using pandas.](../%40textbook/03-pandas-getting-started.ipynb#Saving-a-DataFrame-as-a-CSV)"
   ]
  },
  {
   "cell_type": "code",
   "execution_count": 63,
   "id": "940b407f-7b32-4312-9933-6127635ce168",
   "metadata": {
    "deletable": false
   },
   "outputs": [],
   "source": [
    "df.to_csv(\"./data/mexico-real-estate-clean.csv\", index=False)"
   ]
  },
  {
   "cell_type": "markdown",
   "id": "65c46383",
   "metadata": {
    "deletable": false,
    "editable": false
   },
   "source": [
    "---\n",
    "Copyright © 2022 WorldQuant University. This\n",
    "content is licensed solely for personal use. Redistribution or\n",
    "publication of this material is strictly prohibited.\n"
   ]
  }
 ],
 "metadata": {
  "kernelspec": {
   "display_name": "Python 3 (ipykernel)",
   "language": "python",
   "name": "python3"
  },
  "language_info": {
   "codemirror_mode": {
    "name": "ipython",
    "version": 3
   },
   "file_extension": ".py",
   "mimetype": "text/x-python",
   "name": "python",
   "nbconvert_exporter": "python",
   "pygments_lexer": "ipython3",
   "version": "3.9.6"
  }
 },
 "nbformat": 4,
 "nbformat_minor": 5
}
