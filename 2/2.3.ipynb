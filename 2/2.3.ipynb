{
 "cells": [
  {
   "cell_type": "markdown",
   "metadata": {
    "deletable": false,
    "editable": false
   },
   "source": [
    "<font size=\"+3\"><strong>Predicting Price with Neighborhood</strong></font>"
   ]
  },
  {
   "cell_type": "code",
   "execution_count": 2,
   "metadata": {
    "deletable": false,
    "editable": false,
    "init_cell": true
   },
   "outputs": [
    {
     "data": {
      "text/html": [
       "\n",
       "<style>\n",
       "  \n",
       "  .checkmark {\n",
       "    width: 56px;\n",
       "    height: 56px;\n",
       "    border-radius: 50%;\n",
       "    display: block;\n",
       "    stroke-width: 2;\n",
       "    stroke: #fff;\n",
       "    stroke-miterlimit: 10;\n",
       "    box-shadow: inset 0px 0px 0px #7ac142;\n",
       "    animation: fill .4s ease-in-out .4s forwards, scale .3s ease-in-out .9s both;\n",
       "  }\n",
       "  \n",
       "  .checkmark__circle {\n",
       "    stroke-dasharray: 166;\n",
       "    stroke-dashoffset: 166;\n",
       "    stroke-width: 2;\n",
       "    stroke-miterlimit: 10;\n",
       "    stroke: #7ac142;\n",
       "    fill: none;\n",
       "    animation: stroke .6s cubic-bezier(0.650, 0.000, 0.450, 1.000) forwards;\n",
       "  }\n",
       "  \n",
       "  .checkmark__check {\n",
       "    transform-origin: 50% 50%;\n",
       "    stroke-dasharray: 48;\n",
       "    stroke-dashoffset: 48;\n",
       "    animation: stroke .3s cubic-bezier(0.650, 0.000, 0.450, 1.000) .8s forwards;\n",
       "  }\n",
       "  \n",
       "  .failmark {\n",
       "    width: 56px;\n",
       "    height: 56px;\n",
       "    border-radius: 50%;\n",
       "    display: block;\n",
       "    stroke-width: 2;\n",
       "    stroke: #fff;\n",
       "    stroke-miterlimit: 10;\n",
       "    box-shadow: inset 0px 0px 0px #F34811;\n",
       "    animation: failfill .4s ease-in-out .4s forwards, scale .3s ease-in-out .9s both;\n",
       "  }\n",
       "  \n",
       "  .failmark__circle {\n",
       "    stroke-dasharray: 166;\n",
       "    stroke-dashoffset: 166;\n",
       "    stroke-width: 2;\n",
       "    stroke-miterlimit: 10;\n",
       "    stroke: #F34811;\n",
       "    fill: none;\n",
       "    animation: stroke .6s cubic-bezier(0.650, 0.000, 0.450, 1.000) forwards;\n",
       "  }\n",
       "  \n",
       "  @keyframes stroke {\n",
       "    100% {\n",
       "      stroke-dashoffset: 0;\n",
       "    }\n",
       "  }\n",
       "  \n",
       "  @keyframes scale {\n",
       "    0%, 100% {\n",
       "      transform: none;\n",
       "    }\n",
       "    50% {\n",
       "      transform: scale3d(1.1, 1.1, 1);\n",
       "    }\n",
       "  }\n",
       "  \n",
       "  @keyframes fill {\n",
       "    100% {\n",
       "      box-shadow: inset 0px 0px 0px 30px #7ac142;\n",
       "    }\n",
       "  }\n",
       "  \n",
       "  @keyframes failfill {\n",
       "    100% {\n",
       "      box-shadow: inset 0px 0px 0px 30px #F34811;\n",
       "    }\n",
       "  }\n",
       "  \n",
       "  \n",
       "  .wqet-result {\n",
       "    width: 450px;\n",
       "    clear: both;\n",
       "  }\n",
       "  \n",
       "  .wqet-result .animation {\n",
       "    float: left;\n",
       "    width: 100px;\n",
       "  }\n",
       "  \n",
       "  .wqet-result .animation .checkmark,\n",
       "  .wqet-result .animation .failmark {\n",
       "    margin: 20px auto 20px auto;\n",
       "  }\n",
       "  \n",
       "  .wqet-result .details {\n",
       "    float: right;\n",
       "    width: 349px;\n",
       "    padding: 28px 0;\n",
       "  }\n",
       "  \n",
       "  .wqet-result .details .title {\n",
       "    font-weight: bold;\n",
       "    font-size: 110%;\n",
       "  }\n",
       "  .wqet-result .details p {\n",
       "    margin: 0;\n",
       "  }\n",
       "</style>\n"
      ],
      "text/plain": [
       "<IPython.core.display.HTML object>"
      ]
     },
     "metadata": {},
     "output_type": "display_data"
    }
   ],
   "source": [
    "import warnings\n",
    "from glob import glob\n",
    "\n",
    "import matplotlib.pyplot as plt\n",
    "import numpy as np\n",
    "import pandas as pd\n",
    "import wqet_grader\n",
    "from category_encoders import OneHotEncoder\n",
    "from IPython.display import VimeoVideo\n",
    "from sklearn.linear_model import LinearRegression, Ridge  # noqa F401\n",
    "from sklearn.metrics import mean_absolute_error\n",
    "from sklearn.pipeline import make_pipeline\n",
    "from sklearn.utils.validation import check_is_fitted\n",
    "\n",
    "warnings.simplefilter(action=\"ignore\", category=FutureWarning)\n",
    "wqet_grader.init(\"Project 2 Assessment\")"
   ]
  },
  {
   "cell_type": "markdown",
   "metadata": {
    "deletable": false,
    "editable": false
   },
   "source": [
    "In the last lesson, we created a model that used location — represented by latitude and longitude — to predict price. In this lesson, we're going to use a different representation for location: neighborhood. "
   ]
  },
  {
   "cell_type": "code",
   "execution_count": 2,
   "metadata": {
    "deletable": false,
    "editable": false,
    "init_cell": true
   },
   "outputs": [
    {
     "data": {
      "text/html": [
       "\n",
       "        <iframe\n",
       "            width=\"600\"\n",
       "            height=\"300\"\n",
       "            src=\"https://player.vimeo.com/video/656790491?h=6325554e55\"\n",
       "            frameborder=\"0\"\n",
       "            allowfullscreen\n",
       "        ></iframe>\n",
       "        "
      ],
      "text/plain": [
       "<IPython.lib.display.VimeoVideo at 0x7f14bc2045e0>"
      ]
     },
     "execution_count": 2,
     "metadata": {},
     "output_type": "execute_result"
    }
   ],
   "source": [
    "VimeoVideo(\"656790491\", h=\"6325554e55\", width=600)"
   ]
  },
  {
   "cell_type": "markdown",
   "metadata": {
    "deletable": false,
    "editable": false
   },
   "source": [
    "# Prepare Data"
   ]
  },
  {
   "cell_type": "markdown",
   "metadata": {
    "deletable": false,
    "editable": false
   },
   "source": [
    "## Import"
   ]
  },
  {
   "cell_type": "code",
   "execution_count": 3,
   "metadata": {
    "deletable": false
   },
   "outputs": [],
   "source": [
    "def wrangle(filepath):\n",
    "    # Read CSV file\n",
    "    df = pd.read_csv(filepath)\n",
    "\n",
    "    # Subset data: Apartments in \"Capital Federal\", less than 400,000\n",
    "    mask_ba = df[\"place_with_parent_names\"].str.contains(\"Capital Federal\")\n",
    "    mask_apt = df[\"property_type\"] == \"apartment\"\n",
    "    mask_price = df[\"price_aprox_usd\"] < 400_000\n",
    "    df = df[mask_ba & mask_apt & mask_price]\n",
    "\n",
    "    # Subset data: Remove outliers for \"surface_covered_in_m2\"\n",
    "    low, high = df[\"surface_covered_in_m2\"].quantile([0.1, 0.9])\n",
    "    mask_area = df[\"surface_covered_in_m2\"].between(low, high)\n",
    "    df = df[mask_area]\n",
    "\n",
    "    # Split \"lat-lon\" column\n",
    "    df[[\"lat\", \"lon\"]] = df[\"lat-lon\"].str.split(\",\", expand=True).astype(float)\n",
    "    df.drop(columns=\"lat-lon\", inplace=True)\n",
    "\n",
    "    \n",
    "\n",
    "    return df"
   ]
  },
  {
   "cell_type": "markdown",
   "metadata": {
    "deletable": false,
    "editable": false
   },
   "source": [
    "In the last lesson, we used our `wrangle` function to import two CSV files as DataFrames. But what if we had hundreds of CSV files to import? Wrangling them one-by-one wouldn't be an option. So let's start with a technique for reading several CSV files into a single DataFrame. \n",
    "\n",
    "The first step is to gather the names of all the files we want to import. We can do this using pattern matching. "
   ]
  },
  {
   "cell_type": "code",
   "execution_count": 4,
   "metadata": {
    "deletable": false,
    "editable": false,
    "init_cell": true
   },
   "outputs": [
    {
     "data": {
      "text/html": [
       "\n",
       "        <iframe\n",
       "            width=\"600\"\n",
       "            height=\"300\"\n",
       "            src=\"https://player.vimeo.com/video/656790237?h=1502e3765a\"\n",
       "            frameborder=\"0\"\n",
       "            allowfullscreen\n",
       "        ></iframe>\n",
       "        "
      ],
      "text/plain": [
       "<IPython.lib.display.VimeoVideo at 0x7f14091a5a90>"
      ]
     },
     "execution_count": 4,
     "metadata": {},
     "output_type": "execute_result"
    }
   ],
   "source": [
    "VimeoVideo(\"656790237\", h=\"1502e3765a\", width=600)"
   ]
  },
  {
   "cell_type": "markdown",
   "metadata": {
    "deletable": false,
    "editable": false
   },
   "source": [
    "**Task 2.3.1:** Use [`glob`](https://docs.python.org/3/library/glob.html#glob.glob) to create a list that contains the filenames for all the Buenos Aires real estate CSV files in the `data` directory. Assign this list to the variable name `files`.\n",
    "\n",
    "- [<span id='technique'>Assemble a list of path names that match a pattern in <span id='tool'>glob.](../%40textbook/02-python-advanced.ipynb#Working-with-strings-)"
   ]
  },
  {
   "cell_type": "code",
   "execution_count": 5,
   "metadata": {
    "deletable": false
   },
   "outputs": [
    {
     "data": {
      "text/plain": [
       "['./data/buenos-aires-real-estate-2.csv',\n",
       " './data/buenos-aires-real-estate-5.csv',\n",
       " './data/buenos-aires-real-estate-4.csv',\n",
       " './data/buenos-aires-real-estate-3.csv',\n",
       " './data/buenos-aires-real-estate-1.csv']"
      ]
     },
     "execution_count": 5,
     "metadata": {},
     "output_type": "execute_result"
    }
   ],
   "source": [
    "files = glob(\"./data/buenos-aires-real-estate-[0-5].csv\")\n",
    "files"
   ]
  },
  {
   "cell_type": "code",
   "execution_count": 6,
   "metadata": {
    "deletable": false
   },
   "outputs": [],
   "source": [
    "# Check your work\n",
    "assert len(files) == 5, f\"`files` should contain 5 items, not {len(files)}\""
   ]
  },
  {
   "cell_type": "markdown",
   "metadata": {
    "deletable": false,
    "editable": false
   },
   "source": [
    "The next step is to read each of the CSVs in `files` into a DataFrame, and put all of those DataFrames into a list. What's a good way to iterate through `files` so we can do this? A `for` loop!"
   ]
  },
  {
   "cell_type": "code",
   "execution_count": 7,
   "metadata": {
    "deletable": false,
    "editable": false,
    "init_cell": true
   },
   "outputs": [
    {
     "data": {
      "text/html": [
       "\n",
       "        <iframe\n",
       "            width=\"600\"\n",
       "            height=\"300\"\n",
       "            src=\"https://player.vimeo.com/video/656789768?h=3b8f3bca0b\"\n",
       "            frameborder=\"0\"\n",
       "            allowfullscreen\n",
       "        ></iframe>\n",
       "        "
      ],
      "text/plain": [
       "<IPython.lib.display.VimeoVideo at 0x7f14091b5b80>"
      ]
     },
     "execution_count": 7,
     "metadata": {},
     "output_type": "execute_result"
    }
   ],
   "source": [
    "VimeoVideo(\"656789768\", h=\"3b8f3bca0b\", width=600)"
   ]
  },
  {
   "cell_type": "markdown",
   "metadata": {
    "deletable": false,
    "editable": false
   },
   "source": [
    "**Task 2.3.2:** Use your `wrangle` function in a `for` loop to create a list named `frames`. The list should the cleaned DataFrames created from the CSV filenames your collected in `files`.\n",
    "\n",
    "- [What's a <span id='term'>for loop</span>?](../%40textbook/01-python-getting-started.ipynb#Python-for-Loops)\n",
    "- [<span id='technique'>Write a for loop in <span id='tool'>Python.](../%40textbook/01-python-getting-started.ipynb#Working-with-for-Loops)"
   ]
  },
  {
   "cell_type": "code",
   "execution_count": 8,
   "metadata": {
    "deletable": false
   },
   "outputs": [
    {
     "data": {
      "text/html": [
       "<div>\n",
       "<style scoped>\n",
       "    .dataframe tbody tr th:only-of-type {\n",
       "        vertical-align: middle;\n",
       "    }\n",
       "\n",
       "    .dataframe tbody tr th {\n",
       "        vertical-align: top;\n",
       "    }\n",
       "\n",
       "    .dataframe thead th {\n",
       "        text-align: right;\n",
       "    }\n",
       "</style>\n",
       "<table border=\"1\" class=\"dataframe\">\n",
       "  <thead>\n",
       "    <tr style=\"text-align: right;\">\n",
       "      <th></th>\n",
       "      <th>operation</th>\n",
       "      <th>property_type</th>\n",
       "      <th>place_with_parent_names</th>\n",
       "      <th>price</th>\n",
       "      <th>currency</th>\n",
       "      <th>price_aprox_local_currency</th>\n",
       "      <th>price_aprox_usd</th>\n",
       "      <th>surface_total_in_m2</th>\n",
       "      <th>surface_covered_in_m2</th>\n",
       "      <th>price_usd_per_m2</th>\n",
       "      <th>price_per_m2</th>\n",
       "      <th>floor</th>\n",
       "      <th>rooms</th>\n",
       "      <th>expenses</th>\n",
       "      <th>properati_url</th>\n",
       "      <th>lat</th>\n",
       "      <th>lon</th>\n",
       "    </tr>\n",
       "  </thead>\n",
       "  <tbody>\n",
       "    <tr>\n",
       "      <th>2</th>\n",
       "      <td>sell</td>\n",
       "      <td>apartment</td>\n",
       "      <td>|Argentina|Capital Federal|Recoleta|</td>\n",
       "      <td>215000.0</td>\n",
       "      <td>USD</td>\n",
       "      <td>3259916.00</td>\n",
       "      <td>215000.00</td>\n",
       "      <td>40.0</td>\n",
       "      <td>35.0</td>\n",
       "      <td>5375.000000</td>\n",
       "      <td>6142.857143</td>\n",
       "      <td>NaN</td>\n",
       "      <td>1.0</td>\n",
       "      <td>3500.0</td>\n",
       "      <td>http://recoleta.properati.com.ar/12j4v_venta_d...</td>\n",
       "      <td>-34.588993</td>\n",
       "      <td>-58.400133</td>\n",
       "    </tr>\n",
       "    <tr>\n",
       "      <th>9</th>\n",
       "      <td>sell</td>\n",
       "      <td>apartment</td>\n",
       "      <td>|Argentina|Capital Federal|Recoleta|</td>\n",
       "      <td>341550.0</td>\n",
       "      <td>USD</td>\n",
       "      <td>5178717.72</td>\n",
       "      <td>341550.00</td>\n",
       "      <td>NaN</td>\n",
       "      <td>90.0</td>\n",
       "      <td>NaN</td>\n",
       "      <td>3795.000000</td>\n",
       "      <td>8.0</td>\n",
       "      <td>2.0</td>\n",
       "      <td>NaN</td>\n",
       "      <td>http://recoleta.properati.com.ar/100t0_venta_d...</td>\n",
       "      <td>-34.588044</td>\n",
       "      <td>-58.398066</td>\n",
       "    </tr>\n",
       "    <tr>\n",
       "      <th>12</th>\n",
       "      <td>sell</td>\n",
       "      <td>apartment</td>\n",
       "      <td>|Argentina|Capital Federal|Monserrat|</td>\n",
       "      <td>1386000.0</td>\n",
       "      <td>ARS</td>\n",
       "      <td>1382153.13</td>\n",
       "      <td>91156.62</td>\n",
       "      <td>39.0</td>\n",
       "      <td>33.0</td>\n",
       "      <td>2337.349231</td>\n",
       "      <td>42000.000000</td>\n",
       "      <td>NaN</td>\n",
       "      <td>NaN</td>\n",
       "      <td>NaN</td>\n",
       "      <td>http://monserrat.properati.com.ar/t05l_venta_d...</td>\n",
       "      <td>-34.623320</td>\n",
       "      <td>-58.397461</td>\n",
       "    </tr>\n",
       "    <tr>\n",
       "      <th>13</th>\n",
       "      <td>sell</td>\n",
       "      <td>apartment</td>\n",
       "      <td>|Argentina|Capital Federal|Belgrano|</td>\n",
       "      <td>105000.0</td>\n",
       "      <td>USD</td>\n",
       "      <td>1592052.00</td>\n",
       "      <td>105000.00</td>\n",
       "      <td>NaN</td>\n",
       "      <td>33.0</td>\n",
       "      <td>NaN</td>\n",
       "      <td>3181.818182</td>\n",
       "      <td>1.0</td>\n",
       "      <td>1.0</td>\n",
       "      <td>NaN</td>\n",
       "      <td>http://belgrano.properati.com.ar/zsd5_venta_de...</td>\n",
       "      <td>-34.553897</td>\n",
       "      <td>-58.451939</td>\n",
       "    </tr>\n",
       "    <tr>\n",
       "      <th>17</th>\n",
       "      <td>sell</td>\n",
       "      <td>apartment</td>\n",
       "      <td>|Argentina|Capital Federal|Villa del Parque|</td>\n",
       "      <td>89681.0</td>\n",
       "      <td>USD</td>\n",
       "      <td>1359779.19</td>\n",
       "      <td>89681.00</td>\n",
       "      <td>46.0</td>\n",
       "      <td>39.0</td>\n",
       "      <td>1949.586957</td>\n",
       "      <td>2299.512821</td>\n",
       "      <td>NaN</td>\n",
       "      <td>1.0</td>\n",
       "      <td>1500.0</td>\n",
       "      <td>http://villa-del-parque.properati.com.ar/12q2f...</td>\n",
       "      <td>-34.628813</td>\n",
       "      <td>-58.472230</td>\n",
       "    </tr>\n",
       "  </tbody>\n",
       "</table>\n",
       "</div>"
      ],
      "text/plain": [
       "   operation property_type                       place_with_parent_names  \\\n",
       "2       sell     apartment          |Argentina|Capital Federal|Recoleta|   \n",
       "9       sell     apartment          |Argentina|Capital Federal|Recoleta|   \n",
       "12      sell     apartment         |Argentina|Capital Federal|Monserrat|   \n",
       "13      sell     apartment          |Argentina|Capital Federal|Belgrano|   \n",
       "17      sell     apartment  |Argentina|Capital Federal|Villa del Parque|   \n",
       "\n",
       "        price currency  price_aprox_local_currency  price_aprox_usd  \\\n",
       "2    215000.0      USD                  3259916.00        215000.00   \n",
       "9    341550.0      USD                  5178717.72        341550.00   \n",
       "12  1386000.0      ARS                  1382153.13         91156.62   \n",
       "13   105000.0      USD                  1592052.00        105000.00   \n",
       "17    89681.0      USD                  1359779.19         89681.00   \n",
       "\n",
       "    surface_total_in_m2  surface_covered_in_m2  price_usd_per_m2  \\\n",
       "2                  40.0                   35.0       5375.000000   \n",
       "9                   NaN                   90.0               NaN   \n",
       "12                 39.0                   33.0       2337.349231   \n",
       "13                  NaN                   33.0               NaN   \n",
       "17                 46.0                   39.0       1949.586957   \n",
       "\n",
       "    price_per_m2  floor  rooms  expenses  \\\n",
       "2    6142.857143    NaN    1.0    3500.0   \n",
       "9    3795.000000    8.0    2.0       NaN   \n",
       "12  42000.000000    NaN    NaN       NaN   \n",
       "13   3181.818182    1.0    1.0       NaN   \n",
       "17   2299.512821    NaN    1.0    1500.0   \n",
       "\n",
       "                                        properati_url        lat        lon  \n",
       "2   http://recoleta.properati.com.ar/12j4v_venta_d... -34.588993 -58.400133  \n",
       "9   http://recoleta.properati.com.ar/100t0_venta_d... -34.588044 -58.398066  \n",
       "12  http://monserrat.properati.com.ar/t05l_venta_d... -34.623320 -58.397461  \n",
       "13  http://belgrano.properati.com.ar/zsd5_venta_de... -34.553897 -58.451939  \n",
       "17  http://villa-del-parque.properati.com.ar/12q2f... -34.628813 -58.472230  "
      ]
     },
     "execution_count": 8,
     "metadata": {},
     "output_type": "execute_result"
    }
   ],
   "source": [
    "frames = []\n",
    "for item in files:\n",
    "    df = wrangle(item)\n",
    "    frames.append(df)\n",
    "frames[0].head()"
   ]
  },
  {
   "cell_type": "code",
   "execution_count": 9,
   "metadata": {
    "deletable": false
   },
   "outputs": [],
   "source": [
    "# Check your work\n",
    "assert len(frames) == 5, f\"`frames` should contain 5 items, not {len(frames)}\"\n",
    "assert all(\n",
    "    [isinstance(frame, pd.DataFrame) for frame in frames]\n",
    "), \"The items in `frames` should all be DataFrames.\""
   ]
  },
  {
   "cell_type": "markdown",
   "metadata": {
    "deletable": false,
    "editable": false
   },
   "source": [
    "The final step is to use pandas to combine all the DataFrames in `frames`. "
   ]
  },
  {
   "cell_type": "code",
   "execution_count": 10,
   "metadata": {
    "deletable": false,
    "editable": false,
    "init_cell": true
   },
   "outputs": [
    {
     "data": {
      "text/html": [
       "\n",
       "        <iframe\n",
       "            width=\"600\"\n",
       "            height=\"300\"\n",
       "            src=\"https://player.vimeo.com/video/656789700?h=57adef4afe\"\n",
       "            frameborder=\"0\"\n",
       "            allowfullscreen\n",
       "        ></iframe>\n",
       "        "
      ],
      "text/plain": [
       "<IPython.lib.display.VimeoVideo at 0x7f14bc24cf10>"
      ]
     },
     "execution_count": 10,
     "metadata": {},
     "output_type": "execute_result"
    }
   ],
   "source": [
    "VimeoVideo(\"656789700\", h=\"57adef4afe\", width=600)"
   ]
  },
  {
   "cell_type": "markdown",
   "metadata": {
    "deletable": false,
    "editable": false
   },
   "source": [
    "**Task 2.3.3:** Use [`pd.concat`](https://pandas.pydata.org/docs/reference/api/pandas.concat.html) to concatenate the items in `frames` into a single DataFrame `df`. Make sure you set the `ignore_index` argument to `True`.\n",
    "\n",
    "- [<span id='technique'>Concatenate two or more DataFrames using <span id='tool'>pandas.](../%40textbook/03-pandas-getting-started.ipynb#Concatenating-DataFrames)"
   ]
  },
  {
   "cell_type": "code",
   "execution_count": 11,
   "metadata": {
    "deletable": false
   },
   "outputs": [
    {
     "data": {
      "text/html": [
       "<div>\n",
       "<style scoped>\n",
       "    .dataframe tbody tr th:only-of-type {\n",
       "        vertical-align: middle;\n",
       "    }\n",
       "\n",
       "    .dataframe tbody tr th {\n",
       "        vertical-align: top;\n",
       "    }\n",
       "\n",
       "    .dataframe thead th {\n",
       "        text-align: right;\n",
       "    }\n",
       "</style>\n",
       "<table border=\"1\" class=\"dataframe\">\n",
       "  <thead>\n",
       "    <tr style=\"text-align: right;\">\n",
       "      <th></th>\n",
       "      <th>operation</th>\n",
       "      <th>property_type</th>\n",
       "      <th>place_with_parent_names</th>\n",
       "      <th>price</th>\n",
       "      <th>currency</th>\n",
       "      <th>price_aprox_local_currency</th>\n",
       "      <th>price_aprox_usd</th>\n",
       "      <th>surface_total_in_m2</th>\n",
       "      <th>surface_covered_in_m2</th>\n",
       "      <th>price_usd_per_m2</th>\n",
       "      <th>price_per_m2</th>\n",
       "      <th>floor</th>\n",
       "      <th>rooms</th>\n",
       "      <th>expenses</th>\n",
       "      <th>properati_url</th>\n",
       "      <th>lat</th>\n",
       "      <th>lon</th>\n",
       "    </tr>\n",
       "  </thead>\n",
       "  <tbody>\n",
       "    <tr>\n",
       "      <th>0</th>\n",
       "      <td>sell</td>\n",
       "      <td>apartment</td>\n",
       "      <td>|Argentina|Capital Federal|Recoleta|</td>\n",
       "      <td>215000.0</td>\n",
       "      <td>USD</td>\n",
       "      <td>3259916.00</td>\n",
       "      <td>215000.00</td>\n",
       "      <td>40.0</td>\n",
       "      <td>35.0</td>\n",
       "      <td>5375.000000</td>\n",
       "      <td>6142.857143</td>\n",
       "      <td>NaN</td>\n",
       "      <td>1.0</td>\n",
       "      <td>3500.0</td>\n",
       "      <td>http://recoleta.properati.com.ar/12j4v_venta_d...</td>\n",
       "      <td>-34.588993</td>\n",
       "      <td>-58.400133</td>\n",
       "    </tr>\n",
       "    <tr>\n",
       "      <th>1</th>\n",
       "      <td>sell</td>\n",
       "      <td>apartment</td>\n",
       "      <td>|Argentina|Capital Federal|Recoleta|</td>\n",
       "      <td>341550.0</td>\n",
       "      <td>USD</td>\n",
       "      <td>5178717.72</td>\n",
       "      <td>341550.00</td>\n",
       "      <td>NaN</td>\n",
       "      <td>90.0</td>\n",
       "      <td>NaN</td>\n",
       "      <td>3795.000000</td>\n",
       "      <td>8.0</td>\n",
       "      <td>2.0</td>\n",
       "      <td>NaN</td>\n",
       "      <td>http://recoleta.properati.com.ar/100t0_venta_d...</td>\n",
       "      <td>-34.588044</td>\n",
       "      <td>-58.398066</td>\n",
       "    </tr>\n",
       "    <tr>\n",
       "      <th>2</th>\n",
       "      <td>sell</td>\n",
       "      <td>apartment</td>\n",
       "      <td>|Argentina|Capital Federal|Monserrat|</td>\n",
       "      <td>1386000.0</td>\n",
       "      <td>ARS</td>\n",
       "      <td>1382153.13</td>\n",
       "      <td>91156.62</td>\n",
       "      <td>39.0</td>\n",
       "      <td>33.0</td>\n",
       "      <td>2337.349231</td>\n",
       "      <td>42000.000000</td>\n",
       "      <td>NaN</td>\n",
       "      <td>NaN</td>\n",
       "      <td>NaN</td>\n",
       "      <td>http://monserrat.properati.com.ar/t05l_venta_d...</td>\n",
       "      <td>-34.623320</td>\n",
       "      <td>-58.397461</td>\n",
       "    </tr>\n",
       "    <tr>\n",
       "      <th>3</th>\n",
       "      <td>sell</td>\n",
       "      <td>apartment</td>\n",
       "      <td>|Argentina|Capital Federal|Belgrano|</td>\n",
       "      <td>105000.0</td>\n",
       "      <td>USD</td>\n",
       "      <td>1592052.00</td>\n",
       "      <td>105000.00</td>\n",
       "      <td>NaN</td>\n",
       "      <td>33.0</td>\n",
       "      <td>NaN</td>\n",
       "      <td>3181.818182</td>\n",
       "      <td>1.0</td>\n",
       "      <td>1.0</td>\n",
       "      <td>NaN</td>\n",
       "      <td>http://belgrano.properati.com.ar/zsd5_venta_de...</td>\n",
       "      <td>-34.553897</td>\n",
       "      <td>-58.451939</td>\n",
       "    </tr>\n",
       "    <tr>\n",
       "      <th>4</th>\n",
       "      <td>sell</td>\n",
       "      <td>apartment</td>\n",
       "      <td>|Argentina|Capital Federal|Villa del Parque|</td>\n",
       "      <td>89681.0</td>\n",
       "      <td>USD</td>\n",
       "      <td>1359779.19</td>\n",
       "      <td>89681.00</td>\n",
       "      <td>46.0</td>\n",
       "      <td>39.0</td>\n",
       "      <td>1949.586957</td>\n",
       "      <td>2299.512821</td>\n",
       "      <td>NaN</td>\n",
       "      <td>1.0</td>\n",
       "      <td>1500.0</td>\n",
       "      <td>http://villa-del-parque.properati.com.ar/12q2f...</td>\n",
       "      <td>-34.628813</td>\n",
       "      <td>-58.472230</td>\n",
       "    </tr>\n",
       "  </tbody>\n",
       "</table>\n",
       "</div>"
      ],
      "text/plain": [
       "  operation property_type                       place_with_parent_names  \\\n",
       "0      sell     apartment          |Argentina|Capital Federal|Recoleta|   \n",
       "1      sell     apartment          |Argentina|Capital Federal|Recoleta|   \n",
       "2      sell     apartment         |Argentina|Capital Federal|Monserrat|   \n",
       "3      sell     apartment          |Argentina|Capital Federal|Belgrano|   \n",
       "4      sell     apartment  |Argentina|Capital Federal|Villa del Parque|   \n",
       "\n",
       "       price currency  price_aprox_local_currency  price_aprox_usd  \\\n",
       "0   215000.0      USD                  3259916.00        215000.00   \n",
       "1   341550.0      USD                  5178717.72        341550.00   \n",
       "2  1386000.0      ARS                  1382153.13         91156.62   \n",
       "3   105000.0      USD                  1592052.00        105000.00   \n",
       "4    89681.0      USD                  1359779.19         89681.00   \n",
       "\n",
       "   surface_total_in_m2  surface_covered_in_m2  price_usd_per_m2  price_per_m2  \\\n",
       "0                 40.0                   35.0       5375.000000   6142.857143   \n",
       "1                  NaN                   90.0               NaN   3795.000000   \n",
       "2                 39.0                   33.0       2337.349231  42000.000000   \n",
       "3                  NaN                   33.0               NaN   3181.818182   \n",
       "4                 46.0                   39.0       1949.586957   2299.512821   \n",
       "\n",
       "   floor  rooms expenses                                      properati_url  \\\n",
       "0    NaN    1.0   3500.0  http://recoleta.properati.com.ar/12j4v_venta_d...   \n",
       "1    8.0    2.0      NaN  http://recoleta.properati.com.ar/100t0_venta_d...   \n",
       "2    NaN    NaN      NaN  http://monserrat.properati.com.ar/t05l_venta_d...   \n",
       "3    1.0    1.0      NaN  http://belgrano.properati.com.ar/zsd5_venta_de...   \n",
       "4    NaN    1.0   1500.0  http://villa-del-parque.properati.com.ar/12q2f...   \n",
       "\n",
       "         lat        lon  \n",
       "0 -34.588993 -58.400133  \n",
       "1 -34.588044 -58.398066  \n",
       "2 -34.623320 -58.397461  \n",
       "3 -34.553897 -58.451939  \n",
       "4 -34.628813 -58.472230  "
      ]
     },
     "execution_count": 11,
     "metadata": {},
     "output_type": "execute_result"
    }
   ],
   "source": [
    "df = pd.concat(frames, ignore_index=True)\n",
    "df.head()"
   ]
  },
  {
   "cell_type": "code",
   "execution_count": 12,
   "metadata": {
    "deletable": false
   },
   "outputs": [],
   "source": [
    "# Check your work\n",
    "assert len(df) == 6582, f\"`df` is the wrong size: {len(df)}.\""
   ]
  },
  {
   "cell_type": "markdown",
   "metadata": {
    "deletable": false,
    "editable": false
   },
   "source": [
    "Excellent work! You can now clean and combine as many CSV files as your computer can handle. You're well on your way to working with big data. 📈"
   ]
  },
  {
   "cell_type": "markdown",
   "metadata": {
    "deletable": false,
    "editable": false
   },
   "source": [
    "## Explore"
   ]
  },
  {
   "cell_type": "markdown",
   "metadata": {
    "deletable": false,
    "editable": false
   },
   "source": [
    "Looking through the output from the `df.head()` call above, there's a little bit more cleaning we need to do before we can work with the neighborhood information in this dataset. The good news is that, because we're using a `wrangle` function, we only need to change the function to re-clean all of our CSV files. This is why functions are so useful."
   ]
  },
  {
   "cell_type": "code",
   "execution_count": 13,
   "metadata": {
    "deletable": false,
    "editable": false,
    "init_cell": true
   },
   "outputs": [
    {
     "data": {
      "text/html": [
       "\n",
       "        <iframe\n",
       "            width=\"600\"\n",
       "            height=\"300\"\n",
       "            src=\"https://player.vimeo.com/video/656791659?h=581201dc92\"\n",
       "            frameborder=\"0\"\n",
       "            allowfullscreen\n",
       "        ></iframe>\n",
       "        "
      ],
      "text/plain": [
       "<IPython.lib.display.VimeoVideo at 0x7f14bc24c880>"
      ]
     },
     "execution_count": 13,
     "metadata": {},
     "output_type": "execute_result"
    }
   ],
   "source": [
    "VimeoVideo(\"656791659\", h=\"581201dc92\", width=600)"
   ]
  },
  {
   "cell_type": "markdown",
   "metadata": {
    "deletable": false,
    "editable": false
   },
   "source": [
    "**Task 2.3.4:** Modify your `wrangle` function to create a new feature `\"neighborhood\"`. You can find the neighborhood for each property in the `\"place_with_parent_names\"` column. For example, a property with the place name `\"|Argentina|Capital Federal|Palermo|\"` is located in the neighborhood is `\"Palermo\"`. Also, your function should drop the `\"place_with_parent_names\"` column.\n",
    "\n",
    "Be sure to rerun all the cells above before you continue.\n",
    "\n",
    "- [<span id='technique'>Split the strings in one column to create another using <span id='tool'>pandas.](../%40textbook/03-pandas-getting-started.ipynb#Splitting-Strings)"
   ]
  },
  {
   "cell_type": "code",
   "execution_count": 79,
   "metadata": {},
   "outputs": [],
   "source": [
    "def wrangle(df1):\n",
    "    # Read CSV file\n",
    "    df = pd.read_csv(df1)\n",
    "#     df = df1\n",
    "\n",
    "    \n",
    "    # Subset data: Apartments in \"Capital Federal\", less than 400,000\n",
    "    mask_ba = df[\"place_with_parent_names\"].str.contains(\"Capital Federal\")\n",
    "    mask_apt = df[\"property_type\"] == \"apartment\"\n",
    "    mask_price = df[\"price_aprox_usd\"] < 400_000\n",
    "    df = df[mask_ba & mask_apt & mask_price]\n",
    "\n",
    "    # Subset data: Remove outliers for \"surface_covered_in_m2\"\n",
    "    low, high = df[\"surface_covered_in_m2\"].quantile([0.1, 0.9])\n",
    "    mask_area = df[\"surface_covered_in_m2\"].between(low, high)\n",
    "    df = df[mask_area]\n",
    "\n",
    "    # Split \"lat-lon\" column\n",
    "    df[[\"lat\", \"lon\"]] = df[\"lat-lon\"].str.split(\",\", expand=True).astype(float)\n",
    "    df.drop(columns=\"lat-lon\", inplace=True)\n",
    "\n",
    "    \n",
    "#     df['neighborhood'] = df['place_with_parent_names'].str.split('|', expand=True)[3]\n",
    "#     df = df.drop(columns='place_with_parent_names')\n",
    "    \n",
    "    return df"
   ]
  },
  {
   "cell_type": "code",
   "execution_count": 80,
   "metadata": {},
   "outputs": [],
   "source": [
    "files = glob(\"./data/buenos-aires-real-estate-[0-5].csv\")\n",
    "files\n",
    "frames = []\n",
    "for item in files:\n",
    "    df = wrangle(item)\n",
    "    frames.append(df)\n",
    "frames[0].head()\n",
    "df1 = pd.concat(frames)"
   ]
  },
  {
   "cell_type": "code",
   "execution_count": 81,
   "metadata": {},
   "outputs": [
    {
     "data": {
      "text/plain": [
       "2               |Argentina|Capital Federal|Recoleta|\n",
       "9               |Argentina|Capital Federal|Recoleta|\n",
       "12             |Argentina|Capital Federal|Monserrat|\n",
       "13              |Argentina|Capital Federal|Belgrano|\n",
       "17      |Argentina|Capital Federal|Villa del Parque|\n",
       "                            ...                     \n",
       "8589            |Argentina|Capital Federal|Barracas|\n",
       "8590             |Argentina|Capital Federal|Almagro|\n",
       "8593            |Argentina|Capital Federal|Barracas|\n",
       "8601         |Argentina|Capital Federal|San Nicolás|\n",
       "8604               |Argentina|Capital Federal|Boedo|\n",
       "Name: place_with_parent_names, Length: 6582, dtype: object"
      ]
     },
     "execution_count": 81,
     "metadata": {},
     "output_type": "execute_result"
    }
   ],
   "source": [
    "df1['place_with_parent_names']"
   ]
  },
  {
   "cell_type": "code",
   "execution_count": 82,
   "metadata": {},
   "outputs": [],
   "source": [
    "df1['neighborhood'] = df1['place_with_parent_names'].str.split('|', expand=True)[3]\n",
    "df1 = df1.drop(columns='place_with_parent_names')"
   ]
  },
  {
   "cell_type": "code",
   "execution_count": 83,
   "metadata": {},
   "outputs": [
    {
     "data": {
      "text/plain": [
       "2               Recoleta\n",
       "9               Recoleta\n",
       "12             Monserrat\n",
       "13              Belgrano\n",
       "17      Villa del Parque\n",
       "              ...       \n",
       "8589            Barracas\n",
       "8590             Almagro\n",
       "8593            Barracas\n",
       "8601         San Nicolás\n",
       "8604               Boedo\n",
       "Name: neighborhood, Length: 6582, dtype: object"
      ]
     },
     "execution_count": 83,
     "metadata": {},
     "output_type": "execute_result"
    }
   ],
   "source": [
    "df1['neighborhood']"
   ]
  },
  {
   "cell_type": "code",
   "execution_count": 84,
   "metadata": {},
   "outputs": [],
   "source": [
    "df = df1"
   ]
  },
  {
   "cell_type": "code",
   "execution_count": 85,
   "metadata": {
    "deletable": false
   },
   "outputs": [],
   "source": [
    "# Check your work\n",
    "assert df.shape == (6582, 17), f\"`df` is the wrong size: {df.shape}.\"\n",
    "assert (\n",
    "    \"place_with_parent_names\" not in df\n",
    "), 'Remember to remove the `\"place_with_parent_names\"` column.'"
   ]
  },
  {
   "cell_type": "code",
   "execution_count": 86,
   "metadata": {},
   "outputs": [
    {
     "data": {
      "text/plain": [
       "2               Recoleta\n",
       "9               Recoleta\n",
       "12             Monserrat\n",
       "13              Belgrano\n",
       "17      Villa del Parque\n",
       "              ...       \n",
       "8589            Barracas\n",
       "8590             Almagro\n",
       "8593            Barracas\n",
       "8601         San Nicolás\n",
       "8604               Boedo\n",
       "Name: neighborhood, Length: 6582, dtype: object"
      ]
     },
     "execution_count": 86,
     "metadata": {},
     "output_type": "execute_result"
    }
   ],
   "source": [
    "df['neighborhood']"
   ]
  },
  {
   "cell_type": "markdown",
   "metadata": {
    "deletable": false,
    "editable": false
   },
   "source": [
    "## Split"
   ]
  },
  {
   "cell_type": "markdown",
   "metadata": {
    "deletable": false,
    "editable": false
   },
   "source": [
    "At this point, you should feel more comfortable with the splitting data, so we're going to condense the whole process down to one task. "
   ]
  },
  {
   "cell_type": "code",
   "execution_count": 43,
   "metadata": {
    "deletable": false,
    "editable": false,
    "init_cell": true
   },
   "outputs": [
    {
     "data": {
      "text/html": [
       "\n",
       "        <iframe\n",
       "            width=\"600\"\n",
       "            height=\"300\"\n",
       "            src=\"https://player.vimeo.com/video/656791577?h=0ceb5341f8\"\n",
       "            frameborder=\"0\"\n",
       "            allowfullscreen\n",
       "        ></iframe>\n",
       "        "
      ],
      "text/plain": [
       "<IPython.lib.display.VimeoVideo at 0x7f14bc204d30>"
      ]
     },
     "execution_count": 43,
     "metadata": {},
     "output_type": "execute_result"
    }
   ],
   "source": [
    "VimeoVideo(\"656791577\", h=\"0ceb5341f8\", width=600)"
   ]
  },
  {
   "cell_type": "markdown",
   "metadata": {
    "deletable": false,
    "editable": false
   },
   "source": [
    "**Task 2.3.5:** Create your feature matrix `X_train` and target vector `y_train`. `X_train` should contain one feature: `\"neighborhood\"`. Your target is `\"price_aprox_usd\"`. \n",
    "\n",
    "- [What's a <span id='term'>feature matrix?](../%40textbook/15-ml-regression.ipynb#Linear-Regression)\n",
    "- [What's a <span id='term'>target vector?](../%40textbook/15-ml-regression.ipynb#Linear-Regression)\n",
    "- [<span id='technique'>Subset a DataFrame by selecting one or more columns in <span id='tool'>pandas.](../%40textbook/04-pandas-advanced.ipynb#Subset-a-DataFrame-by-Selecting-One-or-More-Columns) \n",
    "- [<span id='technique'>Select a Series from a DataFrame in <span id='tool'>pandas.](../%40textbook/04-pandas-advanced.ipynb#Select-a-Series-from-a-DataFrame) "
   ]
  },
  {
   "cell_type": "code",
   "execution_count": 87,
   "metadata": {
    "deletable": false
   },
   "outputs": [
    {
     "data": {
      "text/plain": [
       "2       215000.00\n",
       "9       341550.00\n",
       "12       91156.62\n",
       "13      105000.00\n",
       "17       89681.00\n",
       "          ...    \n",
       "8589     73536.95\n",
       "8590    119000.00\n",
       "8593     62000.00\n",
       "8601    125000.00\n",
       "8604     78000.00\n",
       "Name: price_aprox_usd, Length: 6582, dtype: float64"
      ]
     },
     "metadata": {},
     "output_type": "display_data"
    },
    {
     "data": {
      "text/html": [
       "<div>\n",
       "<style scoped>\n",
       "    .dataframe tbody tr th:only-of-type {\n",
       "        vertical-align: middle;\n",
       "    }\n",
       "\n",
       "    .dataframe tbody tr th {\n",
       "        vertical-align: top;\n",
       "    }\n",
       "\n",
       "    .dataframe thead th {\n",
       "        text-align: right;\n",
       "    }\n",
       "</style>\n",
       "<table border=\"1\" class=\"dataframe\">\n",
       "  <thead>\n",
       "    <tr style=\"text-align: right;\">\n",
       "      <th></th>\n",
       "      <th>neighborhood</th>\n",
       "    </tr>\n",
       "  </thead>\n",
       "  <tbody>\n",
       "    <tr>\n",
       "      <th>2</th>\n",
       "      <td>Recoleta</td>\n",
       "    </tr>\n",
       "    <tr>\n",
       "      <th>9</th>\n",
       "      <td>Recoleta</td>\n",
       "    </tr>\n",
       "    <tr>\n",
       "      <th>12</th>\n",
       "      <td>Monserrat</td>\n",
       "    </tr>\n",
       "    <tr>\n",
       "      <th>13</th>\n",
       "      <td>Belgrano</td>\n",
       "    </tr>\n",
       "    <tr>\n",
       "      <th>17</th>\n",
       "      <td>Villa del Parque</td>\n",
       "    </tr>\n",
       "    <tr>\n",
       "      <th>...</th>\n",
       "      <td>...</td>\n",
       "    </tr>\n",
       "    <tr>\n",
       "      <th>8589</th>\n",
       "      <td>Barracas</td>\n",
       "    </tr>\n",
       "    <tr>\n",
       "      <th>8590</th>\n",
       "      <td>Almagro</td>\n",
       "    </tr>\n",
       "    <tr>\n",
       "      <th>8593</th>\n",
       "      <td>Barracas</td>\n",
       "    </tr>\n",
       "    <tr>\n",
       "      <th>8601</th>\n",
       "      <td>San Nicolás</td>\n",
       "    </tr>\n",
       "    <tr>\n",
       "      <th>8604</th>\n",
       "      <td>Boedo</td>\n",
       "    </tr>\n",
       "  </tbody>\n",
       "</table>\n",
       "<p>6582 rows × 1 columns</p>\n",
       "</div>"
      ],
      "text/plain": [
       "          neighborhood\n",
       "2             Recoleta\n",
       "9             Recoleta\n",
       "12           Monserrat\n",
       "13            Belgrano\n",
       "17    Villa del Parque\n",
       "...                ...\n",
       "8589          Barracas\n",
       "8590           Almagro\n",
       "8593          Barracas\n",
       "8601       San Nicolás\n",
       "8604             Boedo\n",
       "\n",
       "[6582 rows x 1 columns]"
      ]
     },
     "metadata": {},
     "output_type": "display_data"
    }
   ],
   "source": [
    "target = \"price_aprox_usd\"\n",
    "features = [\"neighborhood\"]\n",
    "y_train = df[target]\n",
    "X_train = df[features]\n",
    "display(y_train)\n",
    "display(X_train)"
   ]
  },
  {
   "cell_type": "code",
   "execution_count": 45,
   "metadata": {
    "deletable": false
   },
   "outputs": [],
   "source": [
    "# Check your work\n",
    "assert X_train.shape == (6582, 1), f\"`X_train` is the wrong size: {X_train.shape}.\"\n",
    "assert y_train.shape == (6582,), f\"`y_train` is the wrong size: {y_train.shape}.\""
   ]
  },
  {
   "cell_type": "markdown",
   "metadata": {
    "deletable": false,
    "editable": false,
    "tags": []
   },
   "source": [
    "# Build Model"
   ]
  },
  {
   "cell_type": "markdown",
   "metadata": {
    "deletable": false,
    "editable": false
   },
   "source": [
    "## Baseline"
   ]
  },
  {
   "cell_type": "markdown",
   "metadata": {
    "deletable": false,
    "editable": false
   },
   "source": [
    "Let's also condense the code we use to establish our baseline. "
   ]
  },
  {
   "cell_type": "code",
   "execution_count": 46,
   "metadata": {
    "deletable": false,
    "editable": false,
    "init_cell": true
   },
   "outputs": [
    {
     "data": {
      "text/html": [
       "\n",
       "        <iframe\n",
       "            width=\"600\"\n",
       "            height=\"300\"\n",
       "            src=\"https://player.vimeo.com/video/656791443?h=120a740cc3\"\n",
       "            frameborder=\"0\"\n",
       "            allowfullscreen\n",
       "        ></iframe>\n",
       "        "
      ],
      "text/plain": [
       "<IPython.lib.display.VimeoVideo at 0x7f14acd3dc70>"
      ]
     },
     "execution_count": 46,
     "metadata": {},
     "output_type": "execute_result"
    }
   ],
   "source": [
    "VimeoVideo(\"656791443\", h=\"120a740cc3\", width=600)"
   ]
  },
  {
   "cell_type": "markdown",
   "metadata": {
    "deletable": false,
    "editable": false
   },
   "source": [
    "**Task 2.3.6:** Calculate the baseline mean absolute error for your model.\n",
    "\n",
    "- [<span id='term'>What's a performance metric?](../%40textbook/12-ml-core.ipynb#Performance-Metrics)\n",
    "- [<span id='term'>What's mean absolute error?](../%40textbook/12-ml-core.ipynb#Performance-Metrics)\n",
    "- [<span id='technique'>Calculate summary statistics for a DataFrame or Series in <span id='tool'>pandas.](../%40textbook/05-pandas-summary-statistics.ipynb#Working-with-Summary-Statistics)\n",
    "- [<span id='technique'>Calculate the mean absolute error for a list of predictions in <span id='tool'>scikit-learn.](../%40textbook/15-ml-regression.ipynb#Calculating-the-Mean-Absolute-Error-for-a-List-of-Predictions)"
   ]
  },
  {
   "cell_type": "code",
   "execution_count": 88,
   "metadata": {
    "deletable": false
   },
   "outputs": [
    {
     "name": "stdout",
     "output_type": "stream",
     "text": [
      "Mean apt price: 132383.83701458527\n",
      "Baseline MAE: 44860.10834274133\n"
     ]
    }
   ],
   "source": [
    "y_mean = y_train.mean()\n",
    "y_pred_baseline = [y_mean] * len(y_train)\n",
    "print(\"Mean apt price:\", y_mean)\n",
    "print(\"Baseline MAE:\", mean_absolute_error(y_train, y_pred_baseline))"
   ]
  },
  {
   "cell_type": "markdown",
   "metadata": {
    "deletable": false,
    "editable": false
   },
   "source": [
    "The mean apartment price and baseline MAE should be similar but not identical to last lesson. The numbers will change since we're working with more data."
   ]
  },
  {
   "cell_type": "markdown",
   "metadata": {
    "deletable": false,
    "editable": false
   },
   "source": [
    "## Iterate"
   ]
  },
  {
   "cell_type": "markdown",
   "metadata": {
    "deletable": false,
    "editable": false
   },
   "source": [
    "If you try to fit a `LinearRegression` predictor to your training data at this point, you'll get an error that looks like this:\n",
    "\n",
    "```\n",
    "ValueError: could not convert string to float\n",
    "```\n",
    "\n",
    "What does this mean? When you fit a linear regression model, you're asking scikit-learn to perform a mathematical operation. The problem is that our training set contains neighborhood information in non-numerical form. In order to create our model we need to **encode** that information so that it's represented numerically. The good news is that there are lots of transformers that can do this. Here, we'll use the one from the [Category Encoders](https://contrib.scikit-learn.org/category_encoders/index.html) library, called a [`OneHotEncoder`](https://contrib.scikit-learn.org/category_encoders/onehot.html).\n",
    "\n",
    "Before we build include this transformer in our pipeline, let's explore how it works. "
   ]
  },
  {
   "cell_type": "code",
   "execution_count": 49,
   "metadata": {
    "deletable": false,
    "editable": false,
    "init_cell": true
   },
   "outputs": [
    {
     "data": {
      "text/html": [
       "\n",
       "        <iframe\n",
       "            width=\"600\"\n",
       "            height=\"300\"\n",
       "            src=\"https://player.vimeo.com/video/656792790?h=4097efb40d\"\n",
       "            frameborder=\"0\"\n",
       "            allowfullscreen\n",
       "        ></iframe>\n",
       "        "
      ],
      "text/plain": [
       "<IPython.lib.display.VimeoVideo at 0x7f14acd3d2b0>"
      ]
     },
     "execution_count": 49,
     "metadata": {},
     "output_type": "execute_result"
    }
   ],
   "source": [
    "VimeoVideo(\"656792790\", h=\"4097efb40d\", width=600)"
   ]
  },
  {
   "cell_type": "markdown",
   "metadata": {
    "deletable": false,
    "editable": false
   },
   "source": [
    "**Task 2.3.7:** First, instantiate a `OneHotEncoder` named `ohe`. Make sure to set the `use_cat_names` argument to `True`. Next, fit your transformer to the feature matrix `X_train`. Finally, use your encoder to transform the feature matrix `X_train`, and assign the transformed data to the variable `XT_train`.\n",
    "\n",
    "- [What's <span id='term'>one-hot encoding?](../%40textbook/13-ml-data-pre-processing-and-production.ipynb#One-Hot-Encoding)\n",
    "- [<span id='technique'>Instantiate a transformer in <span id='tool'>scikit-learn.](../%40textbook/13-ml-data-pre-processing-and-production.ipynb#One-Hot-Encoding)\n",
    "- [<span id='technique'>Fit a transformer to training data in <span id='tool'>scikit-learn.](../%40textbook/13-ml-data-pre-processing-and-production.ipynb#One-Hot-Encoding)\n",
    "- [<span id='technique'>Transform data using a transformer in <span id='tool'>scikit-learn.](../%40textbook/13-ml-data-pre-processing-and-production.ipynb#One-Hot-Encoding)"
   ]
  },
  {
   "cell_type": "code",
   "execution_count": 50,
   "metadata": {
    "deletable": false
   },
   "outputs": [
    {
     "name": "stdout",
     "output_type": "stream",
     "text": [
      "(6582, 57)\n"
     ]
    },
    {
     "data": {
      "text/html": [
       "<div>\n",
       "<style scoped>\n",
       "    .dataframe tbody tr th:only-of-type {\n",
       "        vertical-align: middle;\n",
       "    }\n",
       "\n",
       "    .dataframe tbody tr th {\n",
       "        vertical-align: top;\n",
       "    }\n",
       "\n",
       "    .dataframe thead th {\n",
       "        text-align: right;\n",
       "    }\n",
       "</style>\n",
       "<table border=\"1\" class=\"dataframe\">\n",
       "  <thead>\n",
       "    <tr style=\"text-align: right;\">\n",
       "      <th></th>\n",
       "      <th>neighborhood_Recoleta</th>\n",
       "      <th>neighborhood_Monserrat</th>\n",
       "      <th>neighborhood_Belgrano</th>\n",
       "      <th>neighborhood_Villa del Parque</th>\n",
       "      <th>neighborhood_Villa Pueyrredón</th>\n",
       "      <th>neighborhood_Almagro</th>\n",
       "      <th>neighborhood_Palermo</th>\n",
       "      <th>neighborhood_</th>\n",
       "      <th>neighborhood_Tribunales</th>\n",
       "      <th>neighborhood_Balvanera</th>\n",
       "      <th>...</th>\n",
       "      <th>neighborhood_Velez Sarsfield</th>\n",
       "      <th>neighborhood_Monte Castro</th>\n",
       "      <th>neighborhood_Las Cañitas</th>\n",
       "      <th>neighborhood_Constitución</th>\n",
       "      <th>neighborhood_Parque Avellaneda</th>\n",
       "      <th>neighborhood_Villa Soldati</th>\n",
       "      <th>neighborhood_Pompeya</th>\n",
       "      <th>neighborhood_Versalles</th>\n",
       "      <th>neighborhood_Villa Real</th>\n",
       "      <th>neighborhood_Catalinas</th>\n",
       "    </tr>\n",
       "  </thead>\n",
       "  <tbody>\n",
       "    <tr>\n",
       "      <th>2</th>\n",
       "      <td>1</td>\n",
       "      <td>0</td>\n",
       "      <td>0</td>\n",
       "      <td>0</td>\n",
       "      <td>0</td>\n",
       "      <td>0</td>\n",
       "      <td>0</td>\n",
       "      <td>0</td>\n",
       "      <td>0</td>\n",
       "      <td>0</td>\n",
       "      <td>...</td>\n",
       "      <td>0</td>\n",
       "      <td>0</td>\n",
       "      <td>0</td>\n",
       "      <td>0</td>\n",
       "      <td>0</td>\n",
       "      <td>0</td>\n",
       "      <td>0</td>\n",
       "      <td>0</td>\n",
       "      <td>0</td>\n",
       "      <td>0</td>\n",
       "    </tr>\n",
       "    <tr>\n",
       "      <th>9</th>\n",
       "      <td>1</td>\n",
       "      <td>0</td>\n",
       "      <td>0</td>\n",
       "      <td>0</td>\n",
       "      <td>0</td>\n",
       "      <td>0</td>\n",
       "      <td>0</td>\n",
       "      <td>0</td>\n",
       "      <td>0</td>\n",
       "      <td>0</td>\n",
       "      <td>...</td>\n",
       "      <td>0</td>\n",
       "      <td>0</td>\n",
       "      <td>0</td>\n",
       "      <td>0</td>\n",
       "      <td>0</td>\n",
       "      <td>0</td>\n",
       "      <td>0</td>\n",
       "      <td>0</td>\n",
       "      <td>0</td>\n",
       "      <td>0</td>\n",
       "    </tr>\n",
       "    <tr>\n",
       "      <th>12</th>\n",
       "      <td>0</td>\n",
       "      <td>1</td>\n",
       "      <td>0</td>\n",
       "      <td>0</td>\n",
       "      <td>0</td>\n",
       "      <td>0</td>\n",
       "      <td>0</td>\n",
       "      <td>0</td>\n",
       "      <td>0</td>\n",
       "      <td>0</td>\n",
       "      <td>...</td>\n",
       "      <td>0</td>\n",
       "      <td>0</td>\n",
       "      <td>0</td>\n",
       "      <td>0</td>\n",
       "      <td>0</td>\n",
       "      <td>0</td>\n",
       "      <td>0</td>\n",
       "      <td>0</td>\n",
       "      <td>0</td>\n",
       "      <td>0</td>\n",
       "    </tr>\n",
       "    <tr>\n",
       "      <th>13</th>\n",
       "      <td>0</td>\n",
       "      <td>0</td>\n",
       "      <td>1</td>\n",
       "      <td>0</td>\n",
       "      <td>0</td>\n",
       "      <td>0</td>\n",
       "      <td>0</td>\n",
       "      <td>0</td>\n",
       "      <td>0</td>\n",
       "      <td>0</td>\n",
       "      <td>...</td>\n",
       "      <td>0</td>\n",
       "      <td>0</td>\n",
       "      <td>0</td>\n",
       "      <td>0</td>\n",
       "      <td>0</td>\n",
       "      <td>0</td>\n",
       "      <td>0</td>\n",
       "      <td>0</td>\n",
       "      <td>0</td>\n",
       "      <td>0</td>\n",
       "    </tr>\n",
       "    <tr>\n",
       "      <th>17</th>\n",
       "      <td>0</td>\n",
       "      <td>0</td>\n",
       "      <td>0</td>\n",
       "      <td>1</td>\n",
       "      <td>0</td>\n",
       "      <td>0</td>\n",
       "      <td>0</td>\n",
       "      <td>0</td>\n",
       "      <td>0</td>\n",
       "      <td>0</td>\n",
       "      <td>...</td>\n",
       "      <td>0</td>\n",
       "      <td>0</td>\n",
       "      <td>0</td>\n",
       "      <td>0</td>\n",
       "      <td>0</td>\n",
       "      <td>0</td>\n",
       "      <td>0</td>\n",
       "      <td>0</td>\n",
       "      <td>0</td>\n",
       "      <td>0</td>\n",
       "    </tr>\n",
       "  </tbody>\n",
       "</table>\n",
       "<p>5 rows × 57 columns</p>\n",
       "</div>"
      ],
      "text/plain": [
       "    neighborhood_Recoleta  neighborhood_Monserrat  neighborhood_Belgrano  \\\n",
       "2                       1                       0                      0   \n",
       "9                       1                       0                      0   \n",
       "12                      0                       1                      0   \n",
       "13                      0                       0                      1   \n",
       "17                      0                       0                      0   \n",
       "\n",
       "    neighborhood_Villa del Parque  neighborhood_Villa Pueyrredón  \\\n",
       "2                               0                              0   \n",
       "9                               0                              0   \n",
       "12                              0                              0   \n",
       "13                              0                              0   \n",
       "17                              1                              0   \n",
       "\n",
       "    neighborhood_Almagro  neighborhood_Palermo  neighborhood_  \\\n",
       "2                      0                     0              0   \n",
       "9                      0                     0              0   \n",
       "12                     0                     0              0   \n",
       "13                     0                     0              0   \n",
       "17                     0                     0              0   \n",
       "\n",
       "    neighborhood_Tribunales  neighborhood_Balvanera  ...  \\\n",
       "2                         0                       0  ...   \n",
       "9                         0                       0  ...   \n",
       "12                        0                       0  ...   \n",
       "13                        0                       0  ...   \n",
       "17                        0                       0  ...   \n",
       "\n",
       "    neighborhood_Velez Sarsfield  neighborhood_Monte Castro  \\\n",
       "2                              0                          0   \n",
       "9                              0                          0   \n",
       "12                             0                          0   \n",
       "13                             0                          0   \n",
       "17                             0                          0   \n",
       "\n",
       "    neighborhood_Las Cañitas  neighborhood_Constitución  \\\n",
       "2                          0                          0   \n",
       "9                          0                          0   \n",
       "12                         0                          0   \n",
       "13                         0                          0   \n",
       "17                         0                          0   \n",
       "\n",
       "    neighborhood_Parque Avellaneda  neighborhood_Villa Soldati  \\\n",
       "2                                0                           0   \n",
       "9                                0                           0   \n",
       "12                               0                           0   \n",
       "13                               0                           0   \n",
       "17                               0                           0   \n",
       "\n",
       "    neighborhood_Pompeya  neighborhood_Versalles  neighborhood_Villa Real  \\\n",
       "2                      0                       0                        0   \n",
       "9                      0                       0                        0   \n",
       "12                     0                       0                        0   \n",
       "13                     0                       0                        0   \n",
       "17                     0                       0                        0   \n",
       "\n",
       "    neighborhood_Catalinas  \n",
       "2                        0  \n",
       "9                        0  \n",
       "12                       0  \n",
       "13                       0  \n",
       "17                       0  \n",
       "\n",
       "[5 rows x 57 columns]"
      ]
     },
     "execution_count": 50,
     "metadata": {},
     "output_type": "execute_result"
    }
   ],
   "source": [
    "ohe = OneHotEncoder(use_cat_names=True)\n",
    "ohe.fit(X_train) ### trains \n",
    "\n",
    "XT_train = ohe.transform(X_train) ### uses your encoder to transform feature matrix\n",
    "print(XT_train.shape)\n",
    "XT_train.head()"
   ]
  },
  {
   "cell_type": "code",
   "execution_count": 51,
   "metadata": {
    "deletable": false
   },
   "outputs": [],
   "source": [
    "# Check your work\n",
    "assert XT_train.shape == (6582, 57), f\"`XT_train` is the wrong shape: {XT_train.shape}\""
   ]
  },
  {
   "cell_type": "markdown",
   "metadata": {
    "deletable": false,
    "editable": false
   },
   "source": [
    "Now that we have an idea for how the `OneHotEncoder` works, let's bring it into our pipeline."
   ]
  },
  {
   "cell_type": "code",
   "execution_count": 52,
   "metadata": {
    "deletable": false,
    "editable": false,
    "init_cell": true
   },
   "outputs": [
    {
     "data": {
      "text/html": [
       "\n",
       "        <iframe\n",
       "            width=\"600\"\n",
       "            height=\"300\"\n",
       "            src=\"https://player.vimeo.com/video/656792622?h=0b9d189e8f\"\n",
       "            frameborder=\"0\"\n",
       "            allowfullscreen\n",
       "        ></iframe>\n",
       "        "
      ],
      "text/plain": [
       "<IPython.lib.display.VimeoVideo at 0x7f14acd3dcd0>"
      ]
     },
     "execution_count": 52,
     "metadata": {},
     "output_type": "execute_result"
    }
   ],
   "source": [
    "VimeoVideo(\"656792622\", h=\"0b9d189e8f\", width=600)"
   ]
  },
  {
   "cell_type": "markdown",
   "metadata": {
    "deletable": false,
    "editable": false
   },
   "source": [
    "**Task 2.3.8:** Create a pipeline named `model` that contains a `OneHotEncoder` transformer and a `LinearRegression` predictor. Then fit your model to the training data. \n",
    "\n",
    "- [What's a <span id='term'>pipeline?](../%40textbook/13-ml-data-pre-processing-and-production.ipynb#scikit-learn-in-Production)\n",
    "- [<span id='technique'>Create a pipeline in <span id='tool'>scikit-learn.](../%40textbook/13-ml-data-pre-processing-and-production.ipynb#Creating-a-Pipeline-in-scikit-learn)"
   ]
  },
  {
   "cell_type": "code",
   "execution_count": 107,
   "metadata": {
    "deletable": false
   },
   "outputs": [
    {
     "data": {
      "text/plain": [
       "Pipeline(steps=[('onehotencoder',\n",
       "                 OneHotEncoder(cols=['neighborhood'], use_cat_names=True)),\n",
       "                ('ridge', Ridge())])"
      ]
     },
     "execution_count": 107,
     "metadata": {},
     "output_type": "execute_result"
    }
   ],
   "source": [
    "model = make_pipeline(\n",
    "    OneHotEncoder(use_cat_names=True),\n",
    "    Ridge()\n",
    ")\n",
    "\n",
    "model.fit(X_train, y_train) ## Now FIT on the X_train, and the y_train data"
   ]
  },
  {
   "cell_type": "code",
   "execution_count": 56,
   "metadata": {
    "deletable": false
   },
   "outputs": [],
   "source": [
    "# Check your work\n",
    "check_is_fitted(model[-1])"
   ]
  },
  {
   "cell_type": "markdown",
   "metadata": {
    "deletable": false,
    "editable": false
   },
   "source": [
    "Wow, you just built a model with two transformers and a predictor! When you started this course, did you think you'd be able to do something like that? 😁"
   ]
  },
  {
   "cell_type": "markdown",
   "metadata": {
    "deletable": false,
    "editable": false
   },
   "source": [
    "## Evaluate"
   ]
  },
  {
   "cell_type": "markdown",
   "metadata": {
    "deletable": false,
    "editable": false
   },
   "source": [
    "Regardless of how you build your model, the evaluation step stays the same. Let's see how our model performs with the training set."
   ]
  },
  {
   "cell_type": "code",
   "execution_count": 57,
   "metadata": {
    "deletable": false,
    "editable": false,
    "init_cell": true
   },
   "outputs": [
    {
     "data": {
      "text/html": [
       "\n",
       "        <iframe\n",
       "            width=\"600\"\n",
       "            height=\"300\"\n",
       "            src=\"https://player.vimeo.com/video/656792525?h=09edc1c3d6\"\n",
       "            frameborder=\"0\"\n",
       "            allowfullscreen\n",
       "        ></iframe>\n",
       "        "
      ],
      "text/plain": [
       "<IPython.lib.display.VimeoVideo at 0x7f14accfe070>"
      ]
     },
     "execution_count": 57,
     "metadata": {},
     "output_type": "execute_result"
    }
   ],
   "source": [
    "VimeoVideo(\"656792525\", h=\"09edc1c3d6\", width=600)"
   ]
  },
  {
   "cell_type": "markdown",
   "metadata": {
    "deletable": false,
    "editable": false
   },
   "source": [
    "**Task 2.3.9:** First, create a list of predictions for the observations in your feature matrix `X_train`. Name this list `y_pred_training`. Then calculate the training mean absolute error for your predictions in `y_pred_training` as compared to the true targets in `y_train`.\n",
    "\n",
    "- [<span id='technique'>Generate predictions using a trained model in <span id='tool'>scikit-learn.](../%40textbook/15-ml-regression.ipynb#Generating-Predictions-Using-a-Trained-Model)\n",
    "- [<span id='technique'>Calculate the mean absolute error for a list of predictions in <span id='tool'>scikit-learn.](../%40textbook/15-ml-regression.ipynb#Calculating-the-Mean-Absolute-Error-for-a-List-of-Predictions)"
   ]
  },
  {
   "cell_type": "code",
   "execution_count": 108,
   "metadata": {
    "deletable": false
   },
   "outputs": [
    {
     "name": "stdout",
     "output_type": "stream",
     "text": [
      "Training MAE: 39350.22\n"
     ]
    }
   ],
   "source": [
    "y_pred_training = model.predict(X_train)\n",
    "mae_training = mean_absolute_error(y_train, y_pred_training)\n",
    "print(\"Training MAE:\", round(mae_training, 2))"
   ]
  },
  {
   "cell_type": "markdown",
   "metadata": {
    "deletable": false,
    "editable": false,
    "tags": []
   },
   "source": [
    "Now let's check our test performance. "
   ]
  },
  {
   "cell_type": "markdown",
   "metadata": {
    "deletable": false,
    "editable": false,
    "tags": []
   },
   "source": [
    "**Task 2.3.10:** Run the code below to import your test data `buenos-aires-test-features.csv` into a DataFrame and generate a list of predictions using your model. Then run the following cell to submit your predictions to the grader.\n",
    "\n",
    "- [What's generalizability?](../%40textbook/12-ml-core.ipynb#Generalization)\n",
    "- [<span id='technique'>Generate predictions using a trained model in <span id='tool'>scikit-learn.](../%40textbook/15-ml-regression.ipynb#Generating-Predictions-Using-a-Trained-Model)\n",
    "- [<span id='technique'>Calculate the mean absolute error for a list of predictions in <span id='tool'>scikit-learn.](../%40textbook/15-ml-regression.ipynb#Calculating-the-Mean-Absolute-Error-for-a-List-of-Predictions)"
   ]
  },
  {
   "cell_type": "code",
   "execution_count": 109,
   "metadata": {
    "deletable": false,
    "editable": false
   },
   "outputs": [
    {
     "data": {
      "text/plain": [
       "array([246624.69462384, 161355.96873409,  98232.05130782, 110846.03037654,\n",
       "       127777.53819661])"
      ]
     },
     "execution_count": 109,
     "metadata": {},
     "output_type": "execute_result"
    }
   ],
   "source": [
    "X_test = pd.read_csv(\"data/buenos-aires-test-features.csv\")[features]\n",
    "y_pred_test = model.predict(X_test)\n",
    "y_pred_test[:5]"
   ]
  },
  {
   "cell_type": "code",
   "execution_count": 110,
   "metadata": {
    "deletable": false,
    "editable": false
   },
   "outputs": [
    {
     "data": {
      "text/html": [
       "\n",
       "    <div class=\"wqet-result\">\n",
       "      <div class=\"animation\">\n",
       "        <svg class=\"checkmark\" xmlns=\"http://www.w3.org/2000/svg\" viewBox=\"0 0 52 52\">\n",
       "          <circle class=\"checkmark__circle\" cx=\"26\" cy=\"26\" r=\"25\" fill=\"none\"/>\n",
       "          <path class=\"checkmark__check\" fill=\"none\" d=\"M14.1 27.2l7.1 7.2 16.7-16.8\"/>\n",
       "        </svg>\n",
       "      </div>\n",
       "      <div class=\"details\">\n",
       "        <p class=\"title\"><p>The MAE for your model is: <code>44533.576</code>. Good work!<br><br>Looks like <code>Ridge</code> did the trick. 💪</p></p>\n",
       "        <p>Score: 1</p>\n",
       "      </div>\n",
       "    </div>\n"
      ],
      "text/plain": [
       "<IPython.core.display.HTML object>"
      ]
     },
     "metadata": {},
     "output_type": "display_data"
    }
   ],
   "source": [
    "wqet_grader.grade(\"Project 2 Assessment\", \"Task 23.10\", list(y_pred_test))"
   ]
  },
  {
   "cell_type": "markdown",
   "metadata": {
    "deletable": false,
    "editable": false
   },
   "source": [
    "# Communicate Results"
   ]
  },
  {
   "cell_type": "markdown",
   "metadata": {
    "deletable": false,
    "editable": false
   },
   "source": [
    "If we write out the equation for our model, it'll be too big to fit on the screen. That's because, when we used the `OneHotEncoder` to encode the neighborhood data, we created a much wider DataFrame, and each column/feature has it's own coefficient in our model's equation.\n",
    "\n",
    "<center><img src=\"../images/proj-2.006.png\" alt=\"Equation: y = β0 + β1 x1 + β2 x2 + ... + β59 x59 + β60 x60 \" style=\"width: 800px;\"/></center>\n",
    "\n",
    "This is important to keep in mind for two reasons. First, it means that this is a **high-dimensional** model. Instead of a 2D or 3D plot, we'd need a 58-dimensional plot to represent it, which is impossible! Second, it means that we'll need to extract and represent the information for our equation a little differently than before. Let's start by getting our intercept and coefficient."
   ]
  },
  {
   "cell_type": "code",
   "execution_count": null,
   "metadata": {
    "deletable": false,
    "editable": false,
    "init_cell": true
   },
   "outputs": [],
   "source": [
    "VimeoVideo(\"656793909\", h=\"fca67856b4\", width=600)"
   ]
  },
  {
   "cell_type": "markdown",
   "metadata": {
    "deletable": false,
    "editable": false
   },
   "source": [
    "**Task 2.3.11:** Extract the intercept and coefficients for your model. \n",
    "\n",
    "- [What's an <span id='term'>intercept</span> in a linear model?](../%40textbook/12-ml-core.ipynb#Model-Types)\n",
    "- [What's a <span id='term'>coefficient</span> in a linear model?](../%40textbook/12-ml-core.ipynb#Model-Types)\n",
    "- [<span id='technique'>Access an object in a pipeline in <span id='tool'>scikit-learn.](../%40textbook/13-ml-data-pre-processing-and-production.ipynb#Accessing-an-Object-in-a-Pipeline)"
   ]
  },
  {
   "cell_type": "code",
   "execution_count": 93,
   "metadata": {
    "deletable": false
   },
   "outputs": [
    {
     "name": "stdout",
     "output_type": "stream",
     "text": [
      "coefficients len: 57\n",
      "[2.64168099e+17 2.64168099e+17 2.64168099e+17 2.64168099e+17\n",
      " 2.64168099e+17]\n"
     ]
    }
   ],
   "source": [
    "intercept = model.named_steps['linearregression'].intercept_\n",
    "coefficients = model.named_steps['linearregression'].coef_\n",
    "print(\"coefficients len:\", len(coefficients))\n",
    "print(coefficients[:5])  # First five coefficients"
   ]
  },
  {
   "cell_type": "code",
   "execution_count": 94,
   "metadata": {
    "deletable": false
   },
   "outputs": [],
   "source": [
    "# Check your work\n",
    "assert isinstance(\n",
    "    intercept, float\n",
    "), f\"`intercept` should be a `float`, not {type(intercept)}.\"\n",
    "assert isinstance(\n",
    "    coefficients, np.ndarray\n",
    "), f\"`coefficients` should be a `float`, not {type(coefficients)}.\"\n",
    "assert coefficients.shape == (\n",
    "    57,\n",
    "), f\"`coefficients` is wrong shape: {coefficients.shape}.\""
   ]
  },
  {
   "cell_type": "markdown",
   "metadata": {
    "deletable": false,
    "editable": false
   },
   "source": [
    "We have the values of our coefficients, but how do we know which features they belong to? We'll need to get that information by going into the part of our pipeline that did the encoding."
   ]
  },
  {
   "cell_type": "code",
   "execution_count": 95,
   "metadata": {
    "deletable": false,
    "editable": false,
    "init_cell": true
   },
   "outputs": [
    {
     "data": {
      "text/html": [
       "\n",
       "        <iframe\n",
       "            width=\"600\"\n",
       "            height=\"300\"\n",
       "            src=\"https://player.vimeo.com/video/656793812?h=810161b84e\"\n",
       "            frameborder=\"0\"\n",
       "            allowfullscreen\n",
       "        ></iframe>\n",
       "        "
      ],
      "text/plain": [
       "<IPython.lib.display.VimeoVideo at 0x7f14ac6cbb20>"
      ]
     },
     "execution_count": 95,
     "metadata": {},
     "output_type": "execute_result"
    }
   ],
   "source": [
    "VimeoVideo(\"656793812\", h=\"810161b84e\", width=600)"
   ]
  },
  {
   "cell_type": "markdown",
   "metadata": {
    "deletable": false,
    "editable": false
   },
   "source": [
    "**Task 2.3.12:** Extract the feature names of your encoded data from the `OneHotEncoder` in your model.\n",
    "\n",
    "- [Access an object in a pipeline in scikit-learn.](../%40textbook/13-ml-data-pre-processing-and-production.ipynb#Accessing-an-Object-in-a-Pipeline)"
   ]
  },
  {
   "cell_type": "code",
   "execution_count": 96,
   "metadata": {
    "deletable": false
   },
   "outputs": [
    {
     "name": "stdout",
     "output_type": "stream",
     "text": [
      "features len: 57\n",
      "['neighborhood_Recoleta', 'neighborhood_Monserrat', 'neighborhood_Belgrano', 'neighborhood_Villa del Parque', 'neighborhood_Villa Pueyrredón']\n"
     ]
    }
   ],
   "source": [
    "feature_names = model.named_steps['onehotencoder'].get_feature_names()\n",
    "print(\"features len:\", len(feature_names))\n",
    "print(feature_names[:5])  # First five feature names"
   ]
  },
  {
   "cell_type": "code",
   "execution_count": 97,
   "metadata": {
    "deletable": false
   },
   "outputs": [],
   "source": [
    "# Check your work\n",
    "assert isinstance(\n",
    "    feature_names, list\n",
    "), f\"`features` should be a `list`, not {type(features)}.\"\n",
    "assert len(feature_names) == len(\n",
    "    coefficients\n",
    "), \"You should have the same number of features and coefficients.\""
   ]
  },
  {
   "cell_type": "markdown",
   "metadata": {
    "deletable": false,
    "editable": false
   },
   "source": [
    "We have coefficients and feature names, and now we need to put them together. For that, we'll use a Series."
   ]
  },
  {
   "cell_type": "code",
   "execution_count": 101,
   "metadata": {
    "deletable": false,
    "editable": false,
    "init_cell": true
   },
   "outputs": [
    {
     "data": {
      "text/html": [
       "\n",
       "        <iframe\n",
       "            width=\"600\"\n",
       "            height=\"300\"\n",
       "            src=\"https://player.vimeo.com/video/656793718?h=1e2a1e1de8\"\n",
       "            frameborder=\"0\"\n",
       "            allowfullscreen\n",
       "        ></iframe>\n",
       "        "
      ],
      "text/plain": [
       "<IPython.lib.display.VimeoVideo at 0x7f13ff0c4f70>"
      ]
     },
     "execution_count": 101,
     "metadata": {},
     "output_type": "execute_result"
    }
   ],
   "source": [
    "VimeoVideo(\"656793718\", h=\"1e2a1e1de8\", width=600)"
   ]
  },
  {
   "cell_type": "markdown",
   "metadata": {
    "deletable": false,
    "editable": false
   },
   "source": [
    "**Task 2.3.13:** Create a pandas Series named `feat_imp` where the index is your `features` and the values are your `coefficients`.\n",
    "\n",
    "- [<span id='technique'>Create a Series in <span id='tool'>pandas.](../%40textbook/03-pandas-getting-started.ipynb#Working-with-Columns)"
   ]
  },
  {
   "cell_type": "code",
   "execution_count": 102,
   "metadata": {
    "deletable": false
   },
   "outputs": [
    {
     "data": {
      "text/plain": [
       "neighborhood_Recoleta            2.641681e+17\n",
       "neighborhood_Monserrat           2.641681e+17\n",
       "neighborhood_Belgrano            2.641681e+17\n",
       "neighborhood_Villa del Parque    2.641681e+17\n",
       "neighborhood_Villa Pueyrredón    2.641681e+17\n",
       "dtype: float64"
      ]
     },
     "execution_count": 102,
     "metadata": {},
     "output_type": "execute_result"
    }
   ],
   "source": [
    "feat_imp = pd.Series(coefficients, index=feature_names)\n",
    "feat_imp.head()"
   ]
  },
  {
   "cell_type": "code",
   "execution_count": 103,
   "metadata": {
    "deletable": false
   },
   "outputs": [],
   "source": [
    "# Check your work\n",
    "assert isinstance(\n",
    "    feat_imp, pd.Series\n",
    "), f\"`feat_imp` should be a `float`, not {type(feat_imp)}.\"\n",
    "assert feat_imp.shape == (57,), f\"`feat_imp` is wrong shape: {feat_imp.shape}.\"\n",
    "assert all(\n",
    "    a == b for a, b in zip(sorted(feature_names), sorted(feat_imp.index))\n",
    "), \"The index of `feat_imp` should be identical to `features`.\""
   ]
  },
  {
   "cell_type": "markdown",
   "metadata": {
    "deletable": false,
    "editable": false
   },
   "source": [
    "To be clear, it's definitely not a good idea to show this long equation to an audience, but let's print it out just to check our work. Since there are so many terms to print, we'll use a `for` loop."
   ]
  },
  {
   "cell_type": "code",
   "execution_count": 104,
   "metadata": {
    "deletable": false,
    "editable": false,
    "init_cell": true
   },
   "outputs": [
    {
     "data": {
      "text/html": [
       "\n",
       "        <iframe\n",
       "            width=\"600\"\n",
       "            height=\"300\"\n",
       "            src=\"https://player.vimeo.com/video/656797021?h=dc90e6dac3\"\n",
       "            frameborder=\"0\"\n",
       "            allowfullscreen\n",
       "        ></iframe>\n",
       "        "
      ],
      "text/plain": [
       "<IPython.lib.display.VimeoVideo at 0x7f14aca1f520>"
      ]
     },
     "execution_count": 104,
     "metadata": {},
     "output_type": "execute_result"
    }
   ],
   "source": [
    "VimeoVideo(\"656797021\", h=\"dc90e6dac3\", width=600)"
   ]
  },
  {
   "cell_type": "markdown",
   "metadata": {
    "deletable": false,
    "editable": false
   },
   "source": [
    "**Task 2.3.14:** Run the cell below to print the equation that your model has determined for predicting apartment price based on longitude and latitude.\n",
    "\n",
    "- [What's an f-string?](../%40textbook/02-python-advanced.ipynb#Working-with-f-strings-)"
   ]
  },
  {
   "cell_type": "code",
   "execution_count": 105,
   "metadata": {
    "deletable": false
   },
   "outputs": [
    {
     "name": "stdout",
     "output_type": "stream",
     "text": [
      "price = -2.641680987765331e+17\n",
      "+ (2.6416809877672438e+17 * neighborhood_Recoleta)\n",
      "+ (2.641680987766318e+17 * neighborhood_Monserrat)\n",
      "+ (2.6416809877669786e+17 * neighborhood_Belgrano)\n",
      "+ (2.6416809877663885e+17 * neighborhood_Villa del Parque)\n",
      "+ (2.6416809877664346e+17 * neighborhood_Villa Pueyrredón)\n",
      "+ (2.641680987766549e+17 * neighborhood_Almagro)\n",
      "+ (2.641680987766981e+17 * neighborhood_Palermo)\n",
      "+ (2.6416809877663184e+17 * neighborhood_)\n",
      "+ (2.6416809877664378e+17 * neighborhood_Tribunales)\n",
      "+ (2.6416809877664026e+17 * neighborhood_Balvanera)\n",
      "+ (2.6416809877670768e+17 * neighborhood_Barrio Norte)\n",
      "+ (2.6416809877664813e+17 * neighborhood_Once)\n",
      "+ (2.6416809877665766e+17 * neighborhood_San Telmo)\n",
      "+ (2.6416809877660138e+17 * neighborhood_Villa Lugano)\n",
      "+ (2.641680987766641e+17 * neighborhood_Coghlan)\n",
      "+ (2.6416809877664666e+17 * neighborhood_Barracas)\n",
      "+ (2.641680987766642e+17 * neighborhood_Villa Urquiza)\n",
      "+ (2.6416809877665594e+17 * neighborhood_Abasto)\n",
      "+ (2.6416809877665786e+17 * neighborhood_Villa Crespo)\n",
      "+ (2.6416809877663136e+17 * neighborhood_Villa Santa Rita)\n",
      "+ (2.6416809877669034e+17 * neighborhood_Colegiales)\n",
      "+ (2.641680987766448e+17 * neighborhood_Paternal)\n",
      "+ (2.6416809877666003e+17 * neighborhood_Caballito)\n",
      "+ (2.6416809877664403e+17 * neighborhood_Parque Chacabuco)\n",
      "+ (2.6416809877667936e+17 * neighborhood_Retiro)\n",
      "+ (2.6416809877665578e+17 * neighborhood_Villa Devoto)\n",
      "+ (2.6416809877665194e+17 * neighborhood_Villa Luro)\n",
      "+ (2.6416809877664096e+17 * neighborhood_San Nicolás)\n",
      "+ (2.641680987766666e+17 * neighborhood_Saavedra)\n",
      "+ (2.6416809877664317e+17 * neighborhood_Flores)\n",
      "+ (2.641680987766437e+17 * neighborhood_Centro / Microcentro)\n",
      "+ (2.6416809877663805e+17 * neighborhood_Liniers)\n",
      "+ (2.6416809877664115e+17 * neighborhood_San Cristobal)\n",
      "+ (2.641680987766229e+17 * neighborhood_Boca)\n",
      "+ (2.6416809877664362e+17 * neighborhood_Congreso)\n",
      "+ (2.6416809877664528e+17 * neighborhood_Parque Centenario)\n",
      "+ (2.6416809877661728e+17 * neighborhood_Parque Chas)\n",
      "+ (2.641680987766948e+17 * neighborhood_Nuñez)\n",
      "+ (2.6416809877663565e+17 * neighborhood_Parque Patricios)\n",
      "+ (2.6416809877664496e+17 * neighborhood_Boedo)\n",
      "+ (2.641680987766376e+17 * neighborhood_Floresta)\n",
      "+ (2.6416809877663005e+17 * neighborhood_Mataderos)\n",
      "+ (2.6416809877678275e+17 * neighborhood_Puerto Madero)\n",
      "+ (2.641680987766601e+17 * neighborhood_Villa General Mitre)\n",
      "+ (2.6416809877665094e+17 * neighborhood_Agronomía)\n",
      "+ (2.641680987766398e+17 * neighborhood_Villa Ortuzar)\n",
      "+ (2.6416809877664886e+17 * neighborhood_Chacarita)\n",
      "+ (2.6416809877661834e+17 * neighborhood_Velez Sarsfield)\n",
      "+ (2.6416809877664813e+17 * neighborhood_Monte Castro)\n",
      "+ (2.641680987767267e+17 * neighborhood_Las Cañitas)\n",
      "+ (2.6416809877660893e+17 * neighborhood_Constitución)\n",
      "+ (2.641680987766201e+17 * neighborhood_Parque Avellaneda)\n",
      "+ (2.641680987765782e+17 * neighborhood_Villa Soldati)\n",
      "+ (2.6416809877659936e+17 * neighborhood_Pompeya)\n",
      "+ (2.6416809877664618e+17 * neighborhood_Versalles)\n",
      "+ (2.6416809877664234e+17 * neighborhood_Villa Real)\n",
      "+ (2.6416809877660797e+17 * neighborhood_Catalinas)\n"
     ]
    }
   ],
   "source": [
    "print(f\"price = {intercept.round(2)}\")\n",
    "for f, c in feat_imp.items():\n",
    "    print(f\"+ ({round(c, 2)} * {f})\")"
   ]
  },
  {
   "cell_type": "markdown",
   "metadata": {
    "deletable": false,
    "editable": false
   },
   "source": [
    "<div class=\"alert alert-block alert-warning\">\n",
    "<b>Warning:</b> In the first lesson for this project, we said that you shouldn't make any changes to your model after you see your test metrics. That's still true. However, we're breaking that rule here so that we can discuss overfitting. In future lessons, you'll learn how to protect against overfitting without checking your test set.\n",
    "</div>"
   ]
  },
  {
   "cell_type": "code",
   "execution_count": 106,
   "metadata": {
    "deletable": false,
    "editable": false,
    "init_cell": true
   },
   "outputs": [
    {
     "data": {
      "text/html": [
       "\n",
       "        <iframe\n",
       "            width=\"600\"\n",
       "            height=\"300\"\n",
       "            src=\"https://player.vimeo.com/video/656799309?h=a7130deb64\"\n",
       "            frameborder=\"0\"\n",
       "            allowfullscreen\n",
       "        ></iframe>\n",
       "        "
      ],
      "text/plain": [
       "<IPython.lib.display.VimeoVideo at 0x7f14ad1a5fa0>"
      ]
     },
     "execution_count": 106,
     "metadata": {},
     "output_type": "execute_result"
    }
   ],
   "source": [
    "VimeoVideo(\"656799309\", h=\"a7130deb64\", width=600)"
   ]
  },
  {
   "cell_type": "markdown",
   "metadata": {
    "deletable": false,
    "editable": false
   },
   "source": [
    "**Task 2.3.15:** Scroll up, change the predictor in your model to `Ridge`, and retrain it. Then evaluate the model's training and test performance. Do you still have an overfitting problem? If not, extract the intercept and coefficients again (you'll need to change your code a little bit) and regenerate the model's equation. Does it look different than before?\n",
    "\n",
    "- What's <span id='term'>overfitting?\n",
    "- What's <span id='term'>regularization?\n",
    "- What's <span id='term'>ridge regression?"
   ]
  },
  {
   "cell_type": "code",
   "execution_count": null,
   "metadata": {
    "deletable": false
   },
   "outputs": [],
   "source": [
    "# Check your work\n",
    "assert isinstance(\n",
    "    model[-1], Ridge\n",
    "), \"Did you retrain your model using a `Ridge` predictor?\""
   ]
  },
  {
   "cell_type": "markdown",
   "metadata": {
    "deletable": false,
    "editable": false
   },
   "source": [
    "We're back on track with our model, so let's create a visualization that will help a non-technical audience understand what the most important features for our model in predicting apartment price. "
   ]
  },
  {
   "cell_type": "code",
   "execution_count": 3,
   "metadata": {
    "deletable": false,
    "editable": false,
    "init_cell": true
   },
   "outputs": [
    {
     "data": {
      "text/html": [
       "\n",
       "        <iframe\n",
       "            width=\"600\"\n",
       "            height=\"300\"\n",
       "            src=\"https://player.vimeo.com/video/656798530?h=9a9350eff1\"\n",
       "            frameborder=\"0\"\n",
       "            allowfullscreen\n",
       "        ></iframe>\n",
       "        "
      ],
      "text/plain": [
       "<IPython.lib.display.VimeoVideo at 0x7f2c4c3d4220>"
      ]
     },
     "execution_count": 3,
     "metadata": {},
     "output_type": "execute_result"
    }
   ],
   "source": [
    "VimeoVideo(\"656798530\", h=\"9a9350eff1\", width=600)"
   ]
  },
  {
   "cell_type": "markdown",
   "metadata": {
    "deletable": false,
    "editable": false
   },
   "source": [
    "**Task 2.3.16:** Create a horizontal bar chart that shows the top 15 coefficients for your model, based on their absolute value.\n",
    "\n",
    "- [What's a <span id='term'>bar chart</span>?](../%40textbook/07-visualization-pandas.ipynb#Bar-Charts)\n",
    "- [<span id='technique'>Create a bar chart using <span id='tool'>pandas</span></span>.](../%40textbook/07-visualization-pandas.ipynb#Bar-Charts)"
   ]
  },
  {
   "cell_type": "code",
   "execution_count": null,
   "metadata": {
    "deletable": false
   },
   "outputs": [],
   "source": []
  },
  {
   "cell_type": "markdown",
   "metadata": {
    "deletable": false,
    "editable": false
   },
   "source": [
    "Looking at this bar chart, we can see that the poshest neighborhoods in Buenos Aires like [Puerto Madero](https://en.wikipedia.org/wiki/Puerto_Madero) and [Recoleta](https://en.wikipedia.org/wiki/Recoleta,_Buenos_Aires) increase the predicted price of an apartment, while more working-class neighborhoods like [Villa Soldati](https://en.wikipedia.org/wiki/Villa_Soldati) and [Villa Lugano](https://en.wikipedia.org/wiki/Villa_Lugano) decrease the predicted price. \n",
    "\n",
    "Just for fun, check out [this song](https://www.youtube.com/watch?v=RGlunBDvsaw) by Kevin Johansen about Puerto Madero. 🎶"
   ]
  },
  {
   "cell_type": "markdown",
   "metadata": {
    "deletable": false,
    "editable": false
   },
   "source": [
    "---\n",
    "Copyright © 2022 WorldQuant University. This\n",
    "content is licensed solely for personal use. Redistribution or\n",
    "publication of this material is strictly prohibited.\n"
   ]
  }
 ],
 "metadata": {
  "kernelspec": {
   "display_name": "Python 3 (ipykernel)",
   "language": "python",
   "name": "python3"
  },
  "language_info": {
   "codemirror_mode": {
    "name": "ipython",
    "version": 3
   },
   "file_extension": ".py",
   "mimetype": "text/x-python",
   "name": "python",
   "nbconvert_exporter": "python",
   "pygments_lexer": "ipython3",
   "version": "3.9.6"
  },
  "toc-autonumbering": false,
  "toc-showcode": false,
  "toc-showmarkdowntxt": false,
  "toc-showtags": false
 },
 "nbformat": 4,
 "nbformat_minor": 4
}
