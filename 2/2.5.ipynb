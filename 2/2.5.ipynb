{
 "cells": [
  {
   "cell_type": "markdown",
   "id": "ae4915db-8035-4c92-b3c7-64a9053573d7",
   "metadata": {
    "deletable": false,
    "editable": false
   },
   "source": [
    "<font size=\"+3\"><strong>Assignment: Predicting Apartment Prices in Mexico City 🇲🇽</strong></font>"
   ]
  },
  {
   "cell_type": "code",
   "execution_count": null,
   "id": "24b9800e-3a72-4b08-af3d-65da4d226b69",
   "metadata": {
    "deletable": false,
    "editable": false,
    "init_cell": true,
    "tags": []
   },
   "outputs": [],
   "source": [
    "import warnings\n",
    "\n",
    "import wqet_grader\n",
    "\n",
    "warnings.simplefilter(action=\"ignore\", category=FutureWarning)\n",
    "wqet_grader.init(\"Project 2 Assessment\")"
   ]
  },
  {
   "cell_type": "markdown",
   "id": "a6ded91c-61c9-434b-a63f-3c129ecc389a",
   "metadata": {
    "deletable": false,
    "editable": false
   },
   "source": [
    "<div class=\"alert alert-block alert-warning\">\n",
    "    <b>Note:</b> In this project there are graded tasks in both the lesson notebooks and in this assignment. Together they total 24 points. The minimum score you need to move to the next project is 22 points. Once you get 22 points, you will be enrolled automatically in the next project, and this assignment will be closed. This means that you might not be able to complete the last two tasks in this notebook. If you get an error message saying that you've already passed the course, that's good news. You can stop this assignment and move onto the project 3. \n",
    "</div>"
   ]
  },
  {
   "cell_type": "markdown",
   "id": "e7b2f0fe-fdcf-4c4e-8243-de6bd3f3bffc",
   "metadata": {
    "deletable": false,
    "editable": false
   },
   "source": [
    "In this assignment, you'll decide which libraries you need to complete the tasks. You can import them in the cell below. 👇"
   ]
  },
  {
   "cell_type": "code",
   "execution_count": 116,
   "id": "0cd1db04-5733-4a88-8216-210aa4b19c2d",
   "metadata": {
    "deletable": false
   },
   "outputs": [],
   "source": [
    "# Import libraries here\n",
    "import warnings\n",
    "from glob import glob\n",
    "\n",
    "import pandas as pd\n",
    "import seaborn as sns\n",
    "import wqet_grader\n",
    "from category_encoders import OneHotEncoder\n",
    "from IPython.display import VimeoVideo\n",
    "from ipywidgets import Dropdown, FloatSlider, IntSlider, interact\n",
    "from sklearn.impute import SimpleImputer\n",
    "from sklearn.linear_model import LinearRegression, Ridge  # noqa F401\n",
    "from sklearn.metrics import mean_absolute_error\n",
    "from sklearn.pipeline import make_pipeline\n",
    "from sklearn.utils.validation import check_is_fitted\n",
    "\n",
    "import matplotlib.pyplot as plt"
   ]
  },
  {
   "cell_type": "markdown",
   "id": "79e44a81-1eef-4bc6-8151-1a86d5844fb4",
   "metadata": {
    "deletable": false,
    "editable": false
   },
   "source": [
    "# Prepare Data"
   ]
  },
  {
   "cell_type": "markdown",
   "id": "99c6bc6c-50d9-4e5c-9289-a6ef21d43bfd",
   "metadata": {
    "deletable": false,
    "editable": false
   },
   "source": [
    "## Import"
   ]
  },
  {
   "cell_type": "markdown",
   "id": "3b3dccdb-08cc-4e5b-bd8a-509114410864",
   "metadata": {
    "deletable": false,
    "editable": false
   },
   "source": [
    "**Task 2.5.1:** (8 points) Write a `wrangle` function that takes the name of a CSV file as input and returns a DataFrame. The function should do the following steps:\n",
    "\n",
    "1. Subset the data in the CSV file and return only apartments in Mexico City (`\"Distrito Federal\"`) that cost less than \\$100,000.\n",
    "2. Remove outliers by trimming the bottom and top 10\\% of properties in terms of `\"surface_covered_in_m2\"`.\n",
    "3. Create separate `\"lat\"` and `\"lon\"` columns.\n",
    "4. Mexico City is divided into [16 boroughs](https://en.wikipedia.org/wiki/Boroughs_of_Mexico_City). Create a `\"borough\"` feature from the `\"place_with_parent_names\"` column.\n",
    "5. Drop columns that are more than 50\\% null values.\n",
    "6. Drop columns containing low- or high-cardinality categorical values. \n",
    "7. Drop any columns that would constitute leakage for the target `\"price_aprox_usd\"`.\n",
    "8. Drop any columns that would create issues of multicollinearity. \n",
    "\n",
    "<div class=\"alert alert-block alert-info\">\n",
    "<b>Tip:</b> Don't try to satisfy all the criteria in the first version of your <code>wrangle</code> function. Instead, work iteratively. Start with the first criteria, test it out with one of the Mexico CSV files in the <code>data/</code> directory, and submit it to the grader for feedback. Then add the next criteria.</div>"
   ]
  },
  {
   "cell_type": "code",
   "execution_count": 160,
   "id": "6da23765-66e0-4d87-b669-eece222ddd69",
   "metadata": {},
   "outputs": [
    {
     "data": {
      "text/plain": [
       "['./data/mexico-city-real-estate-5.csv',\n",
       " './data/mexico-city-real-estate-2.csv',\n",
       " './data/mexico-city-real-estate-1.csv',\n",
       " './data/mexico-city-real-estate-3.csv',\n",
       " './data/mexico-city-real-estate-4.csv']"
      ]
     },
     "execution_count": 160,
     "metadata": {},
     "output_type": "execute_result"
    }
   ],
   "source": [
    "files = glob('./data/mexico-city-real-estate-[0-5].csv')\n",
    "files"
   ]
  },
  {
   "cell_type": "code",
   "execution_count": 161,
   "id": "0c59a146-ed0a-4420-abbd-42ab661c68d6",
   "metadata": {},
   "outputs": [],
   "source": [
    "frame = []\n",
    "for i in files:\n",
    "    df = pd.read_csv(i)\n",
    "    frame.append(df)\n",
    "df = pd.concat([i for i in frame])"
   ]
  },
  {
   "cell_type": "code",
   "execution_count": 162,
   "id": "0a86ff40-b019-436d-a5ee-2a929559c71c",
   "metadata": {},
   "outputs": [
    {
     "name": "stdout",
     "output_type": "stream",
     "text": [
      "<class 'pandas.core.frame.DataFrame'>\n",
      "Int64Index: 23140 entries, 0 to 4627\n",
      "Data columns (total 16 columns):\n",
      " #   Column                      Non-Null Count  Dtype  \n",
      "---  ------                      --------------  -----  \n",
      " 0   operation                   23140 non-null  object \n",
      " 1   property_type               23140 non-null  object \n",
      " 2   place_with_parent_names     23140 non-null  object \n",
      " 3   lat-lon                     20698 non-null  object \n",
      " 4   price                       22745 non-null  float64\n",
      " 5   currency                    22745 non-null  object \n",
      " 6   price_aprox_local_currency  22745 non-null  float64\n",
      " 7   price_aprox_usd             22745 non-null  float64\n",
      " 8   surface_total_in_m2         8633 non-null   float64\n",
      " 9   surface_covered_in_m2       22215 non-null  float64\n",
      " 10  price_usd_per_m2            6012 non-null   float64\n",
      " 11  price_per_m2                21320 non-null  float64\n",
      " 12  floor                       1531 non-null   float64\n",
      " 13  rooms                       621 non-null    float64\n",
      " 14  expenses                    14 non-null     float64\n",
      " 15  properati_url               23140 non-null  object \n",
      "dtypes: float64(10), object(6)\n",
      "memory usage: 3.0+ MB\n"
     ]
    }
   ],
   "source": [
    "df.info()"
   ]
  },
  {
   "cell_type": "code",
   "execution_count": 168,
   "id": "1281a99b-8791-4efe-80cf-46e64714ad4e",
   "metadata": {
    "deletable": false
   },
   "outputs": [],
   "source": [
    "# Build your `wrangle` function\n",
    "def wrangle(filepath):\n",
    "    df = pd.read_csv(filepath)\n",
    "    mask1 = (df['property_type'] == 'apartment')\n",
    "    mask2 = (df['price_aprox_usd'] < 100000)\n",
    "    mask3 = (df['place_with_parent_names'].str.contains('Distrito Federal'))\n",
    "    \n",
    "    \n",
    "    df = df[mask1 & mask2 & mask3]\n",
    "    \n",
    "    low, high = df['surface_covered_in_m2'].quantile([0.1, 0.9])\n",
    "    maskArea = df['surface_covered_in_m2'].between(low, high)\n",
    "    df = df[maskArea]\n",
    "    \n",
    "    df[['lat', 'lon']] = df['lat-lon'].str.split(',', expand=True).astype(float)\n",
    "    df = df.drop(columns='lat-lon')\n",
    "    \n",
    "    df['borough'] = df['place_with_parent_names'].str.split('|', expand=True)[1]\n",
    "    df = df.drop(columns='place_with_parent_names')\n",
    "    \n",
    "    columns_na = [i for i in df.columns if df[i].isna().sum() > int(len(df)/2)]\n",
    "    df = df.drop(columns = columns_na)\n",
    "    \n",
    "    list_card = [\"operation\", \"property_type\",  \"currency\", \"properati_url\"]\n",
    "    df = df.drop(columns = list_card)\n",
    "    \n",
    "    #leakage \n",
    "    highlow_cardinality = ['price', 'price_aprox_local_currency', 'price_per_m2']\n",
    "    df = df.drop(columns = highlow_cardinality)\n",
    "    \n",
    "    \n",
    "    \n",
    "    return df"
   ]
  },
  {
   "cell_type": "code",
   "execution_count": 169,
   "id": "7c2f3b22-d559-4c74-b1c5-e51d2765e278",
   "metadata": {},
   "outputs": [
    {
     "data": {
      "text/plain": [
       "['./data/mexico-city-real-estate-5.csv',\n",
       " './data/mexico-city-real-estate-2.csv',\n",
       " './data/mexico-city-real-estate-1.csv',\n",
       " './data/mexico-city-real-estate-3.csv',\n",
       " './data/mexico-city-real-estate-4.csv']"
      ]
     },
     "execution_count": 169,
     "metadata": {},
     "output_type": "execute_result"
    }
   ],
   "source": [
    "files = glob('./data/mexico-city-real-estate-[0-5].csv')\n",
    "files"
   ]
  },
  {
   "cell_type": "code",
   "execution_count": 170,
   "id": "345d00ac-9305-493b-8bbd-57aa9761f7ac",
   "metadata": {
    "deletable": false,
    "tags": []
   },
   "outputs": [],
   "source": [
    "# Use this cell to test your wrangle function and explore the data\n",
    "frame = []\n",
    "for i in files:\n",
    "    df = wrangle(i)\n",
    "    frame.append(df)\n"
   ]
  },
  {
   "cell_type": "code",
   "execution_count": 171,
   "id": "332f4e61-49e6-442a-aac9-c630e9f4a6a6",
   "metadata": {},
   "outputs": [
    {
     "name": "stdout",
     "output_type": "stream",
     "text": [
      "<class 'pandas.core.frame.DataFrame'>\n",
      "Int64Index: 5473 entries, 1 to 4627\n",
      "Data columns (total 5 columns):\n",
      " #   Column                 Non-Null Count  Dtype  \n",
      "---  ------                 --------------  -----  \n",
      " 0   price_aprox_usd        5473 non-null   float64\n",
      " 1   surface_covered_in_m2  5473 non-null   float64\n",
      " 2   lat                    5149 non-null   float64\n",
      " 3   lon                    5149 non-null   float64\n",
      " 4   borough                5473 non-null   object \n",
      "dtypes: float64(4), object(1)\n",
      "memory usage: 256.5+ KB\n"
     ]
    }
   ],
   "source": [
    "df = pd.concat(frame)\n",
    "df.info()"
   ]
  },
  {
   "cell_type": "code",
   "execution_count": 172,
   "id": "fd2c901a-afd9-423f-8348-45258da1e569",
   "metadata": {},
   "outputs": [
    {
     "data": {
      "text/plain": [
       "borough    15\n",
       "dtype: int64"
      ]
     },
     "execution_count": 172,
     "metadata": {},
     "output_type": "execute_result"
    }
   ],
   "source": [
    "# low or high cardinality\n",
    "df.select_dtypes('object').nunique()"
   ]
  },
  {
   "cell_type": "code",
   "execution_count": 173,
   "id": "aad9cc9a-46a5-41ee-a29b-8416e1cf6d4f",
   "metadata": {},
   "outputs": [],
   "source": [
    "list_card = [\"operation\", \"property_type\",  \"currency\", \"properati_url\"]"
   ]
  },
  {
   "cell_type": "code",
   "execution_count": 174,
   "id": "523d41be-9c74-444f-89b4-9a46f3e87bfa",
   "metadata": {},
   "outputs": [
    {
     "data": {
      "text/plain": [
       "<AxesSubplot:>"
      ]
     },
     "execution_count": 174,
     "metadata": {},
     "output_type": "execute_result"
    },
    {
     "data": {
      "image/png": "[encoded data removed]",
      "text/plain": [
       "<Figure size 432x288 with 2 Axes>"
      ]
     },
     "metadata": {
      "needs_background": "light"
     },
     "output_type": "display_data"
    }
   ],
   "source": [
    "corr = df.select_dtypes('number').drop(columns='price_aprox_usd').corr()\n",
    "sns.heatmap(corr)"
   ]
  },
  {
   "cell_type": "code",
   "execution_count": 175,
   "id": "979cc13c-9904-4b62-a4a8-5b1d7ba39f38",
   "metadata": {},
   "outputs": [],
   "source": [
    "highlow_cardinality = ['price', 'price_aprox_local_currency', 'price_usd_per_m2', 'price_per_m2']"
   ]
  },
  {
   "cell_type": "code",
   "execution_count": 176,
   "id": "3192a6d6-1674-4bfd-ae7c-cf4fb42ea56e",
   "metadata": {},
   "outputs": [
    {
     "data": {
      "text/plain": [
       "1     82737.39\n",
       "3     72197.60\n",
       "4     44277.72\n",
       "13    60589.45\n",
       "18    47429.08\n",
       "Name: price_aprox_usd, dtype: float64"
      ]
     },
     "execution_count": 176,
     "metadata": {},
     "output_type": "execute_result"
    }
   ],
   "source": [
    "df['price_aprox_usd'].head()"
   ]
  },
  {
   "cell_type": "code",
   "execution_count": 177,
   "id": "bee37b6a-9a07-4330-9235-d7fd796982e9",
   "metadata": {
    "deletable": false,
    "editable": false
   },
   "outputs": [
    {
     "data": {
      "text/html": [
       "\n",
       "    <div class=\"wqet-result\">\n",
       "      <div class=\"animation\">\n",
       "        <svg class=\"checkmark\" xmlns=\"http://www.w3.org/2000/svg\" viewBox=\"0 0 52 52\">\n",
       "          <circle class=\"checkmark__circle\" cx=\"26\" cy=\"26\" r=\"25\" fill=\"none\"/>\n",
       "          <path class=\"checkmark__check\" fill=\"none\" d=\"M14.1 27.2l7.1 7.2 16.7-16.8\"/>\n",
       "        </svg>\n",
       "      </div>\n",
       "      <div class=\"details\">\n",
       "        <p class=\"title\"><p>Yup. You got it.</p></p>\n",
       "        <p>Score: 8</p>\n",
       "      </div>\n",
       "    </div>\n"
      ],
      "text/plain": [
       "<IPython.core.display.HTML object>"
      ]
     },
     "metadata": {},
     "output_type": "display_data"
    }
   ],
   "source": [
    "wqet_grader.grade(\n",
    "    \"Project 2 Assessment\", \"Task 25.1\", wrangle(\"data/mexico-city-real-estate-1.csv\")\n",
    ")"
   ]
  },
  {
   "cell_type": "markdown",
   "id": "f47ef1c8-b073-47a1-beba-028cd71500a6",
   "metadata": {
    "deletable": false,
    "editable": false
   },
   "source": [
    "**Task 2.5.2:** Use glob to create the list `files`. It should contain the filenames of all the Mexico City real estate CSVs in the `./data` directory, except for `mexico-city-test-features.csv`."
   ]
  },
  {
   "cell_type": "code",
   "execution_count": 180,
   "id": "db087948-57b5-4feb-931c-a51830b96b03",
   "metadata": {
    "deletable": false
   },
   "outputs": [
    {
     "data": {
      "text/plain": [
       "['./data/mexico-city-real-estate-5.csv',\n",
       " './data/mexico-city-real-estate-2.csv',\n",
       " './data/mexico-city-real-estate-1.csv',\n",
       " './data/mexico-city-real-estate-3.csv',\n",
       " './data/mexico-city-real-estate-4.csv']"
      ]
     },
     "execution_count": 180,
     "metadata": {},
     "output_type": "execute_result"
    }
   ],
   "source": [
    "files = glob('./data/mexico-city-real-estate-[1-5].csv')\n",
    "files"
   ]
  },
  {
   "cell_type": "code",
   "execution_count": 181,
   "id": "82395838-d221-4a0a-b25d-f2eb18a55386",
   "metadata": {
    "deletable": false,
    "editable": false
   },
   "outputs": [
    {
     "data": {
      "text/html": [
       "\n",
       "  <div class=\"wqet-result\">\n",
       "    <div class=\"animation\">\n",
       "      <svg class=\"failmark\" xmlns=\"http://www.w3.org/2000/svg\" viewBox=\"0 0 52 52\">\n",
       "        <circle class=\"failmark__circle\" cx=\"26\" cy=\"26\" r=\"25\" fill=\"none\"/>\n",
       "      </svg>\n",
       "    </div>\n",
       "    <div class=\"details\">\n",
       "      <p class=\"title\"><p>Your submission doesn't match the expected result.</p></p>\n",
       "      <p>Score: 0</p>\n",
       "    </div>\n",
       "  </div>\n"
      ],
      "text/plain": [
       "<IPython.core.display.HTML object>"
      ]
     },
     "metadata": {},
     "output_type": "display_data"
    }
   ],
   "source": [
    "wqet_grader.grade(\"Project 2 Assessment\", \"Task 25.2\", sorted(files))"
   ]
  },
  {
   "cell_type": "markdown",
   "id": "5ddea2e2-0b77-4115-9659-90508261c8f7",
   "metadata": {
    "deletable": false,
    "editable": false
   },
   "source": [
    "**Task 2.5.3:** Combine your `wrangle` function, a list comprehension, and `pd.concat` to create a DataFrame `df`. It should contain all the properties from the five CSVs in `files`. "
   ]
  },
  {
   "cell_type": "code",
   "execution_count": 133,
   "id": "26fe3c97-c3bb-4861-9432-dd4a0988f1a8",
   "metadata": {},
   "outputs": [],
   "source": [
    "frame = []\n",
    "for i in files:\n",
    "    df = wrangle(i)\n",
    "    frame.append(df)\n"
   ]
  },
  {
   "cell_type": "code",
   "execution_count": 134,
   "id": "a4cbe7ee-ab23-4337-9a93-03303bc7f91e",
   "metadata": {
    "deletable": false
   },
   "outputs": [
    {
     "name": "stdout",
     "output_type": "stream",
     "text": [
      "<class 'pandas.core.frame.DataFrame'>\n",
      "Int64Index: 848 entries, 11 to 4538\n",
      "Data columns (total 5 columns):\n",
      " #   Column               Non-Null Count  Dtype  \n",
      "---  ------               --------------  -----  \n",
      " 0   price_aprox_usd      848 non-null    float64\n",
      " 1   surface_total_in_m2  848 non-null    float64\n",
      " 2   lat                  703 non-null    float64\n",
      " 3   lon                  703 non-null    float64\n",
      " 4   boroughs             848 non-null    object \n",
      "dtypes: float64(4), object(1)\n",
      "memory usage: 39.8+ KB\n",
      "None\n"
     ]
    },
    {
     "data": {
      "text/html": [
       "<div>\n",
       "<style scoped>\n",
       "    .dataframe tbody tr th:only-of-type {\n",
       "        vertical-align: middle;\n",
       "    }\n",
       "\n",
       "    .dataframe tbody tr th {\n",
       "        vertical-align: top;\n",
       "    }\n",
       "\n",
       "    .dataframe thead th {\n",
       "        text-align: right;\n",
       "    }\n",
       "</style>\n",
       "<table border=\"1\" class=\"dataframe\">\n",
       "  <thead>\n",
       "    <tr style=\"text-align: right;\">\n",
       "      <th></th>\n",
       "      <th>price_aprox_usd</th>\n",
       "      <th>surface_total_in_m2</th>\n",
       "      <th>lat</th>\n",
       "      <th>lon</th>\n",
       "      <th>boroughs</th>\n",
       "    </tr>\n",
       "  </thead>\n",
       "  <tbody>\n",
       "    <tr>\n",
       "      <th>11</th>\n",
       "      <td>12445.91</td>\n",
       "      <td>47.0</td>\n",
       "      <td>19.534109</td>\n",
       "      <td>-99.145271</td>\n",
       "      <td>Gustavo A. Madero</td>\n",
       "    </tr>\n",
       "    <tr>\n",
       "      <th>34</th>\n",
       "      <td>42149.18</td>\n",
       "      <td>59.0</td>\n",
       "      <td>19.455768</td>\n",
       "      <td>-99.204714</td>\n",
       "      <td>Miguel Hidalgo</td>\n",
       "    </tr>\n",
       "    <tr>\n",
       "      <th>59</th>\n",
       "      <td>10579.00</td>\n",
       "      <td>44.0</td>\n",
       "      <td>NaN</td>\n",
       "      <td>NaN</td>\n",
       "      <td>Gustavo A. Madero</td>\n",
       "    </tr>\n",
       "    <tr>\n",
       "      <th>62</th>\n",
       "      <td>97469.99</td>\n",
       "      <td>0.0</td>\n",
       "      <td>19.274231</td>\n",
       "      <td>-99.206026</td>\n",
       "      <td>Tlalpan</td>\n",
       "    </tr>\n",
       "    <tr>\n",
       "      <th>107</th>\n",
       "      <td>33561.29</td>\n",
       "      <td>65.0</td>\n",
       "      <td>19.425801</td>\n",
       "      <td>-99.059858</td>\n",
       "      <td>Venustiano Carranza</td>\n",
       "    </tr>\n",
       "  </tbody>\n",
       "</table>\n",
       "</div>"
      ],
      "text/plain": [
       "     price_aprox_usd  surface_total_in_m2        lat        lon  \\\n",
       "11          12445.91                 47.0  19.534109 -99.145271   \n",
       "34          42149.18                 59.0  19.455768 -99.204714   \n",
       "59          10579.00                 44.0        NaN        NaN   \n",
       "62          97469.99                  0.0  19.274231 -99.206026   \n",
       "107         33561.29                 65.0  19.425801 -99.059858   \n",
       "\n",
       "                boroughs  \n",
       "11     Gustavo A. Madero  \n",
       "34        Miguel Hidalgo  \n",
       "59     Gustavo A. Madero  \n",
       "62               Tlalpan  \n",
       "107  Venustiano Carranza  "
      ]
     },
     "execution_count": 134,
     "metadata": {},
     "output_type": "execute_result"
    }
   ],
   "source": [
    "df = pd.concat(frame)\n",
    "print(df.info())\n",
    "df.head()"
   ]
  },
  {
   "cell_type": "code",
   "execution_count": 136,
   "id": "f8c3ce73-c2af-443c-8fe3-8cf306ef8910",
   "metadata": {},
   "outputs": [
    {
     "data": {
      "text/plain": [
       "(848, 5)"
      ]
     },
     "execution_count": 136,
     "metadata": {},
     "output_type": "execute_result"
    }
   ],
   "source": [
    "df.shape"
   ]
  },
  {
   "cell_type": "code",
   "execution_count": 182,
   "id": "86be3641-fdc1-44af-80d0-feeaadd2aaf0",
   "metadata": {
    "deletable": false,
    "editable": false
   },
   "outputs": [
    {
     "data": {
      "text/html": [
       "\n",
       "    <div class=\"wqet-result\">\n",
       "      <div class=\"animation\">\n",
       "        <svg class=\"checkmark\" xmlns=\"http://www.w3.org/2000/svg\" viewBox=\"0 0 52 52\">\n",
       "          <circle class=\"checkmark__circle\" cx=\"26\" cy=\"26\" r=\"25\" fill=\"none\"/>\n",
       "          <path class=\"checkmark__check\" fill=\"none\" d=\"M14.1 27.2l7.1 7.2 16.7-16.8\"/>\n",
       "        </svg>\n",
       "      </div>\n",
       "      <div class=\"details\">\n",
       "        <p class=\"title\"><p>You're making this look easy. 😉</p></p>\n",
       "        <p>Score: 1</p>\n",
       "      </div>\n",
       "    </div>\n"
      ],
      "text/plain": [
       "<IPython.core.display.HTML object>"
      ]
     },
     "metadata": {},
     "output_type": "display_data"
    }
   ],
   "source": [
    "wqet_grader.grade(\"Project 2 Assessment\", \"Task 25.3\", df)"
   ]
  },
  {
   "cell_type": "markdown",
   "id": "de2683ec-8324-4f60-b4ec-fcb316770512",
   "metadata": {
    "deletable": false,
    "editable": false
   },
   "source": [
    "## Explore"
   ]
  },
  {
   "cell_type": "markdown",
   "id": "c49a4444-adb3-4193-b8d8-db7596c441e1",
   "metadata": {
    "deletable": false,
    "editable": false
   },
   "source": [
    "**Task 2.5.4:** Create a histogram showing the distribution of apartment prices (`\"price_aprox_usd\"`) in `df`. Be sure to label the x-axis `\"Area [sq meters]\"`, the y-axis `\"Count\"`, and give it the title `\"Distribution of Apartment Prices\"`.\n",
    "\n",
    "What does the distribution of price look like? Is the data normal, a little skewed, or very skewed?"
   ]
  },
  {
   "cell_type": "code",
   "execution_count": 192,
   "id": "7d1f709c-fb6d-402c-9745-d9bbceae87c0",
   "metadata": {
    "deletable": false
   },
   "outputs": [
    {
     "data": {
      "image/png": "[encoded data removed]",
      "text/plain": [
       "<Figure size 432x288 with 1 Axes>"
      ]
     },
     "metadata": {
      "needs_background": "light"
     },
     "output_type": "display_data"
    }
   ],
   "source": [
    "# Plot distribution of price\n",
    "plt.hist(df[\"price_aprox_usd\"])\n",
    "plt.xlabel(\"Area [sq meters]\")\n",
    "plt.ylabel('Count')\n",
    "plt.title(\"Distribution of Apartment Sizes\")\n",
    "\n",
    "# Don't delete the code below 👇\n",
    "plt.savefig(\"images/25-4.png\", dpi=150)"
   ]
  },
  {
   "cell_type": "code",
   "execution_count": 193,
   "id": "874bc3b5-cb29-488c-9193-4f4b41d9b3b6",
   "metadata": {
    "deletable": false,
    "editable": false
   },
   "outputs": [
    {
     "data": {
      "text/html": [
       "\n",
       "    <div class=\"wqet-result\">\n",
       "      <div class=\"animation\">\n",
       "        <svg class=\"checkmark\" xmlns=\"http://www.w3.org/2000/svg\" viewBox=\"0 0 52 52\">\n",
       "          <circle class=\"checkmark__circle\" cx=\"26\" cy=\"26\" r=\"25\" fill=\"none\"/>\n",
       "          <path class=\"checkmark__check\" fill=\"none\" d=\"M14.1 27.2l7.1 7.2 16.7-16.8\"/>\n",
       "        </svg>\n",
       "      </div>\n",
       "      <div class=\"details\">\n",
       "        <p class=\"title\"><p>Boom! You got it.</p></p>\n",
       "        <p>Score: 1</p>\n",
       "      </div>\n",
       "    </div>\n"
      ],
      "text/plain": [
       "<IPython.core.display.HTML object>"
      ]
     },
     "metadata": {},
     "output_type": "display_data"
    }
   ],
   "source": [
    "with open(\"images/25-4.png\", \"rb\") as file:\n",
    "    wqet_grader.grade(\"Project 2 Assessment\", \"Task 25.4\", file)"
   ]
  },
  {
   "cell_type": "markdown",
   "id": "3e4f18dc-04f3-451a-a772-0d605fb1b5a2",
   "metadata": {
    "deletable": false,
    "editable": false
   },
   "source": [
    "**Task 2.5.5:** Create a scatter plot that shows apartment price (`\"price_aprox_usd\"`) as a function of apartment size (`\"surface_covered_in_m2\"`). Be sure to label your axes `\"Price [USD]\"` and `\"Area [sq meters]\"`, respectively. Your plot should have the title `\"Mexico City: Price vs. Area\"`.\n",
    "\n",
    "Do you see a relationship between price and area in the data? How is this similar to or different from the Buenos Aires dataset?"
   ]
  },
  {
   "cell_type": "code",
   "execution_count": 198,
   "id": "8f430f25-1a7e-435b-b5bf-2bf8427eefdd",
   "metadata": {
    "deletable": false
   },
   "outputs": [
    {
     "data": {
      "image/png": "[encoded data removed]",
      "text/plain": [
       "<Figure size 432x288 with 1 Axes>"
      ]
     },
     "metadata": {
      "needs_background": "light"
     },
     "output_type": "display_data"
    }
   ],
   "source": [
    "# Plot price vs area\n",
    "plt.scatter(x = df['surface_covered_in_m2'], y=df['price_aprox_usd'], )\n",
    "plt.ylabel('Price [USD]')\n",
    "plt.xlabel('Area [sq meters]')\n",
    "plt.title('Mexico City: Price vs. Area')\n",
    "# Don't delete the code below 👇\n",
    "plt.savefig(\"images/25-5.png\", dpi=150)"
   ]
  },
  {
   "cell_type": "code",
   "execution_count": 199,
   "id": "056eff00-7276-4293-8c56-6f1cecb2daa6",
   "metadata": {
    "deletable": false,
    "editable": false
   },
   "outputs": [
    {
     "data": {
      "text/html": [
       "\n",
       "    <div class=\"wqet-result\">\n",
       "      <div class=\"animation\">\n",
       "        <svg class=\"checkmark\" xmlns=\"http://www.w3.org/2000/svg\" viewBox=\"0 0 52 52\">\n",
       "          <circle class=\"checkmark__circle\" cx=\"26\" cy=\"26\" r=\"25\" fill=\"none\"/>\n",
       "          <path class=\"checkmark__check\" fill=\"none\" d=\"M14.1 27.2l7.1 7.2 16.7-16.8\"/>\n",
       "        </svg>\n",
       "      </div>\n",
       "      <div class=\"details\">\n",
       "        <p class=\"title\"><p>Correct.</p></p>\n",
       "        <p>Score: 1</p>\n",
       "      </div>\n",
       "    </div>\n"
      ],
      "text/plain": [
       "<IPython.core.display.HTML object>"
      ]
     },
     "metadata": {},
     "output_type": "display_data"
    }
   ],
   "source": [
    "with open(\"images/25-5.png\", \"rb\") as file:\n",
    "    wqet_grader.grade(\"Project 2 Assessment\", \"Task 25.5\", file)"
   ]
  },
  {
   "cell_type": "markdown",
   "id": "095bc111-55a9-40c2-b322-4ab50c617750",
   "metadata": {
    "deletable": false,
    "editable": false
   },
   "source": [
    "**Task 2.5.6:** **(UNGRADED)** Create a Mapbox scatter plot that shows the location of the apartments in your dataset and represent their price using color. \n",
    "\n",
    "What areas of the city seem to have higher real estate prices?"
   ]
  },
  {
   "cell_type": "code",
   "execution_count": null,
   "id": "d07fc514-897c-4399-87e1-97c930bf8a66",
   "metadata": {
    "deletable": false
   },
   "outputs": [],
   "source": [
    "# Plot Mapbox location and price\n"
   ]
  },
  {
   "cell_type": "markdown",
   "id": "1d9f5ee7-348c-407b-a8ce-b4a79f7a0cc4",
   "metadata": {
    "deletable": false,
    "editable": false
   },
   "source": [
    "## Split"
   ]
  },
  {
   "cell_type": "markdown",
   "id": "f943c3ec-c299-4941-996c-4ea4a21a14f5",
   "metadata": {
    "deletable": false,
    "editable": false
   },
   "source": [
    "**Task 2.5.7:** Create your feature matrix `X_train` and target vector `y_train`. Your target is `\"price_aprox_usd\"`. Your features should be all the columns that remain in the DataFrame you cleaned above."
   ]
  },
  {
   "cell_type": "code",
   "execution_count": 200,
   "id": "804f79c9-e2ed-4fbb-976d-a7841d8ae551",
   "metadata": {},
   "outputs": [
    {
     "data": {
      "text/plain": [
       "Index(['price_aprox_usd', 'surface_covered_in_m2', 'lat', 'lon', 'borough'], dtype='object')"
      ]
     },
     "execution_count": 200,
     "metadata": {},
     "output_type": "execute_result"
    }
   ],
   "source": [
    "df.columns"
   ]
  },
  {
   "cell_type": "code",
   "execution_count": 202,
   "id": "eac77c6c-b0e3-4d84-af72-f75270c11187",
   "metadata": {
    "deletable": false
   },
   "outputs": [],
   "source": [
    "# Split data into feature matrix `X_train` and target vector `y_train`.\n",
    "feature = 'price_aprox_usd'\n",
    "X_train = df[['surface_covered_in_m2', 'lat', 'lon', 'borough']]\n",
    "y_train = df[feature]"
   ]
  },
  {
   "cell_type": "code",
   "execution_count": 203,
   "id": "45c043d2-6988-4db4-b12c-1fa05bb0dab5",
   "metadata": {
    "deletable": false,
    "editable": false
   },
   "outputs": [
    {
     "data": {
      "text/html": [
       "\n",
       "    <div class=\"wqet-result\">\n",
       "      <div class=\"animation\">\n",
       "        <svg class=\"checkmark\" xmlns=\"http://www.w3.org/2000/svg\" viewBox=\"0 0 52 52\">\n",
       "          <circle class=\"checkmark__circle\" cx=\"26\" cy=\"26\" r=\"25\" fill=\"none\"/>\n",
       "          <path class=\"checkmark__check\" fill=\"none\" d=\"M14.1 27.2l7.1 7.2 16.7-16.8\"/>\n",
       "        </svg>\n",
       "      </div>\n",
       "      <div class=\"details\">\n",
       "        <p class=\"title\"><p>Python master 😁</p></p>\n",
       "        <p>Score: 1</p>\n",
       "      </div>\n",
       "    </div>\n"
      ],
      "text/plain": [
       "<IPython.core.display.HTML object>"
      ]
     },
     "metadata": {},
     "output_type": "display_data"
    }
   ],
   "source": [
    "wqet_grader.grade(\"Project 2 Assessment\", \"Task 25.7a\", X_train)"
   ]
  },
  {
   "cell_type": "code",
   "execution_count": 205,
   "id": "11cd362f-3e55-46e9-9120-078cf54d49b5",
   "metadata": {
    "deletable": false,
    "editable": false
   },
   "outputs": [
    {
     "data": {
      "text/html": [
       "\n",
       "    <div class=\"wqet-result\">\n",
       "      <div class=\"animation\">\n",
       "        <svg class=\"checkmark\" xmlns=\"http://www.w3.org/2000/svg\" viewBox=\"0 0 52 52\">\n",
       "          <circle class=\"checkmark__circle\" cx=\"26\" cy=\"26\" r=\"25\" fill=\"none\"/>\n",
       "          <path class=\"checkmark__check\" fill=\"none\" d=\"M14.1 27.2l7.1 7.2 16.7-16.8\"/>\n",
       "        </svg>\n",
       "      </div>\n",
       "      <div class=\"details\">\n",
       "        <p class=\"title\"><p>Boom! You got it.</p></p>\n",
       "        <p>Score: 1</p>\n",
       "      </div>\n",
       "    </div>\n"
      ],
      "text/plain": [
       "<IPython.core.display.HTML object>"
      ]
     },
     "metadata": {},
     "output_type": "display_data"
    }
   ],
   "source": [
    "wqet_grader.grade(\"Project 2 Assessment\", \"Task 25.7b\", y_train)"
   ]
  },
  {
   "cell_type": "markdown",
   "id": "df817f6c-ca21-49d0-be84-7af163041ca5",
   "metadata": {
    "deletable": false,
    "editable": false
   },
   "source": [
    "# Build Model"
   ]
  },
  {
   "cell_type": "markdown",
   "id": "2ddaad75-ef9c-49c0-a963-4348483e7201",
   "metadata": {
    "deletable": false,
    "editable": false
   },
   "source": [
    "## Baseline"
   ]
  },
  {
   "cell_type": "markdown",
   "id": "6cdda106-0d7a-426d-aa9d-94ed60702c32",
   "metadata": {
    "deletable": false,
    "editable": false
   },
   "source": [
    "**Task 2.5.8:** Calculate the baseline mean absolute error for your model."
   ]
  },
  {
   "cell_type": "code",
   "execution_count": 210,
   "id": "3a998470-7558-4c2a-8681-ea76d9b2ae16",
   "metadata": {
    "deletable": false
   },
   "outputs": [
    {
     "name": "stdout",
     "output_type": "stream",
     "text": [
      "Mean apt price: 54246.5314982643\n",
      "Baseline MAE: 17239.939475888303\n"
     ]
    }
   ],
   "source": [
    "y_mean = y_train.mean()\n",
    "y_pred_baseline = [y_mean] * len(y_train)\n",
    "baseline_mae = mean_absolute_error(y_train, y_pred_baseline)\n",
    "print(\"Mean apt price:\", y_mean)\n",
    "print(\"Baseline MAE:\", baseline_mae)"
   ]
  },
  {
   "cell_type": "code",
   "execution_count": 211,
   "id": "3ae01c7d-f99c-4ddd-9de2-99a048931d26",
   "metadata": {
    "deletable": false,
    "editable": false
   },
   "outputs": [
    {
     "data": {
      "text/html": [
       "\n",
       "    <div class=\"wqet-result\">\n",
       "      <div class=\"animation\">\n",
       "        <svg class=\"checkmark\" xmlns=\"http://www.w3.org/2000/svg\" viewBox=\"0 0 52 52\">\n",
       "          <circle class=\"checkmark__circle\" cx=\"26\" cy=\"26\" r=\"25\" fill=\"none\"/>\n",
       "          <path class=\"checkmark__check\" fill=\"none\" d=\"M14.1 27.2l7.1 7.2 16.7-16.8\"/>\n",
       "        </svg>\n",
       "      </div>\n",
       "      <div class=\"details\">\n",
       "        <p class=\"title\"><p>Yes! Great problem solving.🥳</p></p>\n",
       "        <p>Score: 1</p>\n",
       "      </div>\n",
       "    </div>\n"
      ],
      "text/plain": [
       "<IPython.core.display.HTML object>"
      ]
     },
     "metadata": {},
     "output_type": "display_data"
    }
   ],
   "source": [
    "wqet_grader.grade(\"Project 2 Assessment\", \"Task 25.8\", [baseline_mae])"
   ]
  },
  {
   "cell_type": "markdown",
   "id": "0b5e8c7d-dbd3-4405-a048-475a0150578b",
   "metadata": {
    "deletable": false,
    "editable": false
   },
   "source": [
    "## Iterate"
   ]
  },
  {
   "cell_type": "markdown",
   "id": "d43cc258-e24e-4231-8638-7b80df4636dc",
   "metadata": {
    "deletable": false,
    "editable": false
   },
   "source": [
    "**Task 2.5.9:** Create a pipeline named `model` that contains all the transformers necessary for this dataset and one of the predictors you've used during this project. Then fit your model to the training data."
   ]
  },
  {
   "cell_type": "code",
   "execution_count": 214,
   "id": "a2055448-7694-42a3-94ed-051a5c7b45fd",
   "metadata": {
    "deletable": false
   },
   "outputs": [
    {
     "data": {
      "text/plain": [
       "Pipeline(steps=[('onehotencoder',\n",
       "                 OneHotEncoder(cols=['borough'], use_cat_names=True)),\n",
       "                ('simpleimputer', SimpleImputer()), ('ridge', Ridge())])"
      ]
     },
     "execution_count": 214,
     "metadata": {},
     "output_type": "execute_result"
    }
   ],
   "source": [
    "model = make_pipeline(\n",
    "    OneHotEncoder(use_cat_names = True), \n",
    "    SimpleImputer(),\n",
    "    Ridge()\n",
    ")\n",
    "model.fit(X_train, y_train)"
   ]
  },
  {
   "cell_type": "code",
   "execution_count": 215,
   "id": "ccdd884a-7d35-4651-aa85-98c62bbd9bf8",
   "metadata": {
    "deletable": false,
    "editable": false
   },
   "outputs": [
    {
     "data": {
      "text/html": [
       "\n",
       "    <div class=\"wqet-result\">\n",
       "      <div class=\"animation\">\n",
       "        <svg class=\"checkmark\" xmlns=\"http://www.w3.org/2000/svg\" viewBox=\"0 0 52 52\">\n",
       "          <circle class=\"checkmark__circle\" cx=\"26\" cy=\"26\" r=\"25\" fill=\"none\"/>\n",
       "          <path class=\"checkmark__check\" fill=\"none\" d=\"M14.1 27.2l7.1 7.2 16.7-16.8\"/>\n",
       "        </svg>\n",
       "      </div>\n",
       "      <div class=\"details\">\n",
       "        <p class=\"title\"><p>Wow, you're making great progress.</p></p>\n",
       "        <p>Score: 1</p>\n",
       "      </div>\n",
       "    </div>\n"
      ],
      "text/plain": [
       "<IPython.core.display.HTML object>"
      ]
     },
     "metadata": {},
     "output_type": "display_data"
    }
   ],
   "source": [
    "wqet_grader.grade(\"Project 2 Assessment\", \"Task 25.9\", model)"
   ]
  },
  {
   "cell_type": "markdown",
   "id": "432b2c22-9c54-4326-84a7-0f34d99ff193",
   "metadata": {
    "deletable": false,
    "editable": false
   },
   "source": [
    "## Evaluate"
   ]
  },
  {
   "cell_type": "markdown",
   "id": "157be0ad-80c4-4b2a-9b44-60ffd2dd9c84",
   "metadata": {
    "deletable": false,
    "editable": false
   },
   "source": [
    "**Task 2.5.10:** Read the CSV file `mexico-city-test-features.csv` into the DataFrame `X_test`."
   ]
  },
  {
   "cell_type": "code",
   "execution_count": 217,
   "id": "9fcb2d73-9c22-4e0c-b6d0-02318981c3d0",
   "metadata": {
    "deletable": false
   },
   "outputs": [
    {
     "name": "stdout",
     "output_type": "stream",
     "text": [
      "<class 'pandas.core.frame.DataFrame'>\n",
      "RangeIndex: 1041 entries, 0 to 1040\n",
      "Data columns (total 4 columns):\n",
      " #   Column                 Non-Null Count  Dtype  \n",
      "---  ------                 --------------  -----  \n",
      " 0   surface_covered_in_m2  1041 non-null   float64\n",
      " 1   lat                    986 non-null    float64\n",
      " 2   lon                    986 non-null    float64\n",
      " 3   borough                1041 non-null   object \n",
      "dtypes: float64(3), object(1)\n",
      "memory usage: 32.7+ KB\n",
      "None\n"
     ]
    },
    {
     "data": {
      "text/html": [
       "<div>\n",
       "<style scoped>\n",
       "    .dataframe tbody tr th:only-of-type {\n",
       "        vertical-align: middle;\n",
       "    }\n",
       "\n",
       "    .dataframe tbody tr th {\n",
       "        vertical-align: top;\n",
       "    }\n",
       "\n",
       "    .dataframe thead th {\n",
       "        text-align: right;\n",
       "    }\n",
       "</style>\n",
       "<table border=\"1\" class=\"dataframe\">\n",
       "  <thead>\n",
       "    <tr style=\"text-align: right;\">\n",
       "      <th></th>\n",
       "      <th>surface_covered_in_m2</th>\n",
       "      <th>lat</th>\n",
       "      <th>lon</th>\n",
       "      <th>borough</th>\n",
       "    </tr>\n",
       "  </thead>\n",
       "  <tbody>\n",
       "    <tr>\n",
       "      <th>0</th>\n",
       "      <td>60.0</td>\n",
       "      <td>19.493185</td>\n",
       "      <td>-99.205755</td>\n",
       "      <td>Azcapotzalco</td>\n",
       "    </tr>\n",
       "    <tr>\n",
       "      <th>1</th>\n",
       "      <td>55.0</td>\n",
       "      <td>19.307247</td>\n",
       "      <td>-99.166700</td>\n",
       "      <td>Coyoacán</td>\n",
       "    </tr>\n",
       "    <tr>\n",
       "      <th>2</th>\n",
       "      <td>50.0</td>\n",
       "      <td>19.363469</td>\n",
       "      <td>-99.010141</td>\n",
       "      <td>Iztapalapa</td>\n",
       "    </tr>\n",
       "    <tr>\n",
       "      <th>3</th>\n",
       "      <td>60.0</td>\n",
       "      <td>19.474655</td>\n",
       "      <td>-99.189277</td>\n",
       "      <td>Azcapotzalco</td>\n",
       "    </tr>\n",
       "    <tr>\n",
       "      <th>4</th>\n",
       "      <td>74.0</td>\n",
       "      <td>19.394628</td>\n",
       "      <td>-99.143842</td>\n",
       "      <td>Benito Juárez</td>\n",
       "    </tr>\n",
       "  </tbody>\n",
       "</table>\n",
       "</div>"
      ],
      "text/plain": [
       "   surface_covered_in_m2        lat        lon        borough\n",
       "0                   60.0  19.493185 -99.205755   Azcapotzalco\n",
       "1                   55.0  19.307247 -99.166700       Coyoacán\n",
       "2                   50.0  19.363469 -99.010141     Iztapalapa\n",
       "3                   60.0  19.474655 -99.189277   Azcapotzalco\n",
       "4                   74.0  19.394628 -99.143842  Benito Juárez"
      ]
     },
     "execution_count": 217,
     "metadata": {},
     "output_type": "execute_result"
    }
   ],
   "source": [
    "X_test = pd.read_csv('./data/mexico-city-test-features.csv')\n",
    "print(X_test.info())\n",
    "X_test.head()"
   ]
  },
  {
   "cell_type": "code",
   "execution_count": 218,
   "id": "1d39481f-6b2d-436d-ad98-e94325382bd4",
   "metadata": {
    "deletable": false,
    "editable": false
   },
   "outputs": [
    {
     "data": {
      "text/html": [
       "\n",
       "    <div class=\"wqet-result\">\n",
       "      <div class=\"animation\">\n",
       "        <svg class=\"checkmark\" xmlns=\"http://www.w3.org/2000/svg\" viewBox=\"0 0 52 52\">\n",
       "          <circle class=\"checkmark__circle\" cx=\"26\" cy=\"26\" r=\"25\" fill=\"none\"/>\n",
       "          <path class=\"checkmark__check\" fill=\"none\" d=\"M14.1 27.2l7.1 7.2 16.7-16.8\"/>\n",
       "        </svg>\n",
       "      </div>\n",
       "      <div class=\"details\">\n",
       "        <p class=\"title\"><p>That's the right answer. Keep it up!</p></p>\n",
       "        <p>Score: 1</p>\n",
       "      </div>\n",
       "    </div>\n"
      ],
      "text/plain": [
       "<IPython.core.display.HTML object>"
      ]
     },
     "metadata": {},
     "output_type": "display_data"
    }
   ],
   "source": [
    "wqet_grader.grade(\"Project 2 Assessment\", \"Task 25.10\", X_test)"
   ]
  },
  {
   "cell_type": "markdown",
   "id": "a7dfeb49-87ba-4eac-9502-b2851a8f3da9",
   "metadata": {
    "deletable": false,
    "editable": false
   },
   "source": [
    "**Task 2.5.11:** Use your model to generate a list of predictions for `X_test`. When you submit your predictions to the grader, it will calculate the mean absolute error for your model."
   ]
  },
  {
   "cell_type": "code",
   "execution_count": 219,
   "id": "ff1f3096-cab7-4ef6-8f18-d64fe5fc6a6f",
   "metadata": {
    "deletable": false
   },
   "outputs": [],
   "source": [
    "y_test_pred = model.predict(X_test)"
   ]
  },
  {
   "cell_type": "code",
   "execution_count": 220,
   "id": "fade74ef-310d-4574-9c33-f561843e8d0c",
   "metadata": {
    "deletable": false,
    "editable": false
   },
   "outputs": [
    {
     "data": {
      "text/html": [
       "\n",
       "    <div class=\"wqet-result\">\n",
       "      <div class=\"animation\">\n",
       "        <svg class=\"checkmark\" xmlns=\"http://www.w3.org/2000/svg\" viewBox=\"0 0 52 52\">\n",
       "          <circle class=\"checkmark__circle\" cx=\"26\" cy=\"26\" r=\"25\" fill=\"none\"/>\n",
       "          <path class=\"checkmark__check\" fill=\"none\" d=\"M14.1 27.2l7.1 7.2 16.7-16.8\"/>\n",
       "        </svg>\n",
       "      </div>\n",
       "      <div class=\"details\">\n",
       "        <p class=\"title\"><p>The MAE for your model is: <code>14901.618</code>. Good work!</p></p>\n",
       "        <p>Score: 1</p>\n",
       "      </div>\n",
       "    </div>\n"
      ],
      "text/plain": [
       "<IPython.core.display.HTML object>"
      ]
     },
     "metadata": {},
     "output_type": "display_data"
    }
   ],
   "source": [
    "wqet_grader.grade(\"Project 2 Assessment\", \"Task 25.11\", list(y_test_pred))"
   ]
  },
  {
   "cell_type": "markdown",
   "id": "61a510f1-d69d-40ba-838d-208d1cda2275",
   "metadata": {
    "deletable": false,
    "editable": false
   },
   "source": [
    "# Communicate Results"
   ]
  },
  {
   "cell_type": "markdown",
   "id": "087e1df2-8025-4f95-b3b0-3071ff4aebd3",
   "metadata": {
    "deletable": false,
    "editable": false
   },
   "source": [
    "**Task 2.5.12:** Create a Series named `feat_imp`. The index should contain the names of all the features your model considers when making predictions; the values should be the coefficient values associated with each feature. The Series should be sorted ascending by absolute value.  "
   ]
  },
  {
   "cell_type": "code",
   "execution_count": 221,
   "id": "a9c37424-f040-4b8a-8879-8242314630ab",
   "metadata": {},
   "outputs": [],
   "source": [
    "features = df.columns"
   ]
  },
  {
   "cell_type": "code",
   "execution_count": 226,
   "id": "9327849a-d2e3-423f-a1ee-c10375dd7e7b",
   "metadata": {},
   "outputs": [],
   "source": [
    "coefficients = model.named_steps['ridge'].coef_"
   ]
  },
  {
   "cell_type": "code",
   "execution_count": 227,
   "id": "84322367-c758-4608-8a70-f2f460f0d7dc",
   "metadata": {},
   "outputs": [
    {
     "data": {
      "text/plain": [
       "array([   291.65415588,    478.90137462,  -2492.22181412,  13778.18887983,\n",
       "        10319.42980445, -13349.01744766,  -6637.42975669,  -5609.91862933,\n",
       "          405.40312735,   3737.56100072,   -350.53199047,   1977.31471761,\n",
       "         2459.28864612, -14166.86948588,   3275.12106108,  -5925.66645029,\n",
       "          929.85739998,   9157.26912312])"
      ]
     },
     "execution_count": 227,
     "metadata": {},
     "output_type": "execute_result"
    }
   ],
   "source": [
    "coefficients"
   ]
  },
  {
   "cell_type": "code",
   "execution_count": 241,
   "id": "36eb9415-dd16-4fe7-939f-0dfed8063eb8",
   "metadata": {},
   "outputs": [
    {
     "data": {
      "text/plain": [
       "['__abstractmethods__',\n",
       " '__class__',\n",
       " '__delattr__',\n",
       " '__dict__',\n",
       " '__dir__',\n",
       " '__doc__',\n",
       " '__eq__',\n",
       " '__format__',\n",
       " '__ge__',\n",
       " '__getattribute__',\n",
       " '__getstate__',\n",
       " '__gt__',\n",
       " '__hash__',\n",
       " '__init__',\n",
       " '__init_subclass__',\n",
       " '__le__',\n",
       " '__lt__',\n",
       " '__module__',\n",
       " '__ne__',\n",
       " '__new__',\n",
       " '__reduce__',\n",
       " '__reduce_ex__',\n",
       " '__repr__',\n",
       " '__setattr__',\n",
       " '__setstate__',\n",
       " '__sizeof__',\n",
       " '__str__',\n",
       " '__subclasshook__',\n",
       " '__weakref__',\n",
       " '_abc_impl',\n",
       " '_check_feature_names',\n",
       " '_check_n_features',\n",
       " '_decision_function',\n",
       " '_estimator_type',\n",
       " '_get_param_names',\n",
       " '_get_tags',\n",
       " '_more_tags',\n",
       " '_normalize',\n",
       " '_preprocess_data',\n",
       " '_repr_html_',\n",
       " '_repr_html_inner',\n",
       " '_repr_mimebundle_',\n",
       " '_set_intercept',\n",
       " '_validate_data',\n",
       " 'alpha',\n",
       " 'coef_',\n",
       " 'copy_X',\n",
       " 'fit',\n",
       " 'fit_intercept',\n",
       " 'get_params',\n",
       " 'intercept_',\n",
       " 'max_iter',\n",
       " 'n_features_in_',\n",
       " 'n_iter_',\n",
       " 'normalize',\n",
       " 'positive',\n",
       " 'predict',\n",
       " 'random_state',\n",
       " 'score',\n",
       " 'set_params',\n",
       " 'solver',\n",
       " 'tol']"
      ]
     },
     "execution_count": 241,
     "metadata": {},
     "output_type": "execute_result"
    }
   ],
   "source": [
    "dir(model.named_steps['ridge'])"
   ]
  },
  {
   "cell_type": "code",
   "execution_count": 246,
   "id": "25074f67-6363-45fa-aa10-5aec426129c7",
   "metadata": {},
   "outputs": [
    {
     "data": {
      "text/plain": [
       "<bound method BaseEstimator.get_params of Ridge()>"
      ]
     },
     "execution_count": 246,
     "metadata": {},
     "output_type": "execute_result"
    }
   ],
   "source": [
    "model.named_steps['ridge'].get_params"
   ]
  },
  {
   "cell_type": "code",
   "execution_count": 228,
   "id": "8c52a764-6041-4765-bf99-5c330d567e5e",
   "metadata": {
    "deletable": false
   },
   "outputs": [
    {
     "data": {
      "text/plain": [
       "surface_covered_in_m2      291.654156\n",
       "lat                        478.901375\n",
       "lon                      -2492.221814\n",
       "borough                  13778.188880\n",
       "dtype: float64"
      ]
     },
     "execution_count": 228,
     "metadata": {},
     "output_type": "execute_result"
    }
   ],
   "source": [
    "coefficients = model.named_steps['ridge'].coef_\n",
    "features = \n",
    "feat_imp = pd.Series(coefficients[0:4], index=features)\n",
    "feat_imp"
   ]
  },
  {
   "cell_type": "code",
   "execution_count": 229,
   "id": "404eef64-5651-4d41-8552-c5fb81603281",
   "metadata": {
    "deletable": false,
    "editable": false
   },
   "outputs": [
    {
     "data": {
      "text/html": [
       "\n",
       "  <div class=\"wqet-result\">\n",
       "    <div class=\"animation\">\n",
       "      <svg class=\"failmark\" xmlns=\"http://www.w3.org/2000/svg\" viewBox=\"0 0 52 52\">\n",
       "        <circle class=\"failmark__circle\" cx=\"26\" cy=\"26\" r=\"25\" fill=\"none\"/>\n",
       "      </svg>\n",
       "    </div>\n",
       "    <div class=\"details\">\n",
       "      <p class=\"title\"><p>Your submission should have length <code>18</code>, not <code>4</code>.</p></p>\n",
       "      <p>Score: 0</p>\n",
       "    </div>\n",
       "  </div>\n"
      ],
      "text/plain": [
       "<IPython.core.display.HTML object>"
      ]
     },
     "metadata": {},
     "output_type": "display_data"
    }
   ],
   "source": [
    "wqet_grader.grade(\"Project 2 Assessment\", \"Task 25.12\", feat_imp)"
   ]
  },
  {
   "cell_type": "markdown",
   "id": "34eab663-5a3d-4e33-afef-7871c8023c21",
   "metadata": {
    "deletable": false,
    "editable": false
   },
   "source": [
    "**Task 2.5.13:** Create a horizontal bar chart that shows the **10 most influential** coefficients for your model. Be sure to label your x- and y-axis `\"Importance [USD]\"` and `\"Feature\"`, respectively, and give your chart the title `\"Feature Importances for Apartment Price\"`."
   ]
  },
  {
   "cell_type": "code",
   "execution_count": null,
   "id": "848059a6-a548-4530-9e08-6beacd9ca4c6",
   "metadata": {
    "deletable": false
   },
   "outputs": [],
   "source": [
    "# Create horizontal bar chart\n",
    "\n",
    "# Don't delete the code below 👇\n",
    "plt.savefig(\"images/25-14.png\", dpi=150)"
   ]
  },
  {
   "cell_type": "code",
   "execution_count": null,
   "id": "2aa40443-b609-4541-aeac-58c6713ba434",
   "metadata": {
    "deletable": false,
    "editable": false
   },
   "outputs": [],
   "source": [
    "with open(\"images/25-14.png\", \"rb\") as file:\n",
    "    wqet_grader.grade(\"Project 2 Assessment\", \"Task 25.13\", file)"
   ]
  },
  {
   "cell_type": "markdown",
   "id": "fb0aaecc",
   "metadata": {
    "deletable": false,
    "editable": false
   },
   "source": [
    "---\n",
    "Copyright © 2022 WorldQuant University. This\n",
    "content is licensed solely for personal use. Redistribution or\n",
    "publication of this material is strictly prohibited.\n"
   ]
  }
 ],
 "metadata": {
  "kernelspec": {
   "display_name": "Python 3 (ipykernel)",
   "language": "python",
   "name": "python3"
  },
  "language_info": {
   "codemirror_mode": {
    "name": "ipython",
    "version": 3
   },
   "file_extension": ".py",
   "mimetype": "text/x-python",
   "name": "python",
   "nbconvert_exporter": "python",
   "pygments_lexer": "ipython3",
   "version": "3.9.6"
  }
 },
 "nbformat": 4,
 "nbformat_minor": 5
}
