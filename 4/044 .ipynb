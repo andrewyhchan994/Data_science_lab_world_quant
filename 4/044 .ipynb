{
 cells [
  {
   cell_type markdown,
   id 56a5f6d3-0bc8-4d17-a88e-3f435a485759,
   metadata {
    deletable false,
    editable false
   },
   source [
    font size=+3strong4.4. Beyond the Model Data Ethicsstrongfont
   ]
  },
  {
   cell_type code,
   execution_count 1,
   id c0b5c020-d93a-4613-811b-44376e3497ee,
   metadata {
    deletable false,
    editable false,
    init_cell true
   },
   outputs [],
   source [
    import sqlite3n,
    import warningsn,
    n,
    import matplotlib.pyplot as pltn,
    import numpy as npn,
    import pandas as pdn,
    from category_encoders import OneHotEncodern,
    from IPython.display import VimeoVideon,
    from sklearn.linear_model import LogisticRegressionn,
    from sklearn.metrics import accuracy_scoren,
    from sklearn.model_selection import train_test_splitn,
    from sklearn.pipeline import Pipeline, make_pipelinen,
    from sklearn.utils.validation import check_is_fittedn,
    n,
    warnings.simplefilter(action=ignore, category=FutureWarning)
   ]
  },
  {
   cell_type code,
   execution_count null,
   id 507fbbaa-3f2c-41df-aa68-22a629f3e76a,
   metadata {
    deletable false,
    editable false,
    init_cell true
   },
   outputs [],
   source [
    VimeoVideo(665414155, h=c8a3e81a05, width=600)
   ]
  },
  {
   cell_type markdown,
   id 0d61ec2c-51ee-4c37-8469-d56909073ad1,
   metadata {
    deletable false,
    editable false
   },
   source [
    # Prepare Data
   ]
  },
  {
   cell_type markdown,
   id 565c7aba-4476-44c7-8dba-32b3c0b8aac3,
   metadata {
    deletable false,
    editable false
   },
   source [
    Task 4.4.1 Run the cell below to connect to the `nepal.sqlite` database.n,
    n,
    - [What's span id='term'ipython-sqlspan](..%40textbook10-databases-sql.ipynb#ipython-sql)n,
    - [What's a span id='term'Magics functionspan](..%40textbook10-databases-sql.ipynb#Magic-Commands)
   ]
  },
  {
   cell_type code,
   execution_count 2,
   id 6431a589-9fbb-4307-93e0-02473719ef28,
   metadata {
    deletable false
   },
   outputs [
    {
     data {
      textplain [
       'Connected @homejovyannepal.sqlite'
      ]
     },
     execution_count 2,
     metadata {},
     output_type execute_result
    }
   ],
   source [
    %load_ext sqln,
    %sql sqlitehomejovyannepal.sqlite
   ]
  },
  {
   cell_type code,
   execution_count null,
   id 382e46aa-8bd6-4c8d-88cd-84df22c9c0c2,
   metadata {
    deletable false,
    editable false,
    init_cell true
   },
   outputs [],
   source [
    VimeoVideo(665415362, h=f677c48c46, width=600)
   ]
  },
  {
   cell_type markdown,
   id 4aa77c39-044c-4723-a02d-3cc04eba5486,
   metadata {
    deletable false,
    editable false
   },
   source [
    Task 4.4.2 Select all columns from the `household_demographics` table, limiting your results to the first five rows.n,
    n,
    - [span id='technique'Write a basic query in span id='tool'SQLspanspan.](..%40textbook10-databases-sql.ipynb#Building-Blocks-of-the-Basic-Query)n,
    - [span id='technique'Inspect a table using a `LIMIT` clause in span id='tool'SQLspanspan.](..%40textbook10-databases-sql.ipynb#Building-Blocks-of-the-Basic-Query)
   ]
  },
  {
   cell_type code,
   execution_count 3,
   id fcbb0f2b-071e-48c2-9709-de38f5076617,
   metadata {
    deletable false
   },
   outputs [
    {
     name stdout,
     output_type stream,
     text [
        sqlitehomejovyannepal.sqliten,
      Done.n
     ]
    },
    {
     data {
      texthtml [
       tablen,
           theadn,
               trn,
                   thhousehold_idthn,
                   thgender_household_headthn,
                   thage_household_headthn,
                   thcaste_householdthn,
                   theducation_level_household_headthn,
                   thincome_level_householdthn,
                   thsize_householdthn,
                   this_bank_account_present_in_householdthn,
               trn,
           theadn,
           tbodyn,
               trn,
                   td101tdn,
                   tdMaletdn,
                   td31.0tdn,
                   tdRaitdn,
                   tdIlliteratetdn,
                   tdRs. 10 thousandtdn,
                   td3.0tdn,
                   td0.0tdn,
               trn,
               trn,
                   td201tdn,
                   tdFemaletdn,
                   td62.0tdn,
                   tdRaitdn,
                   tdIlliteratetdn,
                   tdRs. 10 thousandtdn,
                   td6.0tdn,
                   td0.0tdn,
               trn,
               trn,
                   td301tdn,
                   tdMaletdn,
                   td51.0tdn,
                   tdGhartiBhujeltdn,
                   tdIlliteratetdn,
                   tdRs. 10 thousandtdn,
                   td13.0tdn,
                   td0.0tdn,
               trn,
               trn,
                   td401tdn,
                   tdMaletdn,
                   td48.0tdn,
                   tdGhartiBhujeltdn,
                   tdIlliteratetdn,
                   tdRs. 10 thousandtdn,
                   td5.0tdn,
                   td0.0tdn,
               trn,
               trn,
                   td501tdn,
                   tdMaletdn,
                   td70.0tdn,
                   tdGhartiBhujeltdn,
                   tdIlliteratetdn,
                   tdRs. 10 thousandtdn,
                   td8.0tdn,
                   td0.0tdn,
               trn,
           tbodyn,
       table
      ],
      textplain [
       [(101, 'Male', 31.0, 'Rai', 'Illiterate', 'Rs. 10 thousand', 3.0, 0.0),n,
        (201, 'Female', 62.0, 'Rai', 'Illiterate', 'Rs. 10 thousand', 6.0, 0.0),n,
        (301, 'Male', 51.0, 'GhartiBhujel', 'Illiterate', 'Rs. 10 thousand', 13.0, 0.0),n,
        (401, 'Male', 48.0, 'GhartiBhujel', 'Illiterate', 'Rs. 10 thousand', 5.0, 0.0),n,
        (501, 'Male', 70.0, 'GhartiBhujel', 'Illiterate', 'Rs. 10 thousand', 8.0, 0.0)]
      ]
     },
     execution_count 3,
     metadata {},
     output_type execute_result
    }
   ],
   source [
    %%sqln,
    SELECT  FROM household_demographics LIMIT 5;
   ]
  },
  {
   cell_type markdown,
   id 73db4135-7ab4-4e56-aea8-e456c3acd58f,
   metadata {
    deletable false,
    editable false
   },
   source [
    Task 4.4.3 How many observations are in the `household_demographics` table Use the `count` command to find out.n,
    n,
    - [span id='technique'Calculate the number of rows in a table using a `count` function in span id='tool'SQLspanspan.](..%40textbook10-databases-sql.ipynb#Aggregating-Data) 
   ]
  },
  {
   cell_type code,
   execution_count 4,
   id 83c0e1cb-06f0-4510-a93d-3ba89eef144b,
   metadata {
    deletable false
   },
   outputs [
    {
     name stdout,
     output_type stream,
     text [
        sqlitehomejovyannepal.sqliten,
      Done.n
     ]
    },
    {
     data {
      texthtml [
       tablen,
           theadn,
               trn,
                   thCOUNT()thn,
               trn,
           theadn,
           tbodyn,
               trn,
                   td249932tdn,
               trn,
           tbodyn,
       table
      ],
      textplain [
       [(249932,)]
      ]
     },
     execution_count 4,
     metadata {},
     output_type execute_result
    }
   ],
   source [
    %%sqln,
    SELECT COUNT() FROM household_demographics
   ]
  },
  {
   cell_type code,
   execution_count null,
   id 2aa32452-4475-47a9-b14a-1a13f4284885,
   metadata {
    deletable false,
    editable false,
    init_cell true
   },
   outputs [],
   source [
    VimeoVideo(665415378, h=aa2b99493e, width=600)
   ]
  },
  {
   cell_type markdown,
   id 4e8b1eb4-fe29-4d2b-9afd-a3ebdc64388d,
   metadata {
    deletable false,
    editable false
   },
   source [
    Task 4.4.4 Select all columns from the `id_map` table, limiting your results to the first five rows.n,
    n,
    - [span id='technique'Inspect a table using a `LIMIT` clause in span id='tool'SQLspanspan.](..%40textbook10-databases-sql.ipynb#Building-Blocks-of-the-Basic-Query)n,
    n,
    What columns does it have in common with `household_demographics` that we can use to join them
   ]
  },
  {
   cell_type code,
   execution_count 5,
   id 114d6ba2-7a25-4710-b0b6-8791a129913c,
   metadata {
    deletable false
   },
   outputs [
    {
     name stdout,
     output_type stream,
     text [
        sqlitehomejovyannepal.sqliten,
      Done.n
     ]
    },
    {
     data {
      texthtml [
       tablen,
           theadn,
               trn,
                   thhousehold_idthn,
                   thbuilding_idthn,
                   thvdcmun_idthn,
                   thdistrict_idthn,
               trn,
           theadn,
           tbodyn,
               trn,
                   td5601tdn,
                   td56tdn,
                   td7tdn,
                   td1tdn,
               trn,
               trn,
                   td6301tdn,
                   td63tdn,
                   td7tdn,
                   td1tdn,
               trn,
               trn,
                   td9701tdn,
                   td97tdn,
                   td7tdn,
                   td1tdn,
               trn,
               trn,
                   td9901tdn,
                   td99tdn,
                   td7tdn,
                   td1tdn,
               trn,
               trn,
                   td11501tdn,
                   td115tdn,
                   td7tdn,
                   td1tdn,
               trn,
           tbodyn,
       table
      ],
      textplain [
       [(5601, 56, 7, 1),n,
        (6301, 63, 7, 1),n,
        (9701, 97, 7, 1),n,
        (9901, 99, 7, 1),n,
        (11501, 115, 7, 1)]
      ]
     },
     execution_count 5,
     metadata {},
     output_type execute_result
    }
   ],
   source [
    %%sqln,
    SELECT  FROM id_map LIMIT 5
   ]
  },
  {
   cell_type code,
   execution_count 6,
   id 7e99be7c-6b71-4df7-9701-5759eb1c938c,
   metadata {
    deletable false,
    editable false,
    init_cell true
   },
   outputs [
    {
     data {
      texthtml [
       n,
               iframen,
                   width=600n,
                   height=300n,
                   src=httpsplayer.vimeo.comvideo665415406h=46a990c8f7n,
                   frameborder=0n,
                   allowfullscreenn,
                   n,
               iframen,
               
      ],
      textplain [
       IPython.lib.display.VimeoVideo at 0x7f86fa935490
      ]
     },
     execution_count 6,
     metadata {},
     output_type execute_result
    }
   ],
   source [
    VimeoVideo(665415406, h=46a990c8f7, width=600)
   ]
  },
  {
   cell_type markdown,
   id 25c156e1-5245-42df-bb9f-144e09270caf,
   metadata {
    deletable false,
    editable false
   },
   source [
    Task 4.4.5 Create a table with all the columns from `household_demographics`, all the columns from `building_structure`, the `vdcmun_id` column from `id_map`, and the `damage_grade` column from `building_damage`. Your results should show only rows where the `district_id` is `5` and limit your results to the first five rows.n,
    n,
    - [span id='technique'Create an alias for a column or table using the `AS` command in span id='tool'SQLspanspan.](..%40textbook10-databases-sql.ipynb#SELECT-and-FROM) n,
    - [span id='technique'Determine the unique values in a column using a `DISTINCT` function in span id='tool'SQLspanspan.](..%40textbook10-databases-sql.ipynb#Aggregating-Data) n,
    - [span id='technique'Merge two tables using a `JOIN` clause in span id='tool'SQLspanspan.](..%40textbook10-databases-sql.ipynb#Joining-Tables)n,
    - [span id='technique'Inspect a table using a `LIMIT` clause in span id='tool'SQLspanspan.](..%40textbook10-databases-sql.ipynb#Building-Blocks-of-the-Basic-Query)n,
    - [span id='technique'Subset a table using a `WHERE` clause in span id='tool'SQLspanspan.](..%40textbook10-databases-sql.ipynb#Building-Blocks-of-the-Basic-Query)
   ]
  },
  {
   cell_type code,
   execution_count 31,
   id bc2abf8c-43b2-43c1-b4a6-78cd8d3524e9,
   metadata {
    deletable false
   },
   outputs [
    {
     name stdout,
     output_type stream,
     text [
        sqlitehomejovyannepal.sqliten,
      Done.n
     ]
    },
    {
     data {
      texthtml [
       tablen,
           theadn,
               trn,
                   thhousehold_idthn,
                   thgender_household_headthn,
                   thage_household_headthn,
                   thcaste_householdthn,
                   theducation_level_household_headthn,
                   thincome_level_householdthn,
                   thsize_householdthn,
                   this_bank_account_present_in_householdthn,
                   thbuilding_idthn,
                   thcount_floors_pre_eqthn,
                   thcount_floors_post_eqthn,
                   thage_buildingthn,
                   thplinth_area_sq_ftthn,
                   thheight_ft_pre_eqthn,
                   thheight_ft_post_eqthn,
                   thland_surface_conditionthn,
                   thfoundation_typethn,
                   throof_typethn,
                   thground_floor_typethn,
                   thother_floor_typethn,
                   thpositionthn,
                   thplan_configurationthn,
                   thcondition_post_eqthn,
                   thsuperstructurethn,
                   thvdcmun_idthn,
                   thdamage_gradethn,
               trn,
           theadn,
           tbodyn,
               trn,
                   td16400201tdn,
                   tdFemaletdn,
                   td46.0tdn,
                   tdChhetreetdn,
                   tdClass 5tdn,
                   tdRs. 10-20 thousandtdn,
                   td4.0tdn,
                   td1.0tdn,
                   td164002tdn,
                   td3tdn,
                   td3tdn,
                   td20tdn,
                   td560tdn,
                   td18tdn,
                   td18tdn,
                   tdFlattdn,
                   tdMud mortar-StoneBricktdn,
                   tdBambooTimber-Light rooftdn,
                   tdMudtdn,
                   tdTImberBamboo-Mudtdn,
                   tdNot attachedtdn,
                   tdRectangulartdn,
                   tdDamaged-Repaired and usedtdn,
                   tdStone, mud mortartdn,
                   td38tdn,
                   tdGrade 2tdn,
               trn,
               trn,
                   td16408101tdn,
                   tdMaletdn,
                   td66.0tdn,
                   tdChhetreetdn,
                   tdIlliteratetdn,
                   tdRs. 10 thousandtdn,
                   td5.0tdn,
                   td0.0tdn,
                   td164081tdn,
                   td2tdn,
                   td2tdn,
                   td21tdn,
                   td200tdn,
                   td12tdn,
                   td12tdn,
                   tdFlattdn,
                   tdMud mortar-StoneBricktdn,
                   tdBambooTimber-Light rooftdn,
                   tdMudtdn,
                   tdTImberBamboo-Mudtdn,
                   tdNot attachedtdn,
                   tdRectangulartdn,
                   tdDamaged-Used in risktdn,
                   tdStone, mud mortartdn,
                   td38tdn,
                   tdGrade 2tdn,
               trn,
               trn,
                   td16408901tdn,
                   tdMaletdn,
                   td54.0tdn,
                   tdMagartdn,
                   tdClass 4tdn,
                   tdRs. 10 thousandtdn,
                   td5.0tdn,
                   td1.0tdn,
                   td164089tdn,
                   td3tdn,
                   td3tdn,
                   td18tdn,
                   td315tdn,
                   td20tdn,
                   td20tdn,
                   tdFlattdn,
                   tdMud mortar-StoneBricktdn,
                   tdBambooTimber-Light rooftdn,
                   tdMudtdn,
                   tdTImberBamboo-Mudtdn,
                   tdNot attachedtdn,
                   tdRectangulartdn,
                   tdDamaged-Used in risktdn,
                   tdStone, mud mortartdn,
                   td38tdn,
                   tdGrade 2tdn,
               trn,
               trn,
                   td16409801tdn,
                   tdMaletdn,
                   td36.0tdn,
                   tdChhetreetdn,
                   tdClass 5tdn,
                   tdRs. 10 thousandtdn,
                   td6.0tdn,
                   td1.0tdn,
                   td164098tdn,
                   td2tdn,
                   td2tdn,
                   td45tdn,
                   td290tdn,
                   td13tdn,
                   td13tdn,
                   tdFlattdn,
                   tdMud mortar-StoneBricktdn,
                   tdBambooTimber-Light rooftdn,
                   tdMudtdn,
                   tdTImberBamboo-Mudtdn,
                   tdNot attachedtdn,
                   tdRectangulartdn,
                   tdDamaged-Used in risktdn,
                   tdStone, mud mortartdn,
                   td38tdn,
                   tdGrade 3tdn,
               trn,
               trn,
                   td16410301tdn,
                   tdFemaletdn,
                   td39.0tdn,
                   tdChhetreetdn,
                   tdClass 4tdn,
                   tdRs. 10 thousandtdn,
                   td3.0tdn,
                   td0.0tdn,
                   td164103tdn,
                   td2tdn,
                   td2tdn,
                   td21tdn,
                   td230tdn,
                   td13tdn,
                   td13tdn,
                   tdFlattdn,
                   tdMud mortar-StoneBricktdn,
                   tdBambooTimber-Light rooftdn,
                   tdMudtdn,
                   tdTImberBamboo-Mudtdn,
                   tdNot attachedtdn,
                   tdRectangulartdn,
                   tdDamaged-Used in risktdn,
                   tdStone, mud mortartdn,
                   td38tdn,
                   tdGrade 3tdn,
               trn,
           tbodyn,
       table
      ],
      textplain [
       [(16400201, 'Female', 46.0, 'Chhetree', 'Class 5', 'Rs. 10-20 thousand', 4.0, 1.0, 164002, 3, 3, 20, 560, 18, 18, 'Flat', 'Mud mortar-StoneBrick', 'BambooTimber-Light roof', 'Mud', 'TImberBamboo-Mud', 'Not attached', 'Rectangular', 'Damaged-Repaired and used', 'Stone, mud mortar', 38, 'Grade 2'),n,
        (16408101, 'Male', 66.0, 'Chhetree', 'Illiterate', 'Rs. 10 thousand', 5.0, 0.0, 164081, 2, 2, 21, 200, 12, 12, 'Flat', 'Mud mortar-StoneBrick', 'BambooTimber-Light roof', 'Mud', 'TImberBamboo-Mud', 'Not attached', 'Rectangular', 'Damaged-Used in risk', 'Stone, mud mortar', 38, 'Grade 2'),n,
        (16408901, 'Male', 54.0, 'Magar', 'Class 4', 'Rs. 10 thousand', 5.0, 1.0, 164089, 3, 3, 18, 315, 20, 20, 'Flat', 'Mud mortar-StoneBrick', 'BambooTimber-Light roof', 'Mud', 'TImberBamboo-Mud', 'Not attached', 'Rectangular', 'Damaged-Used in risk', 'Stone, mud mortar', 38, 'Grade 2'),n,
        (16409801, 'Male', 36.0, 'Chhetree', 'Class 5', 'Rs. 10 thousand', 6.0, 1.0, 164098, 2, 2, 45, 290, 13, 13, 'Flat', 'Mud mortar-StoneBrick', 'BambooTimber-Light roof', 'Mud', 'TImberBamboo-Mud', 'Not attached', 'Rectangular', 'Damaged-Used in risk', 'Stone, mud mortar', 38, 'Grade 3'),n,
        (16410301, 'Female', 39.0, 'Chhetree', 'Class 4', 'Rs. 10 thousand', 3.0, 0.0, 164103, 2, 2, 21, 230, 13, 13, 'Flat', 'Mud mortar-StoneBrick', 'BambooTimber-Light roof', 'Mud', 'TImberBamboo-Mud', 'Not attached', 'Rectangular', 'Damaged-Used in risk', 'Stone, mud mortar', 38, 'Grade 3')]
      ]
     },
     execution_count 31,
     metadata {},
     output_type execute_result
    }
   ],
   source [
    %%sqln,
    SELECT house.,n,
        build.,n,
        id_m.vdcmun_id,n,
        dmg.damage_graden,
    FROM household_demographics AS housen,
    JOIN id_map AS id_m ON id_m.household_id = house.household_idn,
    JOIN building_structure AS build ON id_m.building_id = build.building_idn,
    JOIN building_damage AS dmg ON id_m.building_id = dmg.building_idn,
    WHERE district_id = 4n,
    LIMIT 5n
   ]
  },
  {
   cell_type markdown,
   id a851c41b-472d-4827-ae2e-52a1a713937f,
   metadata {
    deletable false,
    editable false
   },
   source [
    ## Import
   ]
  },
  {
   cell_type code,
   execution_count 33,
   id 0a9a898d-a7cc-474e-9e18-2459c658d4de,
   metadata {
    deletable false
   },
   outputs [],
   source [
    def wrangle(db_path)n,
        # Connect to databasen,
        conn = sqlite3.connect(db_path)n,
    n,
        # Construct queryn,
        query = SELECT house.,n,
            build.,n,
            id_m.vdcmun_id,n,
            dmg.damage_graden,
        FROM household_demographics AS housen,
        JOIN id_map AS id_m ON id_m.household_id = house.household_idn,
        JOIN building_structure AS build ON id_m.building_id = build.building_idn,
        JOIN building_damage AS dmg ON id_m.building_id = dmg.building_idn,
        WHERE district_id = 4n,
        n,
    n,
        # Read query results into DataFramen,
        df = pd.read_sql(query, conn, index_col=household_id)n,
    n,
        # Identify leaky columnsn,
        drop_cols = [col for col in df.columns if post_eq in col]n,
    n,
        # Add high-cardinality  redundant columnn,
        drop_cols.append(building_id)n,
    n,
        # Create binary target columnn,
        df[damage_grade] = df[damage_grade].str[-1].astype(int)n,
        df[severe_damage] = (df[damage_grade]  3).astype(int)n,
    n,
        # Drop old targetn,
        drop_cols.append(damage_grade)n,
    n,
        # Drop multicollinearity columnn,
        drop_cols.append(count_floors_pre_eq)n,
        n,
        # Drop columnsn,
        df.drop(columns=drop_cols, inplace=True)n,
    n,
        return df
   ]
  },
  {
   cell_type code,
   execution_count 17,
   id 1de3554a-46e7-4858-9cb6-16d46c6e6cde,
   metadata {
    deletable false,
    editable false,
    init_cell true
   },
   outputs [
    {
     data {
      texthtml [
       n,
               iframen,
                   width=600n,
                   height=300n,
                   src=httpsplayer.vimeo.comvideo665415443h=ca27a7ebfcn,
                   frameborder=0n,
                   allowfullscreenn,
                   n,
               iframen,
               
      ],
      textplain [
       IPython.lib.display.VimeoVideo at 0x7f86f7824ca0
      ]
     },
     execution_count 17,
     metadata {},
     output_type execute_result
    }
   ],
   source [
    VimeoVideo(665415443, h=ca27a7ebfc, width=600)
   ]
  },
  {
   cell_type markdown,
   id a5cb7fba-d0a8-4f49-a239-3dcd11322b62,
   metadata {
    deletable false,
    editable false
   },
   source [
    Task 4.4.6 Add the query you created in the previous task to the `wrangle` function above. Then import your data by running the cell below. The path to the database is `homejovyannepal.sqlite`.n,
    n,
    - [span id='technique'Read SQL query into a DataFrame using span id='tool'pandasspanspan.](..%40textbook10-databases-sql.ipynb#Using-pandas-with-SQL-Databases)n,
    - [span id='technique'Write a function in span id='tool'Pythonspanspan.](..%40textbook02-python-advanced.ipynb#Functions)
   ]
  },
  {
   cell_type code,
   execution_count 34,
   id a9f25089-8400-411a-aa4d-1a5b17aa4277,
   metadata {
    deletable false
   },
   outputs [
    {
     data {
      texthtml [
       divn,
       style scopedn,
           .dataframe tbody tr thonly-of-type {n,
               vertical-align middle;n,
           }n,
       n,
           .dataframe tbody tr th {n,
               vertical-align top;n,
           }n,
       n,
           .dataframe thead th {n,
               text-align right;n,
           }n,
       stylen,
       table border=1 class=dataframen,
         theadn,
           tr style=text-align right;n,
             ththn,
             thgender_household_headthn,
             thage_household_headthn,
             thcaste_householdthn,
             theducation_level_household_headthn,
             thincome_level_householdthn,
             thsize_householdthn,
             this_bank_account_present_in_householdthn,
             thage_buildingthn,
             thplinth_area_sq_ftthn,
             thheight_ft_pre_eqthn,
             thland_surface_conditionthn,
             thfoundation_typethn,
             throof_typethn,
             thground_floor_typethn,
             thother_floor_typethn,
             thpositionthn,
             thplan_configurationthn,
             thsuperstructurethn,
             thvdcmun_idthn,
             thsevere_damagethn,
           trn,
           trn,
             thhousehold_idthn,
             ththn,
             ththn,
             ththn,
             ththn,
             ththn,
             ththn,
             ththn,
             ththn,
             ththn,
             ththn,
             ththn,
             ththn,
             ththn,
             ththn,
             ththn,
             ththn,
             ththn,
             ththn,
             ththn,
             ththn,
           trn,
         theadn,
         tbodyn,
           trn,
             th16400201thn,
             tdFemaletdn,
             td46.0tdn,
             tdChhetreetdn,
             tdClass 5tdn,
             tdRs. 10-20 thousandtdn,
             td4.0tdn,
             td1.0tdn,
             td20tdn,
             td560tdn,
             td18tdn,
             tdFlattdn,
             tdMud mortar-StoneBricktdn,
             tdBambooTimber-Light rooftdn,
             tdMudtdn,
             tdTImberBamboo-Mudtdn,
             tdNot attachedtdn,
             tdRectangulartdn,
             tdStone, mud mortartdn,
             td38tdn,
             td0tdn,
           trn,
           trn,
             th16408101thn,
             tdMaletdn,
             td66.0tdn,
             tdChhetreetdn,
             tdIlliteratetdn,
             tdRs. 10 thousandtdn,
             td5.0tdn,
             td0.0tdn,
             td21tdn,
             td200tdn,
             td12tdn,
             tdFlattdn,
             tdMud mortar-StoneBricktdn,
             tdBambooTimber-Light rooftdn,
             tdMudtdn,
             tdTImberBamboo-Mudtdn,
             tdNot attachedtdn,
             tdRectangulartdn,
             tdStone, mud mortartdn,
             td38tdn,
             td0tdn,
           trn,
           trn,
             th16408901thn,
             tdMaletdn,
             td54.0tdn,
             tdMagartdn,
             tdClass 4tdn,
             tdRs. 10 thousandtdn,
             td5.0tdn,
             td1.0tdn,
             td18tdn,
             td315tdn,
             td20tdn,
             tdFlattdn,
             tdMud mortar-StoneBricktdn,
             tdBambooTimber-Light rooftdn,
             tdMudtdn,
             tdTImberBamboo-Mudtdn,
             tdNot attachedtdn,
             tdRectangulartdn,
             tdStone, mud mortartdn,
             td38tdn,
             td0tdn,
           trn,
           trn,
             th16409801thn,
             tdMaletdn,
             td36.0tdn,
             tdChhetreetdn,
             tdClass 5tdn,
             tdRs. 10 thousandtdn,
             td6.0tdn,
             td1.0tdn,
             td45tdn,
             td290tdn,
             td13tdn,
             tdFlattdn,
             tdMud mortar-StoneBricktdn,
             tdBambooTimber-Light rooftdn,
             tdMudtdn,
             tdTImberBamboo-Mudtdn,
             tdNot attachedtdn,
             tdRectangulartdn,
             tdStone, mud mortartdn,
             td38tdn,
             td0tdn,
           trn,
           trn,
             th16410301thn,
             tdFemaletdn,
             td39.0tdn,
             tdChhetreetdn,
             tdClass 4tdn,
             tdRs. 10 thousandtdn,
             td3.0tdn,
             td0.0tdn,
             td21tdn,
             td230tdn,
             td13tdn,
             tdFlattdn,
             tdMud mortar-StoneBricktdn,
             tdBambooTimber-Light rooftdn,
             tdMudtdn,
             tdTImberBamboo-Mudtdn,
             tdNot attachedtdn,
             tdRectangulartdn,
             tdStone, mud mortartdn,
             td38tdn,
             td0tdn,
           trn,
         tbodyn,
       tablen,
       div
      ],
      textplain [
                    gender_household_head  age_household_head caste_household  n,
       household_id                                                             n,
       16400201                    Female                46.0        Chhetree   n,
       16408101                      Male                66.0        Chhetree   n,
       16408901                      Male                54.0           Magar   n,
       16409801                      Male                36.0        Chhetree   n,
       16410301                    Female                39.0        Chhetree   n,
       n,
                    education_level_household_head income_level_household  n,
       household_id                                                         n,
       16400201                            Class 5     Rs. 10-20 thousand   n,
       16408101                         Illiterate        Rs. 10 thousand   n,
       16408901                            Class 4        Rs. 10 thousand   n,
       16409801                            Class 5        Rs. 10 thousand   n,
       16410301                            Class 4        Rs. 10 thousand   n,
       n,
                     size_household  is_bank_account_present_in_household  n,
       household_id                                                         n,
       16400201                 4.0                                   1.0   n,
       16408101                 5.0                                   0.0   n,
       16408901                 5.0                                   1.0   n,
       16409801                 6.0                                   1.0   n,
       16410301                 3.0                                   0.0   n,
       n,
                     age_building  plinth_area_sq_ft  height_ft_pre_eq  n,
       household_id                                                      n,
       16400201                20                560                18   n,
       16408101                21                200                12   n,
       16408901                18                315                20   n,
       16409801                45                290                13   n,
       16410301                21                230                13   n,
       n,
                    land_surface_condition         foundation_type  n,
       household_id                                                  n,
       16400201                       Flat  Mud mortar-StoneBrick   n,
       16408101                       Flat  Mud mortar-StoneBrick   n,
       16408901                       Flat  Mud mortar-StoneBrick   n,
       16409801                       Flat  Mud mortar-StoneBrick   n,
       16410301                       Flat  Mud mortar-StoneBrick   n,
       n,
                                    roof_type ground_floor_type   other_floor_type  n,
       household_id                                                                  n,
       16400201      BambooTimber-Light roof               Mud  TImberBamboo-Mud   n,
       16408101      BambooTimber-Light roof               Mud  TImberBamboo-Mud   n,
       16408901      BambooTimber-Light roof               Mud  TImberBamboo-Mud   n,
       16409801      BambooTimber-Light roof               Mud  TImberBamboo-Mud   n,
       16410301      BambooTimber-Light roof               Mud  TImberBamboo-Mud   n,
       n,
                         position plan_configuration     superstructure  vdcmun_id  n,
       household_id                                                                  n,
       16400201      Not attached        Rectangular  Stone, mud mortar         38   n,
       16408101      Not attached        Rectangular  Stone, mud mortar         38   n,
       16408901      Not attached        Rectangular  Stone, mud mortar         38   n,
       16409801      Not attached        Rectangular  Stone, mud mortar         38   n,
       16410301      Not attached        Rectangular  Stone, mud mortar         38   n,
       n,
                     severe_damage  n,
       household_id                 n,
       16400201                  0  n,
       16408101                  0  n,
       16408901                  0  n,
       16409801                  0  n,
       16410301                  0  
      ]
     },
     execution_count 34,
     metadata {},
     output_type execute_result
    }
   ],
   source [
    df = wrangle(homejovyannepal.sqlite)n,
    df.head()
   ]
  },
  {
   cell_type code,
   execution_count 35,
   id 0459a629-e2b5-4a2e-a9e2-8243f9d552dd,
   metadata {
    deletable false
   },
   outputs [],
   source [
    # Check your workn,
    assert df.shape == (75883, 20), f`df` should have shape (75883, 20), not {df.shape}
   ]
  },
  {
   cell_type markdown,
   id 7d254a79-a14c-4547-9cfc-d3a4d938abc5,
   metadata {
    deletable false,
    editable false
   },
   source [
    ## Explore
   ]
  },
  {
   cell_type code,
   execution_count null,
   id f33220cc-10d2-46c0-9a49-65e0a786a652,
   metadata {
    deletable false,
    editable false,
    init_cell true
   },
   outputs [],
   source [
    VimeoVideo(665415463, h=86c306199f, width=600)
   ]
  },
  {
   cell_type markdown,
   id 48afaec2-737f-4a61-b2be-585f3c82560f,
   metadata {
    deletable false,
    editable false
   },
   source [
    Task 4.4.7 Combine the [`select_dtypes`](httpspandas.pydata.orgdocsreferenceapipandas.DataFrame.select_dtypes.html) and [`nunique`](httpspandas.pydata.orgdocsreferenceapipandas.DataFrame.nunique.html) methods to see if there are any high- or low-cardinality categorical features in the dataset. n,
    n,
    - [What are span id='term'high- and low-cardinality featuresspan](..%40textbook14-ml-classification.ipynb#High-cardinality-Features)n,
    - [span id='technique'Determine the unique values in a column using span id='tool'pandasspanspan.](..%40textbook03-pandas-getting-started.ipynb#Determine-the-unique-values-in-a-column) n,
    - [span id='technique'Subset a DataFrame's columns based on the column data types in span id='tool'pandasspanspan.](..%40textbook04-pandas-advanced.ipynb#Subset-the-Columns-of-a-DataFrame-Based-on-Data-Types)
   ]
  },
  {
   cell_type code,
   execution_count 36,
   id 76da7779-74cd-4057-a18e-a41b735241fa,
   metadata {
    deletable false
   },
   outputs [
    {
     data {
      textplain [
       gender_household_head              2n,
       caste_household                   63n,
       education_level_household_head    19n,
       income_level_household             5n,
       land_surface_condition             3n,
       foundation_type                    5n,
       roof_type                          3n,
       ground_floor_type                  5n,
       other_floor_type                   4n,
       position                           4n,
       plan_configuration                10n,
       superstructure                    11n,
       dtype int64
      ]
     },
     execution_count 36,
     metadata {},
     output_type execute_result
    }
   ],
   source [
    # Check for high- and low-cardinality categorical featuresn,
    df.select_dtypes(object).nunique()
   ]
  },
  {
   cell_type code,
   execution_count 37,
   id 22aa716c-6908-4955-8f10-ddc40f12d91d,
   metadata {
    deletable false,
    editable false,
    init_cell true
   },
   outputs [
    {
     data {
      texthtml [
       n,
               iframen,
                   width=600n,
                   height=300n,
                   src=httpsplayer.vimeo.comvideo665415472h=1142d69e4an,
                   frameborder=0n,
                   allowfullscreenn,
                   n,
               iframen,
               
      ],
      textplain [
       IPython.lib.display.VimeoVideo at 0x7f86f78071f0
      ]
     },
     execution_count 37,
     metadata {},
     output_type execute_result
    }
   ],
   source [
    VimeoVideo(665415472, h=1142d69e4a, width=600)
   ]
  },
  {
   cell_type markdown,
   id 24eacbde-4bc1-43bd-ac24-67c9e0aef96c,
   metadata {
    deletable false,
    editable false
   },
   source [
    Task 4.4.8 Add to your `wrangle` function so that the `caste_household` contains only the 10 largest caste groups. For the rows that are not in those groups, `caste_household` should be changed to `Other`.n,
    n,
    - [span id='technique'Determine the unique values in a column using span id='tool'pandasspanspan.](..%40textbook03-pandas-getting-started.ipynb#Determine-the-unique-values-in-a-column) n,
    - [span id='technique'Combine multiple categories in a Series using span id='tool'pandasspanspan.](..%40textbook04-pandas-advanced.ipynb#Combine-multiple-categories-in-a-Series)
   ]
  },
  {
   cell_type code,
   execution_count 45,
   id 799cbd48-b5c2-4ed6-9e2a-63fed244d3e9,
   metadata {},
   outputs [],
   source [
    def wrangle(db_path)n,
        # Connect to databasen,
        conn = sqlite3.connect(db_path)n,
    n,
        # Construct queryn,
        query = SELECT house.,n,
            build.,n,
            id_m.vdcmun_id,n,
            dmg.damage_graden,
        FROM household_demographics AS housen,
        JOIN id_map AS id_m ON id_m.household_id = house.household_idn,
        JOIN building_structure AS build ON id_m.building_id = build.building_idn,
        JOIN building_damage AS dmg ON id_m.building_id = dmg.building_idn,
        WHERE district_id = 4n,
        n,
    n,
        # Read query results into DataFramen,
        df = pd.read_sql(query, conn, index_col=household_id)n,
    n,
        n,
        n,
        # Identify leaky columnsn,
        drop_cols = [col for col in df.columns if post_eq in col]n,
    n,
        # Add high-cardinality  redundant columnn,
        drop_cols.append(building_id)n,
    n,
        # Create binary target columnn,
        df[damage_grade] = df[damage_grade].str[-1].astype(int)n,
        df[severe_damage] = (df[damage_grade]  3).astype(int)n,
    n,
        # Drop old targetn,
        drop_cols.append(damage_grade)n,
    n,
        # Drop multicollinearity columnn,
        drop_cols.append(count_floors_pre_eq)n,
        n,
        top10 = df[caste_household].value_counts().head(10).indexn,
        df[caste_household] = df[caste_household].apply(lambda x x if x in top10 else Other)n,
        n,
        n,
        # Drop columnsn,
        df.drop(columns=drop_cols, inplace=True)n,
    n,
        return df
   ]
  },
  {
   cell_type code,
   execution_count 46,
   id f57983f9-b5f2-459b-b20f-34ede9840722,
   metadata {},
   outputs [],
   source [
    df = wrangle(homejovyannepal.sqlite)
   ]
  },
  {
   cell_type code,
   execution_count 47,
   id 58f8e8d0-1f0e-4e44-a37f-0739a3d80215,
   metadata {
    deletable false
   },
   outputs [
    {
     data {
      textplain [
       11
      ]
     },
     execution_count 47,
     metadata {},
     output_type execute_result
    }
   ],
   source [
    df[caste_household].nunique()
   ]
  },
  {
   cell_type code,
   execution_count 48,
   id d7baa30f-ecfd-47ca-98da-4be89eefbc96,
   metadata {
    deletable false
   },
   outputs [],
   source [
    # Check your workn,
    assert (n,
        df[caste_household].nunique() == 11n,
    ), fThe `'caste_household'` column should only have 11 unique values, not {df['caste_household'].nunique()}.
   ]
  },
  {
   cell_type markdown,
   id d59e6d93-b806-4c85-a9da-15e1cd2b9502,
   metadata {
    deletable false,
    editable false,
    tags []
   },
   source [
    ## Split
   ]
  },
  {
   cell_type code,
   execution_count null,
   id 36409eeb-6759-4e32-a185-0d3f1a6ceed8,
   metadata {
    deletable false,
    editable false,
    init_cell true
   },
   outputs [],
   source [
    VimeoVideo(665415515, h=defc252edd, width=600)
   ]
  },
  {
   cell_type markdown,
   id 7dc16f7f-fa65-4244-b073-a0be9834ca7b,
   metadata {
    deletable false,
    editable false
   },
   source [
    Task 4.4.9 Create your feature matrix `X` and target vector `y`. Since our model will only consider building and household data, `X` should not include the municipality column `vdcmun_id`. Your target is `severe_damage`. 
   ]
  },
  {
   cell_type code,
   execution_count 51,
   id 57db1b21-539a-43a3-8fa5-f730b45d4c37,
   metadata {
    deletable false
   },
   outputs [],
   source [
    target = severe_damagen,
    X = df.drop(columns=[target, vdcmun_id])n,
    y = df[target]
   ]
  },
  {
   cell_type code,
   execution_count 52,
   id 73b08499-42da-4a53-8f0b-e117b9db6161,
   metadata {
    deletable false
   },
   outputs [],
   source [
    # Check your workn,
    assert X.shape == (75883, 18), fThe shape of `X` should be (75883, 18), not {X.shape}.n,
    assert vdcmun_id not in X.columns, There should be no `'vdcmun_id'` column in `X`.n,
    assert y.shape == (75883,), fThe shape of `y` should be (75883,), not {y.shape}.
   ]
  },
  {
   cell_type markdown,
   id 93681a6e-3480-41e5-9ce8-c9fd60552afb,
   metadata {
    deletable false,
    editable false
   },
   source [
    Task 4.4.10 Divide your data (`X` and `y`) into training and test sets using a randomized train-test split. Your test set should be 20% of your total data. Be sure to set a `random_state` for reproducibility.
   ]
  },
  {
   cell_type code,
   execution_count 54,
   id b85f1aa8-0987-4c5a-9fe8-9e3dfc7fca80,
   metadata {
    deletable false
   },
   outputs [],
   source [
    X_train, X_test, y_train, y_test = train_test_split(n,
        X, y, test_size=0.2, random_state = 1n,
    )
   ]
  },
  {
   cell_type code,
   execution_count 55,
   id 53a5ad9a-0b1a-4bf1-8335-a23a1ff2695b,
   metadata {
    deletable false
   },
   outputs [],
   source [
    # Check your workn,
    assert X_train.shape == (n,
        60706,n,
        18,n,
    ), fThe shape of `X_train` should be (60706, 18), not {X_train.shape}.n,
    assert y_train.shape == (n,
        60706,n,
    ), fThe shape of `y_train` should be (60706,), not {y_train.shape}.n,
    assert X_test.shape == (n,
        15177,n,
        18,n,
    ), fThe shape of `X_test` should be (15177, 18), not {X_test.shape}.n,
    assert y_test.shape == (n,
        15177,n,
    ), fThe shape of `y_test` should be (15177,), not {y_test.shape}.
   ]
  },
  {
   cell_type markdown,
   id 111788b7-14fe-486c-9f89-2c078157cfd4,
   metadata {
    deletable false,
    editable false,
    tags []
   },
   source [
    # Build Model
   ]
  },
  {
   cell_type markdown,
   id 15c1824f-355f-47e4-b5a6-8cd1251792c7,
   metadata {
    deletable false,
    editable false,
    tags []
   },
   source [
    ## Baseline
   ]
  },
  {
   cell_type markdown,
   id 6755e531-b6ff-4985-9fc5-0b6601eca074,
   metadata {
    deletable false,
    editable false
   },
   source [
    Task 4.4.11 Calculate the baseline accuracy score for your model.n,
    n,
    - [What's span id='tool'accuracy scorespan](..%40textbook14-ml-classification.ipynb#Calculating-Accuracy-Score)n,
    - [span id='technique'Aggregate data in a Series using `value_counts` in span id='tool'pandasspanspan.](..%40textbook04-pandas-advanced.ipynb#Working-with-value_counts-in-a-Series)
   ]
  },
  {
   cell_type code,
   execution_count 56,
   id ceaa7203-0210-43e8-a1d7-ef413cc48aab,
   metadata {
    deletable false
   },
   outputs [
    {
     name stdout,
     output_type stream,
     text [
      Baseline Accuracy 0.63n
     ]
    }
   ],
   source [
    acc_baseline = y_train.value_counts(normalize=True).max()n,
    print(Baseline Accuracy, round(acc_baseline, 2))
   ]
  },
  {
   cell_type markdown,
   id d4da0d3d-6636-451d-bb90-d2914ce4bde8,
   metadata {
    deletable false,
    editable false,
    tags []
   },
   source [
    ## Iterate
   ]
  },
  {
   cell_type markdown,
   id b3e9324e-1d8d-4866-937f-151f44306a3d,
   metadata {
    deletable false,
    editable false
   },
   source [
    Task 4.4.12 Create a Pipeline called `model_lr`. It should have an `OneHotEncoder` transformer and a `LogisticRegression` predictor. Be sure you set the `use_cat_names` argument for your transformer to `True`.n,
    n,
    - [What's span id='term'logistic regressionspan](..%40textbook14-ml-classification.ipynb#Logistic-Regression)n,
    - [What's span id='term'one-hot encodingspan](..%40textbook13-ml-data-pre-processing-and-production.ipynb#One-Hot-Encoding)n,
    - [span id='technique'Create a pipeline in span id='tool'scikit-learnspanspan.](..%40textbook13-ml-data-pre-processing-and-production.ipynb#Creating-a-Pipeline-in-scikit-learn)n,
    - [span id='technique'Fit a model to training data in span id='tool'scikit-learnspanspan.](..%40textbook15-ml-regression.ipynb#Fitting-a-Model-to-Training-Data)
   ]
  },
  {
   cell_type code,
   execution_count 59,
   id 57160f5e-b0f0-40f1-b055-46afd8d67e95,
   metadata {
    deletable false
   },
   outputs [
    {
     name stderr,
     output_type stream,
     text [
      optcondalibpython3.9site-packagessklearnlinear_model_logistic.py814 ConvergenceWarning lbfgs failed to converge (status=1)n,
      STOP TOTAL NO. of ITERATIONS REACHED LIMIT.n,
      n,
      Increase the number of iterations (max_iter) or scale the data as shown inn,
          httpsscikit-learn.orgstablemodulespreprocessing.htmln,
      Please also refer to the documentation for alternative solver optionsn,
          httpsscikit-learn.orgstablemoduleslinear_model.html#logistic-regressionn,
        n_iter_i = _check_optimize_result(n
     ]
    },
    {
     data {
      textplain [
       Pipeline(steps=[('onehotencoder',n,
                        OneHotEncoder(cols=['gender_household_head', 'caste_household',n,
                                            'education_level_household_head',n,
                                            'income_level_household',n,
                                            'land_surface_condition',n,
                                            'foundation_type', 'roof_type',n,
                                            'ground_floor_type', 'other_floor_type',n,
                                            'position', 'plan_configuration',n,
                                            'superstructure'],n,
                                      use_cat_names=True)),n,
                       ('logisticregression', LogisticRegression(max_iter=1000))])
      ]
     },
     execution_count 59,
     metadata {},
     output_type execute_result
    }
   ],
   source [
    model_lr = make_pipeline(n,
        OneHotEncoder(use_cat_names = True),n,
        LogisticRegression(max_iter=1000)n,
    n,
    n,
    )n,
    model_lr.fit(X_train, y_train)
   ]
  },
  {
   cell_type code,
   execution_count 60,
   id ba1581d6-59a2-4f06-ad41-dae616267740,
   metadata {
    deletable false
   },
   outputs [],
   source [
    # Check your workn,
    assert isinstance(n,
        model_lr, Pipelinen,
    ), f`model_lr` should be a Pipeline, not type {type(model_lr)}.n,
    assert isinstance(n,
        model_lr[0], OneHotEncodern,
    ), fThe first step in your Pipeline should be a OneHotEncoder, not type {type(model_lr[0])}.n,
    assert isinstance(n,
        model_lr[-1], LogisticRegressionn,
    ), fThe last step in your Pipeline should be LogisticRegression, not type {type(model_lr[-1])}.n,
    check_is_fitted(model_lr)
   ]
  },
  {
   cell_type markdown,
   id 4be0e001-c5c4-49f6-abc1-df1170267642,
   metadata {
    deletable false,
    editable false
   },
   source [
    ## Evaluate
   ]
  },
  {
   cell_type markdown,
   id 494110a5-51ab-40ca-a064-40e959990b61,
   metadata {
    deletable false,
    editable false
   },
   source [
    Task 4.4.13 Calculate the training and test accuracy scores for `model_lr`. n,
    n,
    - [span id='technique'Calculate the accuracy score for a model in span id='term'scikit-learnspanspan.](..%40textbook14-ml-classification.ipynb#Calculating-Accuracy-Score)n,
    - [span id='technique'Generate predictions using a trained model in span id='term'scikit-learnspanspan.](..%40textbook15-ml-regression.ipynb#Generating-Predictions-Using-a-Trained-Model)
   ]
  },
  {
   cell_type code,
   execution_count 62,
   id 15bcf25d-2c39-4dc2-bc25-ef67be033a51,
   metadata {
    deletable false
   },
   outputs [
    {
     name stdout,
     output_type stream,
     text [
      LR Training Accuracy 0.7197311633116991n,
      LR Validation Accuracy 0.7144363181129341n
     ]
    }
   ],
   source [
    acc_train = accuracy_score(y_train, model_lr.predict(X_train))n,
    acc_test = model_lr.score(X_test, y_test)n,
    n,
    print(LR Training Accuracy, acc_train)n,
    print(LR Validation Accuracy, acc_test)
   ]
  },
  {
   cell_type markdown,
   id 3f4cefe3-fcc2-498f-9be5-f324d753c52c,
   metadata {
    deletable false,
    editable false
   },
   source [
    # Communicate
   ]
  },
  {
   cell_type code,
   execution_count null,
   id b563cabb-db9f-4b4e-82af-e66b8766579e,
   metadata {
    deletable false,
    editable false,
    init_cell true
   },
   outputs [],
   source [
    VimeoVideo(665415532, h=00440f76a9, width=600)
   ]
  },
  {
   cell_type markdown,
   id 9551ac0a-d7f2-48f5-8e5b-5e1783318a14,
   metadata {
    deletable false,
    editable false
   },
   source [
    Task 4.4.14 First, extract the feature names and importances from your model. Then create a pandas Series named `feat_imp`, where the index is `features` and the values are your the exponential of the `importances`.n,
    n,
    - [What's a span id='term'bar chartspan](..%40textbook06-visualization-matplotlib.ipynb#Bar-Charts)n,
    - [span id='technique'Access an object in a pipeline in span id='tool'scikit-learnspanspan.](..%40textbook13-ml-data-pre-processing-and-production.ipynb#Accessing-an-Object-in-a-Pipeline)n,
    - [span id='technique'Create a Series in span id='tool'pandasspanspan.](..%40textbook03-pandas-getting-started.ipynb#Adding-Columns)
   ]
  },
  {
   cell_type code,
   execution_count 64,
   id a90ee03f-f34b-4fed-a2a3-f0afeab696d0,
   metadata {
    deletable false
   },
   outputs [
    {
     data {
      textplain [
       gender_household_head_Female    0.784356n,
       gender_household_head_Male      0.910009n,
       age_household_head              0.997142n,
       caste_household_Other           1.025789n,
       caste_household_DamaiDholi     1.028733n,
       dtype float64
      ]
     },
     execution_count 64,
     metadata {},
     output_type execute_result
    }
   ],
   source [
    features = model_lr.named_steps[onehotencoder].get_feature_names()n,
    importances = model_lr.named_steps[logisticregression].coef_[0]n,
    feat_imp = pd.Series(np.exp(importances), index=features)n,
    feat_imp.head()
   ]
  },
  {
   cell_type code,
   execution_count null,
   id 612f935e-f492-4882-b9ad-6d594bc61204,
   metadata {
    deletable false,
    editable false,
    init_cell true
   },
   outputs [],
   source [
    VimeoVideo(665415552, h=5b2383ccf8, width=600)
   ]
  },
  {
   cell_type markdown,
   id c7a78530-86a7-46b6-a6a1-1b1a7dbc69fc,
   metadata {
    deletable false,
    editable false
   },
   source [
    Task 4.4.15 Create a horizontal bar chart with the ten largest coefficients from `feat_imp`. Be sure to label your x-axis `Odds Ratio`.n,
    n,
    - [span id='technique'Create a bar chart using span id='tool'pandasspanspan.](..%40textbook06-visualization-matplotlib.ipynb#Bar-Charts)
   ]
  },
  {
   cell_type code,
   execution_count 71,
   id 41f58673-655d-451a-a31b-1a6544d772d6,
   metadata {
    deletable false
   },
   outputs [
    {
     data {
      textplain [
       Text(0.5, 0, 'Odds Ratio')
      ]
     },
     execution_count 71,
     metadata {},
     output_type execute_result
    },
    {
     data {
      imagepng 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n,
      textplain [
       Figure size 432x288 with 1 Axes
      ]
     },
     metadata {
      needs_background light
     },
     output_type display_data
    }
   ],
   source [
    feat_imp.sort_values().tail().plot(kind=barh)n,
    plt.xlabel(Odds Ratio)
   ]
  },
  {
   cell_type code,
   execution_count null,
   id 0970da87-30d9-4c82-9f7e-e15dfa64ed19,
   metadata {
    deletable false,
    editable false,
    init_cell true
   },
   outputs [],
   source [
    VimeoVideo(665415581, h=d15477e14d, width=600)
   ]
  },
  {
   cell_type markdown,
   id afa4d9bf-a35f-4cf0-98d3-8d048841fb17,
   metadata {
    deletable false,
    editable false
   },
   source [
    Task 4.4.16 Create a horizontal bar chart with the ten smallest coefficients from `feat_imp`. Be sure to label your x-axis `Odds Ratio`.n,
    n,
    - [span id='technique'Create a bar chart using span id='tool'pandasspanspan.](..%40textbook06-visualization-matplotlib.ipynb#Bar-Charts)
   ]
  },
  {
   cell_type code,
   execution_count 72,
   id 37dc464c-705d-440e-abd5-166def0c39b0,
   metadata {
    deletable false
   },
   outputs [
    {
     data {
      textplain [
       Text(0.5, 0, 'Odds Ratio')
      ]
     },
     execution_count 72,
     metadata {},
     output_type execute_result
    },
    {
     data {
      imagepng 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n,
      textplain [
       Figure size 432x288 with 1 Axes
      ]
     },
     metadata {
      needs_background light
     },
     output_type display_data
    }
   ],
   source [
    feat_imp.sort_values().head().plot(kind=barh)n,
    plt.xlabel(Odds Ratio)
   ]
  },
  {
   cell_type markdown,
   id d03bb3b6-e827-450f-9c2f-032bceacb59f,
   metadata {
    deletable false,
    editable false
   },
   source [
    ## Explore Some More
   ]
  },
  {
   cell_type code,
   execution_count 73,
   id d4f82769-3322-400c-a466-53c2c6faf96e,
   metadata {
    deletable false,
    editable false,
    init_cell true
   },
   outputs [
    {
     data {
      texthtml [
       n,
               iframen,
                   width=600n,
                   height=300n,
                   src=httpsplayer.vimeo.comvideo665415631h=90ba264392n,
                   frameborder=0n,
                   allowfullscreenn,
                   n,
               iframen,
               
      ],
      textplain [
       IPython.lib.display.VimeoVideo at 0x7f86dea140a0
      ]
     },
     execution_count 73,
     metadata {},
     output_type execute_result
    }
   ],
   source [
    VimeoVideo(665415631, h=90ba264392, width=600)
   ]
  },
  {
   cell_type markdown,
   id 70c0be91-6417-4377-8d86-481687202ca7,
   metadata {
    deletable false,
    editable false
   },
   source [
    Task 4.4.17 Which municipalities saw the highest proportion of severely damaged buildings Create a DataFrame `damage_by_vdcmun` by grouping `df` by `vdcmun_id` and then calculating the mean of the `severe_damage` column. Be sure to sort `damage_by_vdcmun` from highest to lowest proportion.n,
    n,
    - [span id='technique'Aggregate data using the groupby method in span id='tool'pandasspanspan.](..%40textbook04-pandas-advanced.ipynb#Series-and-Groupby)
   ]
  },
  {
   cell_type code,
   execution_count 76,
   id ecb69747-f08b-49b3-aad2-8fcb8ecc5bd5,
   metadata {
    deletable false
   },
   outputs [
    {
     data {
      texthtml [
       divn,
       style scopedn,
           .dataframe tbody tr thonly-of-type {n,
               vertical-align middle;n,
           }n,
       n,
           .dataframe tbody tr th {n,
               vertical-align top;n,
           }n,
       n,
           .dataframe thead th {n,
               text-align right;n,
           }n,
       stylen,
       table border=1 class=dataframen,
         theadn,
           tr style=text-align right;n,
             ththn,
             thsevere_damagethn,
           trn,
           trn,
             thvdcmun_idthn,
             ththn,
           trn,
         theadn,
         tbodyn,
           trn,
             th31thn,
             td0.930199tdn,
           trn,
           trn,
             th32thn,
             td0.851117tdn,
           trn,
           trn,
             th35thn,
             td0.827145tdn,
           trn,
           trn,
             th30thn,
             td0.824201tdn,
           trn,
           trn,
             th33thn,
             td0.782464tdn,
           trn,
           trn,
             th34thn,
             td0.666979tdn,
           trn,
           trn,
             th39thn,
             td0.572344tdn,
           trn,
           trn,
             th40thn,
             td0.512444tdn,
           trn,
           trn,
             th38thn,
             td0.506425tdn,
           trn,
           trn,
             th36thn,
             td0.503972tdn,
           trn,
           trn,
             th37thn,
             td0.437789tdn,
           trn,
         tbodyn,
       tablen,
       div
      ],
      textplain [
                  severe_damagen,
       vdcmun_id               n,
       31              0.930199n,
       32              0.851117n,
       35              0.827145n,
       30              0.824201n,
       33              0.782464n,
       34              0.666979n,
       39              0.572344n,
       40              0.512444n,
       38              0.506425n,
       36              0.503972n,
       37              0.437789
      ]
     },
     execution_count 76,
     metadata {},
     output_type execute_result
    }
   ],
   source [
    damage_by_vdcmun = df.groupby(vdcmun_id)[severe_damage].mean().sort_values(ascending=False).to_frame()n,
    damage_by_vdcmun
   ]
  },
  {
   cell_type code,
   execution_count 77,
   id b4564954-dcb1-4064-a68d-017de1566081,
   metadata {
    deletable false
   },
   outputs [],
   source [
    # Check your workn,
    assert isinstance(n,
        damage_by_vdcmun, pd.DataFramen,
    ), f`damage_by_vdcmun` should be a Series, not type {type(damage_by_vdcmun)}.n,
    assert damage_by_vdcmun.shape == (n,
        11,n,
        1,n,
    ), f`damage_by_vdcmun` should be shape (11,1), not {damage_by_vdcmun.shape}.
   ]
  },
  {
   cell_type code,
   execution_count 79,
   id ad93a2fc-39d0-4b0c-bf7d-96f4c57c0dcc,
   metadata {
    deletable false,
    editable false,
    init_cell true
   },
   outputs [
    {
     data {
      texthtml [
       n,
               iframen,
                   width=600n,
                   height=300n,
                   src=httpsplayer.vimeo.comvideo665415651h=9b5244dec1n,
                   frameborder=0n,
                   allowfullscreenn,
                   n,
               iframen,
               
      ],
      textplain [
       IPython.lib.display.VimeoVideo at 0x7f86dea438b0
      ]
     },
     execution_count 79,
     metadata {},
     output_type execute_result
    }
   ],
   source [
    VimeoVideo(665415651, h=9b5244dec1, width=600)
   ]
  },
  {
   cell_type markdown,
   id d471d9eb-ce26-4885-adfa-a60ae23771fe,
   metadata {
    deletable false,
    editable false
   },
   source [
    Task 4.4.18 Create a line plot of `damage_by_vdcmun`. Label your x-axis `Municipality ID`, your y-axis `% of Total Households`, and give your plot the title `Household Damage by Municipality`.n,
    n,
    - [Create a line plot in Matplotlib.](..%40textbook07-visualization-pandas.ipynb#Line-Plots)
   ]
  },
  {
   cell_type code,
   execution_count 82,
   id dc9b5d64-b1db-401c-b5f3-28a51ca2decc,
   metadata {
    deletable false
   },
   outputs [
    {
     data {
      imagepng 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,
      textplain [
       Figure size 432x288 with 1 Axes
      ]
     },
     metadata {
      needs_background light
     },
     output_type display_data
    }
   ],
   source [
    # Plot linen,
    plt.plot(damage_by_vdcmun.values)n,
    plt.xticks(range(len(damage_by_vdcmun)), labels=damage_by_vdcmun.index)n,
    plt.yticks(np.arange(0.0, 1.1, 0.2))n,
    n,
    n,
    plt.xlabel(Municipality ID)n,
    plt.ylabel(% of Total Households)n,
    plt.title(Severe Damage by Municipality);
   ]
  },
  {
   cell_type markdown,
   id a662e1c8-cbe0-469c-9cb9-abe428b527eb,
   metadata {
    deletable false,
    editable false
   },
   source [
    Given the plot above, our next question is How are the Gurung and Kumal populations distributed across these municipalities
   ]
  },
  {
   cell_type code,
   execution_count 83,
   id 20baf3f8-9896-4498-a8c4-8365fc399b7a,
   metadata {
    deletable false,
    editable false,
    init_cell true
   },
   outputs [
    {
     data {
      texthtml [
       n,
               iframen,
                   width=600n,
                   height=300n,
                   src=httpsplayer.vimeo.comvideo665415693h=fb2e54aa04n,
                   frameborder=0n,
                   allowfullscreenn,
                   n,
               iframen,
               
      ],
      textplain [
       IPython.lib.display.VimeoVideo at 0x7f86d74bcd30
      ]
     },
     execution_count 83,
     metadata {},
     output_type execute_result
    }
   ],
   source [
    VimeoVideo(665415693, h=fb2e54aa04, width=600)
   ]
  },
  {
   cell_type markdown,
   id afa0fb8f-c496-4288-94ce-f7ec7db0b2f3,
   metadata {
    deletable false,
    editable false
   },
   source [
    Task 4.4.19 Create a new column in `damage_by_vdcmun` that contains the the proportion of Gurung households in each municipality.n,
    n,
    - [span id='technique'Aggregate data using the groupby method in span id='tool'pandasspanspan.](..%40textbook04-pandas-advanced.ipynb#Series-and-Groupby)n,
    - [span id='technique'Create a Series in span id='tool'pandasspanspan.](..%40textbook03-pandas-getting-started.ipynb#Adding-Columns)
   ]
  },
  {
   cell_type code,
   execution_count 84,
   id 61398132-62b1-4579-af67-63e780c8b5e7,
   metadata {
    deletable false
   },
   outputs [],
   source [
    damage_by_vdcmun[Gurung] = df[df[caste_household]==Gurung].groupby(vdcmun_id)[severe_damage].count()df.groupby(vdcmun_id)[severe_damage].count()
   ]
  },
  {
   cell_type code,
   execution_count 86,
   id 045fae42-7375-4f24-962c-5cd8bd802521,
   metadata {},
   outputs [
    {
     data {
      texthtml [
       divn,
       style scopedn,
           .dataframe tbody tr thonly-of-type {n,
               vertical-align middle;n,
           }n,
       n,
           .dataframe tbody tr th {n,
               vertical-align top;n,
           }n,
       n,
           .dataframe thead th {n,
               text-align right;n,
           }n,
       stylen,
       table border=1 class=dataframen,
         theadn,
           tr style=text-align right;n,
             ththn,
             thsevere_damagethn,
             thGurungthn,
           trn,
           trn,
             thvdcmun_idthn,
             ththn,
             ththn,
           trn,
         theadn,
         tbodyn,
           trn,
             th31thn,
             td0.930199tdn,
             td0.326937tdn,
           trn,
           trn,
             th32thn,
             td0.851117tdn,
             td0.387849tdn,
           trn,
           trn,
             th35thn,
             td0.827145tdn,
             td0.826889tdn,
           trn,
           trn,
             th30thn,
             td0.824201tdn,
             td0.338152tdn,
           trn,
           trn,
             th33thn,
             td0.782464tdn,
             td0.011943tdn,
           trn,
         tbodyn,
       tablen,
       div
      ],
      textplain [
                  severe_damage    Gurungn,
       vdcmun_id                         n,
       31              0.930199  0.326937n,
       32              0.851117  0.387849n,
       35              0.827145  0.826889n,
       30              0.824201  0.338152n,
       33              0.782464  0.011943
      ]
     },
     execution_count 86,
     metadata {},
     output_type execute_result
    }
   ],
   source [
    damage_by_vdcmun.head()
   ]
  },
  {
   cell_type code,
   execution_count 85,
   id 0bd137d5-068f-4f58-982d-539cd98d47b5,
   metadata {
    deletable false,
    editable false,
    init_cell true
   },
   outputs [
    {
     data {
      texthtml [
       n,
               iframen,
                   width=600n,
                   height=300n,
                   src=httpsplayer.vimeo.comvideo665415707h=9b29c23434n,
                   frameborder=0n,
                   allowfullscreenn,
                   n,
               iframen,
               
      ],
      textplain [
       IPython.lib.display.VimeoVideo at 0x7f86d74bc550
      ]
     },
     execution_count 85,
     metadata {},
     output_type execute_result
    }
   ],
   source [
    VimeoVideo(665415707, h=9b29c23434, width=600)
   ]
  },
  {
   cell_type markdown,
   id caea7d3d-ad20-4d81-b1a5-42cb7deccd4b,
   metadata {
    deletable false,
    editable false
   },
   source [
    Task 4.4.20 Create a new column in `damage_by_vdcmun` that contains the the proportion of Kumal households in each municipality. Replace any `NaN` values in the column with `0`.n,
    n,
    - [span id='technique'Aggregate data using the groupby method in span id='tool'pandasspanspan.](..%40textbook04-pandas-advanced.ipynb#Series-and-Groupby)n,
    - [span id='technique'Create a Series in span id='tool'pandasspanspan.](..%40textbook03-pandas-getting-started.ipynb#Adding-Columns)
   ]
  },
  {
   cell_type code,
   execution_count 87,
   id 95e635f3-c6b7-4931-ac7f-0991e37691f3,
   metadata {
    deletable false
   },
   outputs [],
   source [
    damage_by_vdcmun[Kumal] = (df[df[caste_household]==Kumal].groupby(vdcmun_id)[severe_damage].count()n,
                                 df.groupby(vdcmun_id)[severe_damage].count()).fillna(0)
   ]
  },
  {
   cell_type code,
   execution_count 88,
   id 3bf54a7c-a342-4f3c-a41d-14b6ff13282f,
   metadata {},
   outputs [
    {
     data {
      texthtml [
       divn,
       style scopedn,
           .dataframe tbody tr thonly-of-type {n,
               vertical-align middle;n,
           }n,
       n,
           .dataframe tbody tr th {n,
               vertical-align top;n,
           }n,
       n,
           .dataframe thead th {n,
               text-align right;n,
           }n,
       stylen,
       table border=1 class=dataframen,
         theadn,
           tr style=text-align right;n,
             ththn,
             thsevere_damagethn,
             thGurungthn,
             thKumalthn,
           trn,
           trn,
             thvdcmun_idthn,
             ththn,
             ththn,
             ththn,
           trn,
         theadn,
         tbodyn,
           trn,
             th31thn,
             td0.930199tdn,
             td0.326937tdn,
             td0.000000tdn,
           trn,
           trn,
             th32thn,
             td0.851117tdn,
             td0.387849tdn,
             td0.000000tdn,
           trn,
           trn,
             th35thn,
             td0.827145tdn,
             td0.826889tdn,
             td0.000000tdn,
           trn,
           trn,
             th30thn,
             td0.824201tdn,
             td0.338152tdn,
             td0.000000tdn,
           trn,
           trn,
             th33thn,
             td0.782464tdn,
             td0.011943tdn,
             td0.029478tdn,
           trn,
         tbodyn,
       tablen,
       div
      ],
      textplain [
                  severe_damage    Gurung     Kumaln,
       vdcmun_id                                   n,
       31              0.930199  0.326937  0.000000n,
       32              0.851117  0.387849  0.000000n,
       35              0.827145  0.826889  0.000000n,
       30              0.824201  0.338152  0.000000n,
       33              0.782464  0.011943  0.029478
      ]
     },
     execution_count 88,
     metadata {},
     output_type execute_result
    }
   ],
   source [
    damage_by_vdcmun.head()
   ]
  },
  {
   cell_type code,
   execution_count 89,
   id 9d00c957-2ddc-4a2c-8fd8-82e7745a17db,
   metadata {
    deletable false,
    editable false,
    init_cell true
   },
   outputs [
    {
     data {
      texthtml [
       n,
               iframen,
                   width=600n,
                   height=300n,
                   src=httpsplayer.vimeo.comvideo665415729h=8d0712c306n,
                   frameborder=0n,
                   allowfullscreenn,
                   n,
               iframen,
               
      ],
      textplain [
       IPython.lib.display.VimeoVideo at 0x7f86d74e1fd0
      ]
     },
     execution_count 89,
     metadata {},
     output_type execute_result
    }
   ],
   source [
    VimeoVideo(665415729, h=8d0712c306, width=600)
   ]
  },
  {
   cell_type markdown,
   id 282c833c-3fc4-4be8-8d24-edd29b199f68,
   metadata {
    deletable false,
    editable false
   },
   source [
    Task 4.4.21 Create a visualization that combines the line plot of severely damaged households you made above with a stacked bar chart showing the proportion of Gurung and Kumal households in each district. Label your x-axis `Municipality ID`, your y-axis `% of Total Households`.n,
    n,
    - [span id='technique'Create a bar chart using span id='tool'pandasspanspan.](..%40textbook06-visualization-matplotlib.ipynb#Bar-Charts)n,
    - [span id='technique'Drop a column from a DataFrame using span id='tool'pandasspanspan.](..%40textbook03-pandas-getting-started.ipynb#Dropping-Columns)
   ]
  },
  {
   cell_type code,
   execution_count 91,
   id 277b4a0c-8ee1-4dda-b0c6-5aa520f8c6da,
   metadata {
    deletable false
   },
   outputs [
    {
     data {
      imagepng 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n,
      textplain [
       Figure size 432x288 with 1 Axes
      ]
     },
     metadata {
      needs_background light
     },
     output_type display_data
    }
   ],
   source [
    damage_by_vdcmun.drop(columns=severe_damage).plot(kind=bar, stacked=True)n,
    plt.plot(damage_by_vdcmun[severe_damage].values, color=grey)n,
    plt.xticks(range(len(damage_by_vdcmun)), labels=damage_by_vdcmun.index)n,
    plt.yticks(np.arange(0.0, 1.1, 0.2))n,
    n,
    plt.xlabel(Municipality ID)n,
    plt.ylabel(% of Total Households)n,
    plt.title(Household Caste by Municipality)n,
    plt.legend();
   ]
  },
  {
   cell_type markdown,
   id 0b114c77,
   metadata {
    deletable false,
    editable false
   },
   source [
    ---n,
    Copyright © 2022 WorldQuant University. Thisn,
    content is licensed solely for personal use. Redistribution orn,
    publication of this material is strictly prohibited.n
   ]
  }
 ],
 metadata {
  kernelspec {
   display_name Python 3 (ipykernel),
   language python,
   name python3
  },
  language_info {
   codemirror_mode {
    name ipython,
    version 3
   },
   file_extension .py,
   mimetype textx-python,
   name python,
   nbconvert_exporter python,
   pygments_lexer ipython3,
   version 3.9.6
  }
 },
 nbformat 4,
 nbformat_minor 5
}
