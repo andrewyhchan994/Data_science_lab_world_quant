{
 "cells": [
  {
   "cell_type": "markdown",
   "id": "7adfb2a2-f887-41a8-8003-6744801b7780",
   "metadata": {
    "deletable": false,
    "editable": false
   },
   "source": [
    "<font size=\"+3\"><strong>4.5. Earthquake Damage in Kavrepalanchok 🇳🇵</strong></font>"
   ]
  },
  {
   "cell_type": "markdown",
   "id": "bc60813d-d919-4f33-9e5c-8a5f5655d25f",
   "metadata": {
    "deletable": false,
    "editable": false
   },
   "source": [
    "In this assignment, you'll build a classification model to predict building damage for the district of [Kavrepalanchok](https://en.wikipedia.org/wiki/Kavrepalanchok_District)."
   ]
  },
  {
   "cell_type": "code",
   "execution_count": 1,
   "id": "be0ad308-a8a9-4931-a803-14e479b5f015",
   "metadata": {
    "deletable": false,
    "editable": false,
    "init_cell": true
   },
   "outputs": [
    {
     "data": {
      "text/html": [
       "\n",
       "<style>\n",
       "  \n",
       "  .checkmark {\n",
       "    width: 56px;\n",
       "    height: 56px;\n",
       "    border-radius: 50%;\n",
       "    display: block;\n",
       "    stroke-width: 2;\n",
       "    stroke: #fff;\n",
       "    stroke-miterlimit: 10;\n",
       "    box-shadow: inset 0px 0px 0px #7ac142;\n",
       "    animation: fill .4s ease-in-out .4s forwards, scale .3s ease-in-out .9s both;\n",
       "  }\n",
       "  \n",
       "  .checkmark__circle {\n",
       "    stroke-dasharray: 166;\n",
       "    stroke-dashoffset: 166;\n",
       "    stroke-width: 2;\n",
       "    stroke-miterlimit: 10;\n",
       "    stroke: #7ac142;\n",
       "    fill: none;\n",
       "    animation: stroke .6s cubic-bezier(0.650, 0.000, 0.450, 1.000) forwards;\n",
       "  }\n",
       "  \n",
       "  .checkmark__check {\n",
       "    transform-origin: 50% 50%;\n",
       "    stroke-dasharray: 48;\n",
       "    stroke-dashoffset: 48;\n",
       "    animation: stroke .3s cubic-bezier(0.650, 0.000, 0.450, 1.000) .8s forwards;\n",
       "  }\n",
       "  \n",
       "  .failmark {\n",
       "    width: 56px;\n",
       "    height: 56px;\n",
       "    border-radius: 50%;\n",
       "    display: block;\n",
       "    stroke-width: 2;\n",
       "    stroke: #fff;\n",
       "    stroke-miterlimit: 10;\n",
       "    box-shadow: inset 0px 0px 0px #F34811;\n",
       "    animation: failfill .4s ease-in-out .4s forwards, scale .3s ease-in-out .9s both;\n",
       "  }\n",
       "  \n",
       "  .failmark__circle {\n",
       "    stroke-dasharray: 166;\n",
       "    stroke-dashoffset: 166;\n",
       "    stroke-width: 2;\n",
       "    stroke-miterlimit: 10;\n",
       "    stroke: #F34811;\n",
       "    fill: none;\n",
       "    animation: stroke .6s cubic-bezier(0.650, 0.000, 0.450, 1.000) forwards;\n",
       "  }\n",
       "  \n",
       "  @keyframes stroke {\n",
       "    100% {\n",
       "      stroke-dashoffset: 0;\n",
       "    }\n",
       "  }\n",
       "  \n",
       "  @keyframes scale {\n",
       "    0%, 100% {\n",
       "      transform: none;\n",
       "    }\n",
       "    50% {\n",
       "      transform: scale3d(1.1, 1.1, 1);\n",
       "    }\n",
       "  }\n",
       "  \n",
       "  @keyframes fill {\n",
       "    100% {\n",
       "      box-shadow: inset 0px 0px 0px 30px #7ac142;\n",
       "    }\n",
       "  }\n",
       "  \n",
       "  @keyframes failfill {\n",
       "    100% {\n",
       "      box-shadow: inset 0px 0px 0px 30px #F34811;\n",
       "    }\n",
       "  }\n",
       "  \n",
       "  \n",
       "  .wqet-result {\n",
       "    width: 450px;\n",
       "    clear: both;\n",
       "  }\n",
       "  \n",
       "  .wqet-result .animation {\n",
       "    float: left;\n",
       "    width: 100px;\n",
       "  }\n",
       "  \n",
       "  .wqet-result .animation .checkmark,\n",
       "  .wqet-result .animation .failmark {\n",
       "    margin: 20px auto 20px auto;\n",
       "  }\n",
       "  \n",
       "  .wqet-result .details {\n",
       "    float: right;\n",
       "    width: 349px;\n",
       "    padding: 28px 0;\n",
       "  }\n",
       "  \n",
       "  .wqet-result .details .title {\n",
       "    font-weight: bold;\n",
       "    font-size: 110%;\n",
       "  }\n",
       "  .wqet-result .details p {\n",
       "    margin: 0;\n",
       "  }\n",
       "</style>\n"
      ],
      "text/plain": [
       "<IPython.core.display.HTML object>"
      ]
     },
     "metadata": {},
     "output_type": "display_data"
    }
   ],
   "source": [
    "import warnings\n",
    "\n",
    "import wqet_grader\n",
    "\n",
    "warnings.simplefilter(action=\"ignore\", category=FutureWarning)\n",
    "wqet_grader.init(\"Project 4 Assessment\")"
   ]
  },
  {
   "cell_type": "code",
   "execution_count": 2,
   "id": "2ef8eaa3-d1c0-42f7-87f9-ace7e1a4f712",
   "metadata": {
    "deletable": false
   },
   "outputs": [],
   "source": [
    "# Import libraries here\n",
    "import sqlite3\n",
    "import warnings\n",
    "\n",
    "import matplotlib.pyplot as plt\n",
    "import numpy as np\n",
    "import pandas as pd\n",
    "from category_encoders import OneHotEncoder\n",
    "from IPython.display import VimeoVideo\n",
    "from sklearn.linear_model import LogisticRegression\n",
    "from sklearn.metrics import accuracy_score\n",
    "from sklearn.model_selection import train_test_split\n",
    "from sklearn.pipeline import Pipeline, make_pipeline\n",
    "from sklearn.utils.validation import check_is_fitted"
   ]
  },
  {
   "cell_type": "markdown",
   "id": "0cec9bac-5fb3-4ad8-9ed3-d6d754160640",
   "metadata": {
    "deletable": false,
    "editable": false
   },
   "source": [
    "# Prepare Data"
   ]
  },
  {
   "cell_type": "markdown",
   "id": "bda33c00-118e-4000-92b8-536e4a4108d5",
   "metadata": {
    "deletable": false,
    "editable": false
   },
   "source": [
    "## Connect"
   ]
  },
  {
   "cell_type": "markdown",
   "id": "b8503125-3767-4385-b22c-b9b12cf048a7",
   "metadata": {
    "deletable": false,
    "editable": false
   },
   "source": [
    "Run the cell below to connect to the `nepal.sqlite` database."
   ]
  },
  {
   "cell_type": "code",
   "execution_count": 3,
   "id": "b4f41e25-9e0f-4736-ae75-ab8e51bffcfb",
   "metadata": {
    "deletable": false
   },
   "outputs": [
    {
     "data": {
      "text/plain": [
       "'Connected: @/home/jovyan/nepal.sqlite'"
      ]
     },
     "execution_count": 3,
     "metadata": {},
     "output_type": "execute_result"
    }
   ],
   "source": [
    "%load_ext sql\n",
    "%sql sqlite:////home/jovyan/nepal.sqlite"
   ]
  },
  {
   "cell_type": "markdown",
   "id": "72de701a-ead5-48c3-9c40-9e548d5cb634",
   "metadata": {
    "deletable": false,
    "editable": false
   },
   "source": [
    "<div class=\"alert alert-block alert-warning\">\n",
    "<b>Warning:</b>Be careful with your SQL queries in this assignment. If you try to get all the rows from a table (for example, <code>SELECT * FROM id_map</code>), you will cause an Out of Memory error on your virtual machine. So always include a <code>LIMIT</code> when first exploring a database.\n",
    "</div>"
   ]
  },
  {
   "cell_type": "markdown",
   "id": "fef7dca8-4955-43b0-b78d-d839702ab257",
   "metadata": {
    "deletable": false,
    "editable": false
   },
   "source": [
    "**Task 4.5.1:** What districts are represented in the `id_map` table? Determine the unique values in the **`district_id`** column."
   ]
  },
  {
   "cell_type": "code",
   "execution_count": 4,
   "id": "e0fe1e67-0bf7-4955-83a8-c355a73c231d",
   "metadata": {
    "deletable": false
   },
   "outputs": [
    {
     "name": "stdout",
     "output_type": "stream",
     "text": [
      " * sqlite:////home/jovyan/nepal.sqlite\n",
      "Done.\n"
     ]
    },
    {
     "data": {
      "text/html": [
       "<table>\n",
       "    <thead>\n",
       "        <tr>\n",
       "            <th>district_id</th>\n",
       "        </tr>\n",
       "    </thead>\n",
       "    <tbody>\n",
       "        <tr>\n",
       "            <td>1</td>\n",
       "        </tr>\n",
       "        <tr>\n",
       "            <td>2</td>\n",
       "        </tr>\n",
       "        <tr>\n",
       "            <td>3</td>\n",
       "        </tr>\n",
       "        <tr>\n",
       "            <td>4</td>\n",
       "        </tr>\n",
       "    </tbody>\n",
       "</table>"
      ],
      "text/plain": [
       "[(1,), (2,), (3,), (4,)]"
      ]
     },
     "execution_count": 4,
     "metadata": {},
     "output_type": "execute_result"
    }
   ],
   "source": [
    "%%sql\n",
    "\n",
    "SELECT DISTINCT(district_id) FROM id_map"
   ]
  },
  {
   "cell_type": "code",
   "execution_count": 5,
   "id": "4a39553a-1b27-46c1-9eaf-a7abea645b81",
   "metadata": {
    "deletable": false,
    "editable": false
   },
   "outputs": [
    {
     "data": {
      "text/html": [
       "\n",
       "    <div class=\"wqet-result\">\n",
       "      <div class=\"animation\">\n",
       "        <svg class=\"checkmark\" xmlns=\"http://www.w3.org/2000/svg\" viewBox=\"0 0 52 52\">\n",
       "          <circle class=\"checkmark__circle\" cx=\"26\" cy=\"26\" r=\"25\" fill=\"none\"/>\n",
       "          <path class=\"checkmark__check\" fill=\"none\" d=\"M14.1 27.2l7.1 7.2 16.7-16.8\"/>\n",
       "        </svg>\n",
       "      </div>\n",
       "      <div class=\"details\">\n",
       "        <p class=\"title\"><p>Yes! Your hard work is paying off.</p></p>\n",
       "        <p>Score: 1</p>\n",
       "      </div>\n",
       "    </div>\n"
      ],
      "text/plain": [
       "<IPython.core.display.HTML object>"
      ]
     },
     "metadata": {},
     "output_type": "display_data"
    }
   ],
   "source": [
    "result = _.DataFrame().squeeze()  # noqa F821\n",
    "\n",
    "wqet_grader.grade(\"Project 4 Assessment\", \"Task 4.5.1\", result)"
   ]
  },
  {
   "cell_type": "markdown",
   "id": "e5e29983-87b0-4f09-b2e6-ebad6cc5d87f",
   "metadata": {
    "deletable": false,
    "editable": false
   },
   "source": [
    "What's the district ID for Kavrepalanchok? From the lessons, you already know that Gorkha is `4`; from the textbook, you know that Ramechhap is `2`. Of the remaining districts, Kavrepalanchok is the one with the largest number of observations in the `id_map` table."
   ]
  },
  {
   "cell_type": "markdown",
   "id": "8bfad7c2-f8c8-40d7-aed9-592af00d468f",
   "metadata": {
    "deletable": false,
    "editable": false
   },
   "source": [
    "**Task 4.5.2:** Calculate the number of observations in the `id_map` table associated with district `1`."
   ]
  },
  {
   "cell_type": "code",
   "execution_count": 10,
   "id": "f69563d2-ed56-42ce-9bbb-bca91fb83245",
   "metadata": {
    "deletable": false
   },
   "outputs": [
    {
     "name": "stdout",
     "output_type": "stream",
     "text": [
      " * sqlite:////home/jovyan/nepal.sqlite\n",
      "Done.\n"
     ]
    },
    {
     "data": {
      "text/html": [
       "<table>\n",
       "    <thead>\n",
       "        <tr>\n",
       "            <th>COUNT(district_id)</th>\n",
       "        </tr>\n",
       "    </thead>\n",
       "    <tbody>\n",
       "        <tr>\n",
       "            <td>36112</td>\n",
       "        </tr>\n",
       "    </tbody>\n",
       "</table>"
      ],
      "text/plain": [
       "[(36112,)]"
      ]
     },
     "execution_count": 10,
     "metadata": {},
     "output_type": "execute_result"
    }
   ],
   "source": [
    "%%sql\n",
    "\n",
    "SELECT COUNT(district_id) FROM id_map \n",
    "WHERE district_id = 1"
   ]
  },
  {
   "cell_type": "code",
   "execution_count": 11,
   "id": "69bb36f0-e4ac-418a-a07e-b3e03418ac97",
   "metadata": {
    "deletable": false,
    "editable": false
   },
   "outputs": [
    {
     "data": {
      "text/html": [
       "\n",
       "    <div class=\"wqet-result\">\n",
       "      <div class=\"animation\">\n",
       "        <svg class=\"checkmark\" xmlns=\"http://www.w3.org/2000/svg\" viewBox=\"0 0 52 52\">\n",
       "          <circle class=\"checkmark__circle\" cx=\"26\" cy=\"26\" r=\"25\" fill=\"none\"/>\n",
       "          <path class=\"checkmark__check\" fill=\"none\" d=\"M14.1 27.2l7.1 7.2 16.7-16.8\"/>\n",
       "        </svg>\n",
       "      </div>\n",
       "      <div class=\"details\">\n",
       "        <p class=\"title\"><p>Yes! Keep on rockin'. 🎸That's right.</p></p>\n",
       "        <p>Score: 1</p>\n",
       "      </div>\n",
       "    </div>\n"
      ],
      "text/plain": [
       "<IPython.core.display.HTML object>"
      ]
     },
     "metadata": {},
     "output_type": "display_data"
    }
   ],
   "source": [
    "result = [_.DataFrame().astype(float).squeeze()]  # noqa F821\n",
    "wqet_grader.grade(\"Project 4 Assessment\", \"Task 4.5.2\", result)"
   ]
  },
  {
   "cell_type": "markdown",
   "id": "a2d265c6-ebf5-4cd1-b414-6dbc58a62119",
   "metadata": {
    "deletable": false,
    "editable": false
   },
   "source": [
    "**Task 4.5.3:** Calculate the number of observations in the `id_map` table associated with district `3`."
   ]
  },
  {
   "cell_type": "code",
   "execution_count": 12,
   "id": "ed88fe76-9572-4bc3-b8d0-f9bdff06d1b8",
   "metadata": {
    "deletable": false
   },
   "outputs": [
    {
     "name": "stdout",
     "output_type": "stream",
     "text": [
      " * sqlite:////home/jovyan/nepal.sqlite\n",
      "Done.\n"
     ]
    },
    {
     "data": {
      "text/html": [
       "<table>\n",
       "    <thead>\n",
       "        <tr>\n",
       "            <th>COUNT(district_id)</th>\n",
       "        </tr>\n",
       "    </thead>\n",
       "    <tbody>\n",
       "        <tr>\n",
       "            <td>82684</td>\n",
       "        </tr>\n",
       "    </tbody>\n",
       "</table>"
      ],
      "text/plain": [
       "[(82684,)]"
      ]
     },
     "execution_count": 12,
     "metadata": {},
     "output_type": "execute_result"
    }
   ],
   "source": [
    "%%sql\n",
    "SELECT COUNT(district_id) FROM id_map\n",
    "WHERE district_id=3\n"
   ]
  },
  {
   "cell_type": "code",
   "execution_count": 14,
   "id": "648ad240-de2a-473a-8a7b-77949a8b3b2c",
   "metadata": {
    "deletable": false,
    "editable": false
   },
   "outputs": [
    {
     "data": {
      "text/html": [
       "\n",
       "    <div class=\"wqet-result\">\n",
       "      <div class=\"animation\">\n",
       "        <svg class=\"checkmark\" xmlns=\"http://www.w3.org/2000/svg\" viewBox=\"0 0 52 52\">\n",
       "          <circle class=\"checkmark__circle\" cx=\"26\" cy=\"26\" r=\"25\" fill=\"none\"/>\n",
       "          <path class=\"checkmark__check\" fill=\"none\" d=\"M14.1 27.2l7.1 7.2 16.7-16.8\"/>\n",
       "        </svg>\n",
       "      </div>\n",
       "      <div class=\"details\">\n",
       "        <p class=\"title\"><p>Boom! You got it.</p></p>\n",
       "        <p>Score: 1</p>\n",
       "      </div>\n",
       "    </div>\n"
      ],
      "text/plain": [
       "<IPython.core.display.HTML object>"
      ]
     },
     "metadata": {},
     "output_type": "display_data"
    }
   ],
   "source": [
    "result = [_.DataFrame().astype(float).squeeze()]  # noqa F821\n",
    "wqet_grader.grade(\"Project 4 Assessment\", \"Task 4.5.3\", result)"
   ]
  },
  {
   "cell_type": "markdown",
   "id": "712062bd-117a-4b18-857b-435b61a6913f",
   "metadata": {
    "deletable": false,
    "editable": false
   },
   "source": [
    "**Task 4.5.4:** Join the unique building IDs from Kavrepalanchok in `id_map`, all the columns from  `building_structure`, and the **`damage_grade`** column from `building_damage`, limiting. Make sure you rename the **`building_id`** column in `id_map` as **`b_id`** and limit your results to the first five rows of the new table."
   ]
  },
  {
   "cell_type": "code",
   "execution_count": 20,
   "id": "4f19b935-07ec-4e13-a780-5aae82f8dfb3",
   "metadata": {
    "deletable": false
   },
   "outputs": [
    {
     "name": "stdout",
     "output_type": "stream",
     "text": [
      " * sqlite:////home/jovyan/nepal.sqlite\n",
      "Done.\n"
     ]
    },
    {
     "data": {
      "text/html": [
       "<table>\n",
       "    <thead>\n",
       "        <tr>\n",
       "            <th>b_id</th>\n",
       "            <th>building_id</th>\n",
       "            <th>count_floors_pre_eq</th>\n",
       "            <th>count_floors_post_eq</th>\n",
       "            <th>age_building</th>\n",
       "            <th>plinth_area_sq_ft</th>\n",
       "            <th>height_ft_pre_eq</th>\n",
       "            <th>height_ft_post_eq</th>\n",
       "            <th>land_surface_condition</th>\n",
       "            <th>foundation_type</th>\n",
       "            <th>roof_type</th>\n",
       "            <th>ground_floor_type</th>\n",
       "            <th>other_floor_type</th>\n",
       "            <th>position</th>\n",
       "            <th>plan_configuration</th>\n",
       "            <th>condition_post_eq</th>\n",
       "            <th>superstructure</th>\n",
       "            <th>damage_grade</th>\n",
       "        </tr>\n",
       "    </thead>\n",
       "    <tbody>\n",
       "        <tr>\n",
       "            <td>87473</td>\n",
       "            <td>87473</td>\n",
       "            <td>2</td>\n",
       "            <td>1</td>\n",
       "            <td>15</td>\n",
       "            <td>382</td>\n",
       "            <td>18</td>\n",
       "            <td>7</td>\n",
       "            <td>Flat</td>\n",
       "            <td>Mud mortar-Stone/Brick</td>\n",
       "            <td>Bamboo/Timber-Light roof</td>\n",
       "            <td>Mud</td>\n",
       "            <td>TImber/Bamboo-Mud</td>\n",
       "            <td>Not attached</td>\n",
       "            <td>Rectangular</td>\n",
       "            <td>Damaged-Used in risk</td>\n",
       "            <td>Stone, mud mortar</td>\n",
       "            <td>Grade 4</td>\n",
       "        </tr>\n",
       "        <tr>\n",
       "            <td>87479</td>\n",
       "            <td>87479</td>\n",
       "            <td>1</td>\n",
       "            <td>0</td>\n",
       "            <td>12</td>\n",
       "            <td>328</td>\n",
       "            <td>7</td>\n",
       "            <td>0</td>\n",
       "            <td>Flat</td>\n",
       "            <td>Mud mortar-Stone/Brick</td>\n",
       "            <td>Bamboo/Timber-Light roof</td>\n",
       "            <td>Mud</td>\n",
       "            <td>Not applicable</td>\n",
       "            <td>Not attached</td>\n",
       "            <td>Rectangular</td>\n",
       "            <td>Damaged-Rubble clear</td>\n",
       "            <td>Stone, mud mortar</td>\n",
       "            <td>Grade 5</td>\n",
       "        </tr>\n",
       "        <tr>\n",
       "            <td>87482</td>\n",
       "            <td>87482</td>\n",
       "            <td>2</td>\n",
       "            <td>1</td>\n",
       "            <td>23</td>\n",
       "            <td>427</td>\n",
       "            <td>20</td>\n",
       "            <td>7</td>\n",
       "            <td>Flat</td>\n",
       "            <td>Mud mortar-Stone/Brick</td>\n",
       "            <td>Bamboo/Timber-Light roof</td>\n",
       "            <td>Mud</td>\n",
       "            <td>TImber/Bamboo-Mud</td>\n",
       "            <td>Not attached</td>\n",
       "            <td>Rectangular</td>\n",
       "            <td>Damaged-Not used</td>\n",
       "            <td>Stone, mud mortar</td>\n",
       "            <td>Grade 4</td>\n",
       "        </tr>\n",
       "        <tr>\n",
       "            <td>87491</td>\n",
       "            <td>87491</td>\n",
       "            <td>2</td>\n",
       "            <td>1</td>\n",
       "            <td>12</td>\n",
       "            <td>427</td>\n",
       "            <td>14</td>\n",
       "            <td>7</td>\n",
       "            <td>Flat</td>\n",
       "            <td>Mud mortar-Stone/Brick</td>\n",
       "            <td>Bamboo/Timber-Light roof</td>\n",
       "            <td>Mud</td>\n",
       "            <td>TImber/Bamboo-Mud</td>\n",
       "            <td>Not attached</td>\n",
       "            <td>Rectangular</td>\n",
       "            <td>Damaged-Not used</td>\n",
       "            <td>Stone, mud mortar</td>\n",
       "            <td>Grade 4</td>\n",
       "        </tr>\n",
       "        <tr>\n",
       "            <td>87496</td>\n",
       "            <td>87496</td>\n",
       "            <td>2</td>\n",
       "            <td>0</td>\n",
       "            <td>32</td>\n",
       "            <td>360</td>\n",
       "            <td>18</td>\n",
       "            <td>0</td>\n",
       "            <td>Flat</td>\n",
       "            <td>Mud mortar-Stone/Brick</td>\n",
       "            <td>Bamboo/Timber-Light roof</td>\n",
       "            <td>Mud</td>\n",
       "            <td>TImber/Bamboo-Mud</td>\n",
       "            <td>Not attached</td>\n",
       "            <td>Rectangular</td>\n",
       "            <td>Damaged-Rubble clear</td>\n",
       "            <td>Stone, mud mortar</td>\n",
       "            <td>Grade 5</td>\n",
       "        </tr>\n",
       "    </tbody>\n",
       "</table>"
      ],
      "text/plain": [
       "[(87473, 87473, 2, 1, 15, 382, 18, 7, 'Flat', 'Mud mortar-Stone/Brick', 'Bamboo/Timber-Light roof', 'Mud', 'TImber/Bamboo-Mud', 'Not attached', 'Rectangular', 'Damaged-Used in risk', 'Stone, mud mortar', 'Grade 4'),\n",
       " (87479, 87479, 1, 0, 12, 328, 7, 0, 'Flat', 'Mud mortar-Stone/Brick', 'Bamboo/Timber-Light roof', 'Mud', 'Not applicable', 'Not attached', 'Rectangular', 'Damaged-Rubble clear', 'Stone, mud mortar', 'Grade 5'),\n",
       " (87482, 87482, 2, 1, 23, 427, 20, 7, 'Flat', 'Mud mortar-Stone/Brick', 'Bamboo/Timber-Light roof', 'Mud', 'TImber/Bamboo-Mud', 'Not attached', 'Rectangular', 'Damaged-Not used', 'Stone, mud mortar', 'Grade 4'),\n",
       " (87491, 87491, 2, 1, 12, 427, 14, 7, 'Flat', 'Mud mortar-Stone/Brick', 'Bamboo/Timber-Light roof', 'Mud', 'TImber/Bamboo-Mud', 'Not attached', 'Rectangular', 'Damaged-Not used', 'Stone, mud mortar', 'Grade 4'),\n",
       " (87496, 87496, 2, 0, 32, 360, 18, 0, 'Flat', 'Mud mortar-Stone/Brick', 'Bamboo/Timber-Light roof', 'Mud', 'TImber/Bamboo-Mud', 'Not attached', 'Rectangular', 'Damaged-Rubble clear', 'Stone, mud mortar', 'Grade 5')]"
      ]
     },
     "execution_count": 20,
     "metadata": {},
     "output_type": "execute_result"
    }
   ],
   "source": [
    "%%sql\n",
    "SELECT DISTINCT(i.building_id) AS b_id,\n",
    "    s.*,\n",
    "    d.damage_grade\n",
    "FROM id_map AS i\n",
    "JOIN building_structure AS s ON i.building_id = s.building_id\n",
    "JOIN building_damage AS d ON i.building_id = d.building_id\n",
    "WHERE district_id = 3\n",
    "LIMIT 5\n"
   ]
  },
  {
   "cell_type": "code",
   "execution_count": 21,
   "id": "18cfa95f-02ba-4ec7-8357-0eaca8756862",
   "metadata": {
    "deletable": false,
    "editable": false
   },
   "outputs": [
    {
     "data": {
      "text/html": [
       "\n",
       "    <div class=\"wqet-result\">\n",
       "      <div class=\"animation\">\n",
       "        <svg class=\"checkmark\" xmlns=\"http://www.w3.org/2000/svg\" viewBox=\"0 0 52 52\">\n",
       "          <circle class=\"checkmark__circle\" cx=\"26\" cy=\"26\" r=\"25\" fill=\"none\"/>\n",
       "          <path class=\"checkmark__check\" fill=\"none\" d=\"M14.1 27.2l7.1 7.2 16.7-16.8\"/>\n",
       "        </svg>\n",
       "      </div>\n",
       "      <div class=\"details\">\n",
       "        <p class=\"title\"><p>Yes! Great problem solving.</p></p>\n",
       "        <p>Score: 1</p>\n",
       "      </div>\n",
       "    </div>\n"
      ],
      "text/plain": [
       "<IPython.core.display.HTML object>"
      ]
     },
     "metadata": {},
     "output_type": "display_data"
    }
   ],
   "source": [
    "result = _.DataFrame().set_index(\"b_id\")  # noqa F821\n",
    "\n",
    "wqet_grader.grade(\"Project 4 Assessment\", \"Task 4.5.4\", result)"
   ]
  },
  {
   "cell_type": "markdown",
   "id": "fa6700bb-fcf9-417f-92cd-83805a049873",
   "metadata": {
    "deletable": false,
    "editable": false
   },
   "source": [
    "## Import"
   ]
  },
  {
   "cell_type": "markdown",
   "id": "38989cd1-b725-4c23-b734-789f9f5315b9",
   "metadata": {
    "deletable": false,
    "editable": false
   },
   "source": [
    "**Task 4.5.5:** Write a `wrangle` function that will use the query you created in the previous task to create a DataFrame. In addition your function should:\n",
    "\n",
    "1. Create a `\"severe_damage\"` column, where all buildings with a damage grade greater than `3` should be encoded as `1`. All other buildings should be encoded at `0`. \n",
    "2. Drop any columns that could cause issues with leakage or multicollinearity in your model."
   ]
  },
  {
   "cell_type": "code",
   "execution_count": 29,
   "id": "20fd1370-8034-4f96-a525-cc5c8153ca0e",
   "metadata": {
    "deletable": false
   },
   "outputs": [],
   "source": [
    "# Build your `wrangle` function here\n",
    "def wrangle(db_path):\n",
    "    # Connect to database\n",
    "    conn = sqlite3.connect(db_path)\n",
    "\n",
    "    # Construct query\n",
    "    query = \"\"\"\n",
    "        SELECT DISTINCT(i.building_id) AS b_id,\n",
    "            s.*,\n",
    "            d.damage_grade\n",
    "        FROM id_map AS i\n",
    "        JOIN building_structure AS s ON i.building_id = s.building_id\n",
    "        JOIN building_damage AS d ON i.building_id = d.building_id\n",
    "        WHERE district_id = 3\n",
    "        \n",
    "    \"\"\"\n",
    "\n",
    "    # Read query results into DataFrame\n",
    "    df = pd.read_sql(query, conn, index_col=\"b_id\")\n",
    "\n",
    "    # Identify leaky columns\n",
    "    drop_cols = [col for col in df.columns if \"post_eq\" in col]\n",
    "\n",
    "    # Add high-cardinality / redundant column\n",
    "    drop_cols.append(\"building_id\")\n",
    "\n",
    "    # Create binary target column\n",
    "    df[\"damage_grade\"] = df[\"damage_grade\"].str[-1].astype(int)\n",
    "    df[\"severe_damage\"] = (df[\"damage_grade\"] > 3).astype(int)\n",
    "\n",
    "    # Drop old target\n",
    "    drop_cols.append(\"damage_grade\")\n",
    "\n",
    "    # Drop multicollinearity column\n",
    "    drop_cols.append(\"count_floors_pre_eq\")\n",
    "\n",
    "    # Drop columns\n",
    "    df.drop(columns=drop_cols, inplace=True)\n",
    "\n",
    "    return df"
   ]
  },
  {
   "cell_type": "markdown",
   "id": "5d450d82-bccf-4734-8529-6e71abfc9d76",
   "metadata": {
    "deletable": false,
    "editable": false
   },
   "source": [
    "Use your `wrangle` function to query the database at `\"/home/jovyan/nepal.sqlite\"` and return  your cleaned results."
   ]
  },
  {
   "cell_type": "code",
   "execution_count": 30,
   "id": "c07f1e9c-3037-4cf7-b282-f3cad3985761",
   "metadata": {
    "deletable": false
   },
   "outputs": [
    {
     "data": {
      "text/html": [
       "<div>\n",
       "<style scoped>\n",
       "    .dataframe tbody tr th:only-of-type {\n",
       "        vertical-align: middle;\n",
       "    }\n",
       "\n",
       "    .dataframe tbody tr th {\n",
       "        vertical-align: top;\n",
       "    }\n",
       "\n",
       "    .dataframe thead th {\n",
       "        text-align: right;\n",
       "    }\n",
       "</style>\n",
       "<table border=\"1\" class=\"dataframe\">\n",
       "  <thead>\n",
       "    <tr style=\"text-align: right;\">\n",
       "      <th></th>\n",
       "      <th>age_building</th>\n",
       "      <th>plinth_area_sq_ft</th>\n",
       "      <th>height_ft_pre_eq</th>\n",
       "      <th>land_surface_condition</th>\n",
       "      <th>foundation_type</th>\n",
       "      <th>roof_type</th>\n",
       "      <th>ground_floor_type</th>\n",
       "      <th>other_floor_type</th>\n",
       "      <th>position</th>\n",
       "      <th>plan_configuration</th>\n",
       "      <th>superstructure</th>\n",
       "      <th>severe_damage</th>\n",
       "    </tr>\n",
       "    <tr>\n",
       "      <th>b_id</th>\n",
       "      <th></th>\n",
       "      <th></th>\n",
       "      <th></th>\n",
       "      <th></th>\n",
       "      <th></th>\n",
       "      <th></th>\n",
       "      <th></th>\n",
       "      <th></th>\n",
       "      <th></th>\n",
       "      <th></th>\n",
       "      <th></th>\n",
       "      <th></th>\n",
       "    </tr>\n",
       "  </thead>\n",
       "  <tbody>\n",
       "    <tr>\n",
       "      <th>87473</th>\n",
       "      <td>15</td>\n",
       "      <td>382</td>\n",
       "      <td>18</td>\n",
       "      <td>Flat</td>\n",
       "      <td>Mud mortar-Stone/Brick</td>\n",
       "      <td>Bamboo/Timber-Light roof</td>\n",
       "      <td>Mud</td>\n",
       "      <td>TImber/Bamboo-Mud</td>\n",
       "      <td>Not attached</td>\n",
       "      <td>Rectangular</td>\n",
       "      <td>Stone, mud mortar</td>\n",
       "      <td>1</td>\n",
       "    </tr>\n",
       "    <tr>\n",
       "      <th>87479</th>\n",
       "      <td>12</td>\n",
       "      <td>328</td>\n",
       "      <td>7</td>\n",
       "      <td>Flat</td>\n",
       "      <td>Mud mortar-Stone/Brick</td>\n",
       "      <td>Bamboo/Timber-Light roof</td>\n",
       "      <td>Mud</td>\n",
       "      <td>Not applicable</td>\n",
       "      <td>Not attached</td>\n",
       "      <td>Rectangular</td>\n",
       "      <td>Stone, mud mortar</td>\n",
       "      <td>1</td>\n",
       "    </tr>\n",
       "    <tr>\n",
       "      <th>87482</th>\n",
       "      <td>23</td>\n",
       "      <td>427</td>\n",
       "      <td>20</td>\n",
       "      <td>Flat</td>\n",
       "      <td>Mud mortar-Stone/Brick</td>\n",
       "      <td>Bamboo/Timber-Light roof</td>\n",
       "      <td>Mud</td>\n",
       "      <td>TImber/Bamboo-Mud</td>\n",
       "      <td>Not attached</td>\n",
       "      <td>Rectangular</td>\n",
       "      <td>Stone, mud mortar</td>\n",
       "      <td>1</td>\n",
       "    </tr>\n",
       "    <tr>\n",
       "      <th>87491</th>\n",
       "      <td>12</td>\n",
       "      <td>427</td>\n",
       "      <td>14</td>\n",
       "      <td>Flat</td>\n",
       "      <td>Mud mortar-Stone/Brick</td>\n",
       "      <td>Bamboo/Timber-Light roof</td>\n",
       "      <td>Mud</td>\n",
       "      <td>TImber/Bamboo-Mud</td>\n",
       "      <td>Not attached</td>\n",
       "      <td>Rectangular</td>\n",
       "      <td>Stone, mud mortar</td>\n",
       "      <td>1</td>\n",
       "    </tr>\n",
       "    <tr>\n",
       "      <th>87496</th>\n",
       "      <td>32</td>\n",
       "      <td>360</td>\n",
       "      <td>18</td>\n",
       "      <td>Flat</td>\n",
       "      <td>Mud mortar-Stone/Brick</td>\n",
       "      <td>Bamboo/Timber-Light roof</td>\n",
       "      <td>Mud</td>\n",
       "      <td>TImber/Bamboo-Mud</td>\n",
       "      <td>Not attached</td>\n",
       "      <td>Rectangular</td>\n",
       "      <td>Stone, mud mortar</td>\n",
       "      <td>1</td>\n",
       "    </tr>\n",
       "  </tbody>\n",
       "</table>\n",
       "</div>"
      ],
      "text/plain": [
       "       age_building  plinth_area_sq_ft  height_ft_pre_eq  \\\n",
       "b_id                                                       \n",
       "87473            15                382                18   \n",
       "87479            12                328                 7   \n",
       "87482            23                427                20   \n",
       "87491            12                427                14   \n",
       "87496            32                360                18   \n",
       "\n",
       "      land_surface_condition         foundation_type  \\\n",
       "b_id                                                   \n",
       "87473                   Flat  Mud mortar-Stone/Brick   \n",
       "87479                   Flat  Mud mortar-Stone/Brick   \n",
       "87482                   Flat  Mud mortar-Stone/Brick   \n",
       "87491                   Flat  Mud mortar-Stone/Brick   \n",
       "87496                   Flat  Mud mortar-Stone/Brick   \n",
       "\n",
       "                      roof_type ground_floor_type   other_floor_type  \\\n",
       "b_id                                                                   \n",
       "87473  Bamboo/Timber-Light roof               Mud  TImber/Bamboo-Mud   \n",
       "87479  Bamboo/Timber-Light roof               Mud     Not applicable   \n",
       "87482  Bamboo/Timber-Light roof               Mud  TImber/Bamboo-Mud   \n",
       "87491  Bamboo/Timber-Light roof               Mud  TImber/Bamboo-Mud   \n",
       "87496  Bamboo/Timber-Light roof               Mud  TImber/Bamboo-Mud   \n",
       "\n",
       "           position plan_configuration     superstructure  severe_damage  \n",
       "b_id                                                                      \n",
       "87473  Not attached        Rectangular  Stone, mud mortar              1  \n",
       "87479  Not attached        Rectangular  Stone, mud mortar              1  \n",
       "87482  Not attached        Rectangular  Stone, mud mortar              1  \n",
       "87491  Not attached        Rectangular  Stone, mud mortar              1  \n",
       "87496  Not attached        Rectangular  Stone, mud mortar              1  "
      ]
     },
     "execution_count": 30,
     "metadata": {},
     "output_type": "execute_result"
    }
   ],
   "source": [
    "df = wrangle(\"/home/jovyan/nepal.sqlite\")\n",
    "df.head()"
   ]
  },
  {
   "cell_type": "code",
   "execution_count": 31,
   "id": "f8f4ff95-3c3a-4519-8649-2d8efb2862fb",
   "metadata": {},
   "outputs": [
    {
     "name": "stdout",
     "output_type": "stream",
     "text": [
      "<class 'pandas.core.frame.DataFrame'>\n",
      "Int64Index: 76533 entries, 87473 to 163998\n",
      "Data columns (total 12 columns):\n",
      " #   Column                  Non-Null Count  Dtype \n",
      "---  ------                  --------------  ----- \n",
      " 0   age_building            76533 non-null  int64 \n",
      " 1   plinth_area_sq_ft       76533 non-null  int64 \n",
      " 2   height_ft_pre_eq        76533 non-null  int64 \n",
      " 3   land_surface_condition  76533 non-null  object\n",
      " 4   foundation_type         76533 non-null  object\n",
      " 5   roof_type               76533 non-null  object\n",
      " 6   ground_floor_type       76533 non-null  object\n",
      " 7   other_floor_type        76533 non-null  object\n",
      " 8   position                76533 non-null  object\n",
      " 9   plan_configuration      76533 non-null  object\n",
      " 10  superstructure          76533 non-null  object\n",
      " 11  severe_damage           76533 non-null  int64 \n",
      "dtypes: int64(4), object(8)\n",
      "memory usage: 7.6+ MB\n"
     ]
    }
   ],
   "source": [
    "df.info()"
   ]
  },
  {
   "cell_type": "code",
   "execution_count": 32,
   "id": "04b020ce-e371-47cf-8432-d2a3b979bc27",
   "metadata": {
    "deletable": false,
    "editable": false
   },
   "outputs": [
    {
     "data": {
      "text/html": [
       "\n",
       "    <div class=\"wqet-result\">\n",
       "      <div class=\"animation\">\n",
       "        <svg class=\"checkmark\" xmlns=\"http://www.w3.org/2000/svg\" viewBox=\"0 0 52 52\">\n",
       "          <circle class=\"checkmark__circle\" cx=\"26\" cy=\"26\" r=\"25\" fill=\"none\"/>\n",
       "          <path class=\"checkmark__check\" fill=\"none\" d=\"M14.1 27.2l7.1 7.2 16.7-16.8\"/>\n",
       "        </svg>\n",
       "      </div>\n",
       "      <div class=\"details\">\n",
       "        <p class=\"title\"><p>Python master 😁</p></p>\n",
       "        <p>Score: 1</p>\n",
       "      </div>\n",
       "    </div>\n"
      ],
      "text/plain": [
       "<IPython.core.display.HTML object>"
      ]
     },
     "metadata": {},
     "output_type": "display_data"
    }
   ],
   "source": [
    "\n",
    "wqet_grader.grade(\n",
    "    \"Project 4 Assessment\", \"Task 4.5.5\", wrangle(\"/home/jovyan/nepal.sqlite\")\n",
    ")"
   ]
  },
  {
   "cell_type": "markdown",
   "id": "65aa9771-74b9-4bdf-b7c4-65ae0aa40ba7",
   "metadata": {
    "deletable": false,
    "editable": false
   },
   "source": [
    "## Explore"
   ]
  },
  {
   "cell_type": "markdown",
   "id": "dffc3d6d-46ed-4929-952e-5bc79cd32db9",
   "metadata": {
    "deletable": false,
    "editable": false
   },
   "source": [
    "**Task 4.5.6:** Are the classes in this dataset balanced? Create a bar chart with the normalized value counts from the `\"severe_damage\"` column. Be sure to label the x-axis `\"Severe Damage\"` and the y-axis `\"Relative Frequency\"`. Use the title `\"Kavrepalanchok, Class Balance\"`."
   ]
  },
  {
   "cell_type": "code",
   "execution_count": 33,
   "id": "f2b8ee83-1a0d-4362-b1a2-c7882128c50b",
   "metadata": {
    "deletable": false
   },
   "outputs": [
    {
     "data": {
      "image/png": "[encoded data removed]",
      "text/plain": [
       "<Figure size 432x288 with 1 Axes>"
      ]
     },
     "metadata": {
      "needs_background": "light"
     },
     "output_type": "display_data"
    }
   ],
   "source": [
    "# Plot value counts of `\"severe_damage\"`\n",
    "df[\"severe_damage\"].value_counts(normalize=True).plot(\n",
    "    kind=\"bar\", xlabel=\"Class\", ylabel=\"Relative Frequency\", title=\"Kavrepalanchok, Class Balance\"\n",
    ")\n",
    "# Don't delete the code below 👇\n",
    "plt.savefig(\"images/4-5-6.png\", dpi=150)\n"
   ]
  },
  {
   "cell_type": "code",
   "execution_count": 34,
   "id": "88d2853b-2d94-4c67-9a0e-f2c97cbfeaac",
   "metadata": {
    "deletable": false,
    "editable": false
   },
   "outputs": [
    {
     "data": {
      "text/html": [
       "\n",
       "    <div class=\"wqet-result\">\n",
       "      <div class=\"animation\">\n",
       "        <svg class=\"checkmark\" xmlns=\"http://www.w3.org/2000/svg\" viewBox=\"0 0 52 52\">\n",
       "          <circle class=\"checkmark__circle\" cx=\"26\" cy=\"26\" r=\"25\" fill=\"none\"/>\n",
       "          <path class=\"checkmark__check\" fill=\"none\" d=\"M14.1 27.2l7.1 7.2 16.7-16.8\"/>\n",
       "        </svg>\n",
       "      </div>\n",
       "      <div class=\"details\">\n",
       "        <p class=\"title\"><p>Yes! Great problem solving.</p></p>\n",
       "        <p>Score: 1</p>\n",
       "      </div>\n",
       "    </div>\n"
      ],
      "text/plain": [
       "<IPython.core.display.HTML object>"
      ]
     },
     "metadata": {},
     "output_type": "display_data"
    }
   ],
   "source": [
    "with open(\"images/4-5-6.png\", \"rb\") as file:\n",
    "    wqet_grader.grade(\"Project 4 Assessment\", \"Task 4.5.6\", file)"
   ]
  },
  {
   "cell_type": "markdown",
   "id": "da85d06c-1071-473f-84df-9c030f2e3df8",
   "metadata": {
    "deletable": false,
    "editable": false
   },
   "source": [
    "**Task 4.5.7:** Is there a relationship between the footprint size of a building and the damage it sustained in the earthquake? Use seaborn to create a boxplot that shows the distributions of the `\"plinth_area_sq_ft\"` column for both groups in the `\"severe_damage\"` column. Label your x-axis `\"Severe Damage\"` and y-axis `\"Plinth Area [sq. ft.]\"`. Use the title `\"Kavrepalanchok, Plinth Area vs Building Damage\"`. "
   ]
  },
  {
   "cell_type": "code",
   "execution_count": 36,
   "id": "6cc1403f-d99e-4ebc-9b65-f0bed3709686",
   "metadata": {},
   "outputs": [],
   "source": [
    "import seaborn as sns"
   ]
  },
  {
   "cell_type": "code",
   "execution_count": 47,
   "id": "5442fab6-d0ee-4b03-82d8-d4b13b1d7f0a",
   "metadata": {
    "deletable": false
   },
   "outputs": [
    {
     "data": {
      "image/png": "[encoded data removed]",
      "text/plain": [
       "<Figure size 432x288 with 1 Axes>"
      ]
     },
     "metadata": {
      "needs_background": "light"
     },
     "output_type": "display_data"
    }
   ],
   "source": [
    "sns.boxplot(x=\"severe_damage\", y=\"plinth_area_sq_ft\", data=df).set(\n",
    "    xlabel='Severe Damage', \n",
    "    ylabel='Plinth Area [sq. ft.]'\n",
    ")\n",
    "\n",
    "\n",
    "# Don't delete the code below 👇\n",
    "plt.savefig(\"images/4-5-7.png\", dpi=150)\n"
   ]
  },
  {
   "cell_type": "code",
   "execution_count": 48,
   "id": "ca7dd423-e94e-44b8-9197-730bbc051307",
   "metadata": {
    "deletable": false,
    "editable": false
   },
   "outputs": [
    {
     "data": {
      "text/html": [
       "\n",
       "    <div class=\"wqet-result\">\n",
       "      <div class=\"animation\">\n",
       "        <svg class=\"checkmark\" xmlns=\"http://www.w3.org/2000/svg\" viewBox=\"0 0 52 52\">\n",
       "          <circle class=\"checkmark__circle\" cx=\"26\" cy=\"26\" r=\"25\" fill=\"none\"/>\n",
       "          <path class=\"checkmark__check\" fill=\"none\" d=\"M14.1 27.2l7.1 7.2 16.7-16.8\"/>\n",
       "        </svg>\n",
       "      </div>\n",
       "      <div class=\"details\">\n",
       "        <p class=\"title\"><p>Good work!</p></p>\n",
       "        <p>Score: 1</p>\n",
       "      </div>\n",
       "    </div>\n"
      ],
      "text/plain": [
       "<IPython.core.display.HTML object>"
      ]
     },
     "metadata": {},
     "output_type": "display_data"
    }
   ],
   "source": [
    "with open(\"images/4-5-7.png\", \"rb\") as file:\n",
    "    wqet_grader.grade(\"Project 4 Assessment\", \"Task 4.5.7\", file)"
   ]
  },
  {
   "cell_type": "markdown",
   "id": "06724b29-fd2e-47fa-b528-a8de78b2572a",
   "metadata": {
    "deletable": false,
    "editable": false
   },
   "source": [
    "**Task 4.5.8:** Are buildings with certain roof types more likely to suffer severe damage? Create a pivot table of `df` where the index is `\"roof_type\"` and the values come from the `\"severe_damage\"` column, aggregated by the mean."
   ]
  },
  {
   "cell_type": "code",
   "execution_count": 51,
   "id": "d67cf52d-e656-4c22-a81e-deeef1d069bc",
   "metadata": {
    "deletable": false
   },
   "outputs": [
    {
     "data": {
      "text/html": [
       "<div>\n",
       "<style scoped>\n",
       "    .dataframe tbody tr th:only-of-type {\n",
       "        vertical-align: middle;\n",
       "    }\n",
       "\n",
       "    .dataframe tbody tr th {\n",
       "        vertical-align: top;\n",
       "    }\n",
       "\n",
       "    .dataframe thead th {\n",
       "        text-align: right;\n",
       "    }\n",
       "</style>\n",
       "<table border=\"1\" class=\"dataframe\">\n",
       "  <thead>\n",
       "    <tr style=\"text-align: right;\">\n",
       "      <th></th>\n",
       "      <th>severe_damage</th>\n",
       "    </tr>\n",
       "    <tr>\n",
       "      <th>roof_type</th>\n",
       "      <th></th>\n",
       "    </tr>\n",
       "  </thead>\n",
       "  <tbody>\n",
       "    <tr>\n",
       "      <th>Bamboo/Timber-Heavy roof</th>\n",
       "      <td>0.569477</td>\n",
       "    </tr>\n",
       "    <tr>\n",
       "      <th>Bamboo/Timber-Light roof</th>\n",
       "      <td>0.604842</td>\n",
       "    </tr>\n",
       "    <tr>\n",
       "      <th>RCC/RB/RBC</th>\n",
       "      <td>0.040715</td>\n",
       "    </tr>\n",
       "  </tbody>\n",
       "</table>\n",
       "</div>"
      ],
      "text/plain": [
       "                          severe_damage\n",
       "roof_type                              \n",
       "Bamboo/Timber-Heavy roof       0.569477\n",
       "Bamboo/Timber-Light roof       0.604842\n",
       "RCC/RB/RBC                     0.040715"
      ]
     },
     "execution_count": 51,
     "metadata": {},
     "output_type": "execute_result"
    }
   ],
   "source": [
    "roof_pivot = pd.pivot_table(\n",
    "    data=df, index=\"roof_type\", values=\"severe_damage\", aggfunc=np.mean\n",
    ")\n",
    "roof_pivot"
   ]
  },
  {
   "cell_type": "code",
   "execution_count": 52,
   "id": "ff95de69-c34e-4cf8-9cd9-5c0efa3e20f9",
   "metadata": {
    "deletable": false,
    "editable": false
   },
   "outputs": [
    {
     "data": {
      "text/html": [
       "\n",
       "    <div class=\"wqet-result\">\n",
       "      <div class=\"animation\">\n",
       "        <svg class=\"checkmark\" xmlns=\"http://www.w3.org/2000/svg\" viewBox=\"0 0 52 52\">\n",
       "          <circle class=\"checkmark__circle\" cx=\"26\" cy=\"26\" r=\"25\" fill=\"none\"/>\n",
       "          <path class=\"checkmark__check\" fill=\"none\" d=\"M14.1 27.2l7.1 7.2 16.7-16.8\"/>\n",
       "        </svg>\n",
       "      </div>\n",
       "      <div class=\"details\">\n",
       "        <p class=\"title\"><p>Python master 😁</p></p>\n",
       "        <p>Score: 1</p>\n",
       "      </div>\n",
       "    </div>\n"
      ],
      "text/plain": [
       "<IPython.core.display.HTML object>"
      ]
     },
     "metadata": {},
     "output_type": "display_data"
    }
   ],
   "source": [
    "\n",
    "wqet_grader.grade(\"Project 4 Assessment\", \"Task 4.5.8\", roof_pivot)"
   ]
  },
  {
   "cell_type": "markdown",
   "id": "02c31a37-40d4-4898-81f3-68f08ce8cc2a",
   "metadata": {
    "deletable": false,
    "editable": false
   },
   "source": [
    "## Split"
   ]
  },
  {
   "cell_type": "markdown",
   "id": "2fc525f3-5043-4630-ab7d-2d69594b0b32",
   "metadata": {
    "deletable": false,
    "editable": false
   },
   "source": [
    "**Task 4.5.9:** Create your feature matrix `X` and target vector `y`. Your target is `\"severe_damage\"`. "
   ]
  },
  {
   "cell_type": "code",
   "execution_count": 54,
   "id": "dd434d37-3528-4929-b3cf-3a40518fdbe2",
   "metadata": {
    "deletable": false
   },
   "outputs": [
    {
     "name": "stdout",
     "output_type": "stream",
     "text": [
      "X shape: (76533, 11)\n",
      "y shape: (76533,)\n"
     ]
    }
   ],
   "source": [
    "target=\"severe_damage\"\n",
    "X = df.drop(columns=target)\n",
    "y = df[target]\n",
    "print(\"X shape:\", X.shape)\n",
    "print(\"y shape:\", y.shape)"
   ]
  },
  {
   "cell_type": "code",
   "execution_count": 55,
   "id": "6c5fb67c-33aa-4dae-b1f7-ca329692fbeb",
   "metadata": {
    "deletable": false,
    "editable": false
   },
   "outputs": [
    {
     "data": {
      "text/html": [
       "\n",
       "    <div class=\"wqet-result\">\n",
       "      <div class=\"animation\">\n",
       "        <svg class=\"checkmark\" xmlns=\"http://www.w3.org/2000/svg\" viewBox=\"0 0 52 52\">\n",
       "          <circle class=\"checkmark__circle\" cx=\"26\" cy=\"26\" r=\"25\" fill=\"none\"/>\n",
       "          <path class=\"checkmark__check\" fill=\"none\" d=\"M14.1 27.2l7.1 7.2 16.7-16.8\"/>\n",
       "        </svg>\n",
       "      </div>\n",
       "      <div class=\"details\">\n",
       "        <p class=\"title\"><p>Correct.</p></p>\n",
       "        <p>Score: 1</p>\n",
       "      </div>\n",
       "    </div>\n"
      ],
      "text/plain": [
       "<IPython.core.display.HTML object>"
      ]
     },
     "metadata": {},
     "output_type": "display_data"
    }
   ],
   "source": [
    "\n",
    "wqet_grader.grade(\"Project 4 Assessment\", \"Task 4.5.9a\", X)"
   ]
  },
  {
   "cell_type": "code",
   "execution_count": 57,
   "id": "f19f6a26-17e6-4278-8fcb-8bd7368c8966",
   "metadata": {
    "deletable": false,
    "editable": false
   },
   "outputs": [
    {
     "data": {
      "text/html": [
       "\n",
       "    <div class=\"wqet-result\">\n",
       "      <div class=\"animation\">\n",
       "        <svg class=\"checkmark\" xmlns=\"http://www.w3.org/2000/svg\" viewBox=\"0 0 52 52\">\n",
       "          <circle class=\"checkmark__circle\" cx=\"26\" cy=\"26\" r=\"25\" fill=\"none\"/>\n",
       "          <path class=\"checkmark__check\" fill=\"none\" d=\"M14.1 27.2l7.1 7.2 16.7-16.8\"/>\n",
       "        </svg>\n",
       "      </div>\n",
       "      <div class=\"details\">\n",
       "        <p class=\"title\"><p>Way to go!</p></p>\n",
       "        <p>Score: 1</p>\n",
       "      </div>\n",
       "    </div>\n"
      ],
      "text/plain": [
       "<IPython.core.display.HTML object>"
      ]
     },
     "metadata": {},
     "output_type": "display_data"
    }
   ],
   "source": [
    "\n",
    "wqet_grader.grade(\"Project 4 Assessment\", \"Task 4.5.9b\", y)"
   ]
  },
  {
   "cell_type": "markdown",
   "id": "60c087c2-6337-417f-aaaa-b204e9a33fbc",
   "metadata": {
    "deletable": false,
    "editable": false
   },
   "source": [
    "**Task 4.5.10:** Divide your dataset into training and validation sets using a randomized split. Your validation set should be 20% of your data."
   ]
  },
  {
   "cell_type": "code",
   "execution_count": 58,
   "id": "dce122c9-97a9-40ff-bb09-2c8d28f1f6f5",
   "metadata": {
    "deletable": false
   },
   "outputs": [
    {
     "name": "stdout",
     "output_type": "stream",
     "text": [
      "X_train shape: (61226, 11)\n",
      "y_train shape: (61226,)\n",
      "X_val shape: (15307, 11)\n",
      "y_val shape: (15307,)\n"
     ]
    }
   ],
   "source": [
    "X_train, X_val, y_train, y_val = train_test_split(\n",
    "    X, y, test_size=0.2, random_state=1, \n",
    ")\n",
    "print(\"X_train shape:\", X_train.shape)\n",
    "print(\"y_train shape:\", y_train.shape)\n",
    "print(\"X_val shape:\", X_val.shape)\n",
    "print(\"y_val shape:\", y_val.shape)"
   ]
  },
  {
   "cell_type": "code",
   "execution_count": 59,
   "id": "cdb3d627-6b2e-4f13-bf63-99e0c43420d4",
   "metadata": {
    "deletable": false,
    "editable": false
   },
   "outputs": [
    {
     "data": {
      "text/html": [
       "\n",
       "    <div class=\"wqet-result\">\n",
       "      <div class=\"animation\">\n",
       "        <svg class=\"checkmark\" xmlns=\"http://www.w3.org/2000/svg\" viewBox=\"0 0 52 52\">\n",
       "          <circle class=\"checkmark__circle\" cx=\"26\" cy=\"26\" r=\"25\" fill=\"none\"/>\n",
       "          <path class=\"checkmark__check\" fill=\"none\" d=\"M14.1 27.2l7.1 7.2 16.7-16.8\"/>\n",
       "        </svg>\n",
       "      </div>\n",
       "      <div class=\"details\">\n",
       "        <p class=\"title\"><p>Wow, you're making great progress.</p></p>\n",
       "        <p>Score: 1</p>\n",
       "      </div>\n",
       "    </div>\n"
      ],
      "text/plain": [
       "<IPython.core.display.HTML object>"
      ]
     },
     "metadata": {},
     "output_type": "display_data"
    }
   ],
   "source": [
    "wqet_grader.grade(\"Project 4 Assessment\", \"Task 4.5.10\", [X_train.shape == (61226, 11)])"
   ]
  },
  {
   "cell_type": "markdown",
   "id": "bf76ec92-7473-4a25-ac72-a1ced1fd213a",
   "metadata": {
    "deletable": false,
    "editable": false
   },
   "source": [
    "# Build Model"
   ]
  },
  {
   "cell_type": "markdown",
   "id": "59e1e4d3-3ff9-41f7-8a38-35d622517486",
   "metadata": {
    "deletable": false,
    "editable": false
   },
   "source": [
    "## Baseline"
   ]
  },
  {
   "cell_type": "markdown",
   "id": "64ba0679-9abb-4a40-85b2-cdeb94481f72",
   "metadata": {
    "deletable": false,
    "editable": false
   },
   "source": [
    "**Task 4.5.11:** Calculate the baseline accuracy score for your model."
   ]
  },
  {
   "cell_type": "code",
   "execution_count": 60,
   "id": "c9ecd21e-06c2-4917-8ed4-228a1004cd9c",
   "metadata": {
    "deletable": false
   },
   "outputs": [
    {
     "name": "stdout",
     "output_type": "stream",
     "text": [
      "Baseline Accuracy: 0.55\n"
     ]
    }
   ],
   "source": [
    "acc_baseline = y_train.value_counts(normalize=True).max()\n",
    "print(\"Baseline Accuracy:\", round(acc_baseline, 2))"
   ]
  },
  {
   "cell_type": "code",
   "execution_count": 61,
   "id": "07759c53-33ff-4b4d-9890-09abc7664d44",
   "metadata": {
    "deletable": false,
    "editable": false
   },
   "outputs": [
    {
     "data": {
      "text/html": [
       "\n",
       "    <div class=\"wqet-result\">\n",
       "      <div class=\"animation\">\n",
       "        <svg class=\"checkmark\" xmlns=\"http://www.w3.org/2000/svg\" viewBox=\"0 0 52 52\">\n",
       "          <circle class=\"checkmark__circle\" cx=\"26\" cy=\"26\" r=\"25\" fill=\"none\"/>\n",
       "          <path class=\"checkmark__check\" fill=\"none\" d=\"M14.1 27.2l7.1 7.2 16.7-16.8\"/>\n",
       "        </svg>\n",
       "      </div>\n",
       "      <div class=\"details\">\n",
       "        <p class=\"title\"><p>Very impressive.</p></p>\n",
       "        <p>Score: 1</p>\n",
       "      </div>\n",
       "    </div>\n"
      ],
      "text/plain": [
       "<IPython.core.display.HTML object>"
      ]
     },
     "metadata": {},
     "output_type": "display_data"
    }
   ],
   "source": [
    "wqet_grader.grade(\"Project 4 Assessment\", \"Task 4.5.11\", [acc_baseline])"
   ]
  },
  {
   "cell_type": "markdown",
   "id": "417d5536-9aa5-45f7-99db-946a792d5978",
   "metadata": {
    "deletable": false,
    "editable": false,
    "tags": []
   },
   "source": [
    "## Iterate"
   ]
  },
  {
   "cell_type": "markdown",
   "id": "1028a961-792a-4ab5-b2cf-c2a7531a6099",
   "metadata": {
    "deletable": false,
    "editable": false
   },
   "source": [
    "**Task 4.5.12:** Create a model `model_lr` that uses logistic regression to predict building damage. Be sure to include an appropriate encoder for categorical features. "
   ]
  },
  {
   "cell_type": "code",
   "execution_count": 65,
   "id": "71ddc9e5-2c17-418e-ad3b-2eecf5ed7c1b",
   "metadata": {
    "deletable": false
   },
   "outputs": [
    {
     "data": {
      "text/html": [
       "<style>#sk-container-id-1 {color: black;background-color: white;}#sk-container-id-1 pre{padding: 0;}#sk-container-id-1 div.sk-toggleable {background-color: white;}#sk-container-id-1 label.sk-toggleable__label {cursor: pointer;display: block;width: 100%;margin-bottom: 0;padding: 0.3em;box-sizing: border-box;text-align: center;}#sk-container-id-1 label.sk-toggleable__label-arrow:before {content: \"▸\";float: left;margin-right: 0.25em;color: #696969;}#sk-container-id-1 label.sk-toggleable__label-arrow:hover:before {color: black;}#sk-container-id-1 div.sk-estimator:hover label.sk-toggleable__label-arrow:before {color: black;}#sk-container-id-1 div.sk-toggleable__content {max-height: 0;max-width: 0;overflow: hidden;text-align: left;background-color: #f0f8ff;}#sk-container-id-1 div.sk-toggleable__content pre {margin: 0.2em;color: black;border-radius: 0.25em;background-color: #f0f8ff;}#sk-container-id-1 input.sk-toggleable__control:checked~div.sk-toggleable__content {max-height: 200px;max-width: 100%;overflow: auto;}#sk-container-id-1 input.sk-toggleable__control:checked~label.sk-toggleable__label-arrow:before {content: \"▾\";}#sk-container-id-1 div.sk-estimator input.sk-toggleable__control:checked~label.sk-toggleable__label {background-color: #d4ebff;}#sk-container-id-1 div.sk-label input.sk-toggleable__control:checked~label.sk-toggleable__label {background-color: #d4ebff;}#sk-container-id-1 input.sk-hidden--visually {border: 0;clip: rect(1px 1px 1px 1px);clip: rect(1px, 1px, 1px, 1px);height: 1px;margin: -1px;overflow: hidden;padding: 0;position: absolute;width: 1px;}#sk-container-id-1 div.sk-estimator {font-family: monospace;background-color: #f0f8ff;border: 1px dotted black;border-radius: 0.25em;box-sizing: border-box;margin-bottom: 0.5em;}#sk-container-id-1 div.sk-estimator:hover {background-color: #d4ebff;}#sk-container-id-1 div.sk-parallel-item::after {content: \"\";width: 100%;border-bottom: 1px solid gray;flex-grow: 1;}#sk-container-id-1 div.sk-label:hover label.sk-toggleable__label {background-color: #d4ebff;}#sk-container-id-1 div.sk-serial::before {content: \"\";position: absolute;border-left: 1px solid gray;box-sizing: border-box;top: 0;bottom: 0;left: 50%;z-index: 0;}#sk-container-id-1 div.sk-serial {display: flex;flex-direction: column;align-items: center;background-color: white;padding-right: 0.2em;padding-left: 0.2em;position: relative;}#sk-container-id-1 div.sk-item {position: relative;z-index: 1;}#sk-container-id-1 div.sk-parallel {display: flex;align-items: stretch;justify-content: center;background-color: white;position: relative;}#sk-container-id-1 div.sk-item::before, #sk-container-id-1 div.sk-parallel-item::before {content: \"\";position: absolute;border-left: 1px solid gray;box-sizing: border-box;top: 0;bottom: 0;left: 50%;z-index: -1;}#sk-container-id-1 div.sk-parallel-item {display: flex;flex-direction: column;z-index: 1;position: relative;background-color: white;}#sk-container-id-1 div.sk-parallel-item:first-child::after {align-self: flex-end;width: 50%;}#sk-container-id-1 div.sk-parallel-item:last-child::after {align-self: flex-start;width: 50%;}#sk-container-id-1 div.sk-parallel-item:only-child::after {width: 0;}#sk-container-id-1 div.sk-dashed-wrapped {border: 1px dashed gray;margin: 0 0.4em 0.5em 0.4em;box-sizing: border-box;padding-bottom: 0.4em;background-color: white;}#sk-container-id-1 div.sk-label label {font-family: monospace;font-weight: bold;display: inline-block;line-height: 1.2em;}#sk-container-id-1 div.sk-label-container {text-align: center;}#sk-container-id-1 div.sk-container {/* jupyter's `normalize.less` sets `[hidden] { display: none; }` but bootstrap.min.css set `[hidden] { display: none !important; }` so we also need the `!important` here to be able to override the default hidden behavior on the sphinx rendered scikit-learn.org. See: https://github.com/scikit-learn/scikit-learn/issues/21755 */display: inline-block !important;position: relative;}#sk-container-id-1 div.sk-text-repr-fallback {display: none;}</style><div id=\"sk-container-id-1\" class=\"sk-top-container\"><div class=\"sk-text-repr-fallback\"><pre>Pipeline(steps=[(&#x27;onehotencoder&#x27;,\n",
       "                 OneHotEncoder(cols=[&#x27;land_surface_condition&#x27;,\n",
       "                                     &#x27;foundation_type&#x27;, &#x27;roof_type&#x27;,\n",
       "                                     &#x27;ground_floor_type&#x27;, &#x27;other_floor_type&#x27;,\n",
       "                                     &#x27;position&#x27;, &#x27;plan_configuration&#x27;,\n",
       "                                     &#x27;superstructure&#x27;],\n",
       "                               use_cat_names=True)),\n",
       "                (&#x27;logisticregression&#x27;, LogisticRegression(max_iter=1000))])</pre><b>In a Jupyter environment, please rerun this cell to show the HTML representation or trust the notebook. <br />On GitHub, the HTML representation is unable to render, please try loading this page with nbviewer.org.</b></div><div class=\"sk-container\" hidden><div class=\"sk-item sk-dashed-wrapped\"><div class=\"sk-label-container\"><div class=\"sk-label sk-toggleable\"><input class=\"sk-toggleable__control sk-hidden--visually\" id=\"sk-estimator-id-1\" type=\"checkbox\" ><label for=\"sk-estimator-id-1\" class=\"sk-toggleable__label sk-toggleable__label-arrow\">Pipeline</label><div class=\"sk-toggleable__content\"><pre>Pipeline(steps=[(&#x27;onehotencoder&#x27;,\n",
       "                 OneHotEncoder(cols=[&#x27;land_surface_condition&#x27;,\n",
       "                                     &#x27;foundation_type&#x27;, &#x27;roof_type&#x27;,\n",
       "                                     &#x27;ground_floor_type&#x27;, &#x27;other_floor_type&#x27;,\n",
       "                                     &#x27;position&#x27;, &#x27;plan_configuration&#x27;,\n",
       "                                     &#x27;superstructure&#x27;],\n",
       "                               use_cat_names=True)),\n",
       "                (&#x27;logisticregression&#x27;, LogisticRegression(max_iter=1000))])</pre></div></div></div><div class=\"sk-serial\"><div class=\"sk-item\"><div class=\"sk-estimator sk-toggleable\"><input class=\"sk-toggleable__control sk-hidden--visually\" id=\"sk-estimator-id-2\" type=\"checkbox\" ><label for=\"sk-estimator-id-2\" class=\"sk-toggleable__label sk-toggleable__label-arrow\">OneHotEncoder</label><div class=\"sk-toggleable__content\"><pre>OneHotEncoder(cols=[&#x27;land_surface_condition&#x27;, &#x27;foundation_type&#x27;, &#x27;roof_type&#x27;,\n",
       "                    &#x27;ground_floor_type&#x27;, &#x27;other_floor_type&#x27;, &#x27;position&#x27;,\n",
       "                    &#x27;plan_configuration&#x27;, &#x27;superstructure&#x27;],\n",
       "              use_cat_names=True)</pre></div></div></div><div class=\"sk-item\"><div class=\"sk-estimator sk-toggleable\"><input class=\"sk-toggleable__control sk-hidden--visually\" id=\"sk-estimator-id-3\" type=\"checkbox\" ><label for=\"sk-estimator-id-3\" class=\"sk-toggleable__label sk-toggleable__label-arrow\">LogisticRegression</label><div class=\"sk-toggleable__content\"><pre>LogisticRegression(max_iter=1000)</pre></div></div></div></div></div></div></div>"
      ],
      "text/plain": [
       "Pipeline(steps=[('onehotencoder',\n",
       "                 OneHotEncoder(cols=['land_surface_condition',\n",
       "                                     'foundation_type', 'roof_type',\n",
       "                                     'ground_floor_type', 'other_floor_type',\n",
       "                                     'position', 'plan_configuration',\n",
       "                                     'superstructure'],\n",
       "                               use_cat_names=True)),\n",
       "                ('logisticregression', LogisticRegression(max_iter=1000))])"
      ]
     },
     "execution_count": 65,
     "metadata": {},
     "output_type": "execute_result"
    }
   ],
   "source": [
    "model_lr = make_pipeline(\n",
    "    OneHotEncoder(use_cat_names=True),\n",
    "    LogisticRegression(max_iter=1000)\n",
    "\n",
    ")\n",
    "# Fit model to training data\n",
    "model_lr.fit(X_train, y_train)"
   ]
  },
  {
   "cell_type": "code",
   "execution_count": 66,
   "id": "ca02d24e-2725-4b5b-8b28-a579cf7a8d14",
   "metadata": {
    "deletable": false,
    "editable": false
   },
   "outputs": [
    {
     "data": {
      "text/html": [
       "\n",
       "    <div class=\"wqet-result\">\n",
       "      <div class=\"animation\">\n",
       "        <svg class=\"checkmark\" xmlns=\"http://www.w3.org/2000/svg\" viewBox=\"0 0 52 52\">\n",
       "          <circle class=\"checkmark__circle\" cx=\"26\" cy=\"26\" r=\"25\" fill=\"none\"/>\n",
       "          <path class=\"checkmark__check\" fill=\"none\" d=\"M14.1 27.2l7.1 7.2 16.7-16.8\"/>\n",
       "        </svg>\n",
       "      </div>\n",
       "      <div class=\"details\">\n",
       "        <p class=\"title\"><p>Yes! Your hard work is paying off.</p></p>\n",
       "        <p>Score: 1</p>\n",
       "      </div>\n",
       "    </div>\n"
      ],
      "text/plain": [
       "<IPython.core.display.HTML object>"
      ]
     },
     "metadata": {},
     "output_type": "display_data"
    }
   ],
   "source": [
    "\n",
    "wqet_grader.grade(\"Project 4 Assessment\", \"Task 4.5.12\", model_lr)"
   ]
  },
  {
   "cell_type": "markdown",
   "id": "8c7837f0-f107-4abc-8ff4-86223dac5e08",
   "metadata": {
    "deletable": false,
    "editable": false
   },
   "source": [
    "**Task 4.5.13:** Calculate training and validation accuracy score for `model_lr`. "
   ]
  },
  {
   "cell_type": "code",
   "execution_count": 68,
   "id": "4df9fcb4-c627-4eed-985d-db6cc7b55a42",
   "metadata": {
    "deletable": false
   },
   "outputs": [
    {
     "name": "stdout",
     "output_type": "stream",
     "text": [
      "Logistic Regression, Training Accuracy Score: 0.6530885571489237\n",
      "Logistic Regression, Validation Accuracy Score: 0.6482001698569282\n"
     ]
    }
   ],
   "source": [
    "lr_train_acc = accuracy_score(y_train, model_lr.predict(X_train))\n",
    "lr_val_acc = model_lr.score(X_val, y_val)\n",
    "\n",
    "\n",
    "print(\"Logistic Regression, Training Accuracy Score:\", lr_train_acc)\n",
    "print(\"Logistic Regression, Validation Accuracy Score:\", lr_val_acc)"
   ]
  },
  {
   "cell_type": "code",
   "execution_count": 69,
   "id": "4e679cce-f000-48d6-8c7d-24941a29b720",
   "metadata": {
    "deletable": false,
    "editable": false
   },
   "outputs": [
    {
     "data": {
      "text/html": [
       "\n",
       "    <div class=\"wqet-result\">\n",
       "      <div class=\"animation\">\n",
       "        <svg class=\"checkmark\" xmlns=\"http://www.w3.org/2000/svg\" viewBox=\"0 0 52 52\">\n",
       "          <circle class=\"checkmark__circle\" cx=\"26\" cy=\"26\" r=\"25\" fill=\"none\"/>\n",
       "          <path class=\"checkmark__check\" fill=\"none\" d=\"M14.1 27.2l7.1 7.2 16.7-16.8\"/>\n",
       "        </svg>\n",
       "      </div>\n",
       "      <div class=\"details\">\n",
       "        <p class=\"title\"><p>Yup. You got it.</p></p>\n",
       "        <p>Score: 1</p>\n",
       "      </div>\n",
       "    </div>\n"
      ],
      "text/plain": [
       "<IPython.core.display.HTML object>"
      ]
     },
     "metadata": {},
     "output_type": "display_data"
    }
   ],
   "source": [
    "submission = [lr_train_acc, lr_val_acc]\n",
    "wqet_grader.grade(\"Project 4 Assessment\", \"Task 4.5.13\", submission)"
   ]
  },
  {
   "cell_type": "markdown",
   "id": "aeee54b5-3a37-4bd8-9dd6-d1dee9ed9bc6",
   "metadata": {
    "deletable": false,
    "editable": false
   },
   "source": [
    "**Task 4.5.14:** Perhaps a decision tree model will perform better than logistic regression, but what's the best hyperparameter value for `max_depth`? Create a `for` loop to train and evaluate the model `model_dt` at all depths from 1 to 15. Be sure to use an appropriate encoder for your model, and to record its training and validation accuracy scores at every depth. The grader will evaluate your validation accuracy scores only."
   ]
  },
  {
   "cell_type": "code",
   "execution_count": 73,
   "id": "0a9cf1c9-17d3-4cc1-a09f-30f9c839be3b",
   "metadata": {},
   "outputs": [],
   "source": [
    "from category_encoders import OrdinalEncoder\n",
    "from sklearn.tree import DecisionTreeClassifier, plot_tree"
   ]
  },
  {
   "cell_type": "code",
   "execution_count": 75,
   "id": "7b41bf29-973d-4270-acd4-495c7c9de283",
   "metadata": {
    "deletable": false
   },
   "outputs": [
    {
     "name": "stdout",
     "output_type": "stream",
     "text": [
      "Training Accuracy Scores: [0.6428478097540261, 0.6493809819357789, 0.655538496717081]\n",
      "Validation Accuracy Scores: [0.6400339713856406, 0.6411445743777356, 0.6467629189259816]\n"
     ]
    }
   ],
   "source": [
    "depth_hyperparams = range(1, 16)\n",
    "training_acc = []\n",
    "validation_acc = []\n",
    "for d in depth_hyperparams:\n",
    "    model_dt = make_pipeline(\n",
    "        OrdinalEncoder(), DecisionTreeClassifier(max_depth = d, random_state=1)\n",
    "    )\n",
    "    model_dt.fit(X_train, y_train)\n",
    "    training_acc.append(model_dt.score(X_train, y_train))\n",
    "    # Calculate validation accuracy score and append to `training_acc`\n",
    "    validation_acc.append(model_dt.score(X_val, y_val))\n",
    "    \n",
    "print(\"Training Accuracy Scores:\", training_acc[:3])\n",
    "print(\"Validation Accuracy Scores:\", validation_acc[:3])"
   ]
  },
  {
   "cell_type": "code",
   "execution_count": 76,
   "id": "7801c268-1684-452e-90f4-5eda50e99203",
   "metadata": {
    "deletable": false,
    "editable": false
   },
   "outputs": [
    {
     "data": {
      "text/html": [
       "\n",
       "    <div class=\"wqet-result\">\n",
       "      <div class=\"animation\">\n",
       "        <svg class=\"checkmark\" xmlns=\"http://www.w3.org/2000/svg\" viewBox=\"0 0 52 52\">\n",
       "          <circle class=\"checkmark__circle\" cx=\"26\" cy=\"26\" r=\"25\" fill=\"none\"/>\n",
       "          <path class=\"checkmark__check\" fill=\"none\" d=\"M14.1 27.2l7.1 7.2 16.7-16.8\"/>\n",
       "        </svg>\n",
       "      </div>\n",
       "      <div class=\"details\">\n",
       "        <p class=\"title\"><p>Way to go!</p></p>\n",
       "        <p>Score: 1</p>\n",
       "      </div>\n",
       "    </div>\n"
      ],
      "text/plain": [
       "<IPython.core.display.HTML object>"
      ]
     },
     "metadata": {},
     "output_type": "display_data"
    }
   ],
   "source": [
    "submission = pd.Series(validation_acc, index=depth_hyperparams)\n",
    "\n",
    "wqet_grader.grade(\"Project 4 Assessment\", \"Task 4.5.14\", submission)"
   ]
  },
  {
   "cell_type": "markdown",
   "id": "ccca1d0e-59fc-43cb-8dce-1cbb18c25d1d",
   "metadata": {
    "deletable": false,
    "editable": false
   },
   "source": [
    "**Task 4.5.15:** Using the values in `training_acc` and `validation_acc`, plot the validation curve for `model_dt`. Label your x-axis `\"Max Depth\"` and your y-axis `\"Accuracy Score\"`. Use the title `\"Validation Curve, Decision Tree Model\"`, and include a legend. "
   ]
  },
  {
   "cell_type": "code",
   "execution_count": 87,
   "id": "404aaffb-055b-4bbb-98ce-2e0ffd3b56c9",
   "metadata": {},
   "outputs": [
    {
     "name": "stdout",
     "output_type": "stream",
     "text": [
      "Validation Accuracy Scores: [0.6400339713856406, 0.6411445743777356, 0.6467629189259816, 0.6470895668648331, 0.6511400013065918, 0.6544064806951068, 0.6579996080224734, 0.6608087802965963, 0.6610700986476775, 0.6581302671980139, 0.6588488926634873, 0.6584569151368654, 0.6598288364800418, 0.6585222447246358, 0.6538838439929444]\n"
     ]
    }
   ],
   "source": [
    "print(\"Validation Accuracy Scores:\", validation_acc)"
   ]
  },
  {
   "cell_type": "code",
   "execution_count": 77,
   "id": "b871f317-2c38-45fa-86c3-3446bf55a68f",
   "metadata": {
    "deletable": false
   },
   "outputs": [
    {
     "data": {
      "image/png": "[encoded data removed]",
      "text/plain": [
       "<Figure size 432x288 with 1 Axes>"
      ]
     },
     "metadata": {
      "needs_background": "light"
     },
     "output_type": "display_data"
    }
   ],
   "source": [
    "\n",
    "# Plot `depth_hyperparams`, `training_acc`\n",
    "plt.plot(depth_hyperparams, training_acc, label=\"training\")\n",
    "plt.plot(depth_hyperparams, validation_acc, label=\"validation\")\n",
    "plt.xlabel(\"Max Depth\")\n",
    "plt.ylabel(\"Accuracy Score\")\n",
    "\n",
    "\n",
    "# Don't delete the code below 👇\n",
    "plt.savefig(\"images/4-5-15.png\", dpi=150)\n"
   ]
  },
  {
   "cell_type": "code",
   "execution_count": 78,
   "id": "3df8c418-7e42-4956-a81b-f87bb6bc1c03",
   "metadata": {
    "deletable": false,
    "editable": false
   },
   "outputs": [
    {
     "data": {
      "text/html": [
       "\n",
       "    <div class=\"wqet-result\">\n",
       "      <div class=\"animation\">\n",
       "        <svg class=\"checkmark\" xmlns=\"http://www.w3.org/2000/svg\" viewBox=\"0 0 52 52\">\n",
       "          <circle class=\"checkmark__circle\" cx=\"26\" cy=\"26\" r=\"25\" fill=\"none\"/>\n",
       "          <path class=\"checkmark__check\" fill=\"none\" d=\"M14.1 27.2l7.1 7.2 16.7-16.8\"/>\n",
       "        </svg>\n",
       "      </div>\n",
       "      <div class=\"details\">\n",
       "        <p class=\"title\"><p>You got it. Dance party time! 🕺💃🕺💃</p></p>\n",
       "        <p>Score: 1</p>\n",
       "      </div>\n",
       "    </div>\n"
      ],
      "text/plain": [
       "<IPython.core.display.HTML object>"
      ]
     },
     "metadata": {},
     "output_type": "display_data"
    }
   ],
   "source": [
    "with open(\"images/4-5-15.png\", \"rb\") as file:\n",
    "    wqet_grader.grade(\"Project 4 Assessment\", \"Task 4.5.15\", file)"
   ]
  },
  {
   "cell_type": "markdown",
   "id": "cf5db086-c8b9-4be4-8e03-78aa67e8f5a6",
   "metadata": {
    "deletable": false,
    "editable": false
   },
   "source": [
    "**Task 4.5.16:** Build and train a new decision tree model `final_model_dt`, using the value for `max_depth` that yielded the best validation accuracy score in your plot above. "
   ]
  },
  {
   "cell_type": "code",
   "execution_count": 105,
   "id": "3b05fdc0-547e-4fca-8111-82b90f3c223b",
   "metadata": {
    "deletable": false
   },
   "outputs": [
    {
     "data": {
      "text/html": [
       "<style>#sk-container-id-15 {color: black;background-color: white;}#sk-container-id-15 pre{padding: 0;}#sk-container-id-15 div.sk-toggleable {background-color: white;}#sk-container-id-15 label.sk-toggleable__label {cursor: pointer;display: block;width: 100%;margin-bottom: 0;padding: 0.3em;box-sizing: border-box;text-align: center;}#sk-container-id-15 label.sk-toggleable__label-arrow:before {content: \"▸\";float: left;margin-right: 0.25em;color: #696969;}#sk-container-id-15 label.sk-toggleable__label-arrow:hover:before {color: black;}#sk-container-id-15 div.sk-estimator:hover label.sk-toggleable__label-arrow:before {color: black;}#sk-container-id-15 div.sk-toggleable__content {max-height: 0;max-width: 0;overflow: hidden;text-align: left;background-color: #f0f8ff;}#sk-container-id-15 div.sk-toggleable__content pre {margin: 0.2em;color: black;border-radius: 0.25em;background-color: #f0f8ff;}#sk-container-id-15 input.sk-toggleable__control:checked~div.sk-toggleable__content {max-height: 200px;max-width: 100%;overflow: auto;}#sk-container-id-15 input.sk-toggleable__control:checked~label.sk-toggleable__label-arrow:before {content: \"▾\";}#sk-container-id-15 div.sk-estimator input.sk-toggleable__control:checked~label.sk-toggleable__label {background-color: #d4ebff;}#sk-container-id-15 div.sk-label input.sk-toggleable__control:checked~label.sk-toggleable__label {background-color: #d4ebff;}#sk-container-id-15 input.sk-hidden--visually {border: 0;clip: rect(1px 1px 1px 1px);clip: rect(1px, 1px, 1px, 1px);height: 1px;margin: -1px;overflow: hidden;padding: 0;position: absolute;width: 1px;}#sk-container-id-15 div.sk-estimator {font-family: monospace;background-color: #f0f8ff;border: 1px dotted black;border-radius: 0.25em;box-sizing: border-box;margin-bottom: 0.5em;}#sk-container-id-15 div.sk-estimator:hover {background-color: #d4ebff;}#sk-container-id-15 div.sk-parallel-item::after {content: \"\";width: 100%;border-bottom: 1px solid gray;flex-grow: 1;}#sk-container-id-15 div.sk-label:hover label.sk-toggleable__label {background-color: #d4ebff;}#sk-container-id-15 div.sk-serial::before {content: \"\";position: absolute;border-left: 1px solid gray;box-sizing: border-box;top: 0;bottom: 0;left: 50%;z-index: 0;}#sk-container-id-15 div.sk-serial {display: flex;flex-direction: column;align-items: center;background-color: white;padding-right: 0.2em;padding-left: 0.2em;position: relative;}#sk-container-id-15 div.sk-item {position: relative;z-index: 1;}#sk-container-id-15 div.sk-parallel {display: flex;align-items: stretch;justify-content: center;background-color: white;position: relative;}#sk-container-id-15 div.sk-item::before, #sk-container-id-15 div.sk-parallel-item::before {content: \"\";position: absolute;border-left: 1px solid gray;box-sizing: border-box;top: 0;bottom: 0;left: 50%;z-index: -1;}#sk-container-id-15 div.sk-parallel-item {display: flex;flex-direction: column;z-index: 1;position: relative;background-color: white;}#sk-container-id-15 div.sk-parallel-item:first-child::after {align-self: flex-end;width: 50%;}#sk-container-id-15 div.sk-parallel-item:last-child::after {align-self: flex-start;width: 50%;}#sk-container-id-15 div.sk-parallel-item:only-child::after {width: 0;}#sk-container-id-15 div.sk-dashed-wrapped {border: 1px dashed gray;margin: 0 0.4em 0.5em 0.4em;box-sizing: border-box;padding-bottom: 0.4em;background-color: white;}#sk-container-id-15 div.sk-label label {font-family: monospace;font-weight: bold;display: inline-block;line-height: 1.2em;}#sk-container-id-15 div.sk-label-container {text-align: center;}#sk-container-id-15 div.sk-container {/* jupyter's `normalize.less` sets `[hidden] { display: none; }` but bootstrap.min.css set `[hidden] { display: none !important; }` so we also need the `!important` here to be able to override the default hidden behavior on the sphinx rendered scikit-learn.org. See: https://github.com/scikit-learn/scikit-learn/issues/21755 */display: inline-block !important;position: relative;}#sk-container-id-15 div.sk-text-repr-fallback {display: none;}</style><div id=\"sk-container-id-15\" class=\"sk-top-container\"><div class=\"sk-text-repr-fallback\"><pre>Pipeline(steps=[(&#x27;ordinalencoder&#x27;,\n",
       "                 OrdinalEncoder(cols=[&#x27;land_surface_condition&#x27;,\n",
       "                                      &#x27;foundation_type&#x27;, &#x27;roof_type&#x27;,\n",
       "                                      &#x27;ground_floor_type&#x27;, &#x27;other_floor_type&#x27;,\n",
       "                                      &#x27;position&#x27;, &#x27;plan_configuration&#x27;,\n",
       "                                      &#x27;superstructure&#x27;],\n",
       "                                mapping=[{&#x27;col&#x27;: &#x27;land_surface_condition&#x27;,\n",
       "                                          &#x27;data_type&#x27;: dtype(&#x27;O&#x27;),\n",
       "                                          &#x27;mapping&#x27;: Flat              1\n",
       "Moderate slope    2\n",
       "Steep slope       3\n",
       "NaN              -2\n",
       "dtype: int64},\n",
       "                                         {&#x27;col&#x27;: &#x27;foundation_type&#x27;,\n",
       "                                          &#x27;dat...\n",
       "Building with Central Courtyard     8\n",
       "U-shape                             9\n",
       "H-shape                            10\n",
       "NaN                                -2\n",
       "dtype: int64},\n",
       "                                         {&#x27;col&#x27;: &#x27;superstructure&#x27;,\n",
       "                                          &#x27;data_type&#x27;: dtype(&#x27;O&#x27;),\n",
       "                                          &#x27;mapping&#x27;: Stone, mud mortar        1\n",
       "Adobe/mud                2\n",
       "RC, non-engineered       3\n",
       "RC, engineered           4\n",
       "Brick, mud mortar        5\n",
       "Brick, cement mortar     6\n",
       "Timber                   7\n",
       "Other                    8\n",
       "Stone, cement mortar     9\n",
       "Stone                   10\n",
       "Bamboo                  11\n",
       "NaN                     -2\n",
       "dtype: int64}])),\n",
       "                (&#x27;decisiontreeclassifier&#x27;,\n",
       "                 DecisionTreeClassifier(max_depth=10, random_state=42))])</pre><b>In a Jupyter environment, please rerun this cell to show the HTML representation or trust the notebook. <br />On GitHub, the HTML representation is unable to render, please try loading this page with nbviewer.org.</b></div><div class=\"sk-container\" hidden><div class=\"sk-item sk-dashed-wrapped\"><div class=\"sk-label-container\"><div class=\"sk-label sk-toggleable\"><input class=\"sk-toggleable__control sk-hidden--visually\" id=\"sk-estimator-id-43\" type=\"checkbox\" ><label for=\"sk-estimator-id-43\" class=\"sk-toggleable__label sk-toggleable__label-arrow\">Pipeline</label><div class=\"sk-toggleable__content\"><pre>Pipeline(steps=[(&#x27;ordinalencoder&#x27;,\n",
       "                 OrdinalEncoder(cols=[&#x27;land_surface_condition&#x27;,\n",
       "                                      &#x27;foundation_type&#x27;, &#x27;roof_type&#x27;,\n",
       "                                      &#x27;ground_floor_type&#x27;, &#x27;other_floor_type&#x27;,\n",
       "                                      &#x27;position&#x27;, &#x27;plan_configuration&#x27;,\n",
       "                                      &#x27;superstructure&#x27;],\n",
       "                                mapping=[{&#x27;col&#x27;: &#x27;land_surface_condition&#x27;,\n",
       "                                          &#x27;data_type&#x27;: dtype(&#x27;O&#x27;),\n",
       "                                          &#x27;mapping&#x27;: Flat              1\n",
       "Moderate slope    2\n",
       "Steep slope       3\n",
       "NaN              -2\n",
       "dtype: int64},\n",
       "                                         {&#x27;col&#x27;: &#x27;foundation_type&#x27;,\n",
       "                                          &#x27;dat...\n",
       "Building with Central Courtyard     8\n",
       "U-shape                             9\n",
       "H-shape                            10\n",
       "NaN                                -2\n",
       "dtype: int64},\n",
       "                                         {&#x27;col&#x27;: &#x27;superstructure&#x27;,\n",
       "                                          &#x27;data_type&#x27;: dtype(&#x27;O&#x27;),\n",
       "                                          &#x27;mapping&#x27;: Stone, mud mortar        1\n",
       "Adobe/mud                2\n",
       "RC, non-engineered       3\n",
       "RC, engineered           4\n",
       "Brick, mud mortar        5\n",
       "Brick, cement mortar     6\n",
       "Timber                   7\n",
       "Other                    8\n",
       "Stone, cement mortar     9\n",
       "Stone                   10\n",
       "Bamboo                  11\n",
       "NaN                     -2\n",
       "dtype: int64}])),\n",
       "                (&#x27;decisiontreeclassifier&#x27;,\n",
       "                 DecisionTreeClassifier(max_depth=10, random_state=42))])</pre></div></div></div><div class=\"sk-serial\"><div class=\"sk-item\"><div class=\"sk-estimator sk-toggleable\"><input class=\"sk-toggleable__control sk-hidden--visually\" id=\"sk-estimator-id-44\" type=\"checkbox\" ><label for=\"sk-estimator-id-44\" class=\"sk-toggleable__label sk-toggleable__label-arrow\">OrdinalEncoder</label><div class=\"sk-toggleable__content\"><pre>OrdinalEncoder(cols=[&#x27;land_surface_condition&#x27;, &#x27;foundation_type&#x27;, &#x27;roof_type&#x27;,\n",
       "                     &#x27;ground_floor_type&#x27;, &#x27;other_floor_type&#x27;, &#x27;position&#x27;,\n",
       "                     &#x27;plan_configuration&#x27;, &#x27;superstructure&#x27;],\n",
       "               mapping=[{&#x27;col&#x27;: &#x27;land_surface_condition&#x27;,\n",
       "                         &#x27;data_type&#x27;: dtype(&#x27;O&#x27;),\n",
       "                         &#x27;mapping&#x27;: Flat              1\n",
       "Moderate slope    2\n",
       "Steep slope       3\n",
       "NaN              -2\n",
       "dtype: int64},\n",
       "                        {&#x27;col&#x27;: &#x27;foundation_type&#x27;, &#x27;data_type&#x27;: dtype(&#x27;O&#x27;),\n",
       "                         &#x27;mapping&#x27;: Mud mo...\n",
       "                         &#x27;mapping&#x27;: Rectangular                         1\n",
       "Square                              2\n",
       "L-shape                             3\n",
       "T-shape                             4\n",
       "Multi-projected                     5\n",
       "Others                              6\n",
       "E-shape                             7\n",
       "Building with Central Courtyard     8\n",
       "U-shape                             9\n",
       "H-shape                            10\n",
       "NaN                                -2\n",
       "dtype: int64},\n",
       "                        {&#x27;col&#x27;: &#x27;superstructure&#x27;, &#x27;data_type&#x27;: dtype(&#x27;O&#x27;),\n",
       "                         &#x27;mapping&#x27;: Stone, mud mortar        1\n",
       "Adobe/mud                2\n",
       "RC, non-engineered       3\n",
       "RC, engineered           4\n",
       "Brick, mud mortar        5\n",
       "Brick, cement mortar     6\n",
       "Timber                   7\n",
       "Other                    8\n",
       "Stone, cement mortar     9\n",
       "Stone                   10\n",
       "Bamboo                  11\n",
       "NaN                     -2\n",
       "dtype: int64}])</pre></div></div></div><div class=\"sk-item\"><div class=\"sk-estimator sk-toggleable\"><input class=\"sk-toggleable__control sk-hidden--visually\" id=\"sk-estimator-id-45\" type=\"checkbox\" ><label for=\"sk-estimator-id-45\" class=\"sk-toggleable__label sk-toggleable__label-arrow\">DecisionTreeClassifier</label><div class=\"sk-toggleable__content\"><pre>DecisionTreeClassifier(max_depth=10, random_state=42)</pre></div></div></div></div></div></div></div>"
      ],
      "text/plain": [
       "Pipeline(steps=[('ordinalencoder',\n",
       "                 OrdinalEncoder(cols=['land_surface_condition',\n",
       "                                      'foundation_type', 'roof_type',\n",
       "                                      'ground_floor_type', 'other_floor_type',\n",
       "                                      'position', 'plan_configuration',\n",
       "                                      'superstructure'],\n",
       "                                mapping=[{'col': 'land_surface_condition',\n",
       "                                          'data_type': dtype('O'),\n",
       "                                          'mapping': Flat              1\n",
       "Moderate slope    2\n",
       "Steep slope       3\n",
       "NaN              -2\n",
       "dtype: int64},\n",
       "                                         {'col': 'foundation_type',\n",
       "                                          'dat...\n",
       "Building with Central Courtyard     8\n",
       "U-shape                             9\n",
       "H-shape                            10\n",
       "NaN                                -2\n",
       "dtype: int64},\n",
       "                                         {'col': 'superstructure',\n",
       "                                          'data_type': dtype('O'),\n",
       "                                          'mapping': Stone, mud mortar        1\n",
       "Adobe/mud                2\n",
       "RC, non-engineered       3\n",
       "RC, engineered           4\n",
       "Brick, mud mortar        5\n",
       "Brick, cement mortar     6\n",
       "Timber                   7\n",
       "Other                    8\n",
       "Stone, cement mortar     9\n",
       "Stone                   10\n",
       "Bamboo                  11\n",
       "NaN                     -2\n",
       "dtype: int64}])),\n",
       "                ('decisiontreeclassifier',\n",
       "                 DecisionTreeClassifier(max_depth=10, random_state=42))])"
      ]
     },
     "execution_count": 105,
     "metadata": {},
     "output_type": "execute_result"
    }
   ],
   "source": [
    "final_model_dt = make_pipeline(\n",
    "        OrdinalEncoder(), DecisionTreeClassifier(max_depth = 10, random_state=42)\n",
    ")\n",
    "final_model_dt.fit(X_train, y_train)"
   ]
  },
  {
   "cell_type": "code",
   "execution_count": 106,
   "id": "2212ad7c-cb60-4d7a-aeb3-2a915436073d",
   "metadata": {
    "deletable": false,
    "editable": false
   },
   "outputs": [
    {
     "data": {
      "text/html": [
       "\n",
       "    <div class=\"wqet-result\">\n",
       "      <div class=\"animation\">\n",
       "        <svg class=\"checkmark\" xmlns=\"http://www.w3.org/2000/svg\" viewBox=\"0 0 52 52\">\n",
       "          <circle class=\"checkmark__circle\" cx=\"26\" cy=\"26\" r=\"25\" fill=\"none\"/>\n",
       "          <path class=\"checkmark__check\" fill=\"none\" d=\"M14.1 27.2l7.1 7.2 16.7-16.8\"/>\n",
       "        </svg>\n",
       "      </div>\n",
       "      <div class=\"details\">\n",
       "        <p class=\"title\"><p>Awesome work.</p></p>\n",
       "        <p>Score: 1</p>\n",
       "      </div>\n",
       "    </div>\n"
      ],
      "text/plain": [
       "<IPython.core.display.HTML object>"
      ]
     },
     "metadata": {},
     "output_type": "display_data"
    }
   ],
   "source": [
    "\n",
    "wqet_grader.grade(\"Project 4 Assessment\", \"Task 4.5.16\", final_model_dt)"
   ]
  },
  {
   "cell_type": "code",
   "execution_count": 107,
   "id": "ba51cd36-efe5-4be2-aa69-e0531ce7bab0",
   "metadata": {},
   "outputs": [
    {
     "data": {
      "text/html": [
       "<div>\n",
       "<style scoped>\n",
       "    .dataframe tbody tr th:only-of-type {\n",
       "        vertical-align: middle;\n",
       "    }\n",
       "\n",
       "    .dataframe tbody tr th {\n",
       "        vertical-align: top;\n",
       "    }\n",
       "\n",
       "    .dataframe thead th {\n",
       "        text-align: right;\n",
       "    }\n",
       "</style>\n",
       "<table border=\"1\" class=\"dataframe\">\n",
       "  <thead>\n",
       "    <tr style=\"text-align: right;\">\n",
       "      <th></th>\n",
       "      <th>age_building</th>\n",
       "      <th>plinth_area_sq_ft</th>\n",
       "      <th>height_ft_pre_eq</th>\n",
       "      <th>land_surface_condition</th>\n",
       "      <th>foundation_type</th>\n",
       "      <th>roof_type</th>\n",
       "      <th>ground_floor_type</th>\n",
       "      <th>other_floor_type</th>\n",
       "      <th>position</th>\n",
       "      <th>plan_configuration</th>\n",
       "      <th>superstructure</th>\n",
       "    </tr>\n",
       "    <tr>\n",
       "      <th>b_id</th>\n",
       "      <th></th>\n",
       "      <th></th>\n",
       "      <th></th>\n",
       "      <th></th>\n",
       "      <th></th>\n",
       "      <th></th>\n",
       "      <th></th>\n",
       "      <th></th>\n",
       "      <th></th>\n",
       "      <th></th>\n",
       "      <th></th>\n",
       "    </tr>\n",
       "  </thead>\n",
       "  <tbody>\n",
       "    <tr>\n",
       "      <th>101808</th>\n",
       "      <td>21</td>\n",
       "      <td>400</td>\n",
       "      <td>7</td>\n",
       "      <td>Flat</td>\n",
       "      <td>Mud mortar-Stone/Brick</td>\n",
       "      <td>Bamboo/Timber-Light roof</td>\n",
       "      <td>Mud</td>\n",
       "      <td>Not applicable</td>\n",
       "      <td>Not attached</td>\n",
       "      <td>Rectangular</td>\n",
       "      <td>Stone, mud mortar</td>\n",
       "    </tr>\n",
       "    <tr>\n",
       "      <th>155600</th>\n",
       "      <td>36</td>\n",
       "      <td>720</td>\n",
       "      <td>16</td>\n",
       "      <td>Flat</td>\n",
       "      <td>Mud mortar-Stone/Brick</td>\n",
       "      <td>Bamboo/Timber-Light roof</td>\n",
       "      <td>Mud</td>\n",
       "      <td>TImber/Bamboo-Mud</td>\n",
       "      <td>Not attached</td>\n",
       "      <td>Rectangular</td>\n",
       "      <td>Stone, mud mortar</td>\n",
       "    </tr>\n",
       "    <tr>\n",
       "      <th>89359</th>\n",
       "      <td>15</td>\n",
       "      <td>280</td>\n",
       "      <td>18</td>\n",
       "      <td>Flat</td>\n",
       "      <td>Mud mortar-Stone/Brick</td>\n",
       "      <td>Bamboo/Timber-Light roof</td>\n",
       "      <td>Mud</td>\n",
       "      <td>TImber/Bamboo-Mud</td>\n",
       "      <td>Not attached</td>\n",
       "      <td>Rectangular</td>\n",
       "      <td>Stone, mud mortar</td>\n",
       "    </tr>\n",
       "    <tr>\n",
       "      <th>99199</th>\n",
       "      <td>7</td>\n",
       "      <td>550</td>\n",
       "      <td>14</td>\n",
       "      <td>Flat</td>\n",
       "      <td>Mud mortar-Stone/Brick</td>\n",
       "      <td>Bamboo/Timber-Light roof</td>\n",
       "      <td>Mud</td>\n",
       "      <td>TImber/Bamboo-Mud</td>\n",
       "      <td>Not attached</td>\n",
       "      <td>Rectangular</td>\n",
       "      <td>Stone, mud mortar</td>\n",
       "    </tr>\n",
       "    <tr>\n",
       "      <th>91268</th>\n",
       "      <td>11</td>\n",
       "      <td>275</td>\n",
       "      <td>7</td>\n",
       "      <td>Flat</td>\n",
       "      <td>Mud mortar-Stone/Brick</td>\n",
       "      <td>Bamboo/Timber-Light roof</td>\n",
       "      <td>Mud</td>\n",
       "      <td>Not applicable</td>\n",
       "      <td>Not attached</td>\n",
       "      <td>Rectangular</td>\n",
       "      <td>Stone, mud mortar</td>\n",
       "    </tr>\n",
       "  </tbody>\n",
       "</table>\n",
       "</div>"
      ],
      "text/plain": [
       "        age_building  plinth_area_sq_ft  height_ft_pre_eq  \\\n",
       "b_id                                                        \n",
       "101808            21                400                 7   \n",
       "155600            36                720                16   \n",
       "89359             15                280                18   \n",
       "99199              7                550                14   \n",
       "91268             11                275                 7   \n",
       "\n",
       "       land_surface_condition         foundation_type  \\\n",
       "b_id                                                    \n",
       "101808                   Flat  Mud mortar-Stone/Brick   \n",
       "155600                   Flat  Mud mortar-Stone/Brick   \n",
       "89359                    Flat  Mud mortar-Stone/Brick   \n",
       "99199                    Flat  Mud mortar-Stone/Brick   \n",
       "91268                    Flat  Mud mortar-Stone/Brick   \n",
       "\n",
       "                       roof_type ground_floor_type   other_floor_type  \\\n",
       "b_id                                                                    \n",
       "101808  Bamboo/Timber-Light roof               Mud     Not applicable   \n",
       "155600  Bamboo/Timber-Light roof               Mud  TImber/Bamboo-Mud   \n",
       "89359   Bamboo/Timber-Light roof               Mud  TImber/Bamboo-Mud   \n",
       "99199   Bamboo/Timber-Light roof               Mud  TImber/Bamboo-Mud   \n",
       "91268   Bamboo/Timber-Light roof               Mud     Not applicable   \n",
       "\n",
       "            position plan_configuration     superstructure  \n",
       "b_id                                                        \n",
       "101808  Not attached        Rectangular  Stone, mud mortar  \n",
       "155600  Not attached        Rectangular  Stone, mud mortar  \n",
       "89359   Not attached        Rectangular  Stone, mud mortar  \n",
       "99199   Not attached        Rectangular  Stone, mud mortar  \n",
       "91268   Not attached        Rectangular  Stone, mud mortar  "
      ]
     },
     "execution_count": 107,
     "metadata": {},
     "output_type": "execute_result"
    }
   ],
   "source": [
    "X_train.head()"
   ]
  },
  {
   "cell_type": "markdown",
   "id": "be7ec560-b79b-4fb1-9b86-350e26eed2f8",
   "metadata": {
    "deletable": false,
    "editable": false
   },
   "source": [
    "## Evaluate"
   ]
  },
  {
   "cell_type": "markdown",
   "id": "73082001-4b01-4aac-9c04-1d4d339d0d32",
   "metadata": {
    "deletable": false,
    "editable": false
   },
   "source": [
    "**Task 4.5.17:** How does your model perform on the test set? First, read the CSV file `\"data/kavrepalanchok-test-features.csv\"` into the DataFrame `X_test`. Next, use `final_model_dt` to generate a list of test predictions `y_test_pred`. Finally, submit your test predictions to the grader to see how your model performs.\n",
    "\n",
    "**Tip:** Make sure the order of the columns in `X_test` is the same as in your `X_train`. Otherwise, it could hurt your model's performance."
   ]
  },
  {
   "cell_type": "code",
   "execution_count": 108,
   "id": "9b6639e3-8928-4912-b2a1-cba39fac0c19",
   "metadata": {},
   "outputs": [],
   "source": [
    "X_test = pd.read_csv(\"data/kavrepalanchok-test-features.csv\", index_col=\"b_id\")\n"
   ]
  },
  {
   "cell_type": "code",
   "execution_count": 109,
   "id": "cc1a047e-81e3-4312-a5e8-f2320f41f342",
   "metadata": {},
   "outputs": [
    {
     "data": {
      "text/html": [
       "<div>\n",
       "<style scoped>\n",
       "    .dataframe tbody tr th:only-of-type {\n",
       "        vertical-align: middle;\n",
       "    }\n",
       "\n",
       "    .dataframe tbody tr th {\n",
       "        vertical-align: top;\n",
       "    }\n",
       "\n",
       "    .dataframe thead th {\n",
       "        text-align: right;\n",
       "    }\n",
       "</style>\n",
       "<table border=\"1\" class=\"dataframe\">\n",
       "  <thead>\n",
       "    <tr style=\"text-align: right;\">\n",
       "      <th></th>\n",
       "      <th>age_building</th>\n",
       "      <th>plinth_area_sq_ft</th>\n",
       "      <th>height_ft_pre_eq</th>\n",
       "      <th>land_surface_condition</th>\n",
       "      <th>foundation_type</th>\n",
       "      <th>roof_type</th>\n",
       "      <th>ground_floor_type</th>\n",
       "      <th>other_floor_type</th>\n",
       "      <th>position</th>\n",
       "      <th>plan_configuration</th>\n",
       "      <th>superstructure</th>\n",
       "    </tr>\n",
       "    <tr>\n",
       "      <th>b_id</th>\n",
       "      <th></th>\n",
       "      <th></th>\n",
       "      <th></th>\n",
       "      <th></th>\n",
       "      <th></th>\n",
       "      <th></th>\n",
       "      <th></th>\n",
       "      <th></th>\n",
       "      <th></th>\n",
       "      <th></th>\n",
       "      <th></th>\n",
       "    </tr>\n",
       "  </thead>\n",
       "  <tbody>\n",
       "    <tr>\n",
       "      <th>316158</th>\n",
       "      <td>27</td>\n",
       "      <td>382</td>\n",
       "      <td>20</td>\n",
       "      <td>Flat</td>\n",
       "      <td>Mud mortar-Stone/Brick</td>\n",
       "      <td>Bamboo/Timber-Light roof</td>\n",
       "      <td>Mud</td>\n",
       "      <td>TImber/Bamboo-Mud</td>\n",
       "      <td>Attached-1 side</td>\n",
       "      <td>Rectangular</td>\n",
       "      <td>Stone, mud mortar</td>\n",
       "    </tr>\n",
       "    <tr>\n",
       "      <th>316175</th>\n",
       "      <td>5</td>\n",
       "      <td>360</td>\n",
       "      <td>14</td>\n",
       "      <td>Flat</td>\n",
       "      <td>Mud mortar-Stone/Brick</td>\n",
       "      <td>Bamboo/Timber-Light roof</td>\n",
       "      <td>Mud</td>\n",
       "      <td>TImber/Bamboo-Mud</td>\n",
       "      <td>Not attached</td>\n",
       "      <td>Rectangular</td>\n",
       "      <td>Stone, mud mortar</td>\n",
       "    </tr>\n",
       "    <tr>\n",
       "      <th>316192</th>\n",
       "      <td>11</td>\n",
       "      <td>450</td>\n",
       "      <td>20</td>\n",
       "      <td>Flat</td>\n",
       "      <td>Mud mortar-Stone/Brick</td>\n",
       "      <td>Bamboo/Timber-Light roof</td>\n",
       "      <td>Mud</td>\n",
       "      <td>TImber/Bamboo-Mud</td>\n",
       "      <td>Attached-1 side</td>\n",
       "      <td>Rectangular</td>\n",
       "      <td>Stone, mud mortar</td>\n",
       "    </tr>\n",
       "    <tr>\n",
       "      <th>316202</th>\n",
       "      <td>40</td>\n",
       "      <td>360</td>\n",
       "      <td>18</td>\n",
       "      <td>Flat</td>\n",
       "      <td>Mud mortar-Stone/Brick</td>\n",
       "      <td>Bamboo/Timber-Heavy roof</td>\n",
       "      <td>Mud</td>\n",
       "      <td>TImber/Bamboo-Mud</td>\n",
       "      <td>Not attached</td>\n",
       "      <td>Square</td>\n",
       "      <td>Stone, mud mortar</td>\n",
       "    </tr>\n",
       "    <tr>\n",
       "      <th>316206</th>\n",
       "      <td>1</td>\n",
       "      <td>405</td>\n",
       "      <td>7</td>\n",
       "      <td>Flat</td>\n",
       "      <td>Mud mortar-Stone/Brick</td>\n",
       "      <td>Bamboo/Timber-Light roof</td>\n",
       "      <td>Mud</td>\n",
       "      <td>Not applicable</td>\n",
       "      <td>Not attached</td>\n",
       "      <td>Rectangular</td>\n",
       "      <td>Stone, mud mortar</td>\n",
       "    </tr>\n",
       "  </tbody>\n",
       "</table>\n",
       "</div>"
      ],
      "text/plain": [
       "        age_building  plinth_area_sq_ft  height_ft_pre_eq  \\\n",
       "b_id                                                        \n",
       "316158            27                382                20   \n",
       "316175             5                360                14   \n",
       "316192            11                450                20   \n",
       "316202            40                360                18   \n",
       "316206             1                405                 7   \n",
       "\n",
       "       land_surface_condition         foundation_type  \\\n",
       "b_id                                                    \n",
       "316158                   Flat  Mud mortar-Stone/Brick   \n",
       "316175                   Flat  Mud mortar-Stone/Brick   \n",
       "316192                   Flat  Mud mortar-Stone/Brick   \n",
       "316202                   Flat  Mud mortar-Stone/Brick   \n",
       "316206                   Flat  Mud mortar-Stone/Brick   \n",
       "\n",
       "                       roof_type ground_floor_type   other_floor_type  \\\n",
       "b_id                                                                    \n",
       "316158  Bamboo/Timber-Light roof               Mud  TImber/Bamboo-Mud   \n",
       "316175  Bamboo/Timber-Light roof               Mud  TImber/Bamboo-Mud   \n",
       "316192  Bamboo/Timber-Light roof               Mud  TImber/Bamboo-Mud   \n",
       "316202  Bamboo/Timber-Heavy roof               Mud  TImber/Bamboo-Mud   \n",
       "316206  Bamboo/Timber-Light roof               Mud     Not applicable   \n",
       "\n",
       "               position plan_configuration     superstructure  \n",
       "b_id                                                           \n",
       "316158  Attached-1 side        Rectangular  Stone, mud mortar  \n",
       "316175     Not attached        Rectangular  Stone, mud mortar  \n",
       "316192  Attached-1 side        Rectangular  Stone, mud mortar  \n",
       "316202     Not attached             Square  Stone, mud mortar  \n",
       "316206     Not attached        Rectangular  Stone, mud mortar  "
      ]
     },
     "execution_count": 109,
     "metadata": {},
     "output_type": "execute_result"
    }
   ],
   "source": [
    "X_test.head()"
   ]
  },
  {
   "cell_type": "code",
   "execution_count": 111,
   "id": "8f3a24cf-7053-464a-a558-08eb34fe867a",
   "metadata": {
    "deletable": false
   },
   "outputs": [
    {
     "data": {
      "text/plain": [
       "array([1, 1, 1, 1, 0])"
      ]
     },
     "execution_count": 111,
     "metadata": {},
     "output_type": "execute_result"
    }
   ],
   "source": [
    "X_test = pd.read_csv(\"data/kavrepalanchok-test-features.csv\", index_col=\"b_id\")\n",
    "y_test_pred = final_model_dt.predict(X_test)\n",
    "y_test_pred[:5]"
   ]
  },
  {
   "cell_type": "code",
   "execution_count": 113,
   "id": "fdee354c-f7cf-4c64-819a-dc401e2040d8",
   "metadata": {
    "deletable": false,
    "editable": false
   },
   "outputs": [
    {
     "ename": "Exception",
     "evalue": "Could not grade submission: Could not verify access to this assessment: Received error from WQET submission API: You have already passed this course!",
     "output_type": "error",
     "traceback": [
      "\u001b[0;31m---------------------------------------------------------------------------\u001b[0m",
      "\u001b[0;31mException\u001b[0m                                 Traceback (most recent call last)",
      "Input \u001b[0;32mIn [113]\u001b[0m, in \u001b[0;36m<cell line: 2>\u001b[0;34m()\u001b[0m\n\u001b[1;32m      1\u001b[0m submission \u001b[38;5;241m=\u001b[39m pd\u001b[38;5;241m.\u001b[39mSeries(y_test_pred)\n\u001b[0;32m----> 2\u001b[0m \u001b[43mwqet_grader\u001b[49m\u001b[38;5;241;43m.\u001b[39;49m\u001b[43mgrade\u001b[49m\u001b[43m(\u001b[49m\u001b[38;5;124;43m\"\u001b[39;49m\u001b[38;5;124;43mProject 4 Assessment\u001b[39;49m\u001b[38;5;124;43m\"\u001b[39;49m\u001b[43m,\u001b[49m\u001b[43m \u001b[49m\u001b[38;5;124;43m\"\u001b[39;49m\u001b[38;5;124;43mTask 4.5.17\u001b[39;49m\u001b[38;5;124;43m\"\u001b[39;49m\u001b[43m,\u001b[49m\u001b[43m \u001b[49m\u001b[43msubmission\u001b[49m\u001b[43m)\u001b[49m\n",
      "File \u001b[0;32m/opt/conda/lib/python3.9/site-packages/wqet_grader/__init__.py:180\u001b[0m, in \u001b[0;36mgrade\u001b[0;34m(assessment_id, question_id, submission)\u001b[0m\n\u001b[1;32m    175\u001b[0m \u001b[38;5;28;01mdef\u001b[39;00m \u001b[38;5;21mgrade\u001b[39m(assessment_id, question_id, submission):\n\u001b[1;32m    176\u001b[0m   submission_object \u001b[38;5;241m=\u001b[39m {\n\u001b[1;32m    177\u001b[0m     \u001b[38;5;124m'\u001b[39m\u001b[38;5;124mtype\u001b[39m\u001b[38;5;124m'\u001b[39m: \u001b[38;5;124m'\u001b[39m\u001b[38;5;124msimple\u001b[39m\u001b[38;5;124m'\u001b[39m,\n\u001b[1;32m    178\u001b[0m     \u001b[38;5;124m'\u001b[39m\u001b[38;5;124margument\u001b[39m\u001b[38;5;124m'\u001b[39m: [submission]\n\u001b[1;32m    179\u001b[0m   }\n\u001b[0;32m--> 180\u001b[0m   \u001b[38;5;28;01mreturn\u001b[39;00m show_score(\u001b[43mgrade_submission\u001b[49m\u001b[43m(\u001b[49m\u001b[43massessment_id\u001b[49m\u001b[43m,\u001b[49m\u001b[43m \u001b[49m\u001b[43mquestion_id\u001b[49m\u001b[43m,\u001b[49m\u001b[43m \u001b[49m\u001b[43msubmission_object\u001b[49m\u001b[43m)\u001b[49m)\n",
      "File \u001b[0;32m/opt/conda/lib/python3.9/site-packages/wqet_grader/transport.py:145\u001b[0m, in \u001b[0;36mgrade_submission\u001b[0;34m(assessment_id, question_id, submission_object)\u001b[0m\n\u001b[1;32m    143\u001b[0m     \u001b[38;5;28;01mraise\u001b[39;00m \u001b[38;5;167;01mException\u001b[39;00m(\u001b[38;5;124m'\u001b[39m\u001b[38;5;124mGrader raised error: \u001b[39m\u001b[38;5;132;01m{}\u001b[39;00m\u001b[38;5;124m'\u001b[39m\u001b[38;5;241m.\u001b[39mformat(error[\u001b[38;5;124m'\u001b[39m\u001b[38;5;124mmessage\u001b[39m\u001b[38;5;124m'\u001b[39m]))\n\u001b[1;32m    144\u001b[0m   \u001b[38;5;28;01melse\u001b[39;00m:\n\u001b[0;32m--> 145\u001b[0m     \u001b[38;5;28;01mraise\u001b[39;00m \u001b[38;5;167;01mException\u001b[39;00m(\u001b[38;5;124m'\u001b[39m\u001b[38;5;124mCould not grade submission: \u001b[39m\u001b[38;5;132;01m{}\u001b[39;00m\u001b[38;5;124m'\u001b[39m\u001b[38;5;241m.\u001b[39mformat(error[\u001b[38;5;124m'\u001b[39m\u001b[38;5;124mmessage\u001b[39m\u001b[38;5;124m'\u001b[39m]))\n\u001b[1;32m    146\u001b[0m result \u001b[38;5;241m=\u001b[39m envelope[\u001b[38;5;124m'\u001b[39m\u001b[38;5;124mdata\u001b[39m\u001b[38;5;124m'\u001b[39m][\u001b[38;5;124m'\u001b[39m\u001b[38;5;124mresult\u001b[39m\u001b[38;5;124m'\u001b[39m]\n\u001b[1;32m    148\u001b[0m \u001b[38;5;66;03m# Used only in testing\u001b[39;00m\n",
      "\u001b[0;31mException\u001b[0m: Could not grade submission: Could not verify access to this assessment: Received error from WQET submission API: You have already passed this course!"
     ]
    }
   ],
   "source": [
    "submission = pd.Series(y_test_pred)\n",
    "wqet_grader.grade(\"Project 4 Assessment\", \"Task 4.5.17\", submission)"
   ]
  },
  {
   "cell_type": "markdown",
   "id": "751232ec-054c-4773-a72f-7390481aefd8",
   "metadata": {
    "deletable": false,
    "editable": false
   },
   "source": [
    "# Communicate Results"
   ]
  },
  {
   "cell_type": "markdown",
   "id": "6a4ce549-358e-4b20-9471-027c24e8b2fb",
   "metadata": {
    "deletable": false,
    "editable": false
   },
   "source": [
    "**Task 4.5.18:** What are the most important features for `final_model_dt`? Create a Series Gini `feat_imp`, where the index labels are the feature names for your dataset and the values are the feature importances for your model. Be sure that the Series is sorted from smallest to largest feature importance. "
   ]
  },
  {
   "cell_type": "code",
   "execution_count": 116,
   "id": "1edbfa3e-c51b-438e-a000-d99d135715d2",
   "metadata": {
    "deletable": false
   },
   "outputs": [
    {
     "data": {
      "text/plain": [
       "plan_configuration        0.002615\n",
       "position                  0.013146\n",
       "land_surface_condition    0.014244\n",
       "ground_floor_type         0.015556\n",
       "roof_type                 0.018341\n",
       "dtype: float64"
      ]
     },
     "execution_count": 116,
     "metadata": {},
     "output_type": "execute_result"
    }
   ],
   "source": [
    "features = X_test.columns\n",
    "importances = final_model_dt.named_steps[\"decisiontreeclassifier\"].feature_importances_\n",
    "\n",
    "feat_imp = pd.Series(importances, index=features).sort_values(ascending=True)\n",
    "feat_imp.head()"
   ]
  },
  {
   "cell_type": "code",
   "execution_count": 117,
   "id": "9c605f43-e287-4f45-a73a-e9edfb7cc945",
   "metadata": {
    "deletable": false,
    "editable": false
   },
   "outputs": [
    {
     "ename": "Exception",
     "evalue": "Could not grade submission: Could not verify access to this assessment: Received error from WQET submission API: You have already passed this course!",
     "output_type": "error",
     "traceback": [
      "\u001b[0;31m---------------------------------------------------------------------------\u001b[0m",
      "\u001b[0;31mException\u001b[0m                                 Traceback (most recent call last)",
      "Input \u001b[0;32mIn [117]\u001b[0m, in \u001b[0;36m<cell line: 1>\u001b[0;34m()\u001b[0m\n\u001b[0;32m----> 1\u001b[0m \u001b[43mwqet_grader\u001b[49m\u001b[38;5;241;43m.\u001b[39;49m\u001b[43mgrade\u001b[49m\u001b[43m(\u001b[49m\u001b[38;5;124;43m\"\u001b[39;49m\u001b[38;5;124;43mProject 4 Assessment\u001b[39;49m\u001b[38;5;124;43m\"\u001b[39;49m\u001b[43m,\u001b[49m\u001b[43m \u001b[49m\u001b[38;5;124;43m\"\u001b[39;49m\u001b[38;5;124;43mTask 4.5.18\u001b[39;49m\u001b[38;5;124;43m\"\u001b[39;49m\u001b[43m,\u001b[49m\u001b[43m \u001b[49m\u001b[43mfeat_imp\u001b[49m\u001b[43m)\u001b[49m\n",
      "File \u001b[0;32m/opt/conda/lib/python3.9/site-packages/wqet_grader/__init__.py:180\u001b[0m, in \u001b[0;36mgrade\u001b[0;34m(assessment_id, question_id, submission)\u001b[0m\n\u001b[1;32m    175\u001b[0m \u001b[38;5;28;01mdef\u001b[39;00m \u001b[38;5;21mgrade\u001b[39m(assessment_id, question_id, submission):\n\u001b[1;32m    176\u001b[0m   submission_object \u001b[38;5;241m=\u001b[39m {\n\u001b[1;32m    177\u001b[0m     \u001b[38;5;124m'\u001b[39m\u001b[38;5;124mtype\u001b[39m\u001b[38;5;124m'\u001b[39m: \u001b[38;5;124m'\u001b[39m\u001b[38;5;124msimple\u001b[39m\u001b[38;5;124m'\u001b[39m,\n\u001b[1;32m    178\u001b[0m     \u001b[38;5;124m'\u001b[39m\u001b[38;5;124margument\u001b[39m\u001b[38;5;124m'\u001b[39m: [submission]\n\u001b[1;32m    179\u001b[0m   }\n\u001b[0;32m--> 180\u001b[0m   \u001b[38;5;28;01mreturn\u001b[39;00m show_score(\u001b[43mgrade_submission\u001b[49m\u001b[43m(\u001b[49m\u001b[43massessment_id\u001b[49m\u001b[43m,\u001b[49m\u001b[43m \u001b[49m\u001b[43mquestion_id\u001b[49m\u001b[43m,\u001b[49m\u001b[43m \u001b[49m\u001b[43msubmission_object\u001b[49m\u001b[43m)\u001b[49m)\n",
      "File \u001b[0;32m/opt/conda/lib/python3.9/site-packages/wqet_grader/transport.py:145\u001b[0m, in \u001b[0;36mgrade_submission\u001b[0;34m(assessment_id, question_id, submission_object)\u001b[0m\n\u001b[1;32m    143\u001b[0m     \u001b[38;5;28;01mraise\u001b[39;00m \u001b[38;5;167;01mException\u001b[39;00m(\u001b[38;5;124m'\u001b[39m\u001b[38;5;124mGrader raised error: \u001b[39m\u001b[38;5;132;01m{}\u001b[39;00m\u001b[38;5;124m'\u001b[39m\u001b[38;5;241m.\u001b[39mformat(error[\u001b[38;5;124m'\u001b[39m\u001b[38;5;124mmessage\u001b[39m\u001b[38;5;124m'\u001b[39m]))\n\u001b[1;32m    144\u001b[0m   \u001b[38;5;28;01melse\u001b[39;00m:\n\u001b[0;32m--> 145\u001b[0m     \u001b[38;5;28;01mraise\u001b[39;00m \u001b[38;5;167;01mException\u001b[39;00m(\u001b[38;5;124m'\u001b[39m\u001b[38;5;124mCould not grade submission: \u001b[39m\u001b[38;5;132;01m{}\u001b[39;00m\u001b[38;5;124m'\u001b[39m\u001b[38;5;241m.\u001b[39mformat(error[\u001b[38;5;124m'\u001b[39m\u001b[38;5;124mmessage\u001b[39m\u001b[38;5;124m'\u001b[39m]))\n\u001b[1;32m    146\u001b[0m result \u001b[38;5;241m=\u001b[39m envelope[\u001b[38;5;124m'\u001b[39m\u001b[38;5;124mdata\u001b[39m\u001b[38;5;124m'\u001b[39m][\u001b[38;5;124m'\u001b[39m\u001b[38;5;124mresult\u001b[39m\u001b[38;5;124m'\u001b[39m]\n\u001b[1;32m    148\u001b[0m \u001b[38;5;66;03m# Used only in testing\u001b[39;00m\n",
      "\u001b[0;31mException\u001b[0m: Could not grade submission: Could not verify access to this assessment: Received error from WQET submission API: You have already passed this course!"
     ]
    }
   ],
   "source": [
    "\n",
    "wqet_grader.grade(\"Project 4 Assessment\", \"Task 4.5.18\", feat_imp)"
   ]
  },
  {
   "cell_type": "markdown",
   "id": "7be11cdd-a6dc-4fe2-bfea-2f8233640613",
   "metadata": {
    "deletable": false,
    "editable": false
   },
   "source": [
    "**Task 4.5.19:** Create a horizontal bar chart of `feat_imp`. Label your x-axis `\"Gini Importance\"` and your y-axis `\"Label\"`. Use the title `\"Kavrepalanchok Decision Tree, Feature Importance\"`.\n",
    "\n",
    "Do you see any relationship between this plot and the exploratory data analysis you did regarding roof type?"
   ]
  },
  {
   "cell_type": "code",
   "execution_count": 118,
   "id": "43304b26-366c-4390-a581-bc049c9c6c86",
   "metadata": {
    "deletable": false
   },
   "outputs": [
    {
     "data": {
      "image/png": "[encoded data removed]",
      "text/plain": [
       "<Figure size 432x288 with 1 Axes>"
      ]
     },
     "metadata": {
      "needs_background": "light"
     },
     "output_type": "display_data"
    }
   ],
   "source": [
    "# Create horizontal bar chart of feature importances\n",
    "\n",
    "feat_imp.plot(kind=\"barh\")\n",
    "plt.xlabel(\"Gini Importance\")\n",
    "\n",
    "# Don't delete the code below 👇\n",
    "plt.tight_layout()\n",
    "plt.savefig(\"images/4-5-19.png\", dpi=150)\n"
   ]
  },
  {
   "cell_type": "code",
   "execution_count": 119,
   "id": "69f13559-2a5a-468d-ae37-bfeb3715248b",
   "metadata": {
    "deletable": false,
    "editable": false
   },
   "outputs": [
    {
     "ename": "Exception",
     "evalue": "Could not grade submission: Could not verify access to this assessment: Received error from WQET submission API: You have already passed this course!",
     "output_type": "error",
     "traceback": [
      "\u001b[0;31m---------------------------------------------------------------------------\u001b[0m",
      "\u001b[0;31mException\u001b[0m                                 Traceback (most recent call last)",
      "Input \u001b[0;32mIn [119]\u001b[0m, in \u001b[0;36m<cell line: 1>\u001b[0;34m()\u001b[0m\n\u001b[1;32m      1\u001b[0m \u001b[38;5;28;01mwith\u001b[39;00m \u001b[38;5;28mopen\u001b[39m(\u001b[38;5;124m\"\u001b[39m\u001b[38;5;124mimages/4-5-19.png\u001b[39m\u001b[38;5;124m\"\u001b[39m, \u001b[38;5;124m\"\u001b[39m\u001b[38;5;124mrb\u001b[39m\u001b[38;5;124m\"\u001b[39m) \u001b[38;5;28;01mas\u001b[39;00m file:\n\u001b[0;32m----> 2\u001b[0m     \u001b[43mwqet_grader\u001b[49m\u001b[38;5;241;43m.\u001b[39;49m\u001b[43mgrade\u001b[49m\u001b[43m(\u001b[49m\u001b[38;5;124;43m\"\u001b[39;49m\u001b[38;5;124;43mProject 4 Assessment\u001b[39;49m\u001b[38;5;124;43m\"\u001b[39;49m\u001b[43m,\u001b[49m\u001b[43m \u001b[49m\u001b[38;5;124;43m\"\u001b[39;49m\u001b[38;5;124;43mTask 4.5.19\u001b[39;49m\u001b[38;5;124;43m\"\u001b[39;49m\u001b[43m,\u001b[49m\u001b[43m \u001b[49m\u001b[43mfile\u001b[49m\u001b[43m)\u001b[49m\n",
      "File \u001b[0;32m/opt/conda/lib/python3.9/site-packages/wqet_grader/__init__.py:180\u001b[0m, in \u001b[0;36mgrade\u001b[0;34m(assessment_id, question_id, submission)\u001b[0m\n\u001b[1;32m    175\u001b[0m \u001b[38;5;28;01mdef\u001b[39;00m \u001b[38;5;21mgrade\u001b[39m(assessment_id, question_id, submission):\n\u001b[1;32m    176\u001b[0m   submission_object \u001b[38;5;241m=\u001b[39m {\n\u001b[1;32m    177\u001b[0m     \u001b[38;5;124m'\u001b[39m\u001b[38;5;124mtype\u001b[39m\u001b[38;5;124m'\u001b[39m: \u001b[38;5;124m'\u001b[39m\u001b[38;5;124msimple\u001b[39m\u001b[38;5;124m'\u001b[39m,\n\u001b[1;32m    178\u001b[0m     \u001b[38;5;124m'\u001b[39m\u001b[38;5;124margument\u001b[39m\u001b[38;5;124m'\u001b[39m: [submission]\n\u001b[1;32m    179\u001b[0m   }\n\u001b[0;32m--> 180\u001b[0m   \u001b[38;5;28;01mreturn\u001b[39;00m show_score(\u001b[43mgrade_submission\u001b[49m\u001b[43m(\u001b[49m\u001b[43massessment_id\u001b[49m\u001b[43m,\u001b[49m\u001b[43m \u001b[49m\u001b[43mquestion_id\u001b[49m\u001b[43m,\u001b[49m\u001b[43m \u001b[49m\u001b[43msubmission_object\u001b[49m\u001b[43m)\u001b[49m)\n",
      "File \u001b[0;32m/opt/conda/lib/python3.9/site-packages/wqet_grader/transport.py:145\u001b[0m, in \u001b[0;36mgrade_submission\u001b[0;34m(assessment_id, question_id, submission_object)\u001b[0m\n\u001b[1;32m    143\u001b[0m     \u001b[38;5;28;01mraise\u001b[39;00m \u001b[38;5;167;01mException\u001b[39;00m(\u001b[38;5;124m'\u001b[39m\u001b[38;5;124mGrader raised error: \u001b[39m\u001b[38;5;132;01m{}\u001b[39;00m\u001b[38;5;124m'\u001b[39m\u001b[38;5;241m.\u001b[39mformat(error[\u001b[38;5;124m'\u001b[39m\u001b[38;5;124mmessage\u001b[39m\u001b[38;5;124m'\u001b[39m]))\n\u001b[1;32m    144\u001b[0m   \u001b[38;5;28;01melse\u001b[39;00m:\n\u001b[0;32m--> 145\u001b[0m     \u001b[38;5;28;01mraise\u001b[39;00m \u001b[38;5;167;01mException\u001b[39;00m(\u001b[38;5;124m'\u001b[39m\u001b[38;5;124mCould not grade submission: \u001b[39m\u001b[38;5;132;01m{}\u001b[39;00m\u001b[38;5;124m'\u001b[39m\u001b[38;5;241m.\u001b[39mformat(error[\u001b[38;5;124m'\u001b[39m\u001b[38;5;124mmessage\u001b[39m\u001b[38;5;124m'\u001b[39m]))\n\u001b[1;32m    146\u001b[0m result \u001b[38;5;241m=\u001b[39m envelope[\u001b[38;5;124m'\u001b[39m\u001b[38;5;124mdata\u001b[39m\u001b[38;5;124m'\u001b[39m][\u001b[38;5;124m'\u001b[39m\u001b[38;5;124mresult\u001b[39m\u001b[38;5;124m'\u001b[39m]\n\u001b[1;32m    148\u001b[0m \u001b[38;5;66;03m# Used only in testing\u001b[39;00m\n",
      "\u001b[0;31mException\u001b[0m: Could not grade submission: Could not verify access to this assessment: Received error from WQET submission API: You have already passed this course!"
     ]
    }
   ],
   "source": [
    "with open(\"images/4-5-19.png\", \"rb\") as file:\n",
    "    wqet_grader.grade(\"Project 4 Assessment\", \"Task 4.5.19\", file)"
   ]
  },
  {
   "cell_type": "markdown",
   "id": "8411d749-4338-4cc0-8bd3-6e3837a10435",
   "metadata": {
    "deletable": false,
    "editable": false
   },
   "source": [
    "Congratulations! You made it to the end of Project 4. 👏👏👏"
   ]
  },
  {
   "cell_type": "markdown",
   "id": "03da88f1",
   "metadata": {
    "deletable": false,
    "editable": false
   },
   "source": [
    "---\n",
    "Copyright © 2022 WorldQuant University. This\n",
    "content is licensed solely for personal use. Redistribution or\n",
    "publication of this material is strictly prohibited.\n"
   ]
  }
 ],
 "metadata": {
  "kernelspec": {
   "display_name": "Python 3 (ipykernel)",
   "language": "python",
   "name": "python3"
  },
  "language_info": {
   "codemirror_mode": {
    "name": "ipython",
    "version": 3
   },
   "file_extension": ".py",
   "mimetype": "text/x-python",
   "name": "python",
   "nbconvert_exporter": "python",
   "pygments_lexer": "ipython3",
   "version": "3.9.6"
  },
  "toc-autonumbering": false
 },
 "nbformat": 4,
 "nbformat_minor": 5
}
