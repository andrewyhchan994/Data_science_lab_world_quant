{
 "cells": [
  {
   "cell_type": "markdown",
   "id": "76852d9a-e498-4f6f-818e-a4a95a672c06",
   "metadata": {
    "deletable": false,
    "editable": false
   },
   "source": [
    "<font size=\"+3\"><strong>4.3. Predicting Damage with Decision Trees</strong></font>"
   ]
  },
  {
   "cell_type": "code",
   "execution_count": 1,
   "id": "574bf00b-4278-4d61-a496-c4f147cd2559",
   "metadata": {
    "deletable": false,
    "editable": false,
    "init_cell": true
   },
   "outputs": [],
   "source": [
    "import sqlite3\n",
    "import warnings\n",
    "\n",
    "import matplotlib.pyplot as plt\n",
    "import pandas as pd\n",
    "from category_encoders import OrdinalEncoder\n",
    "from IPython.display import VimeoVideo\n",
    "from sklearn.metrics import accuracy_score\n",
    "from sklearn.model_selection import train_test_split\n",
    "from sklearn.pipeline import Pipeline, make_pipeline\n",
    "from sklearn.tree import DecisionTreeClassifier, plot_tree\n",
    "from sklearn.utils.validation import check_is_fitted\n",
    "\n",
    "warnings.simplefilter(action=\"ignore\", category=FutureWarning)"
   ]
  },
  {
   "cell_type": "code",
   "execution_count": 2,
   "id": "c69c218b-8fbb-45f0-925f-0fabdcad695f",
   "metadata": {
    "deletable": false,
    "editable": false,
    "init_cell": true
   },
   "outputs": [
    {
     "data": {
      "text/html": [
       "\n",
       "        <iframe\n",
       "            width=\"600\"\n",
       "            height=\"300\"\n",
       "            src=\"https://player.vimeo.com/video/665414130?h=71649d291e\"\n",
       "            frameborder=\"0\"\n",
       "            allowfullscreen\n",
       "            \n",
       "        ></iframe>\n",
       "        "
      ],
      "text/plain": [
       "<IPython.lib.display.VimeoVideo at 0x7fbdbc6bb940>"
      ]
     },
     "execution_count": 2,
     "metadata": {},
     "output_type": "execute_result"
    }
   ],
   "source": [
    "VimeoVideo(\"665414130\", h=\"71649d291e\", width=600)"
   ]
  },
  {
   "cell_type": "markdown",
   "id": "be63124d-1ffb-486b-ad8a-b64d1ff35f02",
   "metadata": {
    "deletable": false,
    "editable": false
   },
   "source": [
    "# Prepare Data"
   ]
  },
  {
   "cell_type": "markdown",
   "id": "80613140-d7f4-4661-874e-bab6ad500f30",
   "metadata": {
    "deletable": false,
    "editable": false
   },
   "source": [
    "## Import"
   ]
  },
  {
   "cell_type": "code",
   "execution_count": 3,
   "id": "e55f3ea5-f30f-4428-a12c-d7b4611fd42d",
   "metadata": {
    "deletable": false
   },
   "outputs": [],
   "source": [
    "def wrangle(db_path):\n",
    "    # Connect to database\n",
    "    conn = sqlite3.connect(db_path)\n",
    "\n",
    "    # Construct query\n",
    "    query = \"\"\"\n",
    "        SELECT distinct(i.building_id) AS b_id,\n",
    "           s.*,\n",
    "           d.damage_grade\n",
    "        FROM id_map AS i\n",
    "        JOIN building_structure AS s ON i.building_id = s.building_id\n",
    "        JOIN building_damage AS d ON i.building_id = d.building_id\n",
    "        WHERE district_id = 4\n",
    "    \"\"\"\n",
    "\n",
    "    # Read query results into DataFrame\n",
    "    df = pd.read_sql(query, conn, index_col=\"b_id\")\n",
    "\n",
    "    # Identify leaky columns\n",
    "    drop_cols = [col for col in df.columns if \"post_eq\" in col]\n",
    "\n",
    "    # Add high-cardinality / redundant column\n",
    "    drop_cols.append(\"building_id\")\n",
    "\n",
    "    # Create binary target column\n",
    "    df[\"damage_grade\"] = df[\"damage_grade\"].str[-1].astype(int)\n",
    "    df[\"severe_damage\"] = (df[\"damage_grade\"] > 3).astype(int)\n",
    "\n",
    "    # Drop old target\n",
    "    drop_cols.append(\"damage_grade\")\n",
    "\n",
    "    # Drop multicollinearity column\n",
    "    drop_cols.append(\"count_floors_pre_eq\")\n",
    "\n",
    "    # Drop columns\n",
    "    df.drop(columns=drop_cols, inplace=True)\n",
    "\n",
    "    return df"
   ]
  },
  {
   "cell_type": "markdown",
   "id": "e1834f31-fabd-455d-870f-2964f8864bb9",
   "metadata": {
    "deletable": false,
    "editable": false
   },
   "source": [
    "**Task 4.3.1:** Use the `wrangle` function above to import your data set into the DataFrame `df`. The path to the SQLite database is `\"/home/jovyan/nepal.sqlite\"`\n",
    "\n",
    "- [<span id='technique'>Read SQL query into a DataFrame using <span id='tool'>pandas</span></span>.](../%40textbook/10-databases-sql.ipynb#Using-pandas-with-SQL-Databases)\n",
    "- [<span id='technique'>Write a function in <span id='tool'>Python</span></span>.](../%40textbook/02-python-advanced.ipynb#Functions)"
   ]
  },
  {
   "cell_type": "code",
   "execution_count": 4,
   "id": "6700cb6f-50e9-469b-ac40-87dea0d38888",
   "metadata": {
    "deletable": false
   },
   "outputs": [
    {
     "data": {
      "text/html": [
       "<div>\n",
       "<style scoped>\n",
       "    .dataframe tbody tr th:only-of-type {\n",
       "        vertical-align: middle;\n",
       "    }\n",
       "\n",
       "    .dataframe tbody tr th {\n",
       "        vertical-align: top;\n",
       "    }\n",
       "\n",
       "    .dataframe thead th {\n",
       "        text-align: right;\n",
       "    }\n",
       "</style>\n",
       "<table border=\"1\" class=\"dataframe\">\n",
       "  <thead>\n",
       "    <tr style=\"text-align: right;\">\n",
       "      <th></th>\n",
       "      <th>age_building</th>\n",
       "      <th>plinth_area_sq_ft</th>\n",
       "      <th>height_ft_pre_eq</th>\n",
       "      <th>land_surface_condition</th>\n",
       "      <th>foundation_type</th>\n",
       "      <th>roof_type</th>\n",
       "      <th>ground_floor_type</th>\n",
       "      <th>other_floor_type</th>\n",
       "      <th>position</th>\n",
       "      <th>plan_configuration</th>\n",
       "      <th>superstructure</th>\n",
       "      <th>severe_damage</th>\n",
       "    </tr>\n",
       "    <tr>\n",
       "      <th>b_id</th>\n",
       "      <th></th>\n",
       "      <th></th>\n",
       "      <th></th>\n",
       "      <th></th>\n",
       "      <th></th>\n",
       "      <th></th>\n",
       "      <th></th>\n",
       "      <th></th>\n",
       "      <th></th>\n",
       "      <th></th>\n",
       "      <th></th>\n",
       "      <th></th>\n",
       "    </tr>\n",
       "  </thead>\n",
       "  <tbody>\n",
       "    <tr>\n",
       "      <th>164002</th>\n",
       "      <td>20</td>\n",
       "      <td>560</td>\n",
       "      <td>18</td>\n",
       "      <td>Flat</td>\n",
       "      <td>Mud mortar-Stone/Brick</td>\n",
       "      <td>Bamboo/Timber-Light roof</td>\n",
       "      <td>Mud</td>\n",
       "      <td>TImber/Bamboo-Mud</td>\n",
       "      <td>Not attached</td>\n",
       "      <td>Rectangular</td>\n",
       "      <td>Stone, mud mortar</td>\n",
       "      <td>0</td>\n",
       "    </tr>\n",
       "    <tr>\n",
       "      <th>164081</th>\n",
       "      <td>21</td>\n",
       "      <td>200</td>\n",
       "      <td>12</td>\n",
       "      <td>Flat</td>\n",
       "      <td>Mud mortar-Stone/Brick</td>\n",
       "      <td>Bamboo/Timber-Light roof</td>\n",
       "      <td>Mud</td>\n",
       "      <td>TImber/Bamboo-Mud</td>\n",
       "      <td>Not attached</td>\n",
       "      <td>Rectangular</td>\n",
       "      <td>Stone, mud mortar</td>\n",
       "      <td>0</td>\n",
       "    </tr>\n",
       "    <tr>\n",
       "      <th>164089</th>\n",
       "      <td>18</td>\n",
       "      <td>315</td>\n",
       "      <td>20</td>\n",
       "      <td>Flat</td>\n",
       "      <td>Mud mortar-Stone/Brick</td>\n",
       "      <td>Bamboo/Timber-Light roof</td>\n",
       "      <td>Mud</td>\n",
       "      <td>TImber/Bamboo-Mud</td>\n",
       "      <td>Not attached</td>\n",
       "      <td>Rectangular</td>\n",
       "      <td>Stone, mud mortar</td>\n",
       "      <td>0</td>\n",
       "    </tr>\n",
       "    <tr>\n",
       "      <th>164098</th>\n",
       "      <td>45</td>\n",
       "      <td>290</td>\n",
       "      <td>13</td>\n",
       "      <td>Flat</td>\n",
       "      <td>Mud mortar-Stone/Brick</td>\n",
       "      <td>Bamboo/Timber-Light roof</td>\n",
       "      <td>Mud</td>\n",
       "      <td>TImber/Bamboo-Mud</td>\n",
       "      <td>Not attached</td>\n",
       "      <td>Rectangular</td>\n",
       "      <td>Stone, mud mortar</td>\n",
       "      <td>0</td>\n",
       "    </tr>\n",
       "    <tr>\n",
       "      <th>164103</th>\n",
       "      <td>21</td>\n",
       "      <td>230</td>\n",
       "      <td>13</td>\n",
       "      <td>Flat</td>\n",
       "      <td>Mud mortar-Stone/Brick</td>\n",
       "      <td>Bamboo/Timber-Light roof</td>\n",
       "      <td>Mud</td>\n",
       "      <td>TImber/Bamboo-Mud</td>\n",
       "      <td>Not attached</td>\n",
       "      <td>Rectangular</td>\n",
       "      <td>Stone, mud mortar</td>\n",
       "      <td>0</td>\n",
       "    </tr>\n",
       "  </tbody>\n",
       "</table>\n",
       "</div>"
      ],
      "text/plain": [
       "        age_building  plinth_area_sq_ft  height_ft_pre_eq  \\\n",
       "b_id                                                        \n",
       "164002            20                560                18   \n",
       "164081            21                200                12   \n",
       "164089            18                315                20   \n",
       "164098            45                290                13   \n",
       "164103            21                230                13   \n",
       "\n",
       "       land_surface_condition         foundation_type  \\\n",
       "b_id                                                    \n",
       "164002                   Flat  Mud mortar-Stone/Brick   \n",
       "164081                   Flat  Mud mortar-Stone/Brick   \n",
       "164089                   Flat  Mud mortar-Stone/Brick   \n",
       "164098                   Flat  Mud mortar-Stone/Brick   \n",
       "164103                   Flat  Mud mortar-Stone/Brick   \n",
       "\n",
       "                       roof_type ground_floor_type   other_floor_type  \\\n",
       "b_id                                                                    \n",
       "164002  Bamboo/Timber-Light roof               Mud  TImber/Bamboo-Mud   \n",
       "164081  Bamboo/Timber-Light roof               Mud  TImber/Bamboo-Mud   \n",
       "164089  Bamboo/Timber-Light roof               Mud  TImber/Bamboo-Mud   \n",
       "164098  Bamboo/Timber-Light roof               Mud  TImber/Bamboo-Mud   \n",
       "164103  Bamboo/Timber-Light roof               Mud  TImber/Bamboo-Mud   \n",
       "\n",
       "            position plan_configuration     superstructure  severe_damage  \n",
       "b_id                                                                       \n",
       "164002  Not attached        Rectangular  Stone, mud mortar              0  \n",
       "164081  Not attached        Rectangular  Stone, mud mortar              0  \n",
       "164089  Not attached        Rectangular  Stone, mud mortar              0  \n",
       "164098  Not attached        Rectangular  Stone, mud mortar              0  \n",
       "164103  Not attached        Rectangular  Stone, mud mortar              0  "
      ]
     },
     "execution_count": 4,
     "metadata": {},
     "output_type": "execute_result"
    }
   ],
   "source": [
    "df = wrangle(\"/home/jovyan/nepal.sqlite\")\n",
    "df.head()"
   ]
  },
  {
   "cell_type": "code",
   "execution_count": 5,
   "id": "325e89ff-f91f-4a96-8690-bc3fc936bd53",
   "metadata": {
    "deletable": false
   },
   "outputs": [],
   "source": [
    "# Check your work\n",
    "assert df.shape[0] == 70836, f\"`df` should have 70,836 rows, not {df.shape[0]}.\"\n",
    "assert df.shape[1] == 12, f\"`df` should have 12 columns, not {df.shape[1]}.\""
   ]
  },
  {
   "cell_type": "markdown",
   "id": "05b2c58b-e7d0-4883-9a24-082cd3a259a2",
   "metadata": {
    "deletable": false,
    "editable": false,
    "tags": []
   },
   "source": [
    "## Split"
   ]
  },
  {
   "cell_type": "markdown",
   "id": "0699190f-dffe-4769-acec-04b2bacca236",
   "metadata": {
    "deletable": false,
    "editable": false
   },
   "source": [
    "**Task 4.3.2:** Create your feature matrix `X` and target vector `y`. Your target is `\"severe_damage\"`. \n",
    "\n",
    "- [What's a <span id='term'>feature matrix</span>?](../%40textbook/15-ml-regression.ipynb#Linear-Regression)\n",
    "- [What's a <span id='term'>target vector</span>?](../%40textbook/15-ml-regression.ipynb#Linear-Regression)\n",
    "- [<span id='technique'>Subset a DataFrame by selecting one or more columns in <span id='tool'>pandas</span></span>.](../%40textbook/04-pandas-advanced.ipynb#Subset-a-DataFrame-by-Selecting-One-or-More-Columns) \n",
    "- [<span id='technique'>Select a Series from a DataFrame in <span id='tool'>pandas</span></span>.](../%40textbook/04-pandas-advanced.ipynb#Select-a-Series-from-a-DataFrame) "
   ]
  },
  {
   "cell_type": "code",
   "execution_count": 6,
   "id": "65a5a66f-511e-4e0a-9602-8634b22fdc31",
   "metadata": {
    "deletable": false
   },
   "outputs": [],
   "source": [
    "target = \"severe_damage\"\n",
    "X = df.drop(columns=\"severe_damage\")\n",
    "y = df[\"severe_damage\"]"
   ]
  },
  {
   "cell_type": "code",
   "execution_count": 7,
   "id": "de8d0db2-147a-4c63-adcc-c3d9cac61b26",
   "metadata": {
    "deletable": false
   },
   "outputs": [],
   "source": [
    "# Check your work\n",
    "assert X.shape == (70836, 11), f\"The shape of `X` should be (70836, 11), not {X.shape}.\"\n",
    "assert y.shape == (70836,), f\"The shape of `y` should be (70836,), not {y.shape}.\""
   ]
  },
  {
   "cell_type": "code",
   "execution_count": 8,
   "id": "89ee2ecd-2314-4d7e-b68b-2b7ade5e8acb",
   "metadata": {
    "deletable": false,
    "editable": false,
    "init_cell": true
   },
   "outputs": [
    {
     "data": {
      "text/html": [
       "\n",
       "        <iframe\n",
       "            width=\"600\"\n",
       "            height=\"300\"\n",
       "            src=\"https://player.vimeo.com/video/665415006?h=ecb1b87861\"\n",
       "            frameborder=\"0\"\n",
       "            allowfullscreen\n",
       "            \n",
       "        ></iframe>\n",
       "        "
      ],
      "text/plain": [
       "<IPython.lib.display.VimeoVideo at 0x7fbce099de80>"
      ]
     },
     "execution_count": 8,
     "metadata": {},
     "output_type": "execute_result"
    }
   ],
   "source": [
    "VimeoVideo(\"665415006\", h=\"ecb1b87861\", width=600)"
   ]
  },
  {
   "cell_type": "markdown",
   "id": "ad54e1dc-2066-4e73-bd68-150c9b5bceb6",
   "metadata": {
    "deletable": false,
    "editable": false
   },
   "source": [
    "**Task 4.3.3:** Divide your data (`X` and `y`) into training and test sets using a randomized train-test split. Your test set should be 20% of your total data. And don't forget to set a `random_state` for reproducibility. \n",
    "\n",
    "- [<span id='technique'>Perform a randomized train-test split using <span id='tool'>scikit-learn</span></span>.](../%40textbook/14-ml-classification.ipynb#Randomized-Train-Test-split)"
   ]
  },
  {
   "cell_type": "code",
   "execution_count": 9,
   "id": "76046b5f-370e-4128-8720-12647d353a41",
   "metadata": {
    "deletable": false
   },
   "outputs": [],
   "source": [
    "X_train, X_test, y_train, y_test = train_test_split(\n",
    "    X, y, test_size=0.2, random_state=1\n",
    ")"
   ]
  },
  {
   "cell_type": "code",
   "execution_count": 10,
   "id": "4adfdfa1-6f51-49b4-9f53-49641d7632ec",
   "metadata": {
    "deletable": false
   },
   "outputs": [],
   "source": [
    "# Check your work\n",
    "assert X_train.shape == (\n",
    "    56668,\n",
    "    11,\n",
    "), f\"The shape of `X_train` should be (56668, 11), not {X_train.shape}.\"\n",
    "assert y_train.shape == (\n",
    "    56668,\n",
    "), f\"The shape of `y_train` should be (56668,), not {y_train.shape}.\"\n",
    "assert X_test.shape == (\n",
    "    14168,\n",
    "    11,\n",
    "), f\"The shape of `X_test` should be (14168, 11), not {X_test.shape}.\"\n",
    "assert y_test.shape == (\n",
    "    14168,\n",
    "), f\"The shape of `y_test` should be (14168,), not {y_test.shape}.\""
   ]
  },
  {
   "cell_type": "markdown",
   "id": "5ba9c78e-a189-4c9c-89e3-0475c7b86c83",
   "metadata": {
    "deletable": false,
    "editable": false
   },
   "source": [
    "**Task 4.3.4:** Divide your training data (`X_train` and `y_train`) into training and validation sets using a randomized train-test split. Your validation data should be 20% of the remaining data. Don't forget to set a `random_state`.\n",
    "\n",
    "- [What's a <span id='term'>validation set</span>?](../%40textbook/14-ml-classification.ipynb#Randomized-Train-Test-split)\n",
    "- [<span id='technique'>Perform a randomized train-test split using <span id='tool'>scikit-learn</span></span>.](../%40textbook/14-ml-classification.ipynb#Randomized-Train-Test-split)"
   ]
  },
  {
   "cell_type": "code",
   "execution_count": 11,
   "id": "4a86074a-5c59-4119-9a4e-34c16d523ca9",
   "metadata": {
    "deletable": false
   },
   "outputs": [],
   "source": [
    "X_train, X_val, y_train, y_val = train_test_split(\n",
    "    X_train, y_train, test_size=0.2, random_state=1\n",
    ")"
   ]
  },
  {
   "cell_type": "code",
   "execution_count": 12,
   "id": "6ceaa139-04e0-4fc8-b4f6-4512d69dd5fe",
   "metadata": {
    "deletable": false
   },
   "outputs": [],
   "source": [
    "# Check your work\n",
    "assert X_train.shape == (\n",
    "    45334,\n",
    "    11,\n",
    "), f\"The shape of `X_train` should be (45334, 11), not {X_train.shape}.\"\n",
    "assert y_train.shape == (\n",
    "    45334,\n",
    "), f\"The shape of `y_train` should be (45334,), not {y_train.shape}.\"\n",
    "assert X_val.shape == (\n",
    "    11334,\n",
    "    11,\n",
    "), f\"The shape of `X_val` should be (11334, 11), not {X_val.shape}.\"\n",
    "assert y_val.shape == (\n",
    "    11334,\n",
    "), f\"The shape of `y_val` should be (11334,), not {y_val.shape}.\""
   ]
  },
  {
   "cell_type": "markdown",
   "id": "cf2a6fc1-690b-42b9-b60b-c63f91aabce9",
   "metadata": {
    "deletable": false,
    "editable": false,
    "tags": []
   },
   "source": [
    "# Build Model"
   ]
  },
  {
   "cell_type": "markdown",
   "id": "c70843c4-fbc3-4225-b093-9cf4b92e8c91",
   "metadata": {
    "deletable": false,
    "editable": false
   },
   "source": [
    "## Baseline"
   ]
  },
  {
   "cell_type": "markdown",
   "id": "0b51d01d-83a4-49a0-9583-19449d088ad6",
   "metadata": {
    "deletable": false,
    "editable": false
   },
   "source": [
    "**Task 4.3.5:** Calculate the baseline accuracy score for your model.\n",
    "\n",
    "- [What's <span id='tool'>accuracy score</span>?](../%40textbook/14-ml-classification.ipynb#Calculating-Accuracy-Score)\n",
    "- [<span id='technique'>Aggregate data in a Series using `value_counts` in <span id='tool'>pandas</span></span>.](../%40textbook/04-pandas-advanced.ipynb#Working-with-value_counts-in-a-Series)"
   ]
  },
  {
   "cell_type": "code",
   "execution_count": 13,
   "id": "70fc8e34-a25f-42a7-af9d-76161a35dbed",
   "metadata": {
    "deletable": false
   },
   "outputs": [
    {
     "name": "stdout",
     "output_type": "stream",
     "text": [
      "Baseline Accuracy: 0.64\n"
     ]
    }
   ],
   "source": [
    "acc_baseline = y_train.value_counts(normalize=True).max()\n",
    "print(\"Baseline Accuracy:\", round(acc_baseline, 2))"
   ]
  },
  {
   "cell_type": "markdown",
   "id": "b6e3aa6e-03ea-4b05-9997-7886b2fef482",
   "metadata": {
    "deletable": false,
    "editable": false,
    "tags": []
   },
   "source": [
    "## Iterate"
   ]
  },
  {
   "cell_type": "code",
   "execution_count": 15,
   "id": "890ae56d-c99d-4e22-b92c-8661b7ced1c1",
   "metadata": {
    "deletable": false,
    "editable": false,
    "init_cell": true
   },
   "outputs": [
    {
     "data": {
      "text/html": [
       "\n",
       "        <iframe\n",
       "            width=\"600\"\n",
       "            height=\"300\"\n",
       "            src=\"https://player.vimeo.com/video/665415061?h=6250826047\"\n",
       "            frameborder=\"0\"\n",
       "            allowfullscreen\n",
       "            \n",
       "        ></iframe>\n",
       "        "
      ],
      "text/plain": [
       "<IPython.lib.display.VimeoVideo at 0x7fbce0e72a90>"
      ]
     },
     "execution_count": 15,
     "metadata": {},
     "output_type": "execute_result"
    }
   ],
   "source": [
    "VimeoVideo(\"665415061\", h=\"6250826047\", width=600)"
   ]
  },
  {
   "cell_type": "code",
   "execution_count": 16,
   "id": "f5be024c-55cb-4dfb-8469-f80529fab56f",
   "metadata": {
    "deletable": false,
    "editable": false,
    "init_cell": true
   },
   "outputs": [
    {
     "data": {
      "text/html": [
       "\n",
       "        <iframe\n",
       "            width=\"600\"\n",
       "            height=\"300\"\n",
       "            src=\"https://player.vimeo.com/video/665415109?h=b3bb82651d\"\n",
       "            frameborder=\"0\"\n",
       "            allowfullscreen\n",
       "            \n",
       "        ></iframe>\n",
       "        "
      ],
      "text/plain": [
       "<IPython.lib.display.VimeoVideo at 0x7fbcdc57d580>"
      ]
     },
     "execution_count": 16,
     "metadata": {},
     "output_type": "execute_result"
    }
   ],
   "source": [
    "VimeoVideo(\"665415109\", h=\"b3bb82651d\", width=600)"
   ]
  },
  {
   "cell_type": "markdown",
   "id": "066ff773-54ec-4314-aaeb-fcfff62ba600",
   "metadata": {
    "deletable": false,
    "editable": false
   },
   "source": [
    "**Task 4.3.6:** Create a pipeline named `model` that contains a `OrdinalEncoder` transformer and a `DecisionTreeClassifier` predictor. (Be sure to set a `random_state` for your predictor.) Then fit your model to the training data. \n",
    "\n",
    "- [What's a <span id='term'>decision tree</span>?](../%40textbook/14-ml-classification.ipynb#Decision-Trees)\n",
    "- [What's <span id='term'>ordinal encoding</span>?](../%40textbook/13-ml-data-pre-processing-and-production.ipynb#Ordinal-Encoding)\n",
    "- [<span id='technique'>Create a pipeline in <span id='tool'>scikit-learn</span></span>.](../%40textbook/13-ml-data-pre-processing-and-production.ipynb#Creating-a-Pipeline-in-scikit-learn)\n",
    "- [<span id='technique'>Fit a model to training data in <span id='tool'>scikit-learn</span></span>.](../%40textbook/15-ml-regression.ipynb#Fitting-a-Model-to-Training-Data)"
   ]
  },
  {
   "cell_type": "code",
   "execution_count": 18,
   "id": "4d05d9d5-54a4-43e7-9d4a-077b0f4f9066",
   "metadata": {
    "deletable": false
   },
   "outputs": [
    {
     "data": {
      "text/plain": [
       "Pipeline(steps=[('ordinalencoder',\n",
       "                 OrdinalEncoder(cols=['land_surface_condition',\n",
       "                                      'foundation_type', 'roof_type',\n",
       "                                      'ground_floor_type', 'other_floor_type',\n",
       "                                      'position', 'plan_configuration',\n",
       "                                      'superstructure'],\n",
       "                                mapping=[{'col': 'land_surface_condition',\n",
       "                                          'data_type': dtype('O'),\n",
       "                                          'mapping': Moderate slope    1\n",
       "Flat              2\n",
       "Steep slope       3\n",
       "NaN              -2\n",
       "dtype: int64},\n",
       "                                         {'col': 'foundation_type',\n",
       "                                          'dat...\n",
       "U-shape                             7\n",
       "H-shape                             8\n",
       "E-shape                             9\n",
       "Building with Central Courtyard    10\n",
       "NaN                                -2\n",
       "dtype: int64},\n",
       "                                         {'col': 'superstructure',\n",
       "                                          'data_type': dtype('O'),\n",
       "                                          'mapping': Stone, mud mortar        1\n",
       "Brick, mud mortar        2\n",
       "Stone                    3\n",
       "Stone, cement mortar     4\n",
       "Brick, cement mortar     5\n",
       "RC, non-engineered       6\n",
       "RC, engineered           7\n",
       "Adobe/mud                8\n",
       "Timber                   9\n",
       "Other                   10\n",
       "Bamboo                  11\n",
       "NaN                     -2\n",
       "dtype: int64}])),\n",
       "                ('decisiontreeclassifier',\n",
       "                 DecisionTreeClassifier(random_state=1))])"
      ]
     },
     "execution_count": 18,
     "metadata": {},
     "output_type": "execute_result"
    }
   ],
   "source": [
    "# Build Model\n",
    "model = make_pipeline(\n",
    "    OrdinalEncoder(),\n",
    "    DecisionTreeClassifier(random_state=1)\n",
    "    \n",
    ")\n",
    "# Fit model to training data\n",
    "model.fit(X_train, y_train)"
   ]
  },
  {
   "cell_type": "code",
   "execution_count": 19,
   "id": "7b62786e-6d4e-42af-9701-3ad42679220d",
   "metadata": {
    "deletable": false
   },
   "outputs": [],
   "source": [
    "# Check your work\n",
    "assert isinstance(\n",
    "    model, Pipeline\n",
    "), f\"`model` should be a Pipeline, not type {type(model)}.\"\n",
    "assert isinstance(\n",
    "    model[0], OrdinalEncoder\n",
    "), f\"The first step in your Pipeline should be an OrdinalEncoder, not type {type(model[0])}.\"\n",
    "assert isinstance(\n",
    "    model[-1], DecisionTreeClassifier\n",
    "), f\"The last step in your Pipeline should be an DecisionTreeClassifier, not type {type(model[-1])}.\"\n",
    "check_is_fitted(model)"
   ]
  },
  {
   "cell_type": "code",
   "execution_count": 20,
   "id": "29301d5b-b0bf-4514-a46c-34b70998d340",
   "metadata": {
    "deletable": false,
    "editable": false,
    "init_cell": true
   },
   "outputs": [
    {
     "data": {
      "text/html": [
       "\n",
       "        <iframe\n",
       "            width=\"600\"\n",
       "            height=\"300\"\n",
       "            src=\"https://player.vimeo.com/video/665415153?h=f0ec320955\"\n",
       "            frameborder=\"0\"\n",
       "            allowfullscreen\n",
       "            \n",
       "        ></iframe>\n",
       "        "
      ],
      "text/plain": [
       "<IPython.lib.display.VimeoVideo at 0x7fbcdef37d90>"
      ]
     },
     "execution_count": 20,
     "metadata": {},
     "output_type": "execute_result"
    }
   ],
   "source": [
    "VimeoVideo(\"665415153\", h=\"f0ec320955\", width=600)"
   ]
  },
  {
   "cell_type": "markdown",
   "id": "0a9b5321-af28-4f8b-86c0-d833f93c6ed8",
   "metadata": {
    "deletable": false,
    "editable": false
   },
   "source": [
    "**Task 4.3.7:** Calculate the training and validation accuracy scores for your models. \n",
    "\n",
    "- [<span id='technique'>Calculate the accuracy score for a model in <span id='term'>scikit-learn</span></span>.](../%40textbook/14-ml-classification.ipynb#Calculating-Accuracy-Score)\n",
    "- [<span id='technique'>Generate predictions using a trained model in <span id='term'>scikit-learn</span></span>.](../%40textbook/15-ml-regression.ipynb#Generating-Predictions-Using-a-Trained-Model)"
   ]
  },
  {
   "cell_type": "code",
   "execution_count": 21,
   "id": "e0d69484-3693-4c6b-a107-3063dcdaae29",
   "metadata": {
    "deletable": false
   },
   "outputs": [
    {
     "name": "stdout",
     "output_type": "stream",
     "text": [
      "Training Accuracy: 0.98\n",
      "Validation Accuracy: 0.64\n"
     ]
    }
   ],
   "source": [
    "acc_train = accuracy_score(y_train, model.predict(X_train))\n",
    "acc_val = model.score(X_test, y_test)\n",
    "\n",
    "print(\"Training Accuracy:\", round(acc_train, 2))\n",
    "print(\"Validation Accuracy:\", round(acc_val, 2))"
   ]
  },
  {
   "cell_type": "code",
   "execution_count": 22,
   "id": "27100046-4dbe-4c1a-bb2d-9ad92512e688",
   "metadata": {
    "deletable": false,
    "editable": false,
    "init_cell": true
   },
   "outputs": [
    {
     "data": {
      "text/html": [
       "\n",
       "        <iframe\n",
       "            width=\"600\"\n",
       "            height=\"300\"\n",
       "            src=\"https://player.vimeo.com/video/665415169?h=44702fc696\"\n",
       "            frameborder=\"0\"\n",
       "            allowfullscreen\n",
       "            \n",
       "        ></iframe>\n",
       "        "
      ],
      "text/plain": [
       "<IPython.lib.display.VimeoVideo at 0x7fbcdefacf70>"
      ]
     },
     "execution_count": 22,
     "metadata": {},
     "output_type": "execute_result"
    }
   ],
   "source": [
    "VimeoVideo(\"665415169\", h=\"44702fc696\", width=600)"
   ]
  },
  {
   "cell_type": "markdown",
   "id": "830f879d-52bb-4f7e-ba6c-a272340e0031",
   "metadata": {
    "deletable": false,
    "editable": false
   },
   "source": [
    "**Task 4.3.8:** Use the [`get_depth`](https://scikit-learn.org/stable/modules/generated/sklearn.tree.DecisionTreeClassifier.html#sklearn.tree.DecisionTreeClassifier.get_depth) method on the `DecisionTreeClassifier` in your model to see how deep your tree grew during training. \n",
    "\n",
    "- [<span id='technique'>Access an object in a pipeline in <span id='tool'>scikit-learn</span></span>.](../%40textbook/13-ml-data-pre-processing-and-production.ipynb#Accessing-an-Object-in-a-Pipeline)"
   ]
  },
  {
   "cell_type": "code",
   "execution_count": 23,
   "id": "7abbc1af-d46d-4975-b4d8-3a93832da7f0",
   "metadata": {
    "deletable": false
   },
   "outputs": [
    {
     "name": "stdout",
     "output_type": "stream",
     "text": [
      "Tree Depth: 48\n"
     ]
    }
   ],
   "source": [
    "tree_depth = model.named_steps[\"decisiontreeclassifier\"].get_depth()\n",
    "print(\"Tree Depth:\", tree_depth)"
   ]
  },
  {
   "cell_type": "code",
   "execution_count": 24,
   "id": "24011e53-75ce-40e2-93f7-315333e473dd",
   "metadata": {
    "deletable": false,
    "editable": false,
    "init_cell": true
   },
   "outputs": [
    {
     "data": {
      "text/html": [
       "\n",
       "        <iframe\n",
       "            width=\"600\"\n",
       "            height=\"300\"\n",
       "            src=\"https://player.vimeo.com/video/665415186?h=c4ce187170\"\n",
       "            frameborder=\"0\"\n",
       "            allowfullscreen\n",
       "            \n",
       "        ></iframe>\n",
       "        "
      ],
      "text/plain": [
       "<IPython.lib.display.VimeoVideo at 0x7fbcdd6cbd30>"
      ]
     },
     "execution_count": 24,
     "metadata": {},
     "output_type": "execute_result"
    }
   ],
   "source": [
    "VimeoVideo(\"665415186\", h=\"c4ce187170\", width=600)"
   ]
  },
  {
   "cell_type": "markdown",
   "id": "8276ab78-eebf-4127-855b-011728908036",
   "metadata": {
    "deletable": false,
    "editable": false
   },
   "source": [
    "**Task 4.3.9:** Create a range of possible values for `max_depth` hyperparameter of your model's `DecisionTreeClassifier`. `depth_hyperparams` should range from `1` to `50` by steps of `2`.\n",
    "\n",
    "- [What's an <span id='term'>iterator</span>?](../%40textbook/02-python-advanced.ipynb#Iterators-and-Iterables-)\n",
    "- [<span id='technique'>Create a range in <span id='tool'>Python</span></span>.](../%40textbook/17-ts-models.ipynb#Hyperparameters)"
   ]
  },
  {
   "cell_type": "code",
   "execution_count": 25,
   "id": "32481a79-206a-4842-a9f0-067cd1777f89",
   "metadata": {
    "deletable": false
   },
   "outputs": [],
   "source": [
    "depth_hyperparams = range(1, 50, 2)"
   ]
  },
  {
   "cell_type": "code",
   "execution_count": 26,
   "id": "481670d3-fdb7-4f4e-8240-ab077642146e",
   "metadata": {
    "deletable": false
   },
   "outputs": [],
   "source": [
    "# Check your work\n",
    "assert (\n",
    "    len(list(depth_hyperparams)) == 25\n",
    "), f\"`depth_hyperparams` should contain 25 items, not {len(list(depth_hyperparams))}.\"\n",
    "assert (\n",
    "    list(depth_hyperparams)[0] == 1\n",
    "), f\"`depth_hyperparams` should begin at 1, not {list(depth_hyperparams)[0]}.\"\n",
    "assert (\n",
    "    list(depth_hyperparams)[-1] == 49\n",
    "), f\"`depth_hyperparams` should end at 49, not {list(depth_hyperparams)[-1]}.\""
   ]
  },
  {
   "cell_type": "code",
   "execution_count": 27,
   "id": "22a4ad6d-31d5-4f8a-bd9f-1ab5c0d40252",
   "metadata": {
    "deletable": false,
    "editable": false,
    "init_cell": true
   },
   "outputs": [
    {
     "data": {
      "text/html": [
       "\n",
       "        <iframe\n",
       "            width=\"600\"\n",
       "            height=\"300\"\n",
       "            src=\"https://player.vimeo.com/video/665415198?h=b4b85c3308\"\n",
       "            frameborder=\"0\"\n",
       "            allowfullscreen\n",
       "            \n",
       "        ></iframe>\n",
       "        "
      ],
      "text/plain": [
       "<IPython.lib.display.VimeoVideo at 0x7fbcdec21a30>"
      ]
     },
     "execution_count": 27,
     "metadata": {},
     "output_type": "execute_result"
    }
   ],
   "source": [
    "VimeoVideo(\"665415198\", h=\"b4b85c3308\", width=600)"
   ]
  },
  {
   "cell_type": "markdown",
   "id": "f0d09f37-0f63-48cf-8be3-6024d5204af2",
   "metadata": {
    "deletable": false,
    "editable": false
   },
   "source": [
    "**Task 4.3.10:** Complete the code below so that it trains a model for every `max_depth` in `depth_hyperparams`. Every time a new model is trained, the code should also calculate the training and validation accuracy scores and append them to the `training_acc` and `validation_acc` lists, respectively. \n",
    "\n",
    "- [<span id='technique'>Append an item to a list in <span id='tool'>Python</span></span>.](../%40textbook/01-python-getting-started.ipynb#Appending-Items)\n",
    "- [<span id='technique'>Create a pipeline in <span id='tool'>scikit-learn</span></span>.](../%40textbook/13-ml-data-pre-processing-and-production.ipynb#Creating-a-Pipeline-in-scikit-learn)\n",
    "- [<span id='technique'>Fit a model to training data in <span id='tool'>scikit-learn</span></span>.](../%40textbook/15-ml-regression.ipynb#Fitting-a-Model-to-Training-Data)\n",
    "- [<span id='technique'>Write a for loop in <span id='tool'>Python</span></span>.](../%40textbook/01-python-getting-started.ipynb#Python-for-Loops)"
   ]
  },
  {
   "cell_type": "code",
   "execution_count": 33,
   "id": "504732b1-8dc8-4731-9842-014d1d5bb67b",
   "metadata": {
    "deletable": false
   },
   "outputs": [
    {
     "name": "stdout",
     "output_type": "stream",
     "text": [
      "Training Accuracy Scores: [0.7037984735518595, 0.709092513345392, 0.7125556977103278]\n",
      "Validation Accuracy Scores: [0.7048703017469561, 0.7092818069525322, 0.7107817187224281]\n"
     ]
    }
   ],
   "source": [
    "# Create empty lists for training and validation accuracy scores\n",
    "training_acc = []\n",
    "validation_acc = []\n",
    "\n",
    "for d in depth_hyperparams:\n",
    "    # Create model with `max_depth` of `d`\n",
    "    test_model = make_pipeline(\n",
    "        OrdinalEncoder(), DecisionTreeClassifier(max_depth = d, random_state=1)\n",
    "    )\n",
    "    # Fit model to training data\n",
    "    test_model.fit(X_train, y_train)\n",
    "    # Calculate training accuracy score and append to `training_acc`\n",
    "    training_acc.append(test_model.score(X_train, y_train))\n",
    "    # Calculate validation accuracy score and append to `training_acc`\n",
    "    validation_acc.append(test_model.score(X_val, y_val))\n",
    "\n",
    "print(\"Training Accuracy Scores:\", training_acc[:3])\n",
    "print(\"Validation Accuracy Scores:\", validation_acc[:3])"
   ]
  },
  {
   "cell_type": "code",
   "execution_count": 29,
   "id": "595645c5-bbf8-4b72-a100-85009e88084a",
   "metadata": {
    "deletable": false
   },
   "outputs": [],
   "source": [
    "# Check your work\n",
    "assert (\n",
    "    len(training_acc) == 25\n",
    "), f\"`training_acc` should contain 25 items, not {len(training_acc)}.\"\n",
    "assert (\n",
    "    len(validation_acc) == 25\n",
    "), f\"`validation_acc` should contain 25 items, not {len(validation_acc)}.\""
   ]
  },
  {
   "cell_type": "code",
   "execution_count": 30,
   "id": "d3178eb0-8bcf-4e07-9c37-d3b942bd9915",
   "metadata": {
    "deletable": false,
    "editable": false,
    "init_cell": true
   },
   "outputs": [
    {
     "data": {
      "text/html": [
       "\n",
       "        <iframe\n",
       "            width=\"600\"\n",
       "            height=\"300\"\n",
       "            src=\"https://player.vimeo.com/video/665415236?h=51d4be13fa\"\n",
       "            frameborder=\"0\"\n",
       "            allowfullscreen\n",
       "            \n",
       "        ></iframe>\n",
       "        "
      ],
      "text/plain": [
       "<IPython.lib.display.VimeoVideo at 0x7fbcdd4a28e0>"
      ]
     },
     "execution_count": 30,
     "metadata": {},
     "output_type": "execute_result"
    }
   ],
   "source": [
    "VimeoVideo(\"665415236\", h=\"51d4be13fa\", width=600)"
   ]
  },
  {
   "cell_type": "markdown",
   "id": "e1f295a9-2c10-4d8f-8548-bfc7b20d641b",
   "metadata": {
    "deletable": false,
    "editable": false
   },
   "source": [
    "**Task 4.3.11:** Create a visualization with two lines. The first line should plot the `training_acc` values as a function of `depth_hyperparams`, and the second should plot `validation_acc` as a function of `depth_hyperparams`. You x-axis should be labeled `\"Max Depth\"`, and the y-axis `\"Accuracy Score\"`. Also include a legend so that your audience can distinguish between the two lines. \n",
    "\n",
    "- [What's a <span id='term'>line plot</span>?](../%40textbook/07-visualization-pandas.ipynb#Line-Plots)\n",
    "- [<span id='technique'>Create a line plot in <span id='tool'>Matplotlib</span></span>.](../%40textbook/07-visualization-pandas.ipynb#Line-Plots)"
   ]
  },
  {
   "cell_type": "code",
   "execution_count": 34,
   "id": "cf11cadd-37f8-4011-a13b-0a1ca4b5b051",
   "metadata": {
    "deletable": false
   },
   "outputs": [
    {
     "data": {
      "text/plain": [
       "Text(0, 0.5, 'Accuracy Score')"
      ]
     },
     "execution_count": 34,
     "metadata": {},
     "output_type": "execute_result"
    },
    {
     "data": {
      "image/png": "[encoded data removed]",
      "text/plain": [
       "<Figure size 432x288 with 1 Axes>"
      ]
     },
     "metadata": {
      "needs_background": "light"
     },
     "output_type": "display_data"
    }
   ],
   "source": [
    "# Plot `depth_hyperparams`, `training_acc`\n",
    "plt.plot(depth_hyperparams, training_acc, label=\"training\")\n",
    "plt.plot(depth_hyperparams, validation_acc, label=\"validation\")\n",
    "plt.xlabel(\"Max Depth\")\n",
    "plt.ylabel(\"Accuracy Score\")"
   ]
  },
  {
   "cell_type": "markdown",
   "id": "809c2c3c",
   "metadata": {
    "deletable": false,
    "editable": false
   },
   "source": [
    "## Evaluate"
   ]
  },
  {
   "cell_type": "code",
   "execution_count": 37,
   "id": "6d50688b-0b49-416b-a128-92317cbdebcc",
   "metadata": {
    "deletable": false,
    "editable": false,
    "init_cell": true
   },
   "outputs": [
    {
     "data": {
      "text/html": [
       "\n",
       "        <iframe\n",
       "            width=\"600\"\n",
       "            height=\"300\"\n",
       "            src=\"https://player.vimeo.com/video/665415255?h=573e9cfd74\"\n",
       "            frameborder=\"0\"\n",
       "            allowfullscreen\n",
       "            \n",
       "        ></iframe>\n",
       "        "
      ],
      "text/plain": [
       "<IPython.lib.display.VimeoVideo at 0x7fbcdd999070>"
      ]
     },
     "execution_count": 37,
     "metadata": {},
     "output_type": "execute_result"
    }
   ],
   "source": [
    "VimeoVideo(\"665415255\", h=\"573e9cfd74\", width=600)"
   ]
  },
  {
   "cell_type": "markdown",
   "id": "41ab6e8a-9e99-488f-ad93-11acf8e802a8",
   "metadata": {
    "deletable": false,
    "editable": false
   },
   "source": [
    "**Task 4.3.12:** Based on your visualization, choose the `max_depth` value that leads to the best validation accuracy score. Then retrain your original model with that `max_depth` value. Lastly, check how your tuned model performs on your test set by calculating the test accuracy score below. Were you able to resolve the overfitting problem with this new `max_depth`?\n",
    "\n",
    "- [<span id='technique'>Calculate the accuracy score for a model in <span id='term'>scikit-learn</span></span>.](../%40textbook/14-ml-classification.ipynb#Calculating-Accuracy-Score)\n",
    "- [<span id='technique'>Generate predictions using a trained model in <span id='term'>scikit-learn</span></span>.](../%40textbook/15-ml-regression.ipynb#Generating-Predictions-Using-a-Trained-Model)"
   ]
  },
  {
   "cell_type": "code",
   "execution_count": 42,
   "id": "03a1dd41-60c6-40fc-ac65-96087ec1325b",
   "metadata": {},
   "outputs": [
    {
     "data": {
      "text/plain": [
       "Pipeline(steps=[('ordinalencoder',\n",
       "                 OrdinalEncoder(cols=['land_surface_condition',\n",
       "                                      'foundation_type', 'roof_type',\n",
       "                                      'ground_floor_type', 'other_floor_type',\n",
       "                                      'position', 'plan_configuration',\n",
       "                                      'superstructure'],\n",
       "                                mapping=[{'col': 'land_surface_condition',\n",
       "                                          'data_type': dtype('O'),\n",
       "                                          'mapping': Moderate slope    1\n",
       "Flat              2\n",
       "Steep slope       3\n",
       "NaN              -2\n",
       "dtype: int64},\n",
       "                                         {'col': 'foundation_type',\n",
       "                                          'dat...\n",
       "E-shape                             9\n",
       "Building with Central Courtyard    10\n",
       "NaN                                -2\n",
       "dtype: int64},\n",
       "                                         {'col': 'superstructure',\n",
       "                                          'data_type': dtype('O'),\n",
       "                                          'mapping': Stone, mud mortar        1\n",
       "Brick, mud mortar        2\n",
       "Stone                    3\n",
       "Stone, cement mortar     4\n",
       "Brick, cement mortar     5\n",
       "RC, non-engineered       6\n",
       "RC, engineered           7\n",
       "Adobe/mud                8\n",
       "Timber                   9\n",
       "Other                   10\n",
       "Bamboo                  11\n",
       "NaN                     -2\n",
       "dtype: int64}])),\n",
       "                ('decisiontreeclassifier',\n",
       "                 DecisionTreeClassifier(max_depth=8, random_state=1))])"
      ]
     },
     "execution_count": 42,
     "metadata": {},
     "output_type": "execute_result"
    }
   ],
   "source": [
    "fin_model = make_pipeline(\n",
    "        OrdinalEncoder(), DecisionTreeClassifier(max_depth = 8, random_state=1)\n",
    "    )\n",
    "fin_model.fit(X_train, y_train)"
   ]
  },
  {
   "cell_type": "code",
   "execution_count": 43,
   "id": "9f6e4bc3-107c-4f1a-804f-f05bc450ddac",
   "metadata": {},
   "outputs": [],
   "source": [
    "acc_train = accuracy_score(y_train, model.predict(X_train))\n",
    "acc_val = model.score(X_test, y_test)"
   ]
  },
  {
   "cell_type": "code",
   "execution_count": 44,
   "id": "703bd589-6ae7-47c0-a7ce-63bd836f24cd",
   "metadata": {},
   "outputs": [
    {
     "data": {
      "text/plain": [
       "0.6437041219649915"
      ]
     },
     "execution_count": 44,
     "metadata": {},
     "output_type": "execute_result"
    }
   ],
   "source": [
    "acc_val"
   ]
  },
  {
   "cell_type": "code",
   "execution_count": 45,
   "id": "7d82c732-0f80-4462-8c4d-0455a6706741",
   "metadata": {
    "deletable": false
   },
   "outputs": [
    {
     "name": "stdout",
     "output_type": "stream",
     "text": [
      "Test Accuracy: 0.72\n"
     ]
    }
   ],
   "source": [
    "test_acc = fin_model.score(X_test, y_test)\n",
    "print(\"Test Accuracy:\", round(test_acc, 2))"
   ]
  },
  {
   "cell_type": "markdown",
   "id": "aae12723",
   "metadata": {
    "deletable": false,
    "editable": false
   },
   "source": [
    "# Communicate"
   ]
  },
  {
   "cell_type": "code",
   "execution_count": 46,
   "id": "919fce9d-2e3d-41ad-9d72-408c5eaf47a0",
   "metadata": {
    "deletable": false,
    "editable": false,
    "init_cell": true
   },
   "outputs": [
    {
     "data": {
      "text/html": [
       "\n",
       "        <iframe\n",
       "            width=\"600\"\n",
       "            height=\"300\"\n",
       "            src=\"https://player.vimeo.com/video/665415275?h=880366a826\"\n",
       "            frameborder=\"0\"\n",
       "            allowfullscreen\n",
       "            \n",
       "        ></iframe>\n",
       "        "
      ],
      "text/plain": [
       "<IPython.lib.display.VimeoVideo at 0x7fbcdd9a24c0>"
      ]
     },
     "execution_count": 46,
     "metadata": {},
     "output_type": "execute_result"
    }
   ],
   "source": [
    "VimeoVideo(\"665415275\", h=\"880366a826\", width=600)"
   ]
  },
  {
   "cell_type": "markdown",
   "id": "6d9a6162-66af-4fa0-8018-ded8a49718be",
   "metadata": {
    "deletable": false,
    "editable": false
   },
   "source": [
    "**Task 4.3.13:** Complete the code below to use the [`plot_tree`](https://scikit-learn.org/stable/modules/generated/sklearn.tree.plot_tree.html) function from scikit-learn to visualize the decision logic of your model. \n",
    "\n",
    "- [<span id='technique'>Plot a decision tree using <span id='tool'>scikit-learn</span></span>.](../%40textbook/14-ml-classification.ipynb#Plotting-a-Decision-Tree)"
   ]
  },
  {
   "cell_type": "code",
   "execution_count": 48,
   "id": "27a1ef60-b5e0-4e84-8905-e3b4f855ebab",
   "metadata": {
    "deletable": false
   },
   "outputs": [
    {
     "data": {
      "image/png": "[encoded data removed]",
      "text/plain": [
       "<Figure size 1800x864 with 1 Axes>"
      ]
     },
     "metadata": {
      "needs_background": "light"
     },
     "output_type": "display_data"
    }
   ],
   "source": [
    "# Create larger figure\n",
    "fig, ax = plt.subplots(figsize=(25, 12))\n",
    "# Plot tree\n",
    "plot_tree(\n",
    "    decision_tree=model.named_steps[\"decisiontreeclassifier\"],\n",
    "    feature_names=X_train.columns,\n",
    "    filled=True,  # Color leaf with class\n",
    "    rounded=True,  # Round leaf edges\n",
    "    proportion=True,  # Display proportion of classes in leaf\n",
    "    max_depth=3,  # Only display first 3 levels\n",
    "    fontsize=12,  # Enlarge font\n",
    "    ax=ax,  # Place in figure axis\n",
    ");"
   ]
  },
  {
   "cell_type": "code",
   "execution_count": 49,
   "id": "b6f57604-3698-407a-8de2-db979de05e72",
   "metadata": {
    "deletable": false,
    "editable": false,
    "init_cell": true
   },
   "outputs": [
    {
     "data": {
      "text/html": [
       "\n",
       "        <iframe\n",
       "            width=\"600\"\n",
       "            height=\"300\"\n",
       "            src=\"https://player.vimeo.com/video/665415304?h=c7eeac08c9\"\n",
       "            frameborder=\"0\"\n",
       "            allowfullscreen\n",
       "            \n",
       "        ></iframe>\n",
       "        "
      ],
      "text/plain": [
       "<IPython.lib.display.VimeoVideo at 0x7fbcdd713d60>"
      ]
     },
     "execution_count": 49,
     "metadata": {},
     "output_type": "execute_result"
    }
   ],
   "source": [
    "VimeoVideo(\"665415304\", h=\"c7eeac08c9\", width=600)"
   ]
  },
  {
   "cell_type": "markdown",
   "id": "d39b7687-6a8b-42bf-83b8-693ec58ec685",
   "metadata": {
    "deletable": false,
    "editable": false
   },
   "source": [
    "**Task 4.3.14:** Assign the feature names and importances of your model to the variables below. For the `features`, you can get them from the column names in your training set. For the `importances`, you access the [`feature_importances_`](https://scikit-learn.org/stable/modules/generated/sklearn.tree.DecisionTreeClassifier.html#sklearn.tree.DecisionTreeClassifier.feature_importances_) attribute of your model's `DecisionTreeClassifier`. \n",
    "\n",
    "- [<span id='technique'>Access an object in a pipeline in <span id='tool'>scikit-learn</span></span>.](../%40textbook/13-ml-data-pre-processing-and-production.ipynb#Accessing-an-Object-in-a-Pipeline)"
   ]
  },
  {
   "cell_type": "code",
   "execution_count": 50,
   "id": "a0ad2232-eec8-4a46-af26-cb9fd4068fc8",
   "metadata": {
    "deletable": false
   },
   "outputs": [
    {
     "name": "stdout",
     "output_type": "stream",
     "text": [
      "Features: Index(['age_building', 'plinth_area_sq_ft', 'height_ft_pre_eq'], dtype='object')\n",
      "Importances: [0.25594478 0.37565889 0.07216076]\n"
     ]
    }
   ],
   "source": [
    "features = X_train.columns\n",
    "importances = model.named_steps[\"decisiontreeclassifier\"].feature_importances_\n",
    "\n",
    "print(\"Features:\", features[:3])\n",
    "print(\"Importances:\", importances[:3])"
   ]
  },
  {
   "cell_type": "code",
   "execution_count": 51,
   "id": "a43a03a4-d19f-41f2-9601-2d7f496c922c",
   "metadata": {
    "deletable": false
   },
   "outputs": [],
   "source": [
    "# Check your work\n",
    "assert len(features) == 11, f\"`features` should contain 11 items, not {len(features)}.\"\n",
    "assert (\n",
    "    len(importances) == 11\n",
    "), f\"`importances` should contain 11 items, not {len(importances)}.\""
   ]
  },
  {
   "cell_type": "markdown",
   "id": "c36a7198-2354-4ec2-a35a-921a7316e43d",
   "metadata": {
    "deletable": false,
    "editable": false
   },
   "source": [
    "**Task 4.3.15:** Create a pandas Series named `feat_imp`, where the index is `features` and the values are your `importances`. The Series should be sorted from smallest to largest importance.\n",
    "\n",
    "- [<span id='technique'>Create a Series in <span id='tool'>pandas</span></span>.](../%40textbook/03-pandas-getting-started.ipynb#Adding-Columns)"
   ]
  },
  {
   "cell_type": "code",
   "execution_count": 52,
   "id": "1dc152b6-4781-403f-a67b-1c5cc5ef4e30",
   "metadata": {
    "deletable": false
   },
   "outputs": [
    {
     "data": {
      "text/plain": [
       "age_building              0.255945\n",
       "plinth_area_sq_ft         0.375659\n",
       "height_ft_pre_eq          0.072161\n",
       "land_surface_condition    0.029891\n",
       "foundation_type           0.018166\n",
       "dtype: float64"
      ]
     },
     "execution_count": 52,
     "metadata": {},
     "output_type": "execute_result"
    }
   ],
   "source": [
    "feat_imp = pd.Series(importances, index=features)\n",
    "feat_imp.head()"
   ]
  },
  {
   "cell_type": "code",
   "execution_count": 53,
   "id": "5dd75215-a5d4-4da1-91ad-84ca6a3f4e36",
   "metadata": {
    "deletable": false
   },
   "outputs": [],
   "source": [
    "# Check your work\n",
    "assert isinstance(\n",
    "    feat_imp, pd.Series\n",
    "), f\"`feat_imp` should be a Series, not {type(feat_imp)}.\"\n",
    "assert feat_imp.shape == (\n",
    "    11,\n",
    "), f\"`feat_imp` should have shape (11,), not {feat_imp.shape}.\""
   ]
  },
  {
   "cell_type": "code",
   "execution_count": null,
   "id": "b981cd13-b283-46fb-831b-2ac1822c2211",
   "metadata": {
    "deletable": false,
    "editable": false,
    "init_cell": true
   },
   "outputs": [],
   "source": [
    "VimeoVideo(\"665415316\", h=\"0dd9004477\", width=600)"
   ]
  },
  {
   "cell_type": "markdown",
   "id": "5a246622-3962-4309-bcb5-85f13adde3f1",
   "metadata": {
    "deletable": false,
    "editable": false
   },
   "source": [
    "**Task 4.3.16:** Create a horizontal bar chart with all the features in `feat_imp`. Be sure to label your x-axis `\"Gini Importance\"`.\n",
    "\n",
    "- [What's a <span id='term'>bar chart</span>?](../%40textbook/07-visualization-pandas.ipynb#Bar-Charts)\n",
    "- [<span id='technique'>Create a bar chart using <span id='tool'>pandas</span></span>.](../%40textbook/07-visualization-pandas.ipynb#Bar-Charts)"
   ]
  },
  {
   "cell_type": "code",
   "execution_count": 55,
   "id": "f801322d-0cac-4b3e-a825-258685dd71a2",
   "metadata": {
    "deletable": false
   },
   "outputs": [
    {
     "data": {
      "text/plain": [
       "Text(0.5, 0, 'Gini Importance')"
      ]
     },
     "execution_count": 55,
     "metadata": {},
     "output_type": "execute_result"
    },
    {
     "data": {
      "image/png": "[encoded data removed]",
      "text/plain": [
       "<Figure size 432x288 with 1 Axes>"
      ]
     },
     "metadata": {
      "needs_background": "light"
     },
     "output_type": "display_data"
    }
   ],
   "source": [
    "# Create horizontal bar chart\n",
    "feat_imp.plot(kind=\"barh\")\n",
    "plt.xlabel(\"Gini Importance\")"
   ]
  },
  {
   "cell_type": "markdown",
   "id": "bee6a956",
   "metadata": {
    "deletable": false,
    "editable": false
   },
   "source": [
    "---\n",
    "Copyright © 2022 WorldQuant University. This\n",
    "content is licensed solely for personal use. Redistribution or\n",
    "publication of this material is strictly prohibited.\n"
   ]
  }
 ],
 "metadata": {
  "kernelspec": {
   "display_name": "Python 3 (ipykernel)",
   "language": "python",
   "name": "python3"
  },
  "language_info": {
   "codemirror_mode": {
    "name": "ipython",
    "version": 3
   },
   "file_extension": ".py",
   "mimetype": "text/x-python",
   "name": "python",
   "nbconvert_exporter": "python",
   "pygments_lexer": "ipython3",
   "version": "3.9.6"
  }
 },
 "nbformat": 4,
 "nbformat_minor": 5
}
